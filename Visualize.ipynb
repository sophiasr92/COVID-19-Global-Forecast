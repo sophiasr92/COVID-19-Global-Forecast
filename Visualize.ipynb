{
 "cells": [
  {
   "cell_type": "code",
   "execution_count": 2,
   "metadata": {
    "ExecuteTime": {
     "end_time": "2020-05-14T04:39:17.528997Z",
     "start_time": "2020-05-14T04:39:17.474184Z"
    }
   },
   "outputs": [
    {
     "name": "stderr",
     "output_type": "stream",
     "text": [
      "Loaded backend nbAgg version unknown.\n"
     ]
    },
    {
     "name": "stdout",
     "output_type": "stream",
     "text": [
      "C:\\Users\\varad\\anaconda3\\python.exe\n",
      "The autoreload extension is already loaded. To reload it, use:\n",
      "  %reload_ext autoreload\n"
     ]
    },
    {
     "data": {
      "text/html": [
       "<style>.container { width:95% !important; }</style>"
      ],
      "text/plain": [
       "<IPython.core.display.HTML object>"
      ]
     },
     "metadata": {},
     "output_type": "display_data"
    },
    {
     "data": {
      "text/html": [
       "        <script type=\"text/javascript\">\n",
       "        window.PlotlyConfig = {MathJaxConfig: 'local'};\n",
       "        if (window.MathJax) {MathJax.Hub.Config({SVG: {font: \"STIX-Web\"}});}\n",
       "        if (typeof require !== 'undefined') {\n",
       "        require.undef(\"plotly\");\n",
       "        requirejs.config({\n",
       "            paths: {\n",
       "                'plotly': ['https://cdn.plot.ly/plotly-latest.min']\n",
       "            }\n",
       "        });\n",
       "        require(['plotly'], function(Plotly) {\n",
       "            window._Plotly = Plotly;\n",
       "        });\n",
       "        }\n",
       "        </script>\n",
       "        "
      ]
     },
     "metadata": {},
     "output_type": "display_data"
    }
   ],
   "source": [
    "import sys\n",
    "print(sys.executable)\n",
    "%load_ext autoreload\n",
    "%autoreload 2\n",
    "import os\n",
    "import yaml\n",
    "import getpass\n",
    "import yaml\n",
    "import logging\n",
    "import glob\n",
    "import requests\n",
    "import pandas as pd\n",
    "import math\n",
    "import matplotlib.pyplot as plt\n",
    "from plotly import tools\n",
    "from plotly.offline import download_plotlyjs, init_notebook_mode, plot, iplot\n",
    "from IPython.core.display import display, HTML\n",
    "import plotly.express as px\n",
    "import plotly.graph_objs as go\n",
    "import numpy as np\n",
    "import re\n",
    "import copy\n",
    "import logging\n",
    "logger = logging.getLogger()\n",
    "logging.basicConfig(format='%(message)s', level=logging.DEBUG)\n",
    "# from common import helper_functions\n",
    "#from common import pupil\n",
    "%matplotlib notebook\n",
    "display(HTML('<style>.container { width:95% !important; }</style>'))\n",
    "pd.options.display.max_columns= 999\n",
    "init_notebook_mode(connected=True)"
   ]
  },
  {
   "cell_type": "code",
   "execution_count": 3,
   "metadata": {
    "ExecuteTime": {
     "end_time": "2020-05-14T04:09:20.109038Z",
     "start_time": "2020-05-14T04:09:18.855103Z"
    }
   },
   "outputs": [
    {
     "name": "stderr",
     "output_type": "stream",
     "text": [
      "Loaded backend module://ipykernel.pylab.backend_inline version unknown.\n"
     ]
    }
   ],
   "source": [
    "import pandas as pd\n",
    "import numpy as np\n",
    "import matplotlib as mpl\n",
    "import matplotlib.pyplot as plt\n",
    "import seaborn as sns\n",
    "import pickle\n",
    "import plotly\n",
    "from sklearn import preprocessing\n",
    "import sklearn.linear_model as skl_lm\n",
    "from sklearn.discriminant_analysis import LinearDiscriminantAnalysis\n",
    "from sklearn.discriminant_analysis import QuadraticDiscriminantAnalysis\n",
    "from sklearn.metrics import confusion_matrix, classification_report, precision_score\n",
    "from sklearn import preprocessing\n",
    "from sklearn import neighbors\n",
    "from sklearn.model_selection import cross_val_predict\n",
    "\n",
    "import statsmodels.api as sm\n",
    "import statsmodels.formula.api as smf\n",
    "import plotly.express as px\n",
    "\n",
    "from fbprophet import Prophet\n",
    "\n",
    "%matplotlib inline\n",
    "plt.style.use('seaborn-white')"
   ]
  },
  {
   "cell_type": "code",
   "execution_count": 4,
   "metadata": {
    "ExecuteTime": {
     "end_time": "2020-05-14T04:09:20.180322Z",
     "start_time": "2020-05-14T04:09:20.110542Z"
    }
   },
   "outputs": [
    {
     "data": {
      "text/html": [
       "<div>\n",
       "<style scoped>\n",
       "    .dataframe tbody tr th:only-of-type {\n",
       "        vertical-align: middle;\n",
       "    }\n",
       "\n",
       "    .dataframe tbody tr th {\n",
       "        vertical-align: top;\n",
       "    }\n",
       "\n",
       "    .dataframe thead th {\n",
       "        text-align: right;\n",
       "    }\n",
       "</style>\n",
       "<table border=\"1\" class=\"dataframe\">\n",
       "  <thead>\n",
       "    <tr style=\"text-align: right;\">\n",
       "      <th></th>\n",
       "      <th>Id</th>\n",
       "      <th>Province_State</th>\n",
       "      <th>Country_Region</th>\n",
       "      <th>Date</th>\n",
       "      <th>ConfirmedCases</th>\n",
       "      <th>Fatalities</th>\n",
       "    </tr>\n",
       "  </thead>\n",
       "  <tbody>\n",
       "    <tr>\n",
       "      <th>0</th>\n",
       "      <td>1</td>\n",
       "      <td>NaN</td>\n",
       "      <td>Afghanistan</td>\n",
       "      <td>2020-01-22</td>\n",
       "      <td>0.0</td>\n",
       "      <td>0.0</td>\n",
       "    </tr>\n",
       "    <tr>\n",
       "      <th>1</th>\n",
       "      <td>2</td>\n",
       "      <td>NaN</td>\n",
       "      <td>Afghanistan</td>\n",
       "      <td>2020-01-23</td>\n",
       "      <td>0.0</td>\n",
       "      <td>0.0</td>\n",
       "    </tr>\n",
       "    <tr>\n",
       "      <th>2</th>\n",
       "      <td>3</td>\n",
       "      <td>NaN</td>\n",
       "      <td>Afghanistan</td>\n",
       "      <td>2020-01-24</td>\n",
       "      <td>0.0</td>\n",
       "      <td>0.0</td>\n",
       "    </tr>\n",
       "    <tr>\n",
       "      <th>3</th>\n",
       "      <td>4</td>\n",
       "      <td>NaN</td>\n",
       "      <td>Afghanistan</td>\n",
       "      <td>2020-01-25</td>\n",
       "      <td>0.0</td>\n",
       "      <td>0.0</td>\n",
       "    </tr>\n",
       "    <tr>\n",
       "      <th>4</th>\n",
       "      <td>5</td>\n",
       "      <td>NaN</td>\n",
       "      <td>Afghanistan</td>\n",
       "      <td>2020-01-26</td>\n",
       "      <td>0.0</td>\n",
       "      <td>0.0</td>\n",
       "    </tr>\n",
       "  </tbody>\n",
       "</table>\n",
       "</div>"
      ],
      "text/plain": [
       "   Id Province_State Country_Region       Date  ConfirmedCases  Fatalities\n",
       "0   1            NaN    Afghanistan 2020-01-22             0.0         0.0\n",
       "1   2            NaN    Afghanistan 2020-01-23             0.0         0.0\n",
       "2   3            NaN    Afghanistan 2020-01-24             0.0         0.0\n",
       "3   4            NaN    Afghanistan 2020-01-25             0.0         0.0\n",
       "4   5            NaN    Afghanistan 2020-01-26             0.0         0.0"
      ]
     },
     "execution_count": 4,
     "metadata": {},
     "output_type": "execute_result"
    }
   ],
   "source": [
    "data='train.csv'\n",
    "df=pd.read_csv(data)\n",
    "df['Date']=pd.to_datetime(df['Date'])\n",
    "df.head(5)"
   ]
  },
  {
   "cell_type": "code",
   "execution_count": 5,
   "metadata": {
    "ExecuteTime": {
     "end_time": "2020-05-14T04:09:27.866631Z",
     "start_time": "2020-05-14T04:09:27.056773Z"
    }
   },
   "outputs": [],
   "source": [
    "def get_province(state,country):\n",
    "    try:\n",
    "        if np.isnan(state):\n",
    "            return country\n",
    "        else:\n",
    "            return state\n",
    "    except:\n",
    "        return country\n",
    "df['Province_State']=df.apply(lambda x:get_province(x['Province_State'],x['Country_Region']),axis=1)"
   ]
  },
  {
   "cell_type": "code",
   "execution_count": 6,
   "metadata": {
    "ExecuteTime": {
     "end_time": "2020-05-15T03:24:35.667757Z",
     "start_time": "2020-05-15T03:24:32.952461Z"
    },
    "scrolled": true
   },
   "outputs": [
    {
     "name": "stderr",
     "output_type": "stream",
     "text": [
      "C:\\Users\\varad\\anaconda3\\lib\\site-packages\\plotly\\tools.py:465: DeprecationWarning:\n",
      "\n",
      "plotly.tools.make_subplots is deprecated, please use plotly.subplots.make_subplots instead\n",
      "\n"
     ]
    },
    {
     "data": {
      "application/vnd.plotly.v1+json": {
       "config": {
        "plotlyServerURL": "https://plot.ly"
       },
       "data": [
        {
         "name": "Afghanistan",
         "type": "scatter",
         "xaxis": "x",
         "y": [
          4,
          4,
          5,
          7,
          7,
          7,
          11,
          16,
          21,
          22,
          22,
          22,
          24,
          24,
          40,
          40,
          74,
          84,
          94,
          110,
          110,
          120,
          170,
          174,
          237,
          273,
          281,
          299,
          349,
          367,
          423,
          444,
          484,
          521,
          555,
          607,
          665,
          714,
          784,
          840,
          906,
          933,
          996,
          1026,
          1092,
          1176,
          1279,
          1351,
          1463,
          1531,
          1703,
          1828,
          1939,
          2171,
          2335,
          2469,
          2704,
          2894,
          3224,
          3392,
          3563,
          3778,
          4033,
          4402
         ],
         "yaxis": "y"
        },
        {
         "name": "Albania",
         "type": "scatter",
         "xaxis": "x",
         "y": [
          2,
          10,
          12,
          23,
          33,
          38,
          42,
          51,
          55,
          59,
          64,
          70,
          76,
          89,
          104,
          123,
          146,
          174,
          186,
          197,
          212,
          223,
          243,
          259,
          277,
          304,
          333,
          361,
          377,
          383,
          400,
          409,
          416,
          433,
          446,
          467,
          475,
          494,
          518,
          539,
          548,
          562,
          584,
          609,
          634,
          663,
          678,
          712,
          726,
          736,
          750,
          766,
          773,
          782,
          789,
          795,
          803,
          820,
          832,
          842,
          850,
          856,
          868,
          872
         ],
         "yaxis": "y"
        },
        {
         "name": "Algeria",
         "type": "scatter",
         "xaxis": "x",
         "y": [
          3,
          5,
          12,
          12,
          17,
          17,
          19,
          20,
          20,
          20,
          24,
          26,
          37,
          48,
          54,
          60,
          74,
          87,
          90,
          139,
          201,
          230,
          264,
          302,
          367,
          409,
          454,
          511,
          584,
          716,
          847,
          986,
          1171,
          1251,
          1320,
          1423,
          1468,
          1572,
          1666,
          1761,
          1825,
          1914,
          1983,
          2070,
          2160,
          2268,
          2418,
          2534,
          2629,
          2718,
          2811,
          2910,
          3007,
          3127,
          3256,
          3382,
          3517,
          3649,
          3848,
          4006,
          4154,
          4295,
          4474,
          4648
         ],
         "yaxis": "y"
        },
        {
         "name": "Andorra",
         "type": "scatter",
         "xaxis": "x",
         "y": [
          2,
          39,
          39,
          53,
          75,
          88,
          113,
          133,
          164,
          188,
          224,
          267,
          308,
          334,
          370,
          376,
          390,
          428,
          439,
          466,
          501,
          525,
          545,
          564,
          583,
          601,
          601,
          638,
          646,
          659,
          673,
          673,
          696,
          704,
          713,
          717,
          717,
          723,
          723,
          731,
          738,
          738,
          743,
          743,
          743,
          745,
          745,
          747,
          748,
          750,
          751,
          751,
          752,
          752,
          754,
          755,
          755,
          758,
          760
         ],
         "yaxis": "y"
        },
        {
         "name": "Angola",
         "type": "scatter",
         "xaxis": "x",
         "y": [
          2,
          2,
          3,
          3,
          3,
          4,
          4,
          5,
          7,
          7,
          7,
          8,
          8,
          8,
          10,
          14,
          16,
          17,
          19,
          19,
          19,
          19,
          19,
          19,
          19,
          19,
          19,
          19,
          24,
          24,
          24,
          24,
          25,
          25,
          25,
          25,
          26,
          27,
          27,
          27,
          27,
          30,
          35,
          35,
          35,
          36,
          36,
          36,
          43,
          43,
          45,
          45,
          45,
          45
         ],
         "yaxis": "y"
        },
        {
         "name": "Antigua and Barbuda",
         "type": "scatter",
         "xaxis": "x",
         "y": [
          3,
          3,
          3,
          7,
          7,
          7,
          7,
          7,
          7,
          7,
          9,
          15,
          15,
          15,
          15,
          19,
          19,
          19,
          19,
          21,
          21,
          23,
          23,
          23,
          23,
          23,
          23,
          23,
          23,
          23,
          24,
          24,
          24,
          24,
          24,
          24,
          24,
          24,
          24,
          25,
          25,
          25,
          25,
          25,
          25,
          25,
          25,
          25,
          25,
          25,
          25,
          25
         ],
         "yaxis": "y"
        },
        {
         "name": "Argentina",
         "type": "scatter",
         "xaxis": "x",
         "y": [
          2,
          8,
          12,
          12,
          17,
          19,
          19,
          31,
          34,
          45,
          56,
          68,
          79,
          97,
          128,
          158,
          266,
          301,
          387,
          387,
          502,
          589,
          690,
          745,
          820,
          1054,
          1054,
          1133,
          1265,
          1451,
          1451,
          1554,
          1628,
          1715,
          1795,
          1975,
          1975,
          2142,
          2208,
          2277,
          2443,
          2571,
          2669,
          2758,
          2839,
          2941,
          3031,
          3144,
          3435,
          3607,
          3780,
          3892,
          4003,
          4127,
          4285,
          4428,
          4532,
          4681,
          4783,
          4887,
          5020,
          5208,
          5371,
          5611
         ],
         "yaxis": "y"
        },
        {
         "name": "Armenia",
         "type": "scatter",
         "xaxis": "x",
         "y": [
          4,
          8,
          18,
          26,
          52,
          78,
          84,
          115,
          136,
          160,
          194,
          235,
          249,
          265,
          290,
          329,
          407,
          424,
          482,
          532,
          571,
          663,
          736,
          770,
          822,
          833,
          853,
          881,
          921,
          937,
          967,
          1013,
          1039,
          1067,
          1111,
          1159,
          1201,
          1248,
          1291,
          1339,
          1401,
          1473,
          1523,
          1596,
          1677,
          1746,
          1808,
          1867,
          1932,
          2066,
          2148,
          2273,
          2386,
          2507,
          2619,
          2782,
          2884,
          3029,
          3175,
          3313,
          3392,
          3538,
          3718
         ],
         "yaxis": "y"
        },
        {
         "name": "Australia",
         "type": "scatter",
         "xaxis": "x",
         "y": [
          2,
          2,
          3,
          4,
          6,
          9,
          19,
          32,
          39,
          39,
          53,
          62,
          71,
          77,
          78,
          80,
          84,
          87,
          91,
          93,
          96,
          96,
          96,
          99,
          100,
          103,
          103,
          103,
          102,
          103,
          103,
          103,
          103,
          103,
          103,
          104,
          104,
          104,
          104,
          105,
          106,
          106,
          106,
          106,
          106,
          106,
          106,
          106,
          106,
          107,
          107,
          107,
          107,
          107,
          107,
          107,
          107,
          107,
          107,
          0,
          0,
          0,
          0,
          3
         ],
         "yaxis": "y"
        },
        {
         "name": "Austria",
         "type": "scatter",
         "xaxis": "x",
         "y": [
          2,
          2,
          3,
          3,
          9,
          14,
          18,
          21,
          29,
          41,
          55,
          79,
          104,
          131,
          182,
          246,
          302,
          504,
          655,
          860,
          1018,
          1332,
          1646,
          2013,
          2388,
          2814,
          3582,
          4474,
          5283,
          5588,
          6909,
          7657,
          8271,
          8788,
          9618,
          10180,
          10711,
          11129,
          11524,
          11781,
          12051,
          12297,
          12639,
          12942,
          13244,
          13555,
          13806,
          13945,
          14041,
          14226,
          14336,
          14476,
          14595,
          14671,
          14749,
          14795,
          14873,
          14925,
          15002,
          15071,
          15148,
          15225,
          15274,
          15357
         ],
         "yaxis": "y"
        },
        {
         "name": "Azerbaijan",
         "type": "scatter",
         "xaxis": "x",
         "y": [
          3,
          3,
          3,
          3,
          6,
          6,
          9,
          9,
          9,
          11,
          11,
          11,
          15,
          15,
          23,
          28,
          28,
          28,
          44,
          44,
          53,
          65,
          72,
          87,
          93,
          122,
          165,
          182,
          209,
          273,
          298,
          359,
          400,
          443,
          521,
          584,
          641,
          717,
          822,
          926,
          991,
          1058,
          1098,
          1148,
          1197,
          1253,
          1283,
          1340,
          1373,
          1398,
          1436,
          1480,
          1518,
          1548,
          1592,
          1617,
          1645,
          1678,
          1717,
          1766,
          1804,
          1854,
          1894,
          1932
         ],
         "yaxis": "y"
        },
        {
         "name": "Bahamas",
         "type": "scatter",
         "xaxis": "x",
         "y": [
          3,
          3,
          4,
          4,
          4,
          5,
          5,
          9,
          10,
          10,
          11,
          14,
          14,
          21,
          24,
          24,
          28,
          28,
          29,
          33,
          40,
          41,
          42,
          46,
          46,
          47,
          49,
          49,
          53,
          54,
          55,
          55,
          60,
          65,
          65,
          72,
          73,
          78,
          80,
          80,
          80,
          80,
          81,
          81,
          83,
          83,
          83,
          89,
          92,
          92,
          92,
          92,
          92,
          93,
          93,
          94
         ],
         "yaxis": "y"
        },
        {
         "name": "Bahrain",
         "type": "scatter",
         "xaxis": "x",
         "y": [
          23,
          33,
          33,
          36,
          41,
          47,
          49,
          49,
          52,
          55,
          60,
          85,
          85,
          95,
          110,
          195,
          195,
          195,
          210,
          214,
          214,
          228,
          256,
          278,
          285,
          305,
          334,
          377,
          392,
          419,
          458,
          466,
          476,
          499,
          515,
          567,
          569,
          643,
          672,
          688,
          700,
          756,
          811,
          823,
          887,
          925,
          1040,
          1136,
          1361,
          1528,
          1671,
          1700,
          1740,
          1773,
          1881,
          1907,
          1973,
          2027,
          2217,
          2518,
          2588,
          2647,
          2723,
          2811
         ],
         "yaxis": "y"
        },
        {
         "name": "Bangladesh",
         "type": "scatter",
         "xaxis": "x",
         "y": [
          3,
          3,
          3,
          3,
          3,
          3,
          3,
          5,
          8,
          10,
          14,
          17,
          20,
          25,
          27,
          33,
          39,
          39,
          44,
          48,
          48,
          48,
          49,
          51,
          54,
          56,
          61,
          70,
          88,
          123,
          164,
          218,
          330,
          424,
          482,
          621,
          803,
          1012,
          1231,
          1572,
          1838,
          2144,
          2456,
          2948,
          3382,
          3772,
          4186,
          4689,
          4998,
          5416,
          5913,
          6462,
          7103,
          7667,
          8238,
          8790,
          9455,
          10143,
          10929,
          11719,
          12425,
          13134,
          13770,
          14657
         ],
         "yaxis": "y"
        },
        {
         "name": "Barbados",
         "type": "scatter",
         "xaxis": "x",
         "y": [
          2,
          2,
          5,
          5,
          6,
          14,
          17,
          18,
          18,
          18,
          24,
          26,
          33,
          33,
          34,
          34,
          46,
          51,
          52,
          56,
          60,
          63,
          63,
          66,
          67,
          68,
          71,
          72,
          72,
          73,
          75,
          75,
          75,
          75,
          75,
          75,
          75,
          76,
          77,
          79,
          79,
          80,
          80,
          80,
          81,
          81,
          81,
          82,
          82,
          82,
          82,
          82,
          83,
          84,
          84,
          84,
          85,
          85
         ],
         "yaxis": "y"
        },
        {
         "name": "Belarus",
         "type": "scatter",
         "xaxis": "x",
         "y": [
          6,
          6,
          6,
          6,
          6,
          6,
          9,
          9,
          12,
          27,
          27,
          27,
          36,
          36,
          51,
          51,
          69,
          76,
          76,
          81,
          81,
          86,
          86,
          94,
          94,
          94,
          152,
          152,
          163,
          304,
          351,
          440,
          562,
          700,
          861,
          1066,
          1486,
          1981,
          2226,
          2578,
          2919,
          3281,
          3728,
          4204,
          4779,
          4779,
          4779,
          6264,
          6723,
          7281,
          8022,
          8773,
          9590,
          10463,
          11289,
          12208,
          13181,
          14027,
          14917,
          15828,
          16705,
          17489,
          18350,
          19255
         ],
         "yaxis": "y"
        },
        {
         "name": "Belgium",
         "type": "scatter",
         "xaxis": "x",
         "y": [
          2,
          8,
          13,
          23,
          50,
          109,
          169,
          200,
          239,
          267,
          314,
          314,
          559,
          689,
          886,
          1058,
          1243,
          1486,
          1795,
          2257,
          2815,
          3401,
          3743,
          4269,
          4937,
          6235,
          7284,
          9134,
          10836,
          11899,
          12775,
          13964,
          15348,
          16770,
          18431,
          19691,
          20814,
          22194,
          23403,
          24983,
          26667,
          28018,
          29647,
          30589,
          31119,
          33573,
          34809,
          36138,
          37183,
          38496,
          39983,
          40956,
          41889,
          42797,
          44293,
          45325,
          46134,
          46687,
          47334,
          47859,
          48519,
          49032,
          49517,
          49906
         ],
         "yaxis": "y"
        },
        {
         "name": "Belize",
         "type": "scatter",
         "xaxis": "x",
         "y": [
          2,
          2,
          2,
          2,
          2,
          3,
          3,
          3,
          3,
          4,
          4,
          5,
          7,
          7,
          8,
          9,
          10,
          13,
          14,
          18,
          18,
          18,
          18,
          18,
          18,
          18,
          18,
          18,
          18,
          18,
          18,
          18,
          18,
          18,
          18,
          18,
          18,
          18,
          18,
          18,
          18,
          18,
          18,
          18,
          18,
          18,
          18,
          18,
          18,
          18
         ],
         "yaxis": "y"
        },
        {
         "name": "Benin",
         "type": "scatter",
         "xaxis": "x",
         "y": [
          2,
          2,
          2,
          2,
          2,
          5,
          6,
          6,
          6,
          6,
          6,
          6,
          6,
          9,
          13,
          13,
          16,
          16,
          22,
          26,
          26,
          26,
          26,
          35,
          35,
          35,
          35,
          35,
          35,
          35,
          35,
          35,
          35,
          54,
          54,
          54,
          54,
          54,
          54,
          64,
          64,
          64,
          64,
          64,
          90,
          90,
          90,
          96,
          96,
          96,
          140,
          242,
          284,
          319,
          319,
          327,
          327
         ],
         "yaxis": "y"
        },
        {
         "name": "Bhutan",
         "type": "scatter",
         "xaxis": "x",
         "y": [
          2,
          2,
          2,
          2,
          2,
          2,
          2,
          3,
          3,
          4,
          4,
          4,
          4,
          5,
          5,
          5,
          5,
          5,
          5,
          5,
          5,
          5,
          5,
          5,
          5,
          5,
          5,
          5,
          5,
          5,
          5,
          5,
          6,
          6,
          7,
          7,
          7,
          7,
          7,
          7,
          7,
          7,
          7,
          7,
          7,
          7,
          7,
          7,
          7,
          7,
          7,
          7,
          9,
          11,
          15
         ],
         "yaxis": "y"
        },
        {
         "name": "Bolivia",
         "type": "scatter",
         "xaxis": "x",
         "y": [
          2,
          2,
          3,
          10,
          10,
          11,
          11,
          12,
          12,
          15,
          19,
          24,
          27,
          29,
          32,
          43,
          61,
          74,
          81,
          97,
          107,
          115,
          123,
          132,
          139,
          157,
          183,
          194,
          210,
          264,
          268,
          275,
          300,
          330,
          354,
          397,
          441,
          465,
          493,
          520,
          564,
          598,
          609,
          703,
          807,
          866,
          950,
          1014,
          1053,
          1110,
          1167,
          1229,
          1470,
          1594,
          1681,
          1802,
          1886,
          2081,
          2266,
          2437,
          2556,
          2831,
          2964,
          3148
         ],
         "yaxis": "y"
        },
        {
         "name": "Bosnia and Herzegovina",
         "type": "scatter",
         "xaxis": "x",
         "y": [
          2,
          2,
          3,
          3,
          3,
          5,
          7,
          11,
          13,
          18,
          24,
          25,
          26,
          38,
          63,
          89,
          93,
          126,
          136,
          166,
          176,
          191,
          237,
          258,
          323,
          368,
          420,
          459,
          533,
          579,
          624,
          654,
          674,
          764,
          804,
          858,
          901,
          946,
          1009,
          1037,
          1083,
          1110,
          1167,
          1214,
          1268,
          1285,
          1309,
          1342,
          1368,
          1413,
          1421,
          1486,
          1516,
          1565,
          1585,
          1677,
          1757,
          1781,
          1839,
          1857,
          1926,
          1946,
          1987,
          2027
         ],
         "yaxis": "y"
        },
        {
         "name": "Botswana",
         "type": "scatter",
         "xaxis": "x",
         "y": [
          3,
          4,
          4,
          4,
          4,
          4,
          6,
          6,
          6,
          6,
          13,
          13,
          13,
          13,
          13,
          13,
          13,
          15,
          15,
          15,
          20,
          20,
          20,
          22,
          22,
          22,
          22,
          22,
          22,
          23,
          23,
          23,
          23,
          23,
          23,
          23,
          23,
          23,
          23,
          23,
          23,
          23,
          24,
          24,
          24
         ],
         "yaxis": "y"
        },
        {
         "name": "Brazil",
         "type": "scatter",
         "xaxis": "x",
         "y": [
          2,
          2,
          2,
          2,
          4,
          4,
          13,
          13,
          20,
          25,
          31,
          38,
          52,
          151,
          151,
          162,
          200,
          321,
          372,
          621,
          793,
          1021,
          1546,
          1924,
          2247,
          2554,
          2985,
          3417,
          3904,
          4256,
          4579,
          5717,
          6836,
          8044,
          9056,
          10360,
          11130,
          12161,
          14034,
          16170,
          18092,
          19638,
          20727,
          22192,
          23430,
          25262,
          28320,
          30425,
          33682,
          36658,
          38654,
          40743,
          43079,
          45757,
          50036,
          54043,
          59324,
          63100,
          67446,
          73235,
          79685,
          87187,
          92202,
          97100
         ],
         "yaxis": "y"
        },
        {
         "name": "Brunei",
         "type": "scatter",
         "xaxis": "x",
         "y": [
          11,
          11,
          37,
          40,
          50,
          54,
          56,
          68,
          75,
          78,
          83,
          88,
          91,
          104,
          109,
          114,
          115,
          120,
          126,
          127,
          129,
          131,
          133,
          134,
          135,
          135,
          135,
          135,
          135,
          135,
          136,
          136,
          136,
          136,
          136,
          136,
          136,
          136,
          137,
          138,
          138,
          138,
          138,
          138,
          138,
          138,
          138,
          138,
          138,
          138,
          138,
          138,
          138,
          138,
          138,
          138,
          139,
          141,
          141,
          141,
          141,
          141,
          141,
          141
         ],
         "yaxis": "y"
        },
        {
         "name": "Bulgaria",
         "type": "scatter",
         "xaxis": "x",
         "y": [
          4,
          4,
          4,
          7,
          7,
          23,
          41,
          51,
          52,
          67,
          92,
          94,
          127,
          163,
          187,
          201,
          218,
          242,
          264,
          293,
          331,
          346,
          359,
          399,
          422,
          457,
          485,
          503,
          531,
          549,
          577,
          593,
          618,
          635,
          661,
          675,
          685,
          713,
          747,
          800,
          846,
          878,
          894,
          929,
          975,
          1024,
          1097,
          1234,
          1247,
          1300,
          1363,
          1399,
          1447,
          1506,
          1555,
          1594,
          1618,
          1652,
          1704,
          1778,
          1829,
          1872,
          1921,
          1965
         ],
         "yaxis": "y"
        },
        {
         "name": "Burkina Faso",
         "type": "scatter",
         "xaxis": "x",
         "y": [
          2,
          2,
          2,
          2,
          3,
          15,
          15,
          20,
          33,
          40,
          64,
          75,
          99,
          114,
          146,
          152,
          180,
          207,
          222,
          246,
          261,
          282,
          288,
          302,
          318,
          345,
          364,
          384,
          414,
          443,
          443,
          484,
          497,
          497,
          528,
          542,
          546,
          557,
          565,
          576,
          581,
          600,
          609,
          616,
          629,
          629,
          632,
          635,
          638,
          641,
          645,
          649,
          652,
          662,
          672,
          688,
          729,
          736,
          744,
          748,
          751,
          760,
          766,
          773
         ],
         "yaxis": "y"
        },
        {
         "name": "Burma",
         "type": "scatter",
         "xaxis": "x",
         "y": [
          8,
          8,
          10,
          14,
          15,
          15,
          20,
          20,
          21,
          21,
          22,
          22,
          22,
          23,
          27,
          38,
          41,
          62,
          63,
          74,
          85,
          88,
          98,
          111,
          119,
          121,
          123,
          139,
          144,
          146,
          146,
          146,
          150,
          150,
          151,
          151,
          151,
          155,
          161,
          161,
          161,
          176,
          177,
          178,
          180,
          180,
          180,
          181
         ],
         "yaxis": "y"
        },
        {
         "name": "Burundi",
         "type": "scatter",
         "xaxis": "x",
         "y": [
          2,
          2,
          3,
          3,
          3,
          3,
          3,
          3,
          3,
          3,
          3,
          5,
          5,
          5,
          5,
          5,
          5,
          5,
          5,
          5,
          5,
          5,
          11,
          11,
          11,
          11,
          11,
          11,
          11,
          11,
          11,
          11,
          15,
          15,
          15,
          15,
          15,
          15,
          15,
          15,
          15,
          15,
          15,
          15
         ],
         "yaxis": "y"
        },
        {
         "name": "Cabo Verde",
         "type": "scatter",
         "xaxis": "x",
         "y": [
          3,
          3,
          3,
          3,
          4,
          4,
          5,
          5,
          6,
          6,
          6,
          6,
          6,
          6,
          7,
          7,
          7,
          7,
          7,
          7,
          7,
          8,
          8,
          10,
          11,
          56,
          56,
          56,
          58,
          61,
          67,
          68,
          73,
          82,
          88,
          90,
          106,
          109,
          114,
          114,
          121,
          122,
          152,
          165,
          175,
          186,
          191,
          218,
          230,
          236,
          246,
          260,
          267,
          289
         ],
         "yaxis": "y"
        },
        {
         "name": "Cambodia",
         "type": "scatter",
         "xaxis": "x",
         "y": [
          2,
          2,
          2,
          3,
          3,
          5,
          7,
          7,
          7,
          33,
          35,
          37,
          51,
          53,
          84,
          87,
          91,
          96,
          96,
          99,
          99,
          103,
          107,
          109,
          109,
          110,
          114,
          114,
          114,
          114,
          115,
          117,
          119,
          119,
          120,
          122,
          122,
          122,
          122,
          122,
          122,
          122,
          122,
          122,
          122,
          122,
          122,
          122,
          122,
          122,
          122,
          122,
          122,
          122,
          122,
          122,
          122,
          122,
          122,
          122,
          122,
          122,
          122,
          122
         ],
         "yaxis": "y"
        },
        {
         "name": "Cameroon",
         "type": "scatter",
         "xaxis": "x",
         "y": [
          2,
          2,
          2,
          2,
          2,
          2,
          2,
          2,
          4,
          10,
          10,
          13,
          20,
          27,
          40,
          56,
          66,
          75,
          75,
          91,
          91,
          139,
          139,
          193,
          233,
          306,
          509,
          555,
          650,
          658,
          658,
          730,
          730,
          820,
          820,
          820,
          820,
          848,
          848,
          996,
          996,
          1017,
          1017,
          1163,
          1163,
          1163,
          1334,
          1430,
          1518,
          1621,
          1705,
          1705,
          1832,
          1832,
          1832,
          2077,
          2077,
          2104,
          2104,
          2265,
          2267,
          2267,
          2274,
          2579
         ],
         "yaxis": "y"
        },
        {
         "name": "Canada",
         "type": "scatter",
         "xaxis": "x",
         "y": [
          2,
          4,
          7,
          7,
          19,
          19,
          29,
          29,
          39,
          56,
          74,
          97,
          119,
          146,
          195,
          259,
          301,
          359,
          358,
          486,
          542,
          542,
          621,
          661,
          690,
          754,
          969,
          969,
          1075,
          1181,
          1250,
          1373,
          1373,
          1423,
          1451,
          1567,
          1567,
          1732,
          1870,
          1870,
          1996,
          2397,
          2562,
          2803,
          2908,
          3095,
          3401,
          3720,
          4017,
          4233,
          4480,
          4696,
          4850,
          5165,
          5355,
          5573,
          5670,
          5766,
          5836,
          5893,
          5963,
          6017,
          6098,
          6157
         ],
         "yaxis": "y"
        },
        {
         "name": "Central African Republic",
         "type": "scatter",
         "xaxis": "x",
         "y": [
          3,
          3,
          3,
          3,
          3,
          3,
          3,
          3,
          3,
          3,
          3,
          3,
          3,
          3,
          8,
          8,
          8,
          8,
          8,
          8,
          8,
          8,
          8,
          8,
          11,
          11,
          12,
          12,
          12,
          12,
          12,
          12,
          14,
          14,
          16,
          16,
          16,
          19,
          19,
          50,
          50,
          50,
          72,
          72,
          72,
          85,
          85,
          94,
          94,
          143,
          143,
          143,
          143,
          143,
          143
         ],
         "yaxis": "y"
        },
        {
         "name": "Chad",
         "type": "scatter",
         "xaxis": "x",
         "y": [
          3,
          3,
          3,
          3,
          3,
          3,
          5,
          7,
          7,
          8,
          8,
          9,
          9,
          9,
          10,
          10,
          11,
          11,
          11,
          18,
          23,
          23,
          23,
          27,
          27,
          33,
          33,
          33,
          33,
          33,
          33,
          40,
          46,
          46,
          46,
          52,
          52,
          73,
          73,
          117,
          117,
          117,
          170,
          170,
          253,
          260,
          322,
          322,
          322,
          357,
          372
         ],
         "yaxis": "y"
        },
        {
         "name": "Chile",
         "type": "scatter",
         "xaxis": "x",
         "y": [
          4,
          4,
          4,
          8,
          8,
          13,
          23,
          23,
          43,
          61,
          74,
          155,
          201,
          238,
          238,
          434,
          537,
          632,
          746,
          922,
          1142,
          1306,
          1610,
          1909,
          2139,
          2449,
          2738,
          3031,
          3404,
          3737,
          4161,
          4471,
          4815,
          5116,
          5546,
          5972,
          6501,
          6927,
          7213,
          7525,
          7917,
          8273,
          8807,
          9252,
          9730,
          10088,
          10507,
          10832,
          11296,
          11812,
          12306,
          12858,
          13331,
          13813,
          14365,
          14885,
          16023,
          17008,
          18435,
          19663,
          20643,
          22016,
          23048,
          24581
         ],
         "yaxis": "y"
        },
        {
         "name": "China",
         "type": "scatter",
         "xaxis": "x",
         "y": [
          9,
          15,
          39,
          60,
          70,
          106,
          152,
          200,
          237,
          297,
          340,
          408,
          480,
          530,
          591,
          665,
          733,
          779,
          830,
          860,
          889,
          910,
          934,
          950,
          962,
          973,
          982,
          986,
          987,
          988,
          989,
          989,
          989,
          989,
          989,
          989,
          990,
          990,
          990,
          990,
          990,
          990,
          990,
          990,
          990,
          990,
          990,
          990,
          990,
          990,
          990,
          990,
          990,
          990,
          990,
          990,
          990,
          990,
          990,
          990,
          990,
          990,
          990,
          990
         ],
         "yaxis": "y"
        },
        {
         "name": "Colombia",
         "type": "scatter",
         "xaxis": "x",
         "y": [
          3,
          9,
          9,
          13,
          22,
          34,
          54,
          65,
          93,
          102,
          128,
          196,
          231,
          277,
          378,
          470,
          491,
          539,
          608,
          702,
          798,
          906,
          1065,
          1161,
          1267,
          1406,
          1485,
          1579,
          1780,
          2054,
          2223,
          2473,
          2709,
          2776,
          2852,
          2979,
          3105,
          3233,
          3439,
          3439,
          3792,
          3977,
          4149,
          4356,
          4561,
          4881,
          5142,
          5379,
          5597,
          5949,
          6207,
          6507,
          7006,
          7285,
          7668,
          7973,
          8613,
          8959,
          9456,
          10051,
          10495,
          11063,
          11613,
          12272
         ],
         "yaxis": "y"
        },
        {
         "name": "Congo (Brazzaville)",
         "type": "scatter",
         "xaxis": "x",
         "y": [
          3,
          3,
          3,
          3,
          4,
          4,
          4,
          4,
          4,
          4,
          19,
          19,
          19,
          19,
          22,
          22,
          22,
          45,
          45,
          45,
          45,
          60,
          60,
          60,
          60,
          60,
          60,
          117,
          117,
          143,
          143,
          143,
          160,
          165,
          186,
          186,
          200,
          200,
          200,
          200,
          207,
          207,
          220,
          229,
          229,
          229,
          236,
          236,
          264,
          264,
          274,
          274,
          274,
          333,
          333,
          333
         ],
         "yaxis": "y"
        },
        {
         "name": "Congo (Kinshasa)",
         "type": "scatter",
         "xaxis": "x",
         "y": [
          2,
          2,
          2,
          2,
          3,
          4,
          14,
          18,
          23,
          30,
          36,
          45,
          48,
          51,
          51,
          65,
          65,
          81,
          98,
          109,
          134,
          134,
          154,
          154,
          161,
          180,
          180,
          180,
          215,
          223,
          234,
          235,
          241,
          254,
          267,
          287,
          307,
          327,
          332,
          350,
          359,
          377,
          394,
          416,
          442,
          459,
          471,
          491,
          572,
          604,
          674,
          674,
          682,
          705,
          797,
          863,
          937,
          937,
          991,
          1024,
          1102,
          1169
         ],
         "yaxis": "y"
        },
        {
         "name": "Costa Rica",
         "type": "scatter",
         "xaxis": "x",
         "y": [
          5,
          9,
          9,
          13,
          22,
          23,
          26,
          27,
          35,
          41,
          50,
          69,
          89,
          117,
          134,
          158,
          177,
          201,
          231,
          263,
          295,
          314,
          330,
          347,
          375,
          396,
          416,
          435,
          454,
          467,
          483,
          502,
          539,
          558,
          577,
          595,
          612,
          618,
          626,
          642,
          649,
          655,
          660,
          662,
          669,
          681,
          686,
          687,
          693,
          695,
          697,
          705,
          713,
          719,
          725,
          733,
          739,
          742,
          755,
          761,
          765,
          773,
          780,
          792
         ],
         "yaxis": "y"
        },
        {
         "name": "Cote d'Ivoire",
         "type": "scatter",
         "xaxis": "x",
         "y": [
          5,
          6,
          9,
          9,
          14,
          14,
          25,
          73,
          80,
          96,
          101,
          101,
          165,
          168,
          179,
          190,
          194,
          218,
          245,
          261,
          323,
          349,
          384,
          444,
          444,
          533,
          574,
          626,
          638,
          638,
          654,
          688,
          801,
          847,
          847,
          916,
          952,
          1004,
          1077,
          1077,
          1150,
          1164,
          1183,
          1238,
          1275,
          1333,
          1362,
          1398,
          1432,
          1464,
          1516,
          1571,
          1602,
          1667,
          1700,
          1730,
          1857,
          1912
         ],
         "yaxis": "y"
        },
        {
         "name": "Croatia",
         "type": "scatter",
         "xaxis": "x",
         "y": [
          3,
          3,
          5,
          6,
          7,
          7,
          9,
          10,
          10,
          11,
          12,
          12,
          12,
          14,
          19,
          19,
          32,
          38,
          49,
          57,
          65,
          81,
          105,
          128,
          206,
          254,
          315,
          382,
          442,
          495,
          586,
          657,
          713,
          790,
          867,
          963,
          1011,
          1079,
          1126,
          1182,
          1222,
          1282,
          1343,
          1407,
          1495,
          1534,
          1600,
          1650,
          1704,
          1741,
          1791,
          1814,
          1832,
          1871,
          1881,
          1908,
          1950,
          1981,
          2009,
          2016,
          2030,
          2039,
          2047,
          2062
         ],
         "yaxis": "y"
        },
        {
         "name": "Cuba",
         "type": "scatter",
         "xaxis": "x",
         "y": [
          3,
          4,
          4,
          4,
          4,
          5,
          7,
          11,
          16,
          21,
          35,
          40,
          48,
          57,
          67,
          80,
          119,
          139,
          170,
          186,
          212,
          233,
          269,
          288,
          320,
          350,
          396,
          457,
          515,
          564,
          620,
          669,
          726,
          766,
          814,
          862,
          923,
          986,
          1035,
          1087,
          1137,
          1189,
          1235,
          1285,
          1337,
          1369,
          1389,
          1437,
          1467,
          1501,
          1537,
          1611,
          1649,
          1668,
          1685,
          1703,
          1729,
          1741,
          1754,
          1766,
          1783,
          1804,
          1810
         ],
         "yaxis": "y"
        },
        {
         "name": "Cyprus",
         "type": "scatter",
         "xaxis": "x",
         "y": [
          2,
          3,
          6,
          6,
          14,
          26,
          26,
          33,
          46,
          49,
          67,
          67,
          84,
          95,
          116,
          124,
          132,
          146,
          162,
          179,
          214,
          230,
          262,
          320,
          356,
          396,
          426,
          446,
          465,
          494,
          526,
          564,
          595,
          616,
          633,
          662,
          695,
          715,
          735,
          750,
          761,
          767,
          772,
          784,
          790,
          795,
          804,
          810,
          817,
          822,
          837,
          843,
          850,
          857,
          864,
          872,
          874,
          878,
          883,
          889,
          891,
          892,
          898,
          901
         ],
         "yaxis": "y"
        },
        {
         "name": "Czechia",
         "type": "scatter",
         "xaxis": "x",
         "y": [
          3,
          3,
          5,
          8,
          12,
          18,
          19,
          31,
          31,
          41,
          91,
          94,
          141,
          189,
          253,
          298,
          396,
          464,
          694,
          833,
          995,
          1120,
          1236,
          1394,
          1654,
          1925,
          2279,
          2631,
          2817,
          3001,
          3308,
          3508,
          3858,
          4091,
          4472,
          4587,
          4822,
          5017,
          5312,
          5569,
          5732,
          5831,
          5991,
          6059,
          6111,
          6216,
          6433,
          6549,
          6606,
          6746,
          6900,
          7033,
          7132,
          7187,
          7273,
          7352,
          7404,
          7445,
          7504,
          7579,
          7682,
          7737,
          7755,
          7781
         ],
         "yaxis": "y"
        },
        {
         "name": "Denmark",
         "type": "scatter",
         "xaxis": "x",
         "y": [
          2,
          2,
          2,
          2,
          2,
          3,
          9,
          11,
          18,
          47,
          58,
          72,
          80,
          92,
          115,
          118,
          122,
          132,
          140,
          144,
          155,
          159,
          168,
          169,
          173,
          177,
          179,
          181,
          181,
          183,
          184,
          184,
          184,
          184,
          184,
          184,
          184,
          184,
          184,
          184,
          184,
          184,
          185,
          185,
          185,
          185,
          187,
          187,
          187,
          187,
          187,
          187,
          187,
          187,
          187,
          187,
          187,
          187,
          187,
          187,
          187,
          187,
          187,
          187
         ],
         "yaxis": "y"
        },
        {
         "name": "Diamond Princess",
         "type": "scatter",
         "xaxis": "x",
         "y": [
          61,
          61,
          64,
          135,
          135,
          175,
          175,
          218,
          285,
          355,
          454,
          542,
          621,
          634,
          634,
          634,
          691,
          691,
          691,
          705,
          705,
          705,
          705,
          705,
          705,
          706,
          706,
          706,
          706,
          706,
          706,
          706,
          706,
          706,
          706,
          706,
          706,
          706,
          706,
          706,
          712,
          712,
          712,
          712,
          712,
          712,
          712,
          712,
          712,
          712,
          712,
          712,
          712,
          712,
          712,
          712,
          712,
          712,
          712,
          712,
          712,
          712,
          712,
          712
         ],
         "yaxis": "y"
        },
        {
         "name": "Djibouti",
         "type": "scatter",
         "xaxis": "x",
         "y": [
          3,
          3,
          11,
          11,
          12,
          14,
          18,
          18,
          30,
          33,
          40,
          49,
          50,
          59,
          90,
          90,
          135,
          135,
          150,
          187,
          214,
          298,
          363,
          435,
          591,
          732,
          732,
          846,
          846,
          945,
          974,
          986,
          999,
          1008,
          1023,
          1035,
          1072,
          1077,
          1089,
          1097,
          1112,
          1112,
          1116,
          1120,
          1124,
          1133,
          1135,
          1189,
          1210,
          1227,
          1256,
          1268
         ],
         "yaxis": "y"
        },
        {
         "name": "Dominica",
         "type": "scatter",
         "xaxis": "x",
         "y": [
          2,
          2,
          7,
          11,
          11,
          11,
          11,
          11,
          12,
          12,
          12,
          12,
          14,
          14,
          15,
          15,
          15,
          15,
          16,
          16,
          16,
          16,
          16,
          16,
          16,
          16,
          16,
          16,
          16,
          16,
          16,
          16,
          16,
          16,
          16,
          16,
          16,
          16,
          16,
          16,
          16,
          16,
          16,
          16,
          16,
          16,
          16,
          16,
          16,
          16,
          16,
          16
         ],
         "yaxis": "y"
        },
        {
         "name": "Dominican Republic",
         "type": "scatter",
         "xaxis": "x",
         "y": [
          2,
          2,
          5,
          5,
          5,
          5,
          5,
          5,
          11,
          11,
          11,
          21,
          21,
          34,
          72,
          112,
          202,
          245,
          312,
          392,
          488,
          581,
          719,
          859,
          901,
          1109,
          1284,
          1380,
          1488,
          1488,
          1745,
          1828,
          1956,
          2111,
          2349,
          2620,
          2759,
          2967,
          3167,
          3286,
          3614,
          3755,
          4126,
          4335,
          4680,
          4964,
          5044,
          5300,
          5543,
          5749,
          5926,
          6135,
          6293,
          6416,
          6652,
          6972,
          7288,
          7578,
          7954,
          8235,
          8480,
          8807,
          9095,
          9376
         ],
         "yaxis": "y"
        },
        {
         "name": "Ecuador",
         "type": "scatter",
         "xaxis": "x",
         "y": [
          6,
          6,
          7,
          10,
          13,
          13,
          13,
          14,
          15,
          15,
          17,
          17,
          17,
          28,
          28,
          37,
          58,
          111,
          199,
          367,
          506,
          789,
          981,
          1082,
          1173,
          1403,
          1595,
          1823,
          1924,
          1962,
          2240,
          2748,
          3163,
          3368,
          3465,
          3646,
          3747,
          3747,
          4450,
          4965,
          7161,
          7257,
          7466,
          7529,
          7603,
          7858,
          8225,
          8450,
          9022,
          9468,
          10128,
          10398,
          10850,
          11183,
          22719,
          22719,
          22719,
          23240,
          24258,
          24675,
          24934,
          26336,
          27464,
          29538
         ],
         "yaxis": "y"
        },
        {
         "name": "Egypt",
         "type": "scatter",
         "xaxis": "x",
         "y": [
          2,
          2,
          2,
          2,
          3,
          15,
          15,
          49,
          55,
          59,
          60,
          67,
          80,
          109,
          110,
          150,
          196,
          196,
          256,
          285,
          294,
          327,
          366,
          402,
          456,
          495,
          536,
          576,
          609,
          656,
          710,
          779,
          865,
          985,
          1070,
          1173,
          1322,
          1450,
          1560,
          1699,
          1794,
          1939,
          2065,
          2190,
          2350,
          2505,
          2673,
          2844,
          3032,
          3144,
          3333,
          3490,
          3659,
          3891,
          4092,
          4319,
          4534,
          4782,
          5042,
          5268,
          5537,
          5895,
          6193,
          6465
         ],
         "yaxis": "y"
        },
        {
         "name": "El Salvador",
         "type": "scatter",
         "xaxis": "x",
         "y": [
          3,
          3,
          3,
          5,
          9,
          13,
          13,
          19,
          24,
          30,
          32,
          32,
          41,
          46,
          56,
          62,
          69,
          78,
          93,
          103,
          117,
          118,
          125,
          137,
          149,
          159,
          164,
          177,
          190,
          201,
          218,
          225,
          237,
          250,
          274,
          274,
          298,
          323,
          345,
          377,
          395,
          424,
          446,
          490,
          555,
          587,
          633,
          695,
          742,
          784,
          889,
          958,
          998,
          1037
         ],
         "yaxis": "y"
        },
        {
         "name": "Equatorial Guinea",
         "type": "scatter",
         "xaxis": "x",
         "y": [
          4,
          6,
          6,
          6,
          6,
          9,
          9,
          9,
          12,
          12,
          12,
          12,
          12,
          12,
          15,
          15,
          16,
          16,
          16,
          16,
          16,
          18,
          18,
          18,
          18,
          21,
          21,
          41,
          51,
          51,
          79,
          79,
          79,
          79,
          83,
          84,
          84,
          214,
          258,
          258,
          258,
          315,
          315,
          315,
          315,
          315,
          315,
          315,
          315,
          439,
          439,
          439,
          439,
          439,
          439,
          439,
          522
         ],
         "yaxis": "y"
        },
        {
         "name": "Eritrea",
         "type": "scatter",
         "xaxis": "x",
         "y": [
          4,
          6,
          6,
          6,
          12,
          12,
          15,
          15,
          22,
          22,
          29,
          29,
          31,
          31,
          33,
          33,
          34,
          34,
          34,
          34,
          34,
          35,
          35,
          35,
          39,
          39,
          39,
          39,
          39,
          39,
          39,
          39,
          39,
          39,
          39,
          39,
          39,
          39,
          39,
          39,
          39,
          39,
          39,
          39,
          39,
          39,
          39,
          39,
          39,
          39
         ],
         "yaxis": "y"
        },
        {
         "name": "Estonia",
         "type": "scatter",
         "xaxis": "x",
         "y": [
          2,
          2,
          3,
          10,
          10,
          10,
          10,
          12,
          16,
          16,
          79,
          115,
          171,
          205,
          225,
          258,
          267,
          283,
          306,
          326,
          352,
          369,
          404,
          538,
          575,
          645,
          679,
          715,
          745,
          779,
          858,
          961,
          1039,
          1097,
          1108,
          1149,
          1185,
          1207,
          1258,
          1304,
          1309,
          1332,
          1373,
          1400,
          1434,
          1459,
          1512,
          1528,
          1535,
          1552,
          1559,
          1592,
          1605,
          1635,
          1643,
          1647,
          1660,
          1666,
          1689,
          1694,
          1699,
          1700,
          1703,
          1711
         ],
         "yaxis": "y"
        },
        {
         "name": "Eswatini",
         "type": "scatter",
         "xaxis": "x",
         "y": [
          4,
          4,
          4,
          4,
          6,
          9,
          9,
          9,
          9,
          9,
          9,
          9,
          9,
          9,
          9,
          10,
          10,
          12,
          12,
          12,
          12,
          14,
          15,
          15,
          15,
          16,
          16,
          22,
          22,
          24,
          31,
          31,
          31,
          36,
          56,
          59,
          65,
          71,
          91,
          100,
          106,
          108,
          112,
          116,
          119,
          123,
          153,
          159,
          163,
          172,
          175,
          184,
          187
         ],
         "yaxis": "y"
        },
        {
         "name": "Ethiopia",
         "type": "scatter",
         "xaxis": "x",
         "y": [
          5,
          5,
          6,
          6,
          9,
          9,
          11,
          11,
          12,
          12,
          12,
          16,
          16,
          21,
          23,
          26,
          29,
          29,
          35,
          38,
          43,
          44,
          52,
          55,
          56,
          65,
          69,
          71,
          74,
          82,
          85,
          92,
          96,
          105,
          108,
          111,
          114,
          116,
          116,
          117,
          122,
          123,
          124,
          126,
          130,
          131,
          133,
          133,
          135,
          140,
          145,
          162,
          191,
          194,
          210,
          239,
          250,
          261,
          263
         ],
         "yaxis": "y"
        },
        {
         "name": "Fiji",
         "type": "scatter",
         "xaxis": "x",
         "y": [
          2,
          3,
          4,
          5,
          5,
          5,
          5,
          5,
          5,
          5,
          5,
          7,
          7,
          12,
          12,
          14,
          15,
          15,
          15,
          16,
          16,
          16,
          16,
          16,
          16,
          17,
          17,
          17,
          17,
          18,
          18,
          18,
          18,
          18,
          18,
          18,
          18,
          18,
          18,
          18,
          18,
          18,
          18,
          18,
          18,
          18,
          18,
          18,
          18,
          18,
          18,
          18,
          18
         ],
         "yaxis": "y"
        },
        {
         "name": "Finland",
         "type": "scatter",
         "xaxis": "x",
         "y": [
          2,
          2,
          2,
          3,
          6,
          6,
          6,
          6,
          12,
          15,
          15,
          23,
          30,
          40,
          59,
          59,
          155,
          225,
          244,
          277,
          321,
          336,
          400,
          450,
          523,
          626,
          700,
          792,
          880,
          958,
          1041,
          1167,
          1240,
          1352,
          1418,
          1446,
          1518,
          1615,
          1882,
          1927,
          2176,
          2308,
          2487,
          2605,
          2769,
          2905,
          2974,
          3064,
          3161,
          3237,
          3369,
          3489,
          3681,
          3783,
          3868,
          4014,
          4129,
          4284,
          4395,
          4475,
          4576,
          4695,
          4740,
          4906
         ],
         "yaxis": "y"
        },
        {
         "name": "France",
         "type": "scatter",
         "xaxis": "x",
         "y": [
          5,
          5,
          5,
          5,
          5,
          5,
          5,
          5,
          7,
          11,
          11,
          11,
          11,
          15,
          18,
          18,
          20,
          23,
          28,
          28,
          28,
          28,
          28,
          43,
          43,
          51,
          51,
          57,
          61,
          61,
          72,
          72,
          77,
          83,
          83,
          83,
          86,
          86,
          86,
          86,
          86,
          96,
          96,
          96,
          97,
          97,
          97,
          107,
          111,
          111,
          111,
          111,
          125,
          125,
          126,
          128,
          128,
          128,
          133,
          133,
          138,
          138,
          141,
          141
         ],
         "yaxis": "y"
        },
        {
         "name": "Gabon",
         "type": "scatter",
         "xaxis": "x",
         "y": [
          3,
          4,
          5,
          5,
          6,
          6,
          7,
          7,
          7,
          7,
          7,
          16,
          18,
          21,
          21,
          21,
          21,
          24,
          30,
          34,
          44,
          44,
          46,
          49,
          57,
          57,
          80,
          80,
          108,
          108,
          109,
          120,
          156,
          166,
          167,
          172,
          176,
          176,
          211,
          238,
          276,
          276,
          276,
          335,
          335,
          367,
          397,
          397,
          504,
          620,
          661,
          661,
          802,
          863,
          1004
         ],
         "yaxis": "y"
        },
        {
         "name": "Gambia",
         "type": "scatter",
         "xaxis": "x",
         "y": [
          2,
          3,
          3,
          3,
          3,
          3,
          4,
          4,
          4,
          4,
          4,
          4,
          4,
          4,
          4,
          4,
          4,
          4,
          4,
          9,
          9,
          9,
          9,
          9,
          9,
          9,
          9,
          10,
          10,
          10,
          10,
          10,
          10,
          10,
          10,
          10,
          10,
          10,
          11,
          12,
          17,
          17,
          17,
          17,
          17,
          18,
          20,
          20,
          20,
          22,
          22,
          23
         ],
         "yaxis": "y"
        },
        {
         "name": "Georgia",
         "type": "scatter",
         "xaxis": "x",
         "y": [
          3,
          3,
          3,
          3,
          4,
          4,
          4,
          13,
          15,
          15,
          24,
          24,
          25,
          30,
          33,
          33,
          34,
          38,
          40,
          43,
          49,
          54,
          61,
          70,
          75,
          79,
          83,
          90,
          91,
          103,
          110,
          117,
          134,
          155,
          162,
          174,
          188,
          196,
          211,
          218,
          234,
          242,
          257,
          272,
          300,
          306,
          348,
          370,
          388,
          394,
          402,
          408,
          416,
          425,
          444,
          456,
          486,
          497,
          511,
          517,
          539,
          566,
          582,
          589
         ],
         "yaxis": "y"
        },
        {
         "name": "Germany",
         "type": "scatter",
         "xaxis": "x",
         "y": [
          4,
          4,
          4,
          5,
          8,
          10,
          12,
          12,
          12,
          12,
          13,
          13,
          14,
          14,
          16,
          16,
          16,
          16,
          16,
          16,
          16,
          16,
          16,
          16,
          16,
          16,
          16,
          16,
          17,
          27,
          46,
          48,
          79,
          130,
          159,
          196,
          262,
          482,
          670,
          799,
          1040,
          1176,
          1457,
          1908,
          2078,
          3675,
          4585,
          5795,
          7272,
          9257,
          12327,
          15320,
          19848,
          22213,
          24873,
          29056,
          32986,
          37323,
          43938,
          50871,
          57695,
          62095,
          66885,
          71808
         ],
         "yaxis": "y"
        },
        {
         "name": "Ghana",
         "type": "scatter",
         "xaxis": "x",
         "y": [
          3,
          6,
          6,
          7,
          7,
          11,
          16,
          19,
          23,
          27,
          53,
          93,
          132,
          137,
          141,
          152,
          152,
          161,
          195,
          204,
          205,
          205,
          214,
          214,
          287,
          313,
          378,
          378,
          408,
          566,
          566,
          636,
          636,
          641,
          641,
          834,
          1042,
          1042,
          1042,
          1154,
          1154,
          1279,
          1279,
          1550,
          1550,
          1671,
          1671,
          2074,
          2074,
          2169,
          2169,
          2719,
          2719,
          3091,
          3091,
          4012,
          4263,
          4263,
          4700,
          5127,
          5408
         ],
         "yaxis": "y"
        },
        {
         "name": "Greece",
         "type": "scatter",
         "xaxis": "x",
         "y": [
          3,
          4,
          4,
          7,
          7,
          7,
          9,
          31,
          45,
          46,
          73,
          73,
          89,
          99,
          99,
          190,
          228,
          331,
          331,
          387,
          418,
          418,
          495,
          530,
          624,
          695,
          743,
          821,
          892,
          966,
          1061,
          1156,
          1212,
          1314,
          1415,
          1544,
          1613,
          1673,
          1735,
          1755,
          1832,
          1884,
          1955,
          2011,
          2081,
          2114,
          2145,
          2170,
          2192,
          2207,
          2224,
          2235,
          2235,
          2245,
          2401,
          2408,
          2463,
          2490,
          2506,
          2517,
          2534,
          2566,
          2576,
          2591
         ],
         "yaxis": "y"
        },
        {
         "name": "Grenada",
         "type": "scatter",
         "xaxis": "x",
         "y": [
          7,
          7,
          7,
          9,
          9,
          9,
          9,
          10,
          12,
          12,
          12,
          12,
          12,
          12,
          12,
          14,
          14,
          14,
          14,
          14,
          14,
          14,
          14,
          14,
          14,
          14,
          14,
          15,
          15,
          15,
          18,
          18,
          18,
          19,
          20,
          20,
          20,
          21,
          21,
          21,
          21,
          21,
          21,
          21,
          21,
          21,
          21,
          21,
          21
         ],
         "yaxis": "y"
        },
        {
         "name": "Guatemala",
         "type": "scatter",
         "xaxis": "x",
         "y": [
          2,
          6,
          6,
          9,
          12,
          17,
          19,
          20,
          21,
          24,
          25,
          28,
          34,
          34,
          36,
          38,
          39,
          47,
          50,
          61,
          61,
          70,
          77,
          87,
          95,
          126,
          137,
          155,
          156,
          167,
          180,
          196,
          214,
          235,
          257,
          289,
          294,
          316,
          384,
          430,
          473,
          500,
          530,
          530,
          557,
          599,
          644,
          688,
          703,
          730,
          763,
          798,
          832,
          900,
          967,
          1052,
          1114,
          1199,
          1342
         ],
         "yaxis": "y"
        },
        {
         "name": "Guinea",
         "type": "scatter",
         "xaxis": "x",
         "y": [
          2,
          2,
          4,
          4,
          4,
          4,
          8,
          8,
          16,
          22,
          22,
          30,
          52,
          73,
          111,
          121,
          128,
          144,
          164,
          194,
          212,
          250,
          250,
          319,
          363,
          404,
          438,
          477,
          518,
          579,
          622,
          688,
          761,
          862,
          954,
          996,
          996,
          1163,
          1240,
          1351,
          1495,
          1537,
          1586,
          1586,
          1710,
          1811,
          1856,
          1927,
          2009,
          2042,
          2146,
          2146,
          2298,
          2374
         ],
         "yaxis": "y"
        },
        {
         "name": "Guinea-Bissau",
         "type": "scatter",
         "xaxis": "x",
         "y": [
          2,
          2,
          2,
          2,
          2,
          8,
          8,
          9,
          9,
          15,
          18,
          18,
          18,
          33,
          33,
          36,
          36,
          38,
          38,
          38,
          38,
          43,
          43,
          43,
          46,
          50,
          50,
          50,
          50,
          50,
          52,
          52,
          53,
          73,
          73,
          205,
          205,
          257,
          257,
          257,
          413,
          413,
          475,
          564,
          594,
          641,
          726,
          761,
          820,
          836
         ],
         "yaxis": "y"
        },
        {
         "name": "Guyana",
         "type": "scatter",
         "xaxis": "x",
         "y": [
          4,
          4,
          7,
          7,
          7,
          7,
          7,
          19,
          20,
          5,
          5,
          5,
          5,
          8,
          8,
          8,
          12,
          19,
          19,
          23,
          23,
          24,
          31,
          33,
          37,
          37,
          37,
          45,
          45,
          45,
          47,
          55,
          55,
          63,
          63,
          65,
          65,
          66,
          67,
          70,
          73,
          73,
          74,
          74,
          74,
          78,
          82,
          82,
          82,
          82,
          92,
          93,
          93,
          93,
          94,
          94,
          104,
          109,
          113,
          113
         ],
         "yaxis": "y"
        },
        {
         "name": "Haiti",
         "type": "scatter",
         "xaxis": "x",
         "y": [
          2,
          2,
          2,
          6,
          7,
          8,
          8,
          8,
          8,
          15,
          15,
          15,
          16,
          16,
          18,
          20,
          21,
          24,
          25,
          27,
          30,
          31,
          33,
          33,
          40,
          40,
          41,
          41,
          43,
          44,
          47,
          57,
          57,
          62,
          72,
          72,
          72,
          74,
          76,
          76,
          76,
          81,
          85,
          85,
          88,
          100,
          101,
          101,
          129,
          146,
          151,
          182,
          209,
          209,
          234
         ],
         "yaxis": "y"
        },
        {
         "name": "Holy See",
         "type": "scatter",
         "xaxis": "x",
         "y": [
          4,
          4,
          4,
          4,
          6,
          6,
          6,
          6,
          6,
          7,
          7,
          7,
          7,
          7,
          7,
          8,
          8,
          8,
          8,
          8,
          8,
          8,
          8,
          8,
          8,
          8,
          8,
          9,
          9,
          9,
          9,
          9,
          9,
          9,
          9,
          10,
          10,
          11,
          11,
          11,
          11,
          11,
          11,
          12,
          12,
          12,
          12,
          12,
          12,
          12,
          12
         ],
         "yaxis": "y"
        },
        {
         "name": "Honduras",
         "type": "scatter",
         "xaxis": "x",
         "y": [
          2,
          2,
          2,
          2,
          3,
          6,
          8,
          9,
          12,
          24,
          24,
          26,
          30,
          30,
          36,
          52,
          68,
          95,
          110,
          139,
          141,
          172,
          219,
          222,
          264,
          268,
          298,
          305,
          312,
          343,
          382,
          392,
          393,
          397,
          407,
          419,
          426,
          442,
          457,
          472,
          477,
          494,
          510,
          519,
          591,
          627,
          627,
          661,
          702,
          738,
          771,
          804,
          1010,
          1055,
          1178,
          1270,
          1461,
          1685,
          1771,
          1830,
          1972,
          2100,
          2080,
          2255
         ],
         "yaxis": "y"
        },
        {
         "name": "Hungary",
         "type": "scatter",
         "xaxis": "x",
         "y": [
          2,
          2,
          2,
          4,
          7,
          9,
          9,
          13,
          13,
          19,
          30,
          32,
          39,
          50,
          58,
          73,
          85,
          103,
          131,
          167,
          187,
          226,
          261,
          300,
          343,
          408,
          447,
          492,
          525,
          585,
          623,
          678,
          733,
          744,
          817,
          895,
          980,
          1190,
          1310,
          1410,
          1458,
          1512,
          1579,
          1652,
          1763,
          1834,
          1916,
          1984,
          2098,
          2168,
          2284,
          2443,
          2443,
          2500,
          2583,
          2649,
          2727,
          2775,
          2863,
          2942,
          2998,
          3035,
          3065,
          3111
         ],
         "yaxis": "y"
        },
        {
         "name": "Iceland",
         "type": "scatter",
         "xaxis": "x",
         "y": [
          3,
          6,
          11,
          26,
          34,
          43,
          50,
          50,
          58,
          69,
          85,
          103,
          134,
          156,
          171,
          180,
          220,
          250,
          330,
          409,
          473,
          568,
          588,
          648,
          737,
          802,
          890,
          963,
          1020,
          1086,
          1135,
          1220,
          1319,
          1364,
          1417,
          1486,
          1562,
          1586,
          1616,
          1648,
          1675,
          1689,
          1701,
          1711,
          1720,
          1727,
          1739,
          1754,
          1760,
          1771,
          1773,
          1778,
          1785,
          1789,
          1789,
          1790,
          1792,
          1792,
          1795,
          1797,
          1797,
          1798,
          1798,
          1799
         ],
         "yaxis": "y"
        },
        {
         "name": "India",
         "type": "scatter",
         "xaxis": "x",
         "y": [
          2,
          3,
          3,
          3,
          3,
          3,
          3,
          3,
          3,
          3,
          3,
          3,
          3,
          3,
          3,
          3,
          3,
          3,
          3,
          3,
          3,
          3,
          3,
          3,
          3,
          3,
          3,
          3,
          3,
          5,
          5,
          28,
          30,
          31,
          34,
          39,
          43,
          56,
          62,
          73,
          82,
          102,
          113,
          119,
          142,
          156,
          194,
          244,
          330,
          396,
          499,
          536,
          657,
          727,
          887,
          987,
          1024,
          1251,
          1397,
          1998,
          2543,
          2567,
          3082,
          3588
         ],
         "yaxis": "y"
        },
        {
         "name": "Indonesia",
         "type": "scatter",
         "xaxis": "x",
         "y": [
          2,
          2,
          2,
          2,
          4,
          4,
          6,
          19,
          27,
          34,
          34,
          69,
          96,
          117,
          134,
          172,
          227,
          311,
          369,
          450,
          514,
          579,
          686,
          790,
          893,
          1046,
          1155,
          1285,
          1414,
          1528,
          1677,
          1790,
          1986,
          2092,
          2273,
          2491,
          2738,
          2956,
          3293,
          3512,
          3842,
          4241,
          4557,
          4839,
          5136,
          5516,
          5923,
          6248,
          6575,
          6760,
          7135,
          7418,
          7775,
          8211,
          8607,
          8882,
          9096,
          9511,
          9771,
          10118,
          10551,
          10843,
          11192,
          11587
         ],
         "yaxis": "y"
        },
        {
         "name": "Iran",
         "type": "scatter",
         "xaxis": "x",
         "y": [
          2,
          5,
          18,
          28,
          43,
          61,
          95,
          139,
          245,
          388,
          593,
          978,
          1501,
          2336,
          2922,
          3513,
          4747,
          5823,
          6566,
          7161,
          8042,
          9000,
          10075,
          11364,
          12729,
          13938,
          14991,
          16169,
          17361,
          18407,
          19644,
          20610,
          21638,
          23049,
          24811,
          27017,
          29406,
          32332,
          35408,
          38309,
          41495,
          44605,
          47593,
          50468,
          53183,
          55743,
          58226,
          60500,
          62589,
          64586,
          66220,
          68192,
          70029,
          71686,
          73303,
          74877,
          76389,
          77995,
          79494,
          80868,
          82211,
          83505,
          84802,
          85996
         ],
         "yaxis": "y"
        },
        {
         "name": "Iraq",
         "type": "scatter",
         "xaxis": "x",
         "y": [
          5,
          7,
          7,
          13,
          19,
          26,
          32,
          35,
          35,
          40,
          54,
          60,
          60,
          71,
          71,
          71,
          101,
          110,
          116,
          124,
          154,
          164,
          192,
          208,
          214,
          233,
          266,
          316,
          346,
          382,
          458,
          506,
          547,
          630,
          694,
          728,
          772,
          820,
          878,
          961,
          1031,
          1122,
          1202,
          1232,
          1279,
          1318,
          1352,
          1378,
          1400,
          1415,
          1434,
          1482,
          1513,
          1539,
          1574,
          1602,
          1631,
          1677,
          1708,
          1763,
          1820,
          1847,
          1928,
          2003
         ],
         "yaxis": "y"
        },
        {
         "name": "Ireland",
         "type": "scatter",
         "xaxis": "x",
         "y": [
          2,
          6,
          6,
          18,
          18,
          19,
          21,
          34,
          43,
          43,
          90,
          129,
          129,
          169,
          223,
          292,
          557,
          683,
          785,
          906,
          1125,
          1329,
          1564,
          1819,
          2121,
          2415,
          2615,
          2910,
          3235,
          3447,
          3849,
          4273,
          4604,
          4994,
          5364,
          5709,
          6074,
          6574,
          8089,
          8928,
          9655,
          10647,
          11479,
          12547,
          13271,
          13980,
          14758,
          15251,
          15652,
          16040,
          16671,
          17607,
          18184,
          18561,
          19262,
          19648,
          19877,
          20253,
          20612,
          20833,
          21176,
          21506,
          21772,
          21983
         ],
         "yaxis": "y"
        },
        {
         "name": "Israel",
         "type": "scatter",
         "xaxis": "x",
         "y": [
          2,
          3,
          4,
          7,
          10,
          10,
          12,
          15,
          20,
          37,
          43,
          61,
          61,
          75,
          79,
          100,
          126,
          155,
          213,
          218,
          250,
          304,
          427,
          529,
          712,
          883,
          1071,
          1238,
          2369,
          2693,
          3035,
          3619,
          4247,
          4695,
          5358,
          6092,
          6857,
          7428,
          7851,
          8430,
          8904,
          9248,
          9404,
          9968,
          10408,
          10743,
          11145,
          11586,
          12046,
          12501,
          12758,
          12982,
          13265,
          13491,
          13713,
          13942,
          14498,
          14803,
          15058,
          15298,
          15443,
          15555,
          15728,
          15834
         ],
         "yaxis": "y"
        },
        {
         "name": "Italy",
         "type": "scatter",
         "xaxis": "x",
         "y": [
          2,
          2,
          2,
          2,
          2,
          2,
          2,
          3,
          3,
          3,
          3,
          3,
          3,
          3,
          3,
          3,
          3,
          3,
          3,
          3,
          3,
          20,
          62,
          155,
          229,
          322,
          453,
          655,
          888,
          1128,
          1694,
          2036,
          2502,
          3089,
          3858,
          4636,
          5883,
          7375,
          9172,
          10149,
          12462,
          12462,
          17660,
          21157,
          24747,
          27980,
          31506,
          35713,
          41035,
          47021,
          53578,
          59138,
          63927,
          69176,
          74386,
          80589,
          86498,
          92472,
          97689,
          101739,
          105792,
          110574,
          115242,
          119827
         ],
         "yaxis": "y"
        },
        {
         "name": "Jamaica",
         "type": "scatter",
         "xaxis": "x",
         "y": [
          2,
          8,
          8,
          10,
          10,
          12,
          13,
          15,
          16,
          16,
          19,
          19,
          21,
          26,
          26,
          26,
          30,
          32,
          36,
          36,
          44,
          47,
          47,
          53,
          58,
          58,
          63,
          63,
          63,
          63,
          65,
          69,
          73,
          73,
          125,
          143,
          143,
          163,
          173,
          223,
          223,
          233,
          257,
          288,
          305,
          350,
          364,
          364,
          396,
          422,
          432,
          463,
          469,
          471,
          473,
          478,
          488,
          490,
          490,
          502,
          505,
          507,
          509
         ],
         "yaxis": "y"
        },
        {
         "name": "Japan",
         "type": "scatter",
         "xaxis": "x",
         "y": [
          2,
          2,
          2,
          4,
          4,
          7,
          7,
          11,
          15,
          20,
          20,
          20,
          22,
          22,
          22,
          25,
          25,
          26,
          26,
          26,
          28,
          28,
          29,
          43,
          59,
          66,
          74,
          84,
          94,
          105,
          122,
          147,
          159,
          170,
          189,
          214,
          228,
          241,
          256,
          274,
          293,
          331,
          360,
          420,
          461,
          502,
          511,
          581,
          639,
          639,
          701,
          773,
          839,
          839,
          878,
          889,
          924,
          963,
          1007,
          1101,
          1128,
          1193,
          1307,
          1387
         ],
         "yaxis": "y"
        },
        {
         "name": "Jordan",
         "type": "scatter",
         "xaxis": "x",
         "y": [
          8,
          17,
          34,
          52,
          69,
          85,
          85,
          112,
          127,
          154,
          172,
          212,
          235,
          246,
          259,
          268,
          274,
          278,
          299,
          310,
          323,
          345,
          349,
          353,
          358,
          372,
          372,
          381,
          389,
          391,
          397,
          401,
          402,
          407,
          413,
          417,
          425,
          428,
          435,
          437,
          441,
          444,
          447,
          449,
          449,
          451,
          453,
          459,
          460,
          461,
          465,
          471,
          473,
          494,
          508,
          522,
          540,
          562,
          576,
          582
         ],
         "yaxis": "y"
        },
        {
         "name": "Kazakhstan",
         "type": "scatter",
         "xaxis": "x",
         "y": [
          4,
          6,
          9,
          10,
          33,
          35,
          44,
          49,
          53,
          60,
          62,
          72,
          81,
          111,
          150,
          228,
          284,
          302,
          343,
          380,
          435,
          464,
          531,
          584,
          662,
          697,
          727,
          781,
          812,
          865,
          951,
          1091,
          1232,
          1295,
          1402,
          1546,
          1615,
          1676,
          1852,
          1995,
          2135,
          2289,
          2482,
          2601,
          2717,
          2835,
          3027,
          3138,
          3402,
          3597,
          3857,
          3920,
          4049,
          4205,
          4422,
          4578,
          4834,
          4975,
          5090,
          5207,
          5279,
          5417
         ],
         "yaxis": "y"
        },
        {
         "name": "Kenya",
         "type": "scatter",
         "xaxis": "x",
         "y": [
          3,
          3,
          3,
          3,
          7,
          7,
          7,
          15,
          16,
          25,
          28,
          31,
          31,
          38,
          42,
          50,
          59,
          81,
          110,
          122,
          126,
          142,
          158,
          172,
          179,
          184,
          189,
          191,
          197,
          208,
          216,
          225,
          234,
          246,
          262,
          270,
          281,
          296,
          303,
          320,
          336,
          343,
          355,
          363,
          374,
          384,
          396,
          411,
          435,
          465,
          490,
          535,
          582,
          607,
          621,
          649,
          672,
          700,
          715,
          737
         ],
         "yaxis": "y"
        },
        {
         "name": "Korea, South",
         "type": "scatter",
         "xaxis": "x",
         "y": [
          2,
          2,
          3,
          4,
          4,
          4,
          4,
          11,
          12,
          15,
          15,
          16,
          19,
          23,
          24,
          24,
          25,
          27,
          28,
          28,
          28,
          28,
          28,
          29,
          30,
          31,
          31,
          104,
          204,
          433,
          602,
          833,
          977,
          1261,
          1766,
          2337,
          3150,
          3736,
          4335,
          5186,
          5621,
          6088,
          6593,
          7041,
          7314,
          7478,
          7513,
          7755,
          7869,
          7979,
          8086,
          8162,
          8236,
          8320,
          8413,
          8565,
          8652,
          8799,
          8961,
          8961,
          9037,
          9137,
          9241,
          9332
         ],
         "yaxis": "y"
        },
        {
         "name": "Kosovo",
         "type": "scatter",
         "xaxis": "x",
         "y": [
          71,
          86,
          91,
          94,
          94,
          112,
          125,
          125,
          126,
          135,
          145,
          145,
          170,
          184,
          184,
          250,
          283,
          283,
          283,
          387,
          387,
          449,
          480,
          510,
          561,
          598,
          604,
          630,
          669,
          703,
          731,
          763,
          780,
          790,
          799,
          806,
          806,
          823,
          851,
          855,
          856,
          856,
          861,
          861,
          862,
          870,
          884,
          919,
          919
         ],
         "yaxis": "y"
        },
        {
         "name": "Kuwait",
         "type": "scatter",
         "xaxis": "x",
         "y": [
          11,
          26,
          43,
          45,
          45,
          45,
          56,
          56,
          56,
          58,
          58,
          61,
          64,
          64,
          69,
          72,
          80,
          80,
          104,
          112,
          123,
          130,
          142,
          148,
          159,
          176,
          188,
          189,
          191,
          195,
          208,
          225,
          235,
          255,
          266,
          289,
          317,
          342,
          417,
          479,
          556,
          665,
          743,
          855,
          910,
          993,
          1154,
          1234,
          1300,
          1355,
          1405,
          1524,
          1658,
          1751,
          1915,
          1995,
          2080,
          2248,
          2399,
          2614,
          2892,
          3075,
          3288,
          3440
         ],
         "yaxis": "y"
        },
        {
         "name": "Kyrgyzstan",
         "type": "scatter",
         "xaxis": "x",
         "y": [
          3,
          3,
          6,
          14,
          14,
          16,
          42,
          44,
          44,
          58,
          58,
          84,
          94,
          107,
          111,
          116,
          130,
          144,
          147,
          216,
          228,
          270,
          280,
          298,
          339,
          377,
          419,
          430,
          449,
          466,
          489,
          506,
          554,
          568,
          590,
          612,
          631,
          665,
          665,
          682,
          695,
          708,
          729,
          746,
          756,
          769,
          795,
          830,
          843,
          871,
          895,
          906,
          931,
          1002,
          1016,
          1037,
          1044
         ],
         "yaxis": "y"
        },
        {
         "name": "Laos",
         "type": "scatter",
         "xaxis": "x",
         "y": [
          2,
          3,
          6,
          6,
          8,
          8,
          8,
          9,
          10,
          10,
          10,
          10,
          11,
          12,
          14,
          15,
          16,
          16,
          18,
          19,
          19,
          19,
          19,
          19,
          19,
          19,
          19,
          19,
          19,
          19,
          19,
          19,
          19,
          19,
          19,
          19,
          19,
          19,
          19,
          19,
          19,
          19,
          19,
          19,
          19,
          19,
          19,
          19,
          19,
          19,
          19
         ],
         "yaxis": "y"
        },
        {
         "name": "Latvia",
         "type": "scatter",
         "xaxis": "x",
         "y": [
          2,
          6,
          8,
          10,
          10,
          17,
          26,
          30,
          34,
          49,
          71,
          86,
          111,
          124,
          139,
          180,
          197,
          221,
          244,
          280,
          305,
          347,
          376,
          398,
          446,
          458,
          493,
          509,
          533,
          542,
          548,
          577,
          589,
          612,
          630,
          651,
          655,
          657,
          666,
          675,
          682,
          712,
          727,
          739,
          748,
          761,
          778,
          784,
          804,
          812,
          818,
          836,
          849,
          858,
          870,
          871,
          879,
          896,
          896,
          900,
          909,
          928,
          930,
          939
         ],
         "yaxis": "y"
        },
        {
         "name": "Lebanon",
         "type": "scatter",
         "xaxis": "x",
         "y": [
          2,
          2,
          2,
          4,
          10,
          13,
          13,
          13,
          16,
          22,
          22,
          32,
          32,
          41,
          61,
          61,
          77,
          93,
          110,
          110,
          120,
          133,
          157,
          163,
          187,
          248,
          267,
          318,
          333,
          368,
          391,
          412,
          438,
          446,
          470,
          479,
          494,
          508,
          520,
          527,
          541,
          548,
          576,
          582,
          609,
          619,
          630,
          632,
          641,
          658,
          663,
          668,
          672,
          673,
          677,
          677,
          682,
          688,
          696,
          704,
          707,
          710,
          717,
          721
         ],
         "yaxis": "y"
        },
        {
         "name": "Liberia",
         "type": "scatter",
         "xaxis": "x",
         "y": [
          2,
          2,
          2,
          3,
          3,
          3,
          3,
          3,
          3,
          3,
          3,
          3,
          3,
          3,
          6,
          6,
          7,
          10,
          13,
          14,
          14,
          31,
          31,
          37,
          48,
          50,
          59,
          59,
          59,
          59,
          76,
          76,
          91,
          99,
          101,
          101,
          101,
          117,
          120,
          124,
          124,
          141,
          141,
          141,
          152,
          154,
          158,
          166,
          170,
          178,
          189,
          199,
          199,
          199,
          211,
          211,
          213
         ],
         "yaxis": "y"
        },
        {
         "name": "Libya",
         "type": "scatter",
         "xaxis": "x",
         "y": [
          3,
          8,
          8,
          10,
          10,
          11,
          11,
          18,
          18,
          19,
          20,
          21,
          24,
          24,
          24,
          25,
          26,
          35,
          48,
          49,
          49,
          49,
          51,
          51,
          51,
          59,
          60,
          61,
          61,
          61,
          61,
          61,
          61,
          61,
          63,
          63,
          63,
          63,
          63,
          64,
          64,
          64,
          64,
          64,
          64,
          64,
          64
         ],
         "yaxis": "y"
        },
        {
         "name": "Liechtenstein",
         "type": "scatter",
         "xaxis": "x",
         "y": [
          4,
          4,
          4,
          7,
          28,
          28,
          28,
          37,
          37,
          51,
          51,
          51,
          56,
          56,
          56,
          56,
          62,
          68,
          68,
          75,
          75,
          77,
          77,
          77,
          78,
          78,
          78,
          79,
          79,
          79,
          79,
          79,
          79,
          79,
          79,
          79,
          81,
          81,
          81,
          81,
          81,
          81,
          81,
          82,
          82,
          82,
          82,
          82,
          82,
          82,
          82,
          82,
          82,
          82,
          82,
          82,
          82,
          82,
          82,
          82,
          82
         ],
         "yaxis": "y"
        },
        {
         "name": "Lithuania",
         "type": "scatter",
         "xaxis": "x",
         "y": [
          3,
          3,
          6,
          8,
          12,
          17,
          25,
          27,
          36,
          49,
          83,
          143,
          179,
          209,
          274,
          299,
          358,
          394,
          460,
          491,
          537,
          581,
          649,
          696,
          771,
          811,
          843,
          880,
          912,
          955,
          999,
          1026,
          1053,
          1062,
          1070,
          1091,
          1128,
          1149,
          1239,
          1298,
          1326,
          1350,
          1370,
          1398,
          1410,
          1426,
          1438,
          1449,
          1344,
          1375,
          1385,
          1399,
          1406,
          1410,
          1419,
          1423,
          1428,
          1433,
          1436,
          1444,
          1479,
          1485,
          1491,
          1505
         ],
         "yaxis": "y"
        },
        {
         "name": "Luxembourg",
         "type": "scatter",
         "xaxis": "x",
         "y": [
          2,
          2,
          3,
          3,
          5,
          7,
          19,
          34,
          51,
          59,
          77,
          140,
          203,
          335,
          484,
          670,
          798,
          875,
          1099,
          1333,
          1453,
          1605,
          1831,
          1950,
          1988,
          2178,
          2319,
          2487,
          2612,
          2729,
          2804,
          2843,
          2970,
          3034,
          3115,
          3223,
          3270,
          3281,
          3292,
          3307,
          3373,
          3444,
          3480,
          3537,
          3550,
          3558,
          3618,
          3654,
          3665,
          3695,
          3711,
          3723,
          3729,
          3741,
          3769,
          3784,
          3802,
          3812,
          3824,
          3828,
          3840,
          3851,
          3859,
          3871
         ],
         "yaxis": "y"
        },
        {
         "name": "MS Zaandam",
         "type": "scatter",
         "xaxis": "x",
         "y": [
          2,
          2,
          2,
          2,
          9,
          9,
          9,
          9,
          9,
          9,
          9,
          9,
          9,
          9,
          9,
          9,
          9,
          9,
          9,
          9,
          9,
          9,
          9,
          9,
          9,
          9,
          9,
          9,
          9,
          9,
          9,
          9,
          9,
          9,
          9,
          9,
          9,
          9,
          9,
          9,
          9,
          9,
          9,
          9,
          9,
          9,
          9
         ],
         "yaxis": "y"
        },
        {
         "name": "Madagascar",
         "type": "scatter",
         "xaxis": "x",
         "y": [
          3,
          3,
          3,
          12,
          17,
          19,
          23,
          26,
          26,
          39,
          43,
          57,
          57,
          59,
          70,
          70,
          72,
          82,
          88,
          93,
          93,
          93,
          102,
          106,
          106,
          108,
          110,
          111,
          117,
          120,
          121,
          121,
          121,
          121,
          121,
          122,
          123,
          124,
          128,
          128,
          128,
          128,
          132,
          135,
          149,
          149,
          151,
          158,
          193,
          193,
          193,
          193,
          186,
          186,
          212
         ],
         "yaxis": "y"
        },
        {
         "name": "Malawi",
         "type": "scatter",
         "xaxis": "x",
         "y": [
          3,
          3,
          4,
          4,
          5,
          8,
          8,
          8,
          9,
          12,
          13,
          16,
          16,
          16,
          16,
          17,
          17,
          17,
          17,
          18,
          23,
          33,
          33,
          33,
          34,
          36,
          36,
          36,
          37,
          37,
          38,
          39,
          41,
          41,
          43,
          43,
          43,
          56,
          56,
          57,
          57,
          63
         ],
         "yaxis": "y"
        },
        {
         "name": "Malaysia",
         "type": "scatter",
         "xaxis": "x",
         "y": [
          3,
          4,
          4,
          4,
          7,
          8,
          8,
          8,
          8,
          8,
          10,
          12,
          12,
          12,
          16,
          16,
          18,
          18,
          18,
          19,
          19,
          22,
          22,
          22,
          22,
          22,
          22,
          22,
          22,
          22,
          22,
          22,
          22,
          23,
          23,
          25,
          29,
          29,
          36,
          50,
          50,
          83,
          93,
          99,
          117,
          129,
          149,
          149,
          197,
          238,
          428,
          566,
          673,
          790,
          900,
          1030,
          1183,
          1306,
          1518,
          1624,
          1796,
          2031,
          2161,
          2320
         ],
         "yaxis": "y"
        },
        {
         "name": "Maldives",
         "type": "scatter",
         "xaxis": "x",
         "y": [
          4,
          4,
          6,
          8,
          8,
          9,
          10,
          13,
          13,
          13,
          13,
          13,
          13,
          13,
          13,
          13,
          13,
          13,
          13,
          16,
          16,
          17,
          17,
          18,
          19,
          19,
          19,
          19,
          19,
          19,
          19,
          19,
          19,
          19,
          19,
          20,
          20,
          20,
          22,
          25,
          28,
          35,
          52,
          69,
          83,
          86,
          108,
          129,
          177,
          214,
          226,
          250,
          278,
          468,
          491,
          519,
          527,
          541,
          573,
          617,
          648,
          744,
          790,
          835
         ],
         "yaxis": "y"
        },
        {
         "name": "Mali",
         "type": "scatter",
         "xaxis": "x",
         "y": [
          2,
          4,
          11,
          18,
          18,
          25,
          28,
          31,
          36,
          39,
          41,
          45,
          47,
          56,
          59,
          74,
          87,
          87,
          105,
          123,
          144,
          148,
          171,
          171,
          216,
          224,
          246,
          258,
          293,
          309,
          325,
          370,
          389,
          408,
          424,
          482,
          490,
          508,
          544,
          563,
          580,
          612,
          631,
          650,
          668,
          692,
          704,
          712,
          730,
          758
         ],
         "yaxis": "y"
        },
        {
         "name": "Malta",
         "type": "scatter",
         "xaxis": "x",
         "y": [
          3,
          3,
          3,
          5,
          6,
          6,
          12,
          18,
          21,
          30,
          38,
          38,
          53,
          64,
          73,
          90,
          107,
          110,
          129,
          134,
          139,
          149,
          151,
          156,
          169,
          188,
          196,
          202,
          213,
          227,
          241,
          293,
          299,
          337,
          350,
          370,
          378,
          384,
          393,
          399,
          412,
          422,
          426,
          427,
          431,
          443,
          444,
          445,
          447,
          448,
          448,
          450,
          458,
          463,
          465,
          467,
          468,
          477,
          480,
          482,
          484,
          486,
          489,
          490
         ],
         "yaxis": "y"
        },
        {
         "name": "Mauritania",
         "type": "scatter",
         "xaxis": "x",
         "y": [
          2,
          2,
          2,
          2,
          2,
          2,
          2,
          3,
          3,
          5,
          5,
          5,
          6,
          6,
          6,
          6,
          6,
          6,
          6,
          6,
          6,
          7,
          7,
          7,
          7,
          7,
          7,
          7,
          7,
          7,
          7,
          7,
          7,
          7,
          7,
          7,
          7,
          7,
          7,
          7,
          7,
          8,
          8,
          8,
          8,
          8,
          8,
          8,
          8,
          8,
          8,
          8,
          8,
          8,
          9,
          15
         ],
         "yaxis": "y"
        },
        {
         "name": "Mauritius",
         "type": "scatter",
         "xaxis": "x",
         "y": [
          3,
          3,
          12,
          14,
          28,
          36,
          42,
          48,
          81,
          94,
          102,
          107,
          128,
          143,
          161,
          169,
          186,
          196,
          227,
          244,
          268,
          273,
          314,
          318,
          319,
          324,
          324,
          324,
          324,
          324,
          324,
          325,
          328,
          328,
          328,
          329,
          331,
          331,
          331,
          332,
          334,
          334,
          332,
          332,
          332,
          332,
          332,
          332,
          332,
          332,
          332,
          332,
          332,
          332,
          332,
          332,
          332
         ],
         "yaxis": "y"
        },
        {
         "name": "Mexico",
         "type": "scatter",
         "xaxis": "x",
         "y": [
          4,
          5,
          5,
          5,
          5,
          5,
          6,
          6,
          7,
          7,
          7,
          8,
          12,
          26,
          41,
          53,
          82,
          93,
          118,
          164,
          203,
          251,
          316,
          367,
          405,
          475,
          585,
          717,
          848,
          993,
          1094,
          1215,
          1378,
          1510,
          1688,
          1890,
          2143,
          2439,
          2785,
          3181,
          3441,
          3844,
          4219,
          4661,
          5014,
          5399,
          5847,
          6297,
          6875,
          7497,
          8261,
          8772,
          9501,
          10544,
          11633,
          12872,
          13842,
          14677,
          15529,
          16752,
          17799,
          19224,
          20739,
          22088
         ],
         "yaxis": "y"
        },
        {
         "name": "Moldova",
         "type": "scatter",
         "xaxis": "x",
         "y": [
          3,
          3,
          3,
          6,
          12,
          23,
          23,
          30,
          30,
          49,
          66,
          80,
          94,
          109,
          125,
          149,
          177,
          199,
          231,
          263,
          298,
          353,
          423,
          505,
          591,
          752,
          864,
          965,
          1056,
          1174,
          1289,
          1438,
          1560,
          1662,
          1712,
          1934,
          2049,
          2154,
          2264,
          2378,
          2472,
          2548,
          2614,
          2778,
          2926,
          3110,
          3304,
          3408,
          3481,
          3638,
          3771,
          3897,
          3980,
          4052,
          4121,
          4248,
          4363,
          4476,
          4605,
          4728,
          4867,
          4927,
          4995,
          5154
         ],
         "yaxis": "y"
        },
        {
         "name": "Monaco",
         "type": "scatter",
         "xaxis": "x",
         "y": [
          2,
          2,
          2,
          2,
          7,
          7,
          7,
          7,
          11,
          11,
          23,
          23,
          23,
          31,
          33,
          42,
          42,
          46,
          49,
          52,
          55,
          60,
          64,
          66,
          73,
          77,
          79,
          81,
          84,
          90,
          92,
          93,
          93,
          93,
          93,
          93,
          94,
          94,
          94,
          94,
          94,
          94,
          94,
          94,
          94,
          94,
          95,
          95,
          95,
          95,
          95,
          95,
          95,
          95,
          95,
          95,
          95,
          95,
          96,
          96,
          96,
          96,
          96
         ],
         "yaxis": "y"
        },
        {
         "name": "Mongolia",
         "type": "scatter",
         "xaxis": "x",
         "y": [
          5,
          6,
          6,
          6,
          10,
          10,
          10,
          10,
          10,
          11,
          11,
          12,
          12,
          12,
          12,
          14,
          14,
          14,
          14,
          14,
          15,
          15,
          16,
          16,
          16,
          16,
          16,
          17,
          30,
          30,
          31,
          31,
          31,
          32,
          33,
          34,
          35,
          36,
          37,
          37,
          38,
          38,
          38,
          38,
          38,
          38,
          39,
          39,
          40,
          41,
          41,
          41,
          42,
          42,
          42,
          42,
          42,
          42
         ],
         "yaxis": "y"
        },
        {
         "name": "Montenegro",
         "type": "scatter",
         "xaxis": "x",
         "y": [
          2,
          2,
          3,
          14,
          14,
          21,
          27,
          47,
          52,
          69,
          82,
          84,
          85,
          91,
          109,
          123,
          144,
          174,
          201,
          214,
          233,
          241,
          248,
          252,
          255,
          263,
          272,
          274,
          283,
          288,
          303,
          303,
          307,
          308,
          312,
          313,
          315,
          316,
          319,
          320,
          321,
          321,
          321,
          322,
          322,
          322,
          322,
          322,
          323,
          324,
          324,
          324,
          324,
          324,
          324,
          324,
          324,
          324
         ],
         "yaxis": "y"
        },
        {
         "name": "Morocco",
         "type": "scatter",
         "xaxis": "x",
         "y": [
          2,
          2,
          2,
          2,
          2,
          3,
          5,
          6,
          7,
          17,
          28,
          29,
          38,
          49,
          63,
          77,
          96,
          115,
          143,
          170,
          225,
          275,
          345,
          402,
          479,
          556,
          617,
          654,
          708,
          791,
          919,
          1021,
          1120,
          1184,
          1275,
          1374,
          1448,
          1545,
          1661,
          1763,
          1888,
          2024,
          2283,
          2564,
          2685,
          2855,
          3046,
          3209,
          3446,
          3568,
          3758,
          3897,
          4065,
          4120,
          4252,
          4321,
          4423,
          4569,
          4729,
          4903,
          5053,
          5219,
          5408,
          5548
         ],
         "yaxis": "y"
        },
        {
         "name": "Mozambique",
         "type": "scatter",
         "xaxis": "x",
         "y": [
          3,
          5,
          7,
          7,
          8,
          8,
          8,
          8,
          10,
          10,
          10,
          10,
          10,
          10,
          10,
          17,
          17,
          20,
          20,
          21,
          21,
          28,
          29,
          31,
          34,
          35,
          39,
          39,
          39,
          41,
          46,
          65,
          70,
          76,
          76,
          76,
          76,
          76,
          79,
          79,
          80,
          80,
          81,
          81,
          81,
          82,
          87,
          91,
          103,
          104,
          104
         ],
         "yaxis": "y"
        },
        {
         "name": "Namibia",
         "type": "scatter",
         "xaxis": "x",
         "y": [
          2,
          2,
          2,
          2,
          2,
          3,
          3,
          3,
          3,
          4,
          7,
          7,
          8,
          8,
          8,
          11,
          11,
          11,
          14,
          14,
          14,
          14,
          16,
          16,
          16,
          16,
          16,
          16,
          16,
          16,
          16,
          16,
          16,
          16,
          16,
          16,
          16,
          16,
          16,
          16,
          16,
          16,
          16,
          16,
          16,
          16,
          16,
          16,
          16,
          16,
          16,
          16,
          16,
          16,
          16,
          16,
          16,
          16,
          16,
          16,
          16
         ],
         "yaxis": "y"
        },
        {
         "name": "Nepal",
         "type": "scatter",
         "xaxis": "x",
         "y": [
          2,
          2,
          3,
          3,
          4,
          5,
          5,
          5,
          5,
          5,
          6,
          6,
          9,
          9,
          9,
          9,
          9,
          9,
          9,
          9,
          12,
          14,
          16,
          16,
          16,
          30,
          31,
          31,
          31,
          43,
          45,
          48,
          49,
          49,
          52,
          52,
          54,
          57,
          57,
          59,
          59,
          75,
          75,
          82,
          99,
          101,
          102,
          110,
          110,
          134,
          217,
          250
         ],
         "yaxis": "y"
        },
        {
         "name": "Netherlands",
         "type": "scatter",
         "xaxis": "x",
         "y": [
          2,
          2,
          2,
          2,
          3,
          4,
          4,
          5,
          5,
          9,
          9,
          12,
          17,
          28,
          33,
          46,
          50,
          50,
          55,
          55,
          60,
          62,
          64,
          64,
          71,
          74,
          77,
          82,
          86,
          92,
          92,
          92,
          92,
          93,
          95,
          96,
          96,
          97,
          97,
          97,
          100,
          100,
          100,
          100,
          100,
          100,
          100,
          100,
          100,
          100,
          100,
          100,
          100,
          101,
          101,
          101,
          101,
          101,
          101,
          101,
          101,
          101,
          0,
          0
         ],
         "yaxis": "y"
        },
        {
         "name": "New Zealand",
         "type": "scatter",
         "xaxis": "x",
         "y": [
          3,
          3,
          4,
          5,
          5,
          5,
          5,
          5,
          5,
          5,
          6,
          8,
          8,
          12,
          20,
          28,
          39,
          52,
          102,
          102,
          155,
          205,
          283,
          368,
          451,
          514,
          589,
          647,
          708,
          797,
          868,
          950,
          1039,
          1106,
          1160,
          1210,
          1239,
          1283,
          1312,
          1330,
          1349,
          1366,
          1386,
          1401,
          1409,
          1422,
          1431,
          1440,
          1445,
          1451,
          1456,
          1461,
          1470,
          1469,
          1472,
          1474,
          1476,
          1479,
          1485,
          1487,
          1487,
          1486,
          1488,
          1489
         ],
         "yaxis": "y"
        },
        {
         "name": "Nicaragua",
         "type": "scatter",
         "xaxis": "x",
         "y": [
          2,
          2,
          2,
          2,
          2,
          2,
          2,
          4,
          4,
          4,
          5,
          5,
          5,
          5,
          5,
          6,
          6,
          6,
          6,
          7,
          7,
          8,
          9,
          9,
          9,
          9,
          9,
          9,
          9,
          10,
          10,
          10,
          10,
          11,
          11,
          12,
          13,
          13,
          13,
          13,
          14,
          14,
          14,
          15,
          15,
          16,
          16,
          16,
          16,
          16,
          16,
          16,
          25,
          25
         ],
         "yaxis": "y"
        },
        {
         "name": "Niger",
         "type": "scatter",
         "xaxis": "x",
         "y": [
          2,
          3,
          3,
          7,
          10,
          10,
          10,
          18,
          27,
          27,
          74,
          98,
          120,
          144,
          184,
          253,
          278,
          342,
          410,
          438,
          491,
          529,
          529,
          570,
          584,
          584,
          627,
          639,
          648,
          648,
          657,
          662,
          671,
          681,
          684,
          696,
          701,
          709,
          713,
          719,
          728,
          736,
          750,
          755,
          763,
          770,
          781,
          795,
          815,
          821,
          832,
          854,
          860
         ],
         "yaxis": "y"
        },
        {
         "name": "Nigeria",
         "type": "scatter",
         "xaxis": "x",
         "y": [
          2,
          2,
          2,
          2,
          2,
          2,
          2,
          2,
          3,
          8,
          8,
          12,
          22,
          30,
          40,
          44,
          51,
          65,
          70,
          89,
          111,
          131,
          135,
          174,
          184,
          210,
          214,
          232,
          238,
          254,
          276,
          288,
          305,
          318,
          323,
          343,
          373,
          407,
          442,
          493,
          542,
          627,
          665,
          665,
          873,
          981,
          1095,
          1182,
          1273,
          1337,
          1532,
          1728,
          1932,
          2170,
          2388,
          2558,
          2802,
          2950,
          3145,
          3526,
          3912,
          4151,
          4399,
          4641
         ],
         "yaxis": "y"
        },
        {
         "name": "North Macedonia",
         "type": "scatter",
         "xaxis": "x",
         "y": [
          3,
          3,
          3,
          3,
          7,
          7,
          7,
          14,
          14,
          14,
          18,
          26,
          35,
          48,
          67,
          85,
          115,
          136,
          148,
          177,
          201,
          219,
          241,
          259,
          285,
          329,
          354,
          384,
          430,
          483,
          555,
          570,
          599,
          617,
          663,
          711,
          760,
          828,
          854,
          908,
          974,
          1081,
          1117,
          1170,
          1207,
          1225,
          1231,
          1259,
          1300,
          1326,
          1367,
          1386,
          1399,
          1421,
          1442,
          1465,
          1494,
          1506,
          1511,
          1518,
          1526,
          1539,
          1572,
          1586
         ],
         "yaxis": "y"
        },
        {
         "name": "Norway",
         "type": "scatter",
         "xaxis": "x",
         "y": [
          6,
          15,
          19,
          25,
          32,
          56,
          87,
          108,
          147,
          176,
          205,
          400,
          598,
          702,
          996,
          1090,
          1221,
          1333,
          1463,
          1550,
          1746,
          1914,
          2118,
          2385,
          2621,
          2863,
          3084,
          3369,
          3755,
          4015,
          4284,
          4445,
          4641,
          4863,
          5147,
          5370,
          5550,
          5687,
          5865,
          6086,
          6086,
          6211,
          6314,
          6409,
          6525,
          6603,
          6623,
          6740,
          6896,
          6937,
          7036,
          7078,
          7156,
          7191,
          7338,
          7401,
          7463,
          7499,
          7527,
          7599,
          7660,
          7710,
          7738,
          7783
         ],
         "yaxis": "y"
        },
        {
         "name": "Oman",
         "type": "scatter",
         "xaxis": "x",
         "y": [
          2,
          2,
          4,
          4,
          4,
          6,
          6,
          6,
          12,
          15,
          16,
          16,
          16,
          16,
          16,
          18,
          18,
          18,
          19,
          19,
          22,
          22,
          24,
          39,
          48,
          48,
          52,
          55,
          66,
          84,
          99,
          109,
          131,
          152,
          167,
          179,
          192,
          210,
          231,
          252,
          277,
          298,
          331,
          371,
          419,
          457,
          484,
          546,
          599,
          727,
          813,
          910,
          1019,
          1069,
          1180,
          1266,
          1410,
          1508,
          1614,
          1716,
          1790,
          1905,
          1998,
          2049
         ],
         "yaxis": "y"
        },
        {
         "name": "Pakistan",
         "type": "scatter",
         "xaxis": "x",
         "y": [
          2,
          2,
          2,
          4,
          4,
          4,
          5,
          5,
          5,
          6,
          6,
          6,
          6,
          16,
          19,
          20,
          28,
          31,
          53,
          136,
          236,
          299,
          454,
          501,
          730,
          776,
          875,
          972,
          1063,
          1201,
          1373,
          1495,
          1597,
          1717,
          1938,
          2118,
          2421,
          2686,
          2818,
          3157,
          3766,
          4035,
          4263,
          4489,
          4695,
          5011,
          5230,
          5496,
          5837,
          6383,
          6919,
          7025,
          7638,
          8348,
          8418,
          9565,
          10076,
          11155,
          11940,
          12723,
          13328,
          13915,
          14612,
          15525
         ],
         "yaxis": "y"
        },
        {
         "name": "Panama",
         "type": "scatter",
         "xaxis": "x",
         "y": [
          8,
          11,
          27,
          36,
          43,
          55,
          69,
          86,
          109,
          137,
          200,
          313,
          345,
          345,
          443,
          558,
          674,
          786,
          901,
          989,
          1181,
          1181,
          1317,
          1475,
          1673,
          1801,
          1988,
          2100,
          2249,
          2528,
          2752,
          2974,
          3234,
          3400,
          3472,
          3574,
          3751,
          4016,
          4210,
          4273,
          4467,
          4658,
          4821,
          5166,
          5338,
          5538,
          5779,
          6021,
          6021,
          6378,
          6532,
          6720,
          7090,
          7090,
          7197,
          7523,
          7731,
          7868,
          8070,
          8282,
          8448,
          8616,
          8783,
          8944
         ],
         "yaxis": "y"
        },
        {
         "name": "Papua New Guinea",
         "type": "scatter",
         "xaxis": "x",
         "y": [
          2,
          2,
          2,
          2,
          2,
          2,
          2,
          2,
          2,
          2,
          7,
          7,
          7,
          7,
          7,
          7,
          8,
          8,
          8,
          8,
          8,
          8,
          8,
          8,
          8,
          8,
          8,
          8,
          8,
          8,
          8,
          8,
          8,
          8,
          8,
          8,
          8,
          8
         ],
         "yaxis": "y"
        },
        {
         "name": "Paraguay",
         "type": "scatter",
         "xaxis": "x",
         "y": [
          5,
          5,
          6,
          6,
          6,
          8,
          9,
          11,
          11,
          13,
          18,
          22,
          22,
          27,
          37,
          41,
          52,
          56,
          59,
          64,
          65,
          69,
          77,
          92,
          96,
          104,
          113,
          115,
          119,
          124,
          129,
          133,
          134,
          147,
          159,
          161,
          174,
          199,
          202,
          206,
          208,
          208,
          213,
          213,
          223,
          228,
          228,
          228,
          239,
          239,
          266,
          333,
          370,
          396,
          415,
          431,
          440,
          462,
          563,
          689,
          713,
          724,
          737,
          740
         ],
         "yaxis": "y"
        },
        {
         "name": "Peru",
         "type": "scatter",
         "xaxis": "x",
         "y": [
          6,
          7,
          11,
          11,
          15,
          28,
          38,
          43,
          86,
          117,
          145,
          234,
          234,
          318,
          363,
          395,
          416,
          480,
          580,
          635,
          671,
          852,
          950,
          1065,
          1323,
          1414,
          1595,
          1746,
          2281,
          2561,
          2954,
          4342,
          5256,
          5897,
          6848,
          7519,
          9784,
          10303,
          11475,
          12491,
          13489,
          14420,
          15628,
          16325,
          17837,
          19250,
          20914,
          21648,
          25331,
          27517,
          28699,
          31190,
          33931,
          36976,
          40459,
          42534,
          45928,
          47372,
          51189,
          54817,
          58526,
          61847,
          65015,
          67307
         ],
         "yaxis": "y"
        },
        {
         "name": "Philippines",
         "type": "scatter",
         "xaxis": "x",
         "y": [
          2,
          2,
          2,
          2,
          2,
          3,
          3,
          3,
          3,
          3,
          3,
          3,
          3,
          3,
          3,
          3,
          3,
          3,
          3,
          3,
          3,
          3,
          3,
          3,
          3,
          3,
          3,
          3,
          3,
          3,
          3,
          3,
          3,
          5,
          6,
          10,
          20,
          33,
          49,
          52,
          64,
          111,
          140,
          142,
          187,
          202,
          217,
          230,
          307,
          380,
          462,
          552,
          636,
          707,
          803,
          1075,
          1418,
          1546,
          2084,
          2311,
          2633,
          3018,
          3094,
          3246
         ],
         "yaxis": "y"
        },
        {
         "name": "Poland",
         "type": "scatter",
         "xaxis": "x",
         "y": [
          5,
          5,
          11,
          16,
          22,
          31,
          49,
          68,
          103,
          119,
          177,
          238,
          251,
          355,
          425,
          536,
          634,
          749,
          901,
          1051,
          1221,
          1389,
          1638,
          1862,
          2055,
          2311,
          2554,
          2946,
          3383,
          3627,
          4102,
          4413,
          4848,
          5205,
          5575,
          5955,
          6356,
          6674,
          6934,
          7202,
          7582,
          7918,
          8379,
          8742,
          9287,
          9593,
          9856,
          10169,
          10511,
          10892,
          11273,
          11617,
          11902,
          12218,
          12640,
          12877,
          13105,
          13375,
          13693,
          14006,
          14431,
          14740,
          15047,
          15366
         ],
         "yaxis": "y"
        },
        {
         "name": "Portugal",
         "type": "scatter",
         "xaxis": "x",
         "y": [
          2,
          2,
          5,
          8,
          13,
          20,
          30,
          30,
          41,
          59,
          59,
          112,
          169,
          245,
          331,
          448,
          448,
          785,
          1020,
          1280,
          1600,
          2060,
          2362,
          2995,
          3544,
          4268,
          5170,
          5962,
          6408,
          7443,
          8251,
          9034,
          9886,
          10524,
          11278,
          11730,
          12442,
          13141,
          13956,
          15472,
          15987,
          16585,
          16934,
          17448,
          18091,
          18841,
          19022,
          19685,
          20206,
          20863,
          21379,
          21982,
          22353,
          22797,
          23392,
          23864,
          24027,
          24322,
          24505,
          25045,
          25351,
          25190,
          25282,
          25524
         ],
         "yaxis": "y"
        },
        {
         "name": "Qatar",
         "type": "scatter",
         "xaxis": "x",
         "y": [
          3,
          3,
          7,
          8,
          8,
          8,
          8,
          15,
          18,
          24,
          262,
          262,
          320,
          337,
          401,
          439,
          439,
          452,
          460,
          470,
          481,
          494,
          501,
          526,
          537,
          549,
          562,
          590,
          634,
          693,
          781,
          835,
          949,
          1075,
          1325,
          1604,
          1832,
          2057,
          2210,
          2376,
          2512,
          2728,
          2979,
          3231,
          3428,
          3711,
          4103,
          4663,
          5008,
          5448,
          6015,
          6533,
          7141,
          7764,
          8525,
          9358,
          10287,
          11244,
          11921,
          12564,
          13409,
          14096,
          14872,
          15551
         ],
         "yaxis": "y"
        },
        {
         "name": "Romania",
         "type": "scatter",
         "xaxis": "x",
         "y": [
          3,
          3,
          3,
          3,
          3,
          4,
          6,
          9,
          9,
          15,
          15,
          25,
          45,
          49,
          89,
          123,
          131,
          158,
          184,
          260,
          277,
          308,
          367,
          433,
          576,
          794,
          906,
          1029,
          1292,
          1452,
          1815,
          2109,
          2245,
          2460,
          2738,
          3183,
          3613,
          3864,
          4057,
          4417,
          4761,
          5202,
          5467,
          5990,
          6300,
          6633,
          6879,
          7216,
          7707,
          8067,
          8418,
          8746,
          8936,
          9242,
          9710,
          10096,
          10417,
          10635,
          11036,
          11339,
          11616,
          11978,
          12240,
          12567
         ],
         "yaxis": "y"
        },
        {
         "name": "Russia",
         "type": "scatter",
         "xaxis": "x",
         "y": [
          2,
          2,
          2,
          2,
          2,
          2,
          2,
          2,
          2,
          2,
          2,
          2,
          2,
          2,
          2,
          2,
          2,
          2,
          2,
          2,
          2,
          2,
          2,
          2,
          2,
          2,
          2,
          2,
          2,
          2,
          2,
          3,
          3,
          3,
          4,
          13,
          13,
          17,
          17,
          20,
          20,
          28,
          45,
          59,
          63,
          90,
          114,
          147,
          199,
          253,
          306,
          367,
          438,
          495,
          658,
          840,
          1036,
          1264,
          1534,
          1836,
          2337,
          2777,
          3548,
          4149
         ],
         "yaxis": "y"
        },
        {
         "name": "Rwanda",
         "type": "scatter",
         "xaxis": "x",
         "y": [
          5,
          7,
          8,
          8,
          17,
          17,
          19,
          36,
          40,
          41,
          50,
          54,
          60,
          70,
          70,
          75,
          82,
          84,
          89,
          102,
          104,
          105,
          105,
          110,
          110,
          118,
          120,
          126,
          127,
          134,
          136,
          138,
          143,
          144,
          147,
          147,
          150,
          153,
          154,
          176,
          183,
          191,
          207,
          212,
          225,
          243,
          249,
          255,
          259,
          261,
          261,
          268,
          271,
          273,
          280,
          284,
          285,
          286,
          287
         ],
         "yaxis": "y"
        },
        {
         "name": "Saint Kitts and Nevis",
         "type": "scatter",
         "xaxis": "x",
         "y": [
          2,
          2,
          2,
          2,
          2,
          7,
          8,
          8,
          9,
          9,
          9,
          10,
          10,
          11,
          11,
          11,
          12,
          12,
          12,
          12,
          14,
          14,
          14,
          14,
          14,
          14,
          15,
          15,
          15,
          15,
          15,
          15,
          15,
          15,
          15,
          15,
          15,
          15,
          15,
          15,
          15,
          15,
          15,
          15,
          15,
          15,
          15,
          15,
          15,
          15
         ],
         "yaxis": "y"
        },
        {
         "name": "Saint Lucia",
         "type": "scatter",
         "xaxis": "x",
         "y": [
          2,
          2,
          2,
          2,
          2,
          2,
          2,
          2,
          3,
          3,
          3,
          3,
          3,
          3,
          9,
          9,
          13,
          13,
          13,
          13,
          14,
          14,
          14,
          14,
          14,
          14,
          15,
          15,
          15,
          15,
          15,
          15,
          15,
          15,
          15,
          15,
          15,
          15,
          15,
          15,
          15,
          15,
          15,
          15,
          15,
          17,
          17,
          17,
          17,
          18,
          18,
          18,
          18,
          18,
          18,
          18,
          18,
          18,
          18,
          18
         ],
         "yaxis": "y"
        },
        {
         "name": "Saint Vincent and the Grenadines",
         "type": "scatter",
         "xaxis": "x",
         "y": [
          2,
          3,
          7,
          7,
          7,
          8,
          8,
          12,
          12,
          12,
          12,
          12,
          12,
          12,
          12,
          12,
          12,
          12,
          12,
          12,
          13,
          13,
          14,
          14,
          14,
          15,
          15,
          16,
          16,
          16,
          16,
          16,
          17,
          17,
          17,
          17,
          17,
          17,
          17,
          17,
          17,
          17
         ],
         "yaxis": "y"
        },
        {
         "name": "San Marino",
         "type": "scatter",
         "xaxis": "x",
         "y": [
          8,
          10,
          16,
          21,
          21,
          23,
          36,
          36,
          51,
          62,
          69,
          80,
          80,
          101,
          109,
          109,
          119,
          119,
          144,
          144,
          175,
          187,
          187,
          208,
          208,
          223,
          224,
          224,
          230,
          236,
          236,
          245,
          245,
          259,
          266,
          266,
          279,
          279,
          333,
          344,
          356,
          356,
          356,
          371,
          372,
          426,
          435,
          455,
          461,
          462,
          476,
          488,
          501,
          513,
          513,
          538,
          538,
          553,
          563,
          569,
          580,
          580,
          582,
          582
         ],
         "yaxis": "y"
        },
        {
         "name": "Sao Tome and Principe",
         "type": "scatter",
         "xaxis": "x",
         "y": [
          4,
          4,
          4,
          4,
          4,
          4,
          4,
          4,
          4,
          4,
          4,
          4,
          4,
          4,
          4,
          4,
          4,
          4,
          4,
          4,
          4,
          4,
          8,
          8,
          14,
          16,
          16,
          16,
          23,
          174,
          174,
          187,
          208,
          208,
          208,
          208,
          208,
          220
         ],
         "yaxis": "y"
        },
        {
         "name": "Saudi Arabia",
         "type": "scatter",
         "xaxis": "x",
         "y": [
          5,
          5,
          5,
          11,
          15,
          20,
          21,
          45,
          86,
          103,
          103,
          118,
          171,
          171,
          274,
          344,
          392,
          511,
          562,
          767,
          900,
          1012,
          1104,
          1203,
          1299,
          1453,
          1563,
          1720,
          1885,
          2039,
          2179,
          2402,
          2605,
          2795,
          2932,
          3287,
          3651,
          4033,
          4462,
          4934,
          5369,
          5862,
          6380,
          7142,
          8274,
          9362,
          10484,
          11631,
          12772,
          13930,
          15102,
          16299,
          17522,
          18811,
          20077,
          21402,
          22753,
          24097,
          25459,
          27011,
          28656,
          30251,
          31938,
          33731
         ],
         "yaxis": "y"
        },
        {
         "name": "Senegal",
         "type": "scatter",
         "xaxis": "x",
         "y": [
          2,
          4,
          4,
          4,
          4,
          4,
          4,
          4,
          4,
          4,
          10,
          10,
          24,
          24,
          26,
          31,
          31,
          38,
          47,
          67,
          79,
          86,
          99,
          105,
          119,
          130,
          142,
          162,
          175,
          190,
          195,
          207,
          219,
          222,
          226,
          237,
          244,
          250,
          265,
          278,
          280,
          291,
          299,
          314,
          335,
          342,
          350,
          367,
          377,
          412,
          442,
          479,
          545,
          614,
          671,
          736,
          823,
          882,
          933,
          1024,
          1115,
          1182,
          1271,
          1329
         ],
         "yaxis": "y"
        },
        {
         "name": "Serbia",
         "type": "scatter",
         "xaxis": "x",
         "y": [
          5,
          12,
          19,
          35,
          46,
          48,
          55,
          65,
          83,
          103,
          135,
          171,
          222,
          249,
          303,
          384,
          384,
          457,
          659,
          741,
          785,
          900,
          1060,
          1171,
          1476,
          1624,
          1908,
          2200,
          2447,
          2666,
          2867,
          3105,
          3380,
          3630,
          4054,
          4465,
          4873,
          5318,
          5690,
          5994,
          6318,
          6630,
          6890,
          7144,
          7276,
          7483,
          7779,
          8042,
          8275,
          8497,
          8724,
          9009,
          9009,
          9362,
          9464,
          9557,
          9677,
          9791,
          9848,
          9943,
          10032,
          10032,
          10176,
          10243
         ],
         "yaxis": "y"
        },
        {
         "name": "Seychelles",
         "type": "scatter",
         "xaxis": "x",
         "y": [
          2,
          2,
          3,
          4,
          4,
          6,
          7,
          7,
          7,
          7,
          7,
          7,
          7,
          7,
          8,
          8,
          8,
          10,
          10,
          10,
          10,
          10,
          10,
          11,
          11,
          11,
          11,
          11,
          11,
          11,
          11,
          11,
          11,
          11,
          11,
          11,
          11,
          11,
          11,
          11,
          11,
          11,
          11,
          11,
          11,
          11,
          11,
          11,
          11,
          11,
          11,
          11,
          11,
          11,
          11,
          11,
          11,
          11,
          11,
          11,
          11
         ],
         "yaxis": "y"
        },
        {
         "name": "Sierra Leone",
         "type": "scatter",
         "xaxis": "x",
         "y": [
          2,
          2,
          2,
          4,
          6,
          6,
          6,
          7,
          7,
          8,
          8,
          10,
          10,
          11,
          13,
          15,
          26,
          30,
          35,
          43,
          50,
          61,
          64,
          82,
          82,
          93,
          93,
          104,
          104,
          124,
          136,
          155,
          166,
          178,
          199,
          225,
          231,
          257,
          291,
          307,
          338,
          338,
          387
         ],
         "yaxis": "y"
        },
        {
         "name": "Singapore",
         "type": "scatter",
         "xaxis": "x",
         "y": [
          3,
          3,
          4,
          5,
          7,
          7,
          10,
          13,
          16,
          18,
          18,
          24,
          28,
          28,
          30,
          33,
          40,
          45,
          47,
          50,
          58,
          67,
          72,
          75,
          77,
          81,
          84,
          84,
          85,
          85,
          89,
          89,
          91,
          93,
          93,
          93,
          102,
          106,
          108,
          110,
          110,
          117,
          130,
          138,
          150,
          150,
          160,
          178,
          178,
          200,
          212,
          226,
          243,
          266,
          313,
          345,
          385,
          432,
          455,
          509,
          558,
          631,
          683,
          732
         ],
         "yaxis": "y"
        },
        {
         "name": "Slovakia",
         "type": "scatter",
         "xaxis": "x",
         "y": [
          3,
          3,
          7,
          10,
          16,
          32,
          44,
          54,
          63,
          72,
          105,
          123,
          137,
          178,
          185,
          186,
          204,
          216,
          226,
          269,
          292,
          314,
          336,
          363,
          400,
          426,
          450,
          471,
          485,
          534,
          581,
          682,
          701,
          715,
          728,
          742,
          769,
          835,
          863,
          977,
          1049,
          1089,
          1161,
          1173,
          1199,
          1244,
          1325,
          1360,
          1373,
          1379,
          1381,
          1384,
          1391,
          1396,
          1403,
          1407,
          1408,
          1413,
          1421,
          1429,
          1445,
          1455,
          1455,
          1457
         ],
         "yaxis": "y"
        },
        {
         "name": "Slovenia",
         "type": "scatter",
         "xaxis": "x",
         "y": [
          2,
          7,
          7,
          16,
          16,
          31,
          57,
          89,
          141,
          181,
          219,
          253,
          275,
          275,
          286,
          341,
          383,
          414,
          442,
          480,
          528,
          562,
          632,
          684,
          730,
          756,
          802,
          841,
          897,
          934,
          977,
          997,
          1021,
          1059,
          1091,
          1124,
          1160,
          1188,
          1205,
          1212,
          1220,
          1248,
          1268,
          1304,
          1317,
          1330,
          1335,
          1344,
          1353,
          1366,
          1373,
          1388,
          1396,
          1402,
          1408,
          1418,
          1429,
          1434,
          1439,
          1439,
          1439,
          1445,
          1448,
          1449
         ],
         "yaxis": "y"
        },
        {
         "name": "Somalia",
         "type": "scatter",
         "xaxis": "x",
         "y": [
          2,
          3,
          3,
          3,
          3,
          5,
          5,
          5,
          7,
          7,
          7,
          7,
          8,
          12,
          12,
          21,
          21,
          25,
          60,
          60,
          80,
          80,
          116,
          135,
          164,
          237,
          286,
          286,
          328,
          328,
          390,
          436,
          480,
          528,
          582,
          601,
          601,
          671,
          722,
          756,
          835,
          873,
          928,
          928,
          997,
          1054,
          1089,
          1170,
          1219
         ],
         "yaxis": "y"
        },
        {
         "name": "South Africa",
         "type": "scatter",
         "xaxis": "x",
         "y": [
          3,
          3,
          7,
          13,
          17,
          24,
          38,
          51,
          62,
          62,
          116,
          150,
          202,
          240,
          274,
          402,
          554,
          709,
          927,
          1170,
          1187,
          1280,
          1326,
          1353,
          1380,
          1462,
          1505,
          1585,
          1655,
          1686,
          1749,
          1845,
          1934,
          2003,
          2028,
          2173,
          2272,
          2415,
          2506,
          2605,
          2783,
          3034,
          3158,
          3300,
          3465,
          3635,
          3953,
          4220,
          4361,
          4546,
          4793,
          4996,
          5350,
          5647,
          5951,
          6336,
          6783,
          7220,
          7572,
          7808,
          8232,
          8895,
          9420,
          10015
         ],
         "yaxis": "y"
        },
        {
         "name": "South Sudan",
         "type": "scatter",
         "xaxis": "x",
         "y": [
          2,
          2,
          3,
          4,
          4,
          4,
          4,
          4,
          4,
          4,
          4,
          4,
          4,
          4,
          4,
          4,
          5,
          5,
          5,
          6,
          6,
          34,
          34,
          35,
          45,
          45,
          46,
          46,
          52,
          58,
          74,
          120,
          120,
          120,
          156,
          194,
          203
         ],
         "yaxis": "y"
        },
        {
         "name": "Spain",
         "type": "scatter",
         "xaxis": "x",
         "y": [
          2,
          2,
          2,
          2,
          2,
          2,
          2,
          2,
          2,
          2,
          2,
          2,
          2,
          2,
          2,
          2,
          6,
          13,
          15,
          32,
          45,
          84,
          120,
          165,
          222,
          259,
          400,
          500,
          673,
          1073,
          1695,
          2277,
          2277,
          5232,
          6391,
          7798,
          9942,
          11748,
          13910,
          17963,
          20410,
          25374,
          28768,
          35136,
          39885,
          49515,
          57786,
          65719,
          73235,
          80110,
          87956,
          95923,
          104118,
          112065,
          119199,
          126168,
          131646,
          136675,
          141942,
          148220,
          153222,
          158273,
          163027,
          166831
         ],
         "yaxis": "y"
        },
        {
         "name": "Sri Lanka",
         "type": "scatter",
         "xaxis": "x",
         "y": [
          2,
          2,
          6,
          10,
          18,
          28,
          44,
          51,
          60,
          73,
          77,
          82,
          97,
          102,
          102,
          106,
          106,
          113,
          117,
          122,
          143,
          146,
          151,
          159,
          166,
          176,
          178,
          185,
          189,
          190,
          190,
          198,
          210,
          217,
          233,
          238,
          238,
          244,
          254,
          271,
          304,
          310,
          330,
          368,
          420,
          460,
          523,
          588,
          619,
          649,
          663,
          690,
          705,
          718,
          751,
          771,
          797,
          824,
          835,
          847,
          863,
          869,
          889,
          915
         ],
         "yaxis": "y"
        },
        {
         "name": "Sudan",
         "type": "scatter",
         "xaxis": "x",
         "y": [
          2,
          2,
          2,
          2,
          2,
          2,
          3,
          3,
          3,
          3,
          5,
          6,
          6,
          7,
          7,
          8,
          10,
          10,
          12,
          12,
          14,
          14,
          15,
          17,
          19,
          19,
          29,
          32,
          32,
          32,
          33,
          66,
          66,
          107,
          107,
          140,
          174,
          174,
          213,
          237,
          275,
          318,
          375,
          442,
          533,
          592,
          592,
          678,
          778,
          852,
          930,
          1111,
          1164,
          1365,
          1526,
          1661,
          1818
         ],
         "yaxis": "y"
        },
        {
         "name": "Suriname",
         "type": "scatter",
         "xaxis": "x",
         "y": [
          4,
          4,
          5,
          5,
          7,
          8,
          8,
          8,
          8,
          8,
          8,
          9,
          10,
          10,
          10,
          10,
          10,
          10,
          10,
          10,
          10,
          10,
          10,
          10,
          10,
          10,
          10,
          10,
          10,
          10,
          10,
          10,
          10,
          10,
          10,
          10,
          10,
          10,
          10,
          10,
          10,
          10,
          10,
          10,
          10,
          10,
          10,
          10,
          10,
          10,
          10,
          10,
          10,
          10,
          10
         ],
         "yaxis": "y"
        },
        {
         "name": "Sweden",
         "type": "scatter",
         "xaxis": "x",
         "y": [
          2,
          7,
          7,
          12,
          14,
          15,
          21,
          35,
          94,
          101,
          161,
          203,
          248,
          355,
          500,
          599,
          814,
          961,
          1022,
          1103,
          1190,
          1279,
          1439,
          1639,
          1763,
          1934,
          2046,
          2286,
          2526,
          2840,
          3069,
          3447,
          3700,
          4028,
          4435,
          4947,
          5568,
          6131,
          6443,
          6830,
          7206,
          7693,
          8419,
          9141,
          9685,
          10151,
          10483,
          10948,
          11445,
          11927,
          12540,
          13216,
          13822,
          14385,
          14777,
          15322,
          16004,
          16755,
          17567,
          18177,
          18640,
          18926,
          19621,
          20302
         ],
         "yaxis": "y"
        },
        {
         "name": "Switzerland",
         "type": "scatter",
         "xaxis": "x",
         "y": [
          8,
          8,
          18,
          27,
          42,
          56,
          90,
          114,
          214,
          268,
          337,
          374,
          491,
          652,
          652,
          1139,
          1359,
          2200,
          2200,
          2700,
          3028,
          4075,
          5294,
          6575,
          7474,
          8795,
          9877,
          10897,
          11811,
          12928,
          14076,
          14829,
          15922,
          16605,
          17768,
          18827,
          19606,
          20505,
          21100,
          21657,
          22253,
          23280,
          24051,
          24551,
          25107,
          25415,
          25688,
          25936,
          26336,
          26732,
          27078,
          27404,
          27740,
          27944,
          28063,
          28268,
          28496,
          28677,
          28894,
          29061,
          29164,
          29264,
          29407,
          29586
         ],
         "yaxis": "y"
        },
        {
         "name": "Syria",
         "type": "scatter",
         "xaxis": "x",
         "y": [
          5,
          5,
          5,
          5,
          9,
          10,
          10,
          10,
          16,
          16,
          16,
          19,
          19,
          19,
          19,
          19,
          19,
          25,
          25,
          25,
          29,
          33,
          33,
          38,
          38,
          39,
          39,
          42,
          42,
          42,
          42,
          42,
          43,
          43,
          43,
          43,
          43,
          44,
          44,
          44,
          44,
          44,
          45,
          45,
          47,
          47,
          47,
          47,
          47,
          48
         ],
         "yaxis": "y"
        },
        {
         "name": "Taiwan*",
         "type": "scatter",
         "xaxis": "x",
         "y": [
          3,
          3,
          4,
          5,
          8,
          8,
          9,
          10,
          10,
          10,
          10,
          11,
          11,
          16,
          16,
          17,
          18,
          18,
          18,
          18,
          18,
          18,
          18,
          20,
          22,
          22,
          23,
          24,
          26,
          26,
          28,
          30,
          31,
          32,
          32,
          34,
          39,
          40,
          41,
          42,
          42,
          44,
          45,
          45,
          45,
          45,
          47,
          48,
          49,
          50,
          53,
          59,
          67,
          77,
          100,
          108,
          135,
          153,
          169,
          195,
          215,
          235,
          252,
          267
         ],
         "yaxis": "y"
        },
        {
         "name": "Tanzania",
         "type": "scatter",
         "xaxis": "x",
         "y": [
          3,
          6,
          6,
          6,
          12,
          12,
          12,
          12,
          13,
          13,
          14,
          14,
          19,
          19,
          20,
          20,
          20,
          20,
          22,
          24,
          24,
          25,
          25,
          32,
          32,
          32,
          49,
          53,
          88,
          94,
          147,
          147,
          170,
          254,
          254,
          284,
          284,
          299,
          299,
          299,
          299,
          299,
          480,
          480,
          480,
          480,
          480,
          480,
          480,
          480,
          480,
          509,
          509,
          509,
          509,
          509,
          509
         ],
         "yaxis": "y"
        },
        {
         "name": "Thailand",
         "type": "scatter",
         "xaxis": "x",
         "y": [
          3,
          5,
          7,
          8,
          8,
          14,
          14,
          14,
          19,
          19,
          19,
          19,
          25,
          25,
          25,
          25,
          32,
          32,
          32,
          33,
          33,
          33,
          33,
          33,
          34,
          35,
          35,
          35,
          35,
          35,
          35,
          35,
          35,
          37,
          40,
          40,
          41,
          42,
          42,
          43,
          43,
          43,
          47,
          48,
          50,
          50,
          50,
          53,
          59,
          70,
          75,
          82,
          114,
          147,
          177,
          212,
          272,
          322,
          411,
          599,
          721,
          827,
          934,
          1045
         ],
         "yaxis": "y"
        },
        {
         "name": "Timor-Leste",
         "type": "scatter",
         "xaxis": "x",
         "y": [
          2,
          2,
          2,
          4,
          6,
          8,
          18,
          18,
          18,
          19,
          22,
          23,
          23,
          23,
          24,
          24,
          24,
          24,
          24,
          24,
          24,
          24,
          24,
          24,
          24,
          24,
          24,
          24,
          24,
          24,
          24,
          24,
          24,
          24
         ],
         "yaxis": "y"
        },
        {
         "name": "Togo",
         "type": "scatter",
         "xaxis": "x",
         "y": [
          9,
          16,
          16,
          18,
          20,
          23,
          23,
          25,
          25,
          25,
          30,
          34,
          36,
          39,
          40,
          41,
          44,
          58,
          65,
          70,
          73,
          76,
          76,
          76,
          77,
          77,
          81,
          81,
          83,
          84,
          84,
          84,
          86,
          88,
          88,
          90,
          96,
          98,
          98,
          99,
          109,
          116,
          123,
          123,
          124,
          126,
          128,
          128,
          135,
          145,
          153,
          174,
          181,
          199,
          219
         ],
         "yaxis": "y"
        },
        {
         "name": "Trinidad and Tobago",
         "type": "scatter",
         "xaxis": "x",
         "y": [
          2,
          2,
          4,
          5,
          7,
          9,
          9,
          49,
          50,
          51,
          57,
          60,
          65,
          66,
          74,
          78,
          82,
          87,
          90,
          94,
          98,
          103,
          104,
          105,
          107,
          107,
          109,
          109,
          112,
          113,
          113,
          113,
          114,
          114,
          114,
          114,
          114,
          114,
          115,
          115,
          115,
          115,
          115,
          115,
          116,
          116,
          116,
          116,
          116,
          116,
          116,
          116,
          116,
          116,
          116,
          116,
          116,
          116,
          116,
          116,
          116
         ],
         "yaxis": "y"
        },
        {
         "name": "Tunisia",
         "type": "scatter",
         "xaxis": "x",
         "y": [
          2,
          2,
          5,
          7,
          7,
          16,
          18,
          18,
          20,
          24,
          29,
          39,
          54,
          60,
          75,
          89,
          114,
          173,
          197,
          227,
          278,
          312,
          312,
          394,
          423,
          455,
          495,
          553,
          574,
          596,
          623,
          628,
          643,
          671,
          685,
          707,
          726,
          747,
          780,
          822,
          864,
          864,
          879,
          884,
          884,
          909,
          918,
          922,
          939,
          949,
          967,
          975,
          980,
          994,
          998,
          1009,
          1013,
          1018,
          1022,
          1025,
          1026,
          1030,
          1032,
          1032
         ],
         "yaxis": "y"
        },
        {
         "name": "Turkey",
         "type": "scatter",
         "xaxis": "x",
         "y": [
          5,
          5,
          6,
          18,
          47,
          98,
          192,
          359,
          670,
          1236,
          1529,
          1872,
          2433,
          3629,
          5698,
          7402,
          9217,
          10827,
          13531,
          15679,
          18135,
          20921,
          23934,
          27069,
          30217,
          34109,
          38226,
          42282,
          47029,
          52167,
          56956,
          61049,
          65111,
          69392,
          74193,
          78546,
          82329,
          86306,
          90980,
          95591,
          98674,
          101790,
          104912,
          107773,
          110130,
          112261,
          114653,
          117589,
          120204,
          122392,
          124375,
          126045,
          127659,
          129491,
          131744,
          133721,
          135569,
          137115,
          138657,
          139771,
          141475,
          143114
         ],
         "yaxis": "y"
        },
        {
         "name": "US",
         "type": "scatter",
         "xaxis": "x",
         "y": [
          5,
          6,
          12,
          29,
          39,
          46,
          78,
          83,
          131,
          157,
          196,
          242,
          381,
          517,
          587,
          694,
          825,
          899,
          987,
          1060,
          1233,
          1495,
          1614,
          1765,
          1952,
          2169,
          2328,
          2703,
          2947,
          3217,
          3563,
          3734,
          3953,
          4075,
          4345,
          4571,
          4712,
          4888,
          5079,
          5317,
          5593,
          5832,
          6026,
          6026,
          6421,
          6539,
          6750,
          6912,
          7088,
          7294,
          7611,
          7888,
          8112,
          8437,
          8691,
          9046,
          9385,
          9668,
          9889,
          10164,
          10464,
          10700,
          0,
          0
         ],
         "yaxis": "y"
        },
        {
         "name": "Uganda",
         "type": "scatter",
         "xaxis": "x",
         "y": [
          9,
          9,
          14,
          14,
          23,
          30,
          33,
          33,
          44,
          44,
          45,
          48,
          48,
          52,
          52,
          52,
          53,
          53,
          53,
          53,
          54,
          54,
          55,
          55,
          55,
          56,
          55,
          55,
          56,
          61,
          63,
          74,
          75,
          75,
          79,
          79,
          79,
          81,
          83,
          85,
          88,
          89,
          97,
          98,
          100,
          101,
          101,
          116,
          121,
          121,
          129,
          139
         ],
         "yaxis": "y"
        },
        {
         "name": "Ukraine",
         "type": "scatter",
         "xaxis": "x",
         "y": [
          3,
          3,
          3,
          7,
          14,
          14,
          16,
          29,
          47,
          73,
          73,
          97,
          145,
          196,
          310,
          356,
          475,
          548,
          645,
          794,
          897,
          1072,
          1225,
          1308,
          1319,
          1462,
          1668,
          1892,
          2203,
          2511,
          2777,
          3102,
          3372,
          3764,
          4161,
          4662,
          5106,
          5449,
          5710,
          6125,
          6592,
          7170,
          7647,
          8125,
          8617,
          9009,
          9410,
          9866,
          10406,
          10861,
          11411,
          11913,
          12331,
          12697,
          13184,
          13691,
          14195,
          14710,
          15232,
          15648,
          16023,
          16425
         ],
         "yaxis": "y"
        },
        {
         "name": "United Arab Emirates",
         "type": "scatter",
         "xaxis": "x",
         "y": [
          4,
          4,
          4,
          4,
          5,
          5,
          5,
          5,
          5,
          5,
          7,
          7,
          8,
          8,
          8,
          8,
          8,
          8,
          9,
          9,
          9,
          9,
          9,
          9,
          13,
          13,
          13,
          13,
          13,
          13,
          19,
          21,
          21,
          21,
          27,
          27,
          29,
          29,
          45,
          45,
          45,
          74,
          74,
          85,
          85,
          85,
          98,
          98,
          98,
          113,
          140,
          140,
          153,
          153,
          198,
          248,
          333,
          333,
          405,
          468,
          570,
          611,
          664,
          814
         ],
         "yaxis": "y"
        },
        {
         "name": "United Kingdom",
         "type": "scatter",
         "xaxis": "x",
         "y": [
          2,
          2,
          2,
          2,
          2,
          3,
          3,
          3,
          3,
          3,
          3,
          3,
          3,
          3,
          3,
          3,
          3,
          3,
          3,
          3,
          3,
          3,
          3,
          3,
          3,
          3,
          3,
          3,
          3,
          3,
          3,
          3,
          3,
          3,
          3,
          3,
          3,
          3,
          3,
          3,
          3,
          3,
          3,
          3,
          3,
          3,
          3,
          0,
          0,
          0,
          0,
          0,
          0,
          0,
          0,
          0,
          0,
          0,
          0,
          0,
          0,
          0,
          0,
          0
         ],
         "yaxis": "y"
        },
        {
         "name": "Uruguay",
         "type": "scatter",
         "xaxis": "x",
         "y": [
          4,
          6,
          8,
          29,
          50,
          79,
          94,
          110,
          135,
          158,
          162,
          189,
          217,
          238,
          274,
          303,
          309,
          320,
          338,
          350,
          369,
          386,
          400,
          406,
          415,
          424,
          456,
          473,
          494,
          501,
          480,
          483,
          492,
          493,
          502,
          508,
          517,
          528,
          535,
          543,
          549,
          557,
          563,
          596,
          606,
          620,
          625,
          630,
          643,
          648,
          652,
          655,
          657,
          670,
          673,
          684,
          694,
          702,
          707,
          711,
          717,
          719
         ],
         "yaxis": "y"
        },
        {
         "name": "Uzbekistan",
         "type": "scatter",
         "xaxis": "x",
         "y": [
          6,
          10,
          15,
          23,
          33,
          43,
          43,
          46,
          50,
          60,
          75,
          88,
          104,
          144,
          149,
          172,
          181,
          205,
          227,
          266,
          342,
          457,
          520,
          545,
          582,
          624,
          767,
          865,
          998,
          1165,
          1302,
          1349,
          1405,
          1490,
          1565,
          1627,
          1678,
          1716,
          1758,
          1804,
          1862,
          1869,
          1904,
          1939,
          2002,
          2039,
          2086,
          2118,
          2149,
          2189,
          2207,
          2233,
          2298,
          2325,
          2349,
          2418,
          2486,
          2519,
          2612
         ],
         "yaxis": "y"
        },
        {
         "name": "Venezuela",
         "type": "scatter",
         "xaxis": "x",
         "y": [
          2,
          10,
          17,
          33,
          36,
          42,
          42,
          70,
          70,
          77,
          84,
          91,
          107,
          107,
          119,
          119,
          135,
          135,
          143,
          146,
          153,
          155,
          159,
          165,
          165,
          167,
          171,
          171,
          175,
          181,
          189,
          189,
          197,
          204,
          204,
          227,
          256,
          256,
          285,
          288,
          311,
          318,
          323,
          325,
          329,
          329,
          331,
          333,
          335,
          345,
          357,
          357,
          361,
          379,
          381,
          388,
          402,
          414,
          422,
          423,
          423
         ],
         "yaxis": "y"
        },
        {
         "name": "Vietnam",
         "type": "scatter",
         "xaxis": "x",
         "y": [
          2,
          2,
          2,
          2,
          2,
          2,
          2,
          2,
          2,
          6,
          6,
          8,
          8,
          8,
          10,
          10,
          13,
          13,
          14,
          15,
          15,
          16,
          16,
          16,
          16,
          16,
          16,
          16,
          16,
          16,
          16,
          16,
          16,
          16,
          16,
          16,
          16,
          16,
          16,
          16,
          16,
          16,
          16,
          16,
          18,
          30,
          30,
          31,
          38,
          39,
          47,
          53,
          56,
          61,
          66,
          75,
          85,
          91,
          94,
          113,
          123,
          134,
          141,
          153
         ],
         "yaxis": "y"
        },
        {
         "name": "West Bank and Gaza",
         "type": "scatter",
         "xaxis": "x",
         "y": [
          4,
          7,
          16,
          16,
          19,
          26,
          30,
          30,
          31,
          35,
          38,
          38,
          39,
          41,
          44,
          47,
          48,
          52,
          59,
          59,
          59,
          84,
          91,
          98,
          109,
          116,
          119,
          134,
          161,
          194,
          217,
          237,
          254,
          261,
          263,
          263,
          267,
          268,
          271,
          273,
          284,
          291,
          294,
          307,
          313,
          319,
          329,
          329,
          335,
          336,
          340,
          342,
          342,
          342,
          343,
          344,
          344,
          353,
          353,
          353,
          362,
          371,
          374,
          375
         ],
         "yaxis": "y"
        },
        {
         "name": "Western Sahara",
         "type": "scatter",
         "xaxis": "x",
         "y": [
          4,
          4,
          4,
          4,
          4,
          4,
          4,
          6,
          6,
          6,
          6,
          6,
          6,
          6,
          6,
          6,
          6,
          6,
          6,
          6,
          6,
          6,
          6,
          6,
          6,
          6,
          6,
          6,
          6,
          6,
          6,
          6,
          6,
          6,
          6,
          6,
          6,
          6,
          6
         ],
         "yaxis": "y"
        },
        {
         "name": "Zambia",
         "type": "scatter",
         "xaxis": "x",
         "y": [
          2,
          2,
          2,
          2,
          3,
          3,
          3,
          12,
          16,
          22,
          28,
          29,
          35,
          35,
          36,
          39,
          39,
          39,
          39,
          39,
          39,
          39,
          39,
          40,
          40,
          43,
          45,
          45,
          48,
          48,
          52,
          57,
          61,
          65,
          70,
          74,
          76,
          84,
          84,
          88,
          88,
          95,
          97,
          106,
          109,
          119,
          124,
          137,
          138,
          146,
          153,
          167,
          252,
          267,
          267,
          441,
          446
         ],
         "yaxis": "y"
        },
        {
         "name": "Zimbabwe",
         "type": "scatter",
         "xaxis": "x",
         "y": [
          3,
          3,
          3,
          3,
          3,
          3,
          5,
          7,
          7,
          7,
          8,
          8,
          9,
          9,
          9,
          9,
          10,
          11,
          11,
          11,
          13,
          14,
          14,
          17,
          17,
          23,
          23,
          24,
          25,
          25,
          25,
          28,
          28,
          28,
          29,
          31,
          31,
          32,
          32,
          32,
          40,
          40,
          34,
          34,
          34,
          34,
          34,
          34,
          34,
          35,
          36,
          36,
          36,
          37
         ],
         "yaxis": "y"
        }
       ],
       "layout": {
        "template": {
         "data": {
          "bar": [
           {
            "error_x": {
             "color": "#2a3f5f"
            },
            "error_y": {
             "color": "#2a3f5f"
            },
            "marker": {
             "line": {
              "color": "#E5ECF6",
              "width": 0.5
             }
            },
            "type": "bar"
           }
          ],
          "barpolar": [
           {
            "marker": {
             "line": {
              "color": "#E5ECF6",
              "width": 0.5
             }
            },
            "type": "barpolar"
           }
          ],
          "carpet": [
           {
            "aaxis": {
             "endlinecolor": "#2a3f5f",
             "gridcolor": "white",
             "linecolor": "white",
             "minorgridcolor": "white",
             "startlinecolor": "#2a3f5f"
            },
            "baxis": {
             "endlinecolor": "#2a3f5f",
             "gridcolor": "white",
             "linecolor": "white",
             "minorgridcolor": "white",
             "startlinecolor": "#2a3f5f"
            },
            "type": "carpet"
           }
          ],
          "choropleth": [
           {
            "colorbar": {
             "outlinewidth": 0,
             "ticks": ""
            },
            "type": "choropleth"
           }
          ],
          "contour": [
           {
            "colorbar": {
             "outlinewidth": 0,
             "ticks": ""
            },
            "colorscale": [
             [
              0,
              "#0d0887"
             ],
             [
              0.1111111111111111,
              "#46039f"
             ],
             [
              0.2222222222222222,
              "#7201a8"
             ],
             [
              0.3333333333333333,
              "#9c179e"
             ],
             [
              0.4444444444444444,
              "#bd3786"
             ],
             [
              0.5555555555555556,
              "#d8576b"
             ],
             [
              0.6666666666666666,
              "#ed7953"
             ],
             [
              0.7777777777777778,
              "#fb9f3a"
             ],
             [
              0.8888888888888888,
              "#fdca26"
             ],
             [
              1,
              "#f0f921"
             ]
            ],
            "type": "contour"
           }
          ],
          "contourcarpet": [
           {
            "colorbar": {
             "outlinewidth": 0,
             "ticks": ""
            },
            "type": "contourcarpet"
           }
          ],
          "heatmap": [
           {
            "colorbar": {
             "outlinewidth": 0,
             "ticks": ""
            },
            "colorscale": [
             [
              0,
              "#0d0887"
             ],
             [
              0.1111111111111111,
              "#46039f"
             ],
             [
              0.2222222222222222,
              "#7201a8"
             ],
             [
              0.3333333333333333,
              "#9c179e"
             ],
             [
              0.4444444444444444,
              "#bd3786"
             ],
             [
              0.5555555555555556,
              "#d8576b"
             ],
             [
              0.6666666666666666,
              "#ed7953"
             ],
             [
              0.7777777777777778,
              "#fb9f3a"
             ],
             [
              0.8888888888888888,
              "#fdca26"
             ],
             [
              1,
              "#f0f921"
             ]
            ],
            "type": "heatmap"
           }
          ],
          "heatmapgl": [
           {
            "colorbar": {
             "outlinewidth": 0,
             "ticks": ""
            },
            "colorscale": [
             [
              0,
              "#0d0887"
             ],
             [
              0.1111111111111111,
              "#46039f"
             ],
             [
              0.2222222222222222,
              "#7201a8"
             ],
             [
              0.3333333333333333,
              "#9c179e"
             ],
             [
              0.4444444444444444,
              "#bd3786"
             ],
             [
              0.5555555555555556,
              "#d8576b"
             ],
             [
              0.6666666666666666,
              "#ed7953"
             ],
             [
              0.7777777777777778,
              "#fb9f3a"
             ],
             [
              0.8888888888888888,
              "#fdca26"
             ],
             [
              1,
              "#f0f921"
             ]
            ],
            "type": "heatmapgl"
           }
          ],
          "histogram": [
           {
            "marker": {
             "colorbar": {
              "outlinewidth": 0,
              "ticks": ""
             }
            },
            "type": "histogram"
           }
          ],
          "histogram2d": [
           {
            "colorbar": {
             "outlinewidth": 0,
             "ticks": ""
            },
            "colorscale": [
             [
              0,
              "#0d0887"
             ],
             [
              0.1111111111111111,
              "#46039f"
             ],
             [
              0.2222222222222222,
              "#7201a8"
             ],
             [
              0.3333333333333333,
              "#9c179e"
             ],
             [
              0.4444444444444444,
              "#bd3786"
             ],
             [
              0.5555555555555556,
              "#d8576b"
             ],
             [
              0.6666666666666666,
              "#ed7953"
             ],
             [
              0.7777777777777778,
              "#fb9f3a"
             ],
             [
              0.8888888888888888,
              "#fdca26"
             ],
             [
              1,
              "#f0f921"
             ]
            ],
            "type": "histogram2d"
           }
          ],
          "histogram2dcontour": [
           {
            "colorbar": {
             "outlinewidth": 0,
             "ticks": ""
            },
            "colorscale": [
             [
              0,
              "#0d0887"
             ],
             [
              0.1111111111111111,
              "#46039f"
             ],
             [
              0.2222222222222222,
              "#7201a8"
             ],
             [
              0.3333333333333333,
              "#9c179e"
             ],
             [
              0.4444444444444444,
              "#bd3786"
             ],
             [
              0.5555555555555556,
              "#d8576b"
             ],
             [
              0.6666666666666666,
              "#ed7953"
             ],
             [
              0.7777777777777778,
              "#fb9f3a"
             ],
             [
              0.8888888888888888,
              "#fdca26"
             ],
             [
              1,
              "#f0f921"
             ]
            ],
            "type": "histogram2dcontour"
           }
          ],
          "mesh3d": [
           {
            "colorbar": {
             "outlinewidth": 0,
             "ticks": ""
            },
            "type": "mesh3d"
           }
          ],
          "parcoords": [
           {
            "line": {
             "colorbar": {
              "outlinewidth": 0,
              "ticks": ""
             }
            },
            "type": "parcoords"
           }
          ],
          "pie": [
           {
            "automargin": true,
            "type": "pie"
           }
          ],
          "scatter": [
           {
            "marker": {
             "colorbar": {
              "outlinewidth": 0,
              "ticks": ""
             }
            },
            "type": "scatter"
           }
          ],
          "scatter3d": [
           {
            "line": {
             "colorbar": {
              "outlinewidth": 0,
              "ticks": ""
             }
            },
            "marker": {
             "colorbar": {
              "outlinewidth": 0,
              "ticks": ""
             }
            },
            "type": "scatter3d"
           }
          ],
          "scattercarpet": [
           {
            "marker": {
             "colorbar": {
              "outlinewidth": 0,
              "ticks": ""
             }
            },
            "type": "scattercarpet"
           }
          ],
          "scattergeo": [
           {
            "marker": {
             "colorbar": {
              "outlinewidth": 0,
              "ticks": ""
             }
            },
            "type": "scattergeo"
           }
          ],
          "scattergl": [
           {
            "marker": {
             "colorbar": {
              "outlinewidth": 0,
              "ticks": ""
             }
            },
            "type": "scattergl"
           }
          ],
          "scattermapbox": [
           {
            "marker": {
             "colorbar": {
              "outlinewidth": 0,
              "ticks": ""
             }
            },
            "type": "scattermapbox"
           }
          ],
          "scatterpolar": [
           {
            "marker": {
             "colorbar": {
              "outlinewidth": 0,
              "ticks": ""
             }
            },
            "type": "scatterpolar"
           }
          ],
          "scatterpolargl": [
           {
            "marker": {
             "colorbar": {
              "outlinewidth": 0,
              "ticks": ""
             }
            },
            "type": "scatterpolargl"
           }
          ],
          "scatterternary": [
           {
            "marker": {
             "colorbar": {
              "outlinewidth": 0,
              "ticks": ""
             }
            },
            "type": "scatterternary"
           }
          ],
          "surface": [
           {
            "colorbar": {
             "outlinewidth": 0,
             "ticks": ""
            },
            "colorscale": [
             [
              0,
              "#0d0887"
             ],
             [
              0.1111111111111111,
              "#46039f"
             ],
             [
              0.2222222222222222,
              "#7201a8"
             ],
             [
              0.3333333333333333,
              "#9c179e"
             ],
             [
              0.4444444444444444,
              "#bd3786"
             ],
             [
              0.5555555555555556,
              "#d8576b"
             ],
             [
              0.6666666666666666,
              "#ed7953"
             ],
             [
              0.7777777777777778,
              "#fb9f3a"
             ],
             [
              0.8888888888888888,
              "#fdca26"
             ],
             [
              1,
              "#f0f921"
             ]
            ],
            "type": "surface"
           }
          ],
          "table": [
           {
            "cells": {
             "fill": {
              "color": "#EBF0F8"
             },
             "line": {
              "color": "white"
             }
            },
            "header": {
             "fill": {
              "color": "#C8D4E3"
             },
             "line": {
              "color": "white"
             }
            },
            "type": "table"
           }
          ]
         },
         "layout": {
          "annotationdefaults": {
           "arrowcolor": "#2a3f5f",
           "arrowhead": 0,
           "arrowwidth": 1
          },
          "coloraxis": {
           "colorbar": {
            "outlinewidth": 0,
            "ticks": ""
           }
          },
          "colorscale": {
           "diverging": [
            [
             0,
             "#8e0152"
            ],
            [
             0.1,
             "#c51b7d"
            ],
            [
             0.2,
             "#de77ae"
            ],
            [
             0.3,
             "#f1b6da"
            ],
            [
             0.4,
             "#fde0ef"
            ],
            [
             0.5,
             "#f7f7f7"
            ],
            [
             0.6,
             "#e6f5d0"
            ],
            [
             0.7,
             "#b8e186"
            ],
            [
             0.8,
             "#7fbc41"
            ],
            [
             0.9,
             "#4d9221"
            ],
            [
             1,
             "#276419"
            ]
           ],
           "sequential": [
            [
             0,
             "#0d0887"
            ],
            [
             0.1111111111111111,
             "#46039f"
            ],
            [
             0.2222222222222222,
             "#7201a8"
            ],
            [
             0.3333333333333333,
             "#9c179e"
            ],
            [
             0.4444444444444444,
             "#bd3786"
            ],
            [
             0.5555555555555556,
             "#d8576b"
            ],
            [
             0.6666666666666666,
             "#ed7953"
            ],
            [
             0.7777777777777778,
             "#fb9f3a"
            ],
            [
             0.8888888888888888,
             "#fdca26"
            ],
            [
             1,
             "#f0f921"
            ]
           ],
           "sequentialminus": [
            [
             0,
             "#0d0887"
            ],
            [
             0.1111111111111111,
             "#46039f"
            ],
            [
             0.2222222222222222,
             "#7201a8"
            ],
            [
             0.3333333333333333,
             "#9c179e"
            ],
            [
             0.4444444444444444,
             "#bd3786"
            ],
            [
             0.5555555555555556,
             "#d8576b"
            ],
            [
             0.6666666666666666,
             "#ed7953"
            ],
            [
             0.7777777777777778,
             "#fb9f3a"
            ],
            [
             0.8888888888888888,
             "#fdca26"
            ],
            [
             1,
             "#f0f921"
            ]
           ]
          },
          "colorway": [
           "#636efa",
           "#EF553B",
           "#00cc96",
           "#ab63fa",
           "#FFA15A",
           "#19d3f3",
           "#FF6692",
           "#B6E880",
           "#FF97FF",
           "#FECB52"
          ],
          "font": {
           "color": "#2a3f5f"
          },
          "geo": {
           "bgcolor": "white",
           "lakecolor": "white",
           "landcolor": "#E5ECF6",
           "showlakes": true,
           "showland": true,
           "subunitcolor": "white"
          },
          "hoverlabel": {
           "align": "left"
          },
          "hovermode": "closest",
          "mapbox": {
           "style": "light"
          },
          "paper_bgcolor": "white",
          "plot_bgcolor": "#E5ECF6",
          "polar": {
           "angularaxis": {
            "gridcolor": "white",
            "linecolor": "white",
            "ticks": ""
           },
           "bgcolor": "#E5ECF6",
           "radialaxis": {
            "gridcolor": "white",
            "linecolor": "white",
            "ticks": ""
           }
          },
          "scene": {
           "xaxis": {
            "backgroundcolor": "#E5ECF6",
            "gridcolor": "white",
            "gridwidth": 2,
            "linecolor": "white",
            "showbackground": true,
            "ticks": "",
            "zerolinecolor": "white"
           },
           "yaxis": {
            "backgroundcolor": "#E5ECF6",
            "gridcolor": "white",
            "gridwidth": 2,
            "linecolor": "white",
            "showbackground": true,
            "ticks": "",
            "zerolinecolor": "white"
           },
           "zaxis": {
            "backgroundcolor": "#E5ECF6",
            "gridcolor": "white",
            "gridwidth": 2,
            "linecolor": "white",
            "showbackground": true,
            "ticks": "",
            "zerolinecolor": "white"
           }
          },
          "shapedefaults": {
           "line": {
            "color": "#2a3f5f"
           }
          },
          "ternary": {
           "aaxis": {
            "gridcolor": "white",
            "linecolor": "white",
            "ticks": ""
           },
           "baxis": {
            "gridcolor": "white",
            "linecolor": "white",
            "ticks": ""
           },
           "bgcolor": "#E5ECF6",
           "caxis": {
            "gridcolor": "white",
            "linecolor": "white",
            "ticks": ""
           }
          },
          "title": {
           "x": 0.05
          },
          "xaxis": {
           "automargin": true,
           "gridcolor": "white",
           "linecolor": "white",
           "ticks": "",
           "title": {
            "standoff": 15
           },
           "zerolinecolor": "white",
           "zerolinewidth": 2
          },
          "yaxis": {
           "automargin": true,
           "gridcolor": "white",
           "linecolor": "white",
           "ticks": "",
           "title": {
            "standoff": 15
           },
           "zerolinecolor": "white",
           "zerolinewidth": 2
          }
         }
        },
        "title": {
         "text": "Comparision of regions since confirmed cases increased beyond 1"
        },
        "xaxis": {
         "title": {
          "text": "Date"
         }
        },
        "yaxis": {
         "title": {
          "text": "Confirmed Cases"
         },
         "type": "log"
        }
       }
      },
      "text/html": [
       "<div>\n",
       "        \n",
       "        \n",
       "            <div id=\"ade64c10-f63c-4fa3-bc90-60dcf21d2cf5\" class=\"plotly-graph-div\" style=\"height:525px; width:100%;\"></div>\n",
       "            <script type=\"text/javascript\">\n",
       "                require([\"plotly\"], function(Plotly) {\n",
       "                    window.PLOTLYENV=window.PLOTLYENV || {};\n",
       "                    \n",
       "                if (document.getElementById(\"ade64c10-f63c-4fa3-bc90-60dcf21d2cf5\")) {\n",
       "                    Plotly.newPlot(\n",
       "                        'ade64c10-f63c-4fa3-bc90-60dcf21d2cf5',\n",
       "                        [{\"name\": \"Afghanistan\", \"type\": \"scatter\", \"xaxis\": \"x\", \"y\": [4.0, 4.0, 5.0, 7.0, 7.0, 7.0, 11.0, 16.0, 21.0, 22.0, 22.0, 22.0, 24.0, 24.0, 40.0, 40.0, 74.0, 84.0, 94.0, 110.0, 110.0, 120.0, 170.0, 174.0, 237.0, 273.0, 281.0, 299.0, 349.0, 367.0, 423.0, 444.0, 484.0, 521.0, 555.0, 607.0, 665.0, 714.0, 784.0, 840.0, 906.0, 933.0, 996.0, 1026.0, 1092.0, 1176.0, 1279.0, 1351.0, 1463.0, 1531.0, 1703.0, 1828.0, 1939.0, 2171.0, 2335.0, 2469.0, 2704.0, 2894.0, 3224.0, 3392.0, 3563.0, 3778.0, 4033.0, 4402.0], \"yaxis\": \"y\"}, {\"name\": \"Albania\", \"type\": \"scatter\", \"xaxis\": \"x\", \"y\": [2.0, 10.0, 12.0, 23.0, 33.0, 38.0, 42.0, 51.0, 55.0, 59.0, 64.0, 70.0, 76.0, 89.0, 104.0, 123.0, 146.0, 174.0, 186.0, 197.0, 212.0, 223.0, 243.0, 259.0, 277.0, 304.0, 333.0, 361.0, 377.0, 383.0, 400.0, 409.0, 416.0, 433.0, 446.0, 467.0, 475.0, 494.0, 518.0, 539.0, 548.0, 562.0, 584.0, 609.0, 634.0, 663.0, 678.0, 712.0, 726.0, 736.0, 750.0, 766.0, 773.0, 782.0, 789.0, 795.0, 803.0, 820.0, 832.0, 842.0, 850.0, 856.0, 868.0, 872.0], \"yaxis\": \"y\"}, {\"name\": \"Algeria\", \"type\": \"scatter\", \"xaxis\": \"x\", \"y\": [3.0, 5.0, 12.0, 12.0, 17.0, 17.0, 19.0, 20.0, 20.0, 20.0, 24.0, 26.0, 37.0, 48.0, 54.0, 60.0, 74.0, 87.0, 90.0, 139.0, 201.0, 230.0, 264.0, 302.0, 367.0, 409.0, 454.0, 511.0, 584.0, 716.0, 847.0, 986.0, 1171.0, 1251.0, 1320.0, 1423.0, 1468.0, 1572.0, 1666.0, 1761.0, 1825.0, 1914.0, 1983.0, 2070.0, 2160.0, 2268.0, 2418.0, 2534.0, 2629.0, 2718.0, 2811.0, 2910.0, 3007.0, 3127.0, 3256.0, 3382.0, 3517.0, 3649.0, 3848.0, 4006.0, 4154.0, 4295.0, 4474.0, 4648.0], \"yaxis\": \"y\"}, {\"name\": \"Andorra\", \"type\": \"scatter\", \"xaxis\": \"x\", \"y\": [2.0, 39.0, 39.0, 53.0, 75.0, 88.0, 113.0, 133.0, 164.0, 188.0, 224.0, 267.0, 308.0, 334.0, 370.0, 376.0, 390.0, 428.0, 439.0, 466.0, 501.0, 525.0, 545.0, 564.0, 583.0, 601.0, 601.0, 638.0, 646.0, 659.0, 673.0, 673.0, 696.0, 704.0, 713.0, 717.0, 717.0, 723.0, 723.0, 731.0, 738.0, 738.0, 743.0, 743.0, 743.0, 745.0, 745.0, 747.0, 748.0, 750.0, 751.0, 751.0, 752.0, 752.0, 754.0, 755.0, 755.0, 758.0, 760.0], \"yaxis\": \"y\"}, {\"name\": \"Angola\", \"type\": \"scatter\", \"xaxis\": \"x\", \"y\": [2.0, 2.0, 3.0, 3.0, 3.0, 4.0, 4.0, 5.0, 7.0, 7.0, 7.0, 8.0, 8.0, 8.0, 10.0, 14.0, 16.0, 17.0, 19.0, 19.0, 19.0, 19.0, 19.0, 19.0, 19.0, 19.0, 19.0, 19.0, 24.0, 24.0, 24.0, 24.0, 25.0, 25.0, 25.0, 25.0, 26.0, 27.0, 27.0, 27.0, 27.0, 30.0, 35.0, 35.0, 35.0, 36.0, 36.0, 36.0, 43.0, 43.0, 45.0, 45.0, 45.0, 45.0], \"yaxis\": \"y\"}, {\"name\": \"Antigua and Barbuda\", \"type\": \"scatter\", \"xaxis\": \"x\", \"y\": [3.0, 3.0, 3.0, 7.0, 7.0, 7.0, 7.0, 7.0, 7.0, 7.0, 9.0, 15.0, 15.0, 15.0, 15.0, 19.0, 19.0, 19.0, 19.0, 21.0, 21.0, 23.0, 23.0, 23.0, 23.0, 23.0, 23.0, 23.0, 23.0, 23.0, 24.0, 24.0, 24.0, 24.0, 24.0, 24.0, 24.0, 24.0, 24.0, 25.0, 25.0, 25.0, 25.0, 25.0, 25.0, 25.0, 25.0, 25.0, 25.0, 25.0, 25.0, 25.0], \"yaxis\": \"y\"}, {\"name\": \"Argentina\", \"type\": \"scatter\", \"xaxis\": \"x\", \"y\": [2.0, 8.0, 12.0, 12.0, 17.0, 19.0, 19.0, 31.0, 34.0, 45.0, 56.0, 68.0, 79.0, 97.0, 128.0, 158.0, 266.0, 301.0, 387.0, 387.0, 502.0, 589.0, 690.0, 745.0, 820.0, 1054.0, 1054.0, 1133.0, 1265.0, 1451.0, 1451.0, 1554.0, 1628.0, 1715.0, 1795.0, 1975.0, 1975.0, 2142.0, 2208.0, 2277.0, 2443.0, 2571.0, 2669.0, 2758.0, 2839.0, 2941.0, 3031.0, 3144.0, 3435.0, 3607.0, 3780.0, 3892.0, 4003.0, 4127.0, 4285.0, 4428.0, 4532.0, 4681.0, 4783.0, 4887.0, 5020.0, 5208.0, 5371.0, 5611.0], \"yaxis\": \"y\"}, {\"name\": \"Armenia\", \"type\": \"scatter\", \"xaxis\": \"x\", \"y\": [4.0, 8.0, 18.0, 26.0, 52.0, 78.0, 84.0, 115.0, 136.0, 160.0, 194.0, 235.0, 249.0, 265.0, 290.0, 329.0, 407.0, 424.0, 482.0, 532.0, 571.0, 663.0, 736.0, 770.0, 822.0, 833.0, 853.0, 881.0, 921.0, 937.0, 967.0, 1013.0, 1039.0, 1067.0, 1111.0, 1159.0, 1201.0, 1248.0, 1291.0, 1339.0, 1401.0, 1473.0, 1523.0, 1596.0, 1677.0, 1746.0, 1808.0, 1867.0, 1932.0, 2066.0, 2148.0, 2273.0, 2386.0, 2507.0, 2619.0, 2782.0, 2884.0, 3029.0, 3175.0, 3313.0, 3392.0, 3538.0, 3718.0], \"yaxis\": \"y\"}, {\"name\": \"Australia\", \"type\": \"scatter\", \"xaxis\": \"x\", \"y\": [2.0, 2.0, 3.0, 4.0, 6.0, 9.0, 19.0, 32.0, 39.0, 39.0, 53.0, 62.0, 71.0, 77.0, 78.0, 80.0, 84.0, 87.0, 91.0, 93.0, 96.0, 96.0, 96.0, 99.0, 100.0, 103.0, 103.0, 103.0, 102.0, 103.0, 103.0, 103.0, 103.0, 103.0, 103.0, 104.0, 104.0, 104.0, 104.0, 105.0, 106.0, 106.0, 106.0, 106.0, 106.0, 106.0, 106.0, 106.0, 106.0, 107.0, 107.0, 107.0, 107.0, 107.0, 107.0, 107.0, 107.0, 107.0, 107.0, 0.0, 0.0, 0.0, 0.0, 3.0], \"yaxis\": \"y\"}, {\"name\": \"Austria\", \"type\": \"scatter\", \"xaxis\": \"x\", \"y\": [2.0, 2.0, 3.0, 3.0, 9.0, 14.0, 18.0, 21.0, 29.0, 41.0, 55.0, 79.0, 104.0, 131.0, 182.0, 246.0, 302.0, 504.0, 655.0, 860.0, 1018.0, 1332.0, 1646.0, 2013.0, 2388.0, 2814.0, 3582.0, 4474.0, 5283.0, 5588.0, 6909.0, 7657.0, 8271.0, 8788.0, 9618.0, 10180.0, 10711.0, 11129.0, 11524.0, 11781.0, 12051.0, 12297.0, 12639.0, 12942.0, 13244.0, 13555.0, 13806.0, 13945.0, 14041.0, 14226.0, 14336.0, 14476.0, 14595.0, 14671.0, 14749.0, 14795.0, 14873.0, 14925.0, 15002.0, 15071.0, 15148.0, 15225.0, 15274.0, 15357.0], \"yaxis\": \"y\"}, {\"name\": \"Azerbaijan\", \"type\": \"scatter\", \"xaxis\": \"x\", \"y\": [3.0, 3.0, 3.0, 3.0, 6.0, 6.0, 9.0, 9.0, 9.0, 11.0, 11.0, 11.0, 15.0, 15.0, 23.0, 28.0, 28.0, 28.0, 44.0, 44.0, 53.0, 65.0, 72.0, 87.0, 93.0, 122.0, 165.0, 182.0, 209.0, 273.0, 298.0, 359.0, 400.0, 443.0, 521.0, 584.0, 641.0, 717.0, 822.0, 926.0, 991.0, 1058.0, 1098.0, 1148.0, 1197.0, 1253.0, 1283.0, 1340.0, 1373.0, 1398.0, 1436.0, 1480.0, 1518.0, 1548.0, 1592.0, 1617.0, 1645.0, 1678.0, 1717.0, 1766.0, 1804.0, 1854.0, 1894.0, 1932.0], \"yaxis\": \"y\"}, {\"name\": \"Bahamas\", \"type\": \"scatter\", \"xaxis\": \"x\", \"y\": [3.0, 3.0, 4.0, 4.0, 4.0, 5.0, 5.0, 9.0, 10.0, 10.0, 11.0, 14.0, 14.0, 21.0, 24.0, 24.0, 28.0, 28.0, 29.0, 33.0, 40.0, 41.0, 42.0, 46.0, 46.0, 47.0, 49.0, 49.0, 53.0, 54.0, 55.0, 55.0, 60.0, 65.0, 65.0, 72.0, 73.0, 78.0, 80.0, 80.0, 80.0, 80.0, 81.0, 81.0, 83.0, 83.0, 83.0, 89.0, 92.0, 92.0, 92.0, 92.0, 92.0, 93.0, 93.0, 94.0], \"yaxis\": \"y\"}, {\"name\": \"Bahrain\", \"type\": \"scatter\", \"xaxis\": \"x\", \"y\": [23.0, 33.0, 33.0, 36.0, 41.0, 47.0, 49.0, 49.0, 52.0, 55.0, 60.0, 85.0, 85.0, 95.0, 110.0, 195.0, 195.0, 195.0, 210.0, 214.0, 214.0, 228.0, 256.0, 278.0, 285.0, 305.0, 334.0, 377.0, 392.0, 419.0, 458.0, 466.0, 476.0, 499.0, 515.0, 567.0, 569.0, 643.0, 672.0, 688.0, 700.0, 756.0, 811.0, 823.0, 887.0, 925.0, 1040.0, 1136.0, 1361.0, 1528.0, 1671.0, 1700.0, 1740.0, 1773.0, 1881.0, 1907.0, 1973.0, 2027.0, 2217.0, 2518.0, 2588.0, 2647.0, 2723.0, 2811.0], \"yaxis\": \"y\"}, {\"name\": \"Bangladesh\", \"type\": \"scatter\", \"xaxis\": \"x\", \"y\": [3.0, 3.0, 3.0, 3.0, 3.0, 3.0, 3.0, 5.0, 8.0, 10.0, 14.0, 17.0, 20.0, 25.0, 27.0, 33.0, 39.0, 39.0, 44.0, 48.0, 48.0, 48.0, 49.0, 51.0, 54.0, 56.0, 61.0, 70.0, 88.0, 123.0, 164.0, 218.0, 330.0, 424.0, 482.0, 621.0, 803.0, 1012.0, 1231.0, 1572.0, 1838.0, 2144.0, 2456.0, 2948.0, 3382.0, 3772.0, 4186.0, 4689.0, 4998.0, 5416.0, 5913.0, 6462.0, 7103.0, 7667.0, 8238.0, 8790.0, 9455.0, 10143.0, 10929.0, 11719.0, 12425.0, 13134.0, 13770.0, 14657.0], \"yaxis\": \"y\"}, {\"name\": \"Barbados\", \"type\": \"scatter\", \"xaxis\": \"x\", \"y\": [2.0, 2.0, 5.0, 5.0, 6.0, 14.0, 17.0, 18.0, 18.0, 18.0, 24.0, 26.0, 33.0, 33.0, 34.0, 34.0, 46.0, 51.0, 52.0, 56.0, 60.0, 63.0, 63.0, 66.0, 67.0, 68.0, 71.0, 72.0, 72.0, 73.0, 75.0, 75.0, 75.0, 75.0, 75.0, 75.0, 75.0, 76.0, 77.0, 79.0, 79.0, 80.0, 80.0, 80.0, 81.0, 81.0, 81.0, 82.0, 82.0, 82.0, 82.0, 82.0, 83.0, 84.0, 84.0, 84.0, 85.0, 85.0], \"yaxis\": \"y\"}, {\"name\": \"Belarus\", \"type\": \"scatter\", \"xaxis\": \"x\", \"y\": [6.0, 6.0, 6.0, 6.0, 6.0, 6.0, 9.0, 9.0, 12.0, 27.0, 27.0, 27.0, 36.0, 36.0, 51.0, 51.0, 69.0, 76.0, 76.0, 81.0, 81.0, 86.0, 86.0, 94.0, 94.0, 94.0, 152.0, 152.0, 163.0, 304.0, 351.0, 440.0, 562.0, 700.0, 861.0, 1066.0, 1486.0, 1981.0, 2226.0, 2578.0, 2919.0, 3281.0, 3728.0, 4204.0, 4779.0, 4779.0, 4779.0, 6264.0, 6723.0, 7281.0, 8022.0, 8773.0, 9590.0, 10463.0, 11289.0, 12208.0, 13181.0, 14027.0, 14917.0, 15828.0, 16705.0, 17489.0, 18350.0, 19255.0], \"yaxis\": \"y\"}, {\"name\": \"Belgium\", \"type\": \"scatter\", \"xaxis\": \"x\", \"y\": [2.0, 8.0, 13.0, 23.0, 50.0, 109.0, 169.0, 200.0, 239.0, 267.0, 314.0, 314.0, 559.0, 689.0, 886.0, 1058.0, 1243.0, 1486.0, 1795.0, 2257.0, 2815.0, 3401.0, 3743.0, 4269.0, 4937.0, 6235.0, 7284.0, 9134.0, 10836.0, 11899.0, 12775.0, 13964.0, 15348.0, 16770.0, 18431.0, 19691.0, 20814.0, 22194.0, 23403.0, 24983.0, 26667.0, 28018.0, 29647.0, 30589.0, 31119.0, 33573.0, 34809.0, 36138.0, 37183.0, 38496.0, 39983.0, 40956.0, 41889.0, 42797.0, 44293.0, 45325.0, 46134.0, 46687.0, 47334.0, 47859.0, 48519.0, 49032.0, 49517.0, 49906.0], \"yaxis\": \"y\"}, {\"name\": \"Belize\", \"type\": \"scatter\", \"xaxis\": \"x\", \"y\": [2.0, 2.0, 2.0, 2.0, 2.0, 3.0, 3.0, 3.0, 3.0, 4.0, 4.0, 5.0, 7.0, 7.0, 8.0, 9.0, 10.0, 13.0, 14.0, 18.0, 18.0, 18.0, 18.0, 18.0, 18.0, 18.0, 18.0, 18.0, 18.0, 18.0, 18.0, 18.0, 18.0, 18.0, 18.0, 18.0, 18.0, 18.0, 18.0, 18.0, 18.0, 18.0, 18.0, 18.0, 18.0, 18.0, 18.0, 18.0, 18.0, 18.0], \"yaxis\": \"y\"}, {\"name\": \"Benin\", \"type\": \"scatter\", \"xaxis\": \"x\", \"y\": [2.0, 2.0, 2.0, 2.0, 2.0, 5.0, 6.0, 6.0, 6.0, 6.0, 6.0, 6.0, 6.0, 9.0, 13.0, 13.0, 16.0, 16.0, 22.0, 26.0, 26.0, 26.0, 26.0, 35.0, 35.0, 35.0, 35.0, 35.0, 35.0, 35.0, 35.0, 35.0, 35.0, 54.0, 54.0, 54.0, 54.0, 54.0, 54.0, 64.0, 64.0, 64.0, 64.0, 64.0, 90.0, 90.0, 90.0, 96.0, 96.0, 96.0, 140.0, 242.0, 284.0, 319.0, 319.0, 327.0, 327.0], \"yaxis\": \"y\"}, {\"name\": \"Bhutan\", \"type\": \"scatter\", \"xaxis\": \"x\", \"y\": [2.0, 2.0, 2.0, 2.0, 2.0, 2.0, 2.0, 3.0, 3.0, 4.0, 4.0, 4.0, 4.0, 5.0, 5.0, 5.0, 5.0, 5.0, 5.0, 5.0, 5.0, 5.0, 5.0, 5.0, 5.0, 5.0, 5.0, 5.0, 5.0, 5.0, 5.0, 5.0, 6.0, 6.0, 7.0, 7.0, 7.0, 7.0, 7.0, 7.0, 7.0, 7.0, 7.0, 7.0, 7.0, 7.0, 7.0, 7.0, 7.0, 7.0, 7.0, 7.0, 9.0, 11.0, 15.0], \"yaxis\": \"y\"}, {\"name\": \"Bolivia\", \"type\": \"scatter\", \"xaxis\": \"x\", \"y\": [2.0, 2.0, 3.0, 10.0, 10.0, 11.0, 11.0, 12.0, 12.0, 15.0, 19.0, 24.0, 27.0, 29.0, 32.0, 43.0, 61.0, 74.0, 81.0, 97.0, 107.0, 115.0, 123.0, 132.0, 139.0, 157.0, 183.0, 194.0, 210.0, 264.0, 268.0, 275.0, 300.0, 330.0, 354.0, 397.0, 441.0, 465.0, 493.0, 520.0, 564.0, 598.0, 609.0, 703.0, 807.0, 866.0, 950.0, 1014.0, 1053.0, 1110.0, 1167.0, 1229.0, 1470.0, 1594.0, 1681.0, 1802.0, 1886.0, 2081.0, 2266.0, 2437.0, 2556.0, 2831.0, 2964.0, 3148.0], \"yaxis\": \"y\"}, {\"name\": \"Bosnia and Herzegovina\", \"type\": \"scatter\", \"xaxis\": \"x\", \"y\": [2.0, 2.0, 3.0, 3.0, 3.0, 5.0, 7.0, 11.0, 13.0, 18.0, 24.0, 25.0, 26.0, 38.0, 63.0, 89.0, 93.0, 126.0, 136.0, 166.0, 176.0, 191.0, 237.0, 258.0, 323.0, 368.0, 420.0, 459.0, 533.0, 579.0, 624.0, 654.0, 674.0, 764.0, 804.0, 858.0, 901.0, 946.0, 1009.0, 1037.0, 1083.0, 1110.0, 1167.0, 1214.0, 1268.0, 1285.0, 1309.0, 1342.0, 1368.0, 1413.0, 1421.0, 1486.0, 1516.0, 1565.0, 1585.0, 1677.0, 1757.0, 1781.0, 1839.0, 1857.0, 1926.0, 1946.0, 1987.0, 2027.0], \"yaxis\": \"y\"}, {\"name\": \"Botswana\", \"type\": \"scatter\", \"xaxis\": \"x\", \"y\": [3.0, 4.0, 4.0, 4.0, 4.0, 4.0, 6.0, 6.0, 6.0, 6.0, 13.0, 13.0, 13.0, 13.0, 13.0, 13.0, 13.0, 15.0, 15.0, 15.0, 20.0, 20.0, 20.0, 22.0, 22.0, 22.0, 22.0, 22.0, 22.0, 23.0, 23.0, 23.0, 23.0, 23.0, 23.0, 23.0, 23.0, 23.0, 23.0, 23.0, 23.0, 23.0, 24.0, 24.0, 24.0], \"yaxis\": \"y\"}, {\"name\": \"Brazil\", \"type\": \"scatter\", \"xaxis\": \"x\", \"y\": [2.0, 2.0, 2.0, 2.0, 4.0, 4.0, 13.0, 13.0, 20.0, 25.0, 31.0, 38.0, 52.0, 151.0, 151.0, 162.0, 200.0, 321.0, 372.0, 621.0, 793.0, 1021.0, 1546.0, 1924.0, 2247.0, 2554.0, 2985.0, 3417.0, 3904.0, 4256.0, 4579.0, 5717.0, 6836.0, 8044.0, 9056.0, 10360.0, 11130.0, 12161.0, 14034.0, 16170.0, 18092.0, 19638.0, 20727.0, 22192.0, 23430.0, 25262.0, 28320.0, 30425.0, 33682.0, 36658.0, 38654.0, 40743.0, 43079.0, 45757.0, 50036.0, 54043.0, 59324.0, 63100.0, 67446.0, 73235.0, 79685.0, 87187.0, 92202.0, 97100.0], \"yaxis\": \"y\"}, {\"name\": \"Brunei\", \"type\": \"scatter\", \"xaxis\": \"x\", \"y\": [11.0, 11.0, 37.0, 40.0, 50.0, 54.0, 56.0, 68.0, 75.0, 78.0, 83.0, 88.0, 91.0, 104.0, 109.0, 114.0, 115.0, 120.0, 126.0, 127.0, 129.0, 131.0, 133.0, 134.0, 135.0, 135.0, 135.0, 135.0, 135.0, 135.0, 136.0, 136.0, 136.0, 136.0, 136.0, 136.0, 136.0, 136.0, 137.0, 138.0, 138.0, 138.0, 138.0, 138.0, 138.0, 138.0, 138.0, 138.0, 138.0, 138.0, 138.0, 138.0, 138.0, 138.0, 138.0, 138.0, 139.0, 141.0, 141.0, 141.0, 141.0, 141.0, 141.0, 141.0], \"yaxis\": \"y\"}, {\"name\": \"Bulgaria\", \"type\": \"scatter\", \"xaxis\": \"x\", \"y\": [4.0, 4.0, 4.0, 7.0, 7.0, 23.0, 41.0, 51.0, 52.0, 67.0, 92.0, 94.0, 127.0, 163.0, 187.0, 201.0, 218.0, 242.0, 264.0, 293.0, 331.0, 346.0, 359.0, 399.0, 422.0, 457.0, 485.0, 503.0, 531.0, 549.0, 577.0, 593.0, 618.0, 635.0, 661.0, 675.0, 685.0, 713.0, 747.0, 800.0, 846.0, 878.0, 894.0, 929.0, 975.0, 1024.0, 1097.0, 1234.0, 1247.0, 1300.0, 1363.0, 1399.0, 1447.0, 1506.0, 1555.0, 1594.0, 1618.0, 1652.0, 1704.0, 1778.0, 1829.0, 1872.0, 1921.0, 1965.0], \"yaxis\": \"y\"}, {\"name\": \"Burkina Faso\", \"type\": \"scatter\", \"xaxis\": \"x\", \"y\": [2.0, 2.0, 2.0, 2.0, 3.0, 15.0, 15.0, 20.0, 33.0, 40.0, 64.0, 75.0, 99.0, 114.0, 146.0, 152.0, 180.0, 207.0, 222.0, 246.0, 261.0, 282.0, 288.0, 302.0, 318.0, 345.0, 364.0, 384.0, 414.0, 443.0, 443.0, 484.0, 497.0, 497.0, 528.0, 542.0, 546.0, 557.0, 565.0, 576.0, 581.0, 600.0, 609.0, 616.0, 629.0, 629.0, 632.0, 635.0, 638.0, 641.0, 645.0, 649.0, 652.0, 662.0, 672.0, 688.0, 729.0, 736.0, 744.0, 748.0, 751.0, 760.0, 766.0, 773.0], \"yaxis\": \"y\"}, {\"name\": \"Burma\", \"type\": \"scatter\", \"xaxis\": \"x\", \"y\": [8.0, 8.0, 10.0, 14.0, 15.0, 15.0, 20.0, 20.0, 21.0, 21.0, 22.0, 22.0, 22.0, 23.0, 27.0, 38.0, 41.0, 62.0, 63.0, 74.0, 85.0, 88.0, 98.0, 111.0, 119.0, 121.0, 123.0, 139.0, 144.0, 146.0, 146.0, 146.0, 150.0, 150.0, 151.0, 151.0, 151.0, 155.0, 161.0, 161.0, 161.0, 176.0, 177.0, 178.0, 180.0, 180.0, 180.0, 181.0], \"yaxis\": \"y\"}, {\"name\": \"Burundi\", \"type\": \"scatter\", \"xaxis\": \"x\", \"y\": [2.0, 2.0, 3.0, 3.0, 3.0, 3.0, 3.0, 3.0, 3.0, 3.0, 3.0, 5.0, 5.0, 5.0, 5.0, 5.0, 5.0, 5.0, 5.0, 5.0, 5.0, 5.0, 11.0, 11.0, 11.0, 11.0, 11.0, 11.0, 11.0, 11.0, 11.0, 11.0, 15.0, 15.0, 15.0, 15.0, 15.0, 15.0, 15.0, 15.0, 15.0, 15.0, 15.0, 15.0], \"yaxis\": \"y\"}, {\"name\": \"Cabo Verde\", \"type\": \"scatter\", \"xaxis\": \"x\", \"y\": [3.0, 3.0, 3.0, 3.0, 4.0, 4.0, 5.0, 5.0, 6.0, 6.0, 6.0, 6.0, 6.0, 6.0, 7.0, 7.0, 7.0, 7.0, 7.0, 7.0, 7.0, 8.0, 8.0, 10.0, 11.0, 56.0, 56.0, 56.0, 58.0, 61.0, 67.0, 68.0, 73.0, 82.0, 88.0, 90.0, 106.0, 109.0, 114.0, 114.0, 121.0, 122.0, 152.0, 165.0, 175.0, 186.0, 191.0, 218.0, 230.0, 236.0, 246.0, 260.0, 267.0, 289.0], \"yaxis\": \"y\"}, {\"name\": \"Cambodia\", \"type\": \"scatter\", \"xaxis\": \"x\", \"y\": [2.0, 2.0, 2.0, 3.0, 3.0, 5.0, 7.0, 7.0, 7.0, 33.0, 35.0, 37.0, 51.0, 53.0, 84.0, 87.0, 91.0, 96.0, 96.0, 99.0, 99.0, 103.0, 107.0, 109.0, 109.0, 110.0, 114.0, 114.0, 114.0, 114.0, 115.0, 117.0, 119.0, 119.0, 120.0, 122.0, 122.0, 122.0, 122.0, 122.0, 122.0, 122.0, 122.0, 122.0, 122.0, 122.0, 122.0, 122.0, 122.0, 122.0, 122.0, 122.0, 122.0, 122.0, 122.0, 122.0, 122.0, 122.0, 122.0, 122.0, 122.0, 122.0, 122.0, 122.0], \"yaxis\": \"y\"}, {\"name\": \"Cameroon\", \"type\": \"scatter\", \"xaxis\": \"x\", \"y\": [2.0, 2.0, 2.0, 2.0, 2.0, 2.0, 2.0, 2.0, 4.0, 10.0, 10.0, 13.0, 20.0, 27.0, 40.0, 56.0, 66.0, 75.0, 75.0, 91.0, 91.0, 139.0, 139.0, 193.0, 233.0, 306.0, 509.0, 555.0, 650.0, 658.0, 658.0, 730.0, 730.0, 820.0, 820.0, 820.0, 820.0, 848.0, 848.0, 996.0, 996.0, 1017.0, 1017.0, 1163.0, 1163.0, 1163.0, 1334.0, 1430.0, 1518.0, 1621.0, 1705.0, 1705.0, 1832.0, 1832.0, 1832.0, 2077.0, 2077.0, 2104.0, 2104.0, 2265.0, 2267.0, 2267.0, 2274.0, 2579.0], \"yaxis\": \"y\"}, {\"name\": \"Canada\", \"type\": \"scatter\", \"xaxis\": \"x\", \"y\": [2.0, 4.0, 7.0, 7.0, 19.0, 19.0, 29.0, 29.0, 39.0, 56.0, 74.0, 97.0, 119.0, 146.0, 195.0, 259.0, 301.0, 359.0, 358.0, 486.0, 542.0, 542.0, 621.0, 661.0, 690.0, 754.0, 969.0, 969.0, 1075.0, 1181.0, 1250.0, 1373.0, 1373.0, 1423.0, 1451.0, 1567.0, 1567.0, 1732.0, 1870.0, 1870.0, 1996.0, 2397.0, 2562.0, 2803.0, 2908.0, 3095.0, 3401.0, 3720.0, 4017.0, 4233.0, 4480.0, 4696.0, 4850.0, 5165.0, 5355.0, 5573.0, 5670.0, 5766.0, 5836.0, 5893.0, 5963.0, 6017.0, 6098.0, 6157.0], \"yaxis\": \"y\"}, {\"name\": \"Central African Republic\", \"type\": \"scatter\", \"xaxis\": \"x\", \"y\": [3.0, 3.0, 3.0, 3.0, 3.0, 3.0, 3.0, 3.0, 3.0, 3.0, 3.0, 3.0, 3.0, 3.0, 8.0, 8.0, 8.0, 8.0, 8.0, 8.0, 8.0, 8.0, 8.0, 8.0, 11.0, 11.0, 12.0, 12.0, 12.0, 12.0, 12.0, 12.0, 14.0, 14.0, 16.0, 16.0, 16.0, 19.0, 19.0, 50.0, 50.0, 50.0, 72.0, 72.0, 72.0, 85.0, 85.0, 94.0, 94.0, 143.0, 143.0, 143.0, 143.0, 143.0, 143.0], \"yaxis\": \"y\"}, {\"name\": \"Chad\", \"type\": \"scatter\", \"xaxis\": \"x\", \"y\": [3.0, 3.0, 3.0, 3.0, 3.0, 3.0, 5.0, 7.0, 7.0, 8.0, 8.0, 9.0, 9.0, 9.0, 10.0, 10.0, 11.0, 11.0, 11.0, 18.0, 23.0, 23.0, 23.0, 27.0, 27.0, 33.0, 33.0, 33.0, 33.0, 33.0, 33.0, 40.0, 46.0, 46.0, 46.0, 52.0, 52.0, 73.0, 73.0, 117.0, 117.0, 117.0, 170.0, 170.0, 253.0, 260.0, 322.0, 322.0, 322.0, 357.0, 372.0], \"yaxis\": \"y\"}, {\"name\": \"Chile\", \"type\": \"scatter\", \"xaxis\": \"x\", \"y\": [4.0, 4.0, 4.0, 8.0, 8.0, 13.0, 23.0, 23.0, 43.0, 61.0, 74.0, 155.0, 201.0, 238.0, 238.0, 434.0, 537.0, 632.0, 746.0, 922.0, 1142.0, 1306.0, 1610.0, 1909.0, 2139.0, 2449.0, 2738.0, 3031.0, 3404.0, 3737.0, 4161.0, 4471.0, 4815.0, 5116.0, 5546.0, 5972.0, 6501.0, 6927.0, 7213.0, 7525.0, 7917.0, 8273.0, 8807.0, 9252.0, 9730.0, 10088.0, 10507.0, 10832.0, 11296.0, 11812.0, 12306.0, 12858.0, 13331.0, 13813.0, 14365.0, 14885.0, 16023.0, 17008.0, 18435.0, 19663.0, 20643.0, 22016.0, 23048.0, 24581.0], \"yaxis\": \"y\"}, {\"name\": \"China\", \"type\": \"scatter\", \"xaxis\": \"x\", \"y\": [9.0, 15.0, 39.0, 60.0, 70.0, 106.0, 152.0, 200.0, 237.0, 297.0, 340.0, 408.0, 480.0, 530.0, 591.0, 665.0, 733.0, 779.0, 830.0, 860.0, 889.0, 910.0, 934.0, 950.0, 962.0, 973.0, 982.0, 986.0, 987.0, 988.0, 989.0, 989.0, 989.0, 989.0, 989.0, 989.0, 990.0, 990.0, 990.0, 990.0, 990.0, 990.0, 990.0, 990.0, 990.0, 990.0, 990.0, 990.0, 990.0, 990.0, 990.0, 990.0, 990.0, 990.0, 990.0, 990.0, 990.0, 990.0, 990.0, 990.0, 990.0, 990.0, 990.0, 990.0], \"yaxis\": \"y\"}, {\"name\": \"Colombia\", \"type\": \"scatter\", \"xaxis\": \"x\", \"y\": [3.0, 9.0, 9.0, 13.0, 22.0, 34.0, 54.0, 65.0, 93.0, 102.0, 128.0, 196.0, 231.0, 277.0, 378.0, 470.0, 491.0, 539.0, 608.0, 702.0, 798.0, 906.0, 1065.0, 1161.0, 1267.0, 1406.0, 1485.0, 1579.0, 1780.0, 2054.0, 2223.0, 2473.0, 2709.0, 2776.0, 2852.0, 2979.0, 3105.0, 3233.0, 3439.0, 3439.0, 3792.0, 3977.0, 4149.0, 4356.0, 4561.0, 4881.0, 5142.0, 5379.0, 5597.0, 5949.0, 6207.0, 6507.0, 7006.0, 7285.0, 7668.0, 7973.0, 8613.0, 8959.0, 9456.0, 10051.0, 10495.0, 11063.0, 11613.0, 12272.0], \"yaxis\": \"y\"}, {\"name\": \"Congo (Brazzaville)\", \"type\": \"scatter\", \"xaxis\": \"x\", \"y\": [3.0, 3.0, 3.0, 3.0, 4.0, 4.0, 4.0, 4.0, 4.0, 4.0, 19.0, 19.0, 19.0, 19.0, 22.0, 22.0, 22.0, 45.0, 45.0, 45.0, 45.0, 60.0, 60.0, 60.0, 60.0, 60.0, 60.0, 117.0, 117.0, 143.0, 143.0, 143.0, 160.0, 165.0, 186.0, 186.0, 200.0, 200.0, 200.0, 200.0, 207.0, 207.0, 220.0, 229.0, 229.0, 229.0, 236.0, 236.0, 264.0, 264.0, 274.0, 274.0, 274.0, 333.0, 333.0, 333.0], \"yaxis\": \"y\"}, {\"name\": \"Congo (Kinshasa)\", \"type\": \"scatter\", \"xaxis\": \"x\", \"y\": [2.0, 2.0, 2.0, 2.0, 3.0, 4.0, 14.0, 18.0, 23.0, 30.0, 36.0, 45.0, 48.0, 51.0, 51.0, 65.0, 65.0, 81.0, 98.0, 109.0, 134.0, 134.0, 154.0, 154.0, 161.0, 180.0, 180.0, 180.0, 215.0, 223.0, 234.0, 235.0, 241.0, 254.0, 267.0, 287.0, 307.0, 327.0, 332.0, 350.0, 359.0, 377.0, 394.0, 416.0, 442.0, 459.0, 471.0, 491.0, 572.0, 604.0, 674.0, 674.0, 682.0, 705.0, 797.0, 863.0, 937.0, 937.0, 991.0, 1024.0, 1102.0, 1169.0], \"yaxis\": \"y\"}, {\"name\": \"Costa Rica\", \"type\": \"scatter\", \"xaxis\": \"x\", \"y\": [5.0, 9.0, 9.0, 13.0, 22.0, 23.0, 26.0, 27.0, 35.0, 41.0, 50.0, 69.0, 89.0, 117.0, 134.0, 158.0, 177.0, 201.0, 231.0, 263.0, 295.0, 314.0, 330.0, 347.0, 375.0, 396.0, 416.0, 435.0, 454.0, 467.0, 483.0, 502.0, 539.0, 558.0, 577.0, 595.0, 612.0, 618.0, 626.0, 642.0, 649.0, 655.0, 660.0, 662.0, 669.0, 681.0, 686.0, 687.0, 693.0, 695.0, 697.0, 705.0, 713.0, 719.0, 725.0, 733.0, 739.0, 742.0, 755.0, 761.0, 765.0, 773.0, 780.0, 792.0], \"yaxis\": \"y\"}, {\"name\": \"Cote d'Ivoire\", \"type\": \"scatter\", \"xaxis\": \"x\", \"y\": [5.0, 6.0, 9.0, 9.0, 14.0, 14.0, 25.0, 73.0, 80.0, 96.0, 101.0, 101.0, 165.0, 168.0, 179.0, 190.0, 194.0, 218.0, 245.0, 261.0, 323.0, 349.0, 384.0, 444.0, 444.0, 533.0, 574.0, 626.0, 638.0, 638.0, 654.0, 688.0, 801.0, 847.0, 847.0, 916.0, 952.0, 1004.0, 1077.0, 1077.0, 1150.0, 1164.0, 1183.0, 1238.0, 1275.0, 1333.0, 1362.0, 1398.0, 1432.0, 1464.0, 1516.0, 1571.0, 1602.0, 1667.0, 1700.0, 1730.0, 1857.0, 1912.0], \"yaxis\": \"y\"}, {\"name\": \"Croatia\", \"type\": \"scatter\", \"xaxis\": \"x\", \"y\": [3.0, 3.0, 5.0, 6.0, 7.0, 7.0, 9.0, 10.0, 10.0, 11.0, 12.0, 12.0, 12.0, 14.0, 19.0, 19.0, 32.0, 38.0, 49.0, 57.0, 65.0, 81.0, 105.0, 128.0, 206.0, 254.0, 315.0, 382.0, 442.0, 495.0, 586.0, 657.0, 713.0, 790.0, 867.0, 963.0, 1011.0, 1079.0, 1126.0, 1182.0, 1222.0, 1282.0, 1343.0, 1407.0, 1495.0, 1534.0, 1600.0, 1650.0, 1704.0, 1741.0, 1791.0, 1814.0, 1832.0, 1871.0, 1881.0, 1908.0, 1950.0, 1981.0, 2009.0, 2016.0, 2030.0, 2039.0, 2047.0, 2062.0], \"yaxis\": \"y\"}, {\"name\": \"Cuba\", \"type\": \"scatter\", \"xaxis\": \"x\", \"y\": [3.0, 4.0, 4.0, 4.0, 4.0, 5.0, 7.0, 11.0, 16.0, 21.0, 35.0, 40.0, 48.0, 57.0, 67.0, 80.0, 119.0, 139.0, 170.0, 186.0, 212.0, 233.0, 269.0, 288.0, 320.0, 350.0, 396.0, 457.0, 515.0, 564.0, 620.0, 669.0, 726.0, 766.0, 814.0, 862.0, 923.0, 986.0, 1035.0, 1087.0, 1137.0, 1189.0, 1235.0, 1285.0, 1337.0, 1369.0, 1389.0, 1437.0, 1467.0, 1501.0, 1537.0, 1611.0, 1649.0, 1668.0, 1685.0, 1703.0, 1729.0, 1741.0, 1754.0, 1766.0, 1783.0, 1804.0, 1810.0], \"yaxis\": \"y\"}, {\"name\": \"Cyprus\", \"type\": \"scatter\", \"xaxis\": \"x\", \"y\": [2.0, 3.0, 6.0, 6.0, 14.0, 26.0, 26.0, 33.0, 46.0, 49.0, 67.0, 67.0, 84.0, 95.0, 116.0, 124.0, 132.0, 146.0, 162.0, 179.0, 214.0, 230.0, 262.0, 320.0, 356.0, 396.0, 426.0, 446.0, 465.0, 494.0, 526.0, 564.0, 595.0, 616.0, 633.0, 662.0, 695.0, 715.0, 735.0, 750.0, 761.0, 767.0, 772.0, 784.0, 790.0, 795.0, 804.0, 810.0, 817.0, 822.0, 837.0, 843.0, 850.0, 857.0, 864.0, 872.0, 874.0, 878.0, 883.0, 889.0, 891.0, 892.0, 898.0, 901.0], \"yaxis\": \"y\"}, {\"name\": \"Czechia\", \"type\": \"scatter\", \"xaxis\": \"x\", \"y\": [3.0, 3.0, 5.0, 8.0, 12.0, 18.0, 19.0, 31.0, 31.0, 41.0, 91.0, 94.0, 141.0, 189.0, 253.0, 298.0, 396.0, 464.0, 694.0, 833.0, 995.0, 1120.0, 1236.0, 1394.0, 1654.0, 1925.0, 2279.0, 2631.0, 2817.0, 3001.0, 3308.0, 3508.0, 3858.0, 4091.0, 4472.0, 4587.0, 4822.0, 5017.0, 5312.0, 5569.0, 5732.0, 5831.0, 5991.0, 6059.0, 6111.0, 6216.0, 6433.0, 6549.0, 6606.0, 6746.0, 6900.0, 7033.0, 7132.0, 7187.0, 7273.0, 7352.0, 7404.0, 7445.0, 7504.0, 7579.0, 7682.0, 7737.0, 7755.0, 7781.0], \"yaxis\": \"y\"}, {\"name\": \"Denmark\", \"type\": \"scatter\", \"xaxis\": \"x\", \"y\": [2.0, 2.0, 2.0, 2.0, 2.0, 3.0, 9.0, 11.0, 18.0, 47.0, 58.0, 72.0, 80.0, 92.0, 115.0, 118.0, 122.0, 132.0, 140.0, 144.0, 155.0, 159.0, 168.0, 169.0, 173.0, 177.0, 179.0, 181.0, 181.0, 183.0, 184.0, 184.0, 184.0, 184.0, 184.0, 184.0, 184.0, 184.0, 184.0, 184.0, 184.0, 184.0, 185.0, 185.0, 185.0, 185.0, 187.0, 187.0, 187.0, 187.0, 187.0, 187.0, 187.0, 187.0, 187.0, 187.0, 187.0, 187.0, 187.0, 187.0, 187.0, 187.0, 187.0, 187.0], \"yaxis\": \"y\"}, {\"name\": \"Diamond Princess\", \"type\": \"scatter\", \"xaxis\": \"x\", \"y\": [61.0, 61.0, 64.0, 135.0, 135.0, 175.0, 175.0, 218.0, 285.0, 355.0, 454.0, 542.0, 621.0, 634.0, 634.0, 634.0, 691.0, 691.0, 691.0, 705.0, 705.0, 705.0, 705.0, 705.0, 705.0, 706.0, 706.0, 706.0, 706.0, 706.0, 706.0, 706.0, 706.0, 706.0, 706.0, 706.0, 706.0, 706.0, 706.0, 706.0, 712.0, 712.0, 712.0, 712.0, 712.0, 712.0, 712.0, 712.0, 712.0, 712.0, 712.0, 712.0, 712.0, 712.0, 712.0, 712.0, 712.0, 712.0, 712.0, 712.0, 712.0, 712.0, 712.0, 712.0], \"yaxis\": \"y\"}, {\"name\": \"Djibouti\", \"type\": \"scatter\", \"xaxis\": \"x\", \"y\": [3.0, 3.0, 11.0, 11.0, 12.0, 14.0, 18.0, 18.0, 30.0, 33.0, 40.0, 49.0, 50.0, 59.0, 90.0, 90.0, 135.0, 135.0, 150.0, 187.0, 214.0, 298.0, 363.0, 435.0, 591.0, 732.0, 732.0, 846.0, 846.0, 945.0, 974.0, 986.0, 999.0, 1008.0, 1023.0, 1035.0, 1072.0, 1077.0, 1089.0, 1097.0, 1112.0, 1112.0, 1116.0, 1120.0, 1124.0, 1133.0, 1135.0, 1189.0, 1210.0, 1227.0, 1256.0, 1268.0], \"yaxis\": \"y\"}, {\"name\": \"Dominica\", \"type\": \"scatter\", \"xaxis\": \"x\", \"y\": [2.0, 2.0, 7.0, 11.0, 11.0, 11.0, 11.0, 11.0, 12.0, 12.0, 12.0, 12.0, 14.0, 14.0, 15.0, 15.0, 15.0, 15.0, 16.0, 16.0, 16.0, 16.0, 16.0, 16.0, 16.0, 16.0, 16.0, 16.0, 16.0, 16.0, 16.0, 16.0, 16.0, 16.0, 16.0, 16.0, 16.0, 16.0, 16.0, 16.0, 16.0, 16.0, 16.0, 16.0, 16.0, 16.0, 16.0, 16.0, 16.0, 16.0, 16.0, 16.0], \"yaxis\": \"y\"}, {\"name\": \"Dominican Republic\", \"type\": \"scatter\", \"xaxis\": \"x\", \"y\": [2.0, 2.0, 5.0, 5.0, 5.0, 5.0, 5.0, 5.0, 11.0, 11.0, 11.0, 21.0, 21.0, 34.0, 72.0, 112.0, 202.0, 245.0, 312.0, 392.0, 488.0, 581.0, 719.0, 859.0, 901.0, 1109.0, 1284.0, 1380.0, 1488.0, 1488.0, 1745.0, 1828.0, 1956.0, 2111.0, 2349.0, 2620.0, 2759.0, 2967.0, 3167.0, 3286.0, 3614.0, 3755.0, 4126.0, 4335.0, 4680.0, 4964.0, 5044.0, 5300.0, 5543.0, 5749.0, 5926.0, 6135.0, 6293.0, 6416.0, 6652.0, 6972.0, 7288.0, 7578.0, 7954.0, 8235.0, 8480.0, 8807.0, 9095.0, 9376.0], \"yaxis\": \"y\"}, {\"name\": \"Ecuador\", \"type\": \"scatter\", \"xaxis\": \"x\", \"y\": [6.0, 6.0, 7.0, 10.0, 13.0, 13.0, 13.0, 14.0, 15.0, 15.0, 17.0, 17.0, 17.0, 28.0, 28.0, 37.0, 58.0, 111.0, 199.0, 367.0, 506.0, 789.0, 981.0, 1082.0, 1173.0, 1403.0, 1595.0, 1823.0, 1924.0, 1962.0, 2240.0, 2748.0, 3163.0, 3368.0, 3465.0, 3646.0, 3747.0, 3747.0, 4450.0, 4965.0, 7161.0, 7257.0, 7466.0, 7529.0, 7603.0, 7858.0, 8225.0, 8450.0, 9022.0, 9468.0, 10128.0, 10398.0, 10850.0, 11183.0, 22719.0, 22719.0, 22719.0, 23240.0, 24258.0, 24675.0, 24934.0, 26336.0, 27464.0, 29538.0], \"yaxis\": \"y\"}, {\"name\": \"Egypt\", \"type\": \"scatter\", \"xaxis\": \"x\", \"y\": [2.0, 2.0, 2.0, 2.0, 3.0, 15.0, 15.0, 49.0, 55.0, 59.0, 60.0, 67.0, 80.0, 109.0, 110.0, 150.0, 196.0, 196.0, 256.0, 285.0, 294.0, 327.0, 366.0, 402.0, 456.0, 495.0, 536.0, 576.0, 609.0, 656.0, 710.0, 779.0, 865.0, 985.0, 1070.0, 1173.0, 1322.0, 1450.0, 1560.0, 1699.0, 1794.0, 1939.0, 2065.0, 2190.0, 2350.0, 2505.0, 2673.0, 2844.0, 3032.0, 3144.0, 3333.0, 3490.0, 3659.0, 3891.0, 4092.0, 4319.0, 4534.0, 4782.0, 5042.0, 5268.0, 5537.0, 5895.0, 6193.0, 6465.0], \"yaxis\": \"y\"}, {\"name\": \"El Salvador\", \"type\": \"scatter\", \"xaxis\": \"x\", \"y\": [3.0, 3.0, 3.0, 5.0, 9.0, 13.0, 13.0, 19.0, 24.0, 30.0, 32.0, 32.0, 41.0, 46.0, 56.0, 62.0, 69.0, 78.0, 93.0, 103.0, 117.0, 118.0, 125.0, 137.0, 149.0, 159.0, 164.0, 177.0, 190.0, 201.0, 218.0, 225.0, 237.0, 250.0, 274.0, 274.0, 298.0, 323.0, 345.0, 377.0, 395.0, 424.0, 446.0, 490.0, 555.0, 587.0, 633.0, 695.0, 742.0, 784.0, 889.0, 958.0, 998.0, 1037.0], \"yaxis\": \"y\"}, {\"name\": \"Equatorial Guinea\", \"type\": \"scatter\", \"xaxis\": \"x\", \"y\": [4.0, 6.0, 6.0, 6.0, 6.0, 9.0, 9.0, 9.0, 12.0, 12.0, 12.0, 12.0, 12.0, 12.0, 15.0, 15.0, 16.0, 16.0, 16.0, 16.0, 16.0, 18.0, 18.0, 18.0, 18.0, 21.0, 21.0, 41.0, 51.0, 51.0, 79.0, 79.0, 79.0, 79.0, 83.0, 84.0, 84.0, 214.0, 258.0, 258.0, 258.0, 315.0, 315.0, 315.0, 315.0, 315.0, 315.0, 315.0, 315.0, 439.0, 439.0, 439.0, 439.0, 439.0, 439.0, 439.0, 522.0], \"yaxis\": \"y\"}, {\"name\": \"Eritrea\", \"type\": \"scatter\", \"xaxis\": \"x\", \"y\": [4.0, 6.0, 6.0, 6.0, 12.0, 12.0, 15.0, 15.0, 22.0, 22.0, 29.0, 29.0, 31.0, 31.0, 33.0, 33.0, 34.0, 34.0, 34.0, 34.0, 34.0, 35.0, 35.0, 35.0, 39.0, 39.0, 39.0, 39.0, 39.0, 39.0, 39.0, 39.0, 39.0, 39.0, 39.0, 39.0, 39.0, 39.0, 39.0, 39.0, 39.0, 39.0, 39.0, 39.0, 39.0, 39.0, 39.0, 39.0, 39.0, 39.0], \"yaxis\": \"y\"}, {\"name\": \"Estonia\", \"type\": \"scatter\", \"xaxis\": \"x\", \"y\": [2.0, 2.0, 3.0, 10.0, 10.0, 10.0, 10.0, 12.0, 16.0, 16.0, 79.0, 115.0, 171.0, 205.0, 225.0, 258.0, 267.0, 283.0, 306.0, 326.0, 352.0, 369.0, 404.0, 538.0, 575.0, 645.0, 679.0, 715.0, 745.0, 779.0, 858.0, 961.0, 1039.0, 1097.0, 1108.0, 1149.0, 1185.0, 1207.0, 1258.0, 1304.0, 1309.0, 1332.0, 1373.0, 1400.0, 1434.0, 1459.0, 1512.0, 1528.0, 1535.0, 1552.0, 1559.0, 1592.0, 1605.0, 1635.0, 1643.0, 1647.0, 1660.0, 1666.0, 1689.0, 1694.0, 1699.0, 1700.0, 1703.0, 1711.0], \"yaxis\": \"y\"}, {\"name\": \"Eswatini\", \"type\": \"scatter\", \"xaxis\": \"x\", \"y\": [4.0, 4.0, 4.0, 4.0, 6.0, 9.0, 9.0, 9.0, 9.0, 9.0, 9.0, 9.0, 9.0, 9.0, 9.0, 10.0, 10.0, 12.0, 12.0, 12.0, 12.0, 14.0, 15.0, 15.0, 15.0, 16.0, 16.0, 22.0, 22.0, 24.0, 31.0, 31.0, 31.0, 36.0, 56.0, 59.0, 65.0, 71.0, 91.0, 100.0, 106.0, 108.0, 112.0, 116.0, 119.0, 123.0, 153.0, 159.0, 163.0, 172.0, 175.0, 184.0, 187.0], \"yaxis\": \"y\"}, {\"name\": \"Ethiopia\", \"type\": \"scatter\", \"xaxis\": \"x\", \"y\": [5.0, 5.0, 6.0, 6.0, 9.0, 9.0, 11.0, 11.0, 12.0, 12.0, 12.0, 16.0, 16.0, 21.0, 23.0, 26.0, 29.0, 29.0, 35.0, 38.0, 43.0, 44.0, 52.0, 55.0, 56.0, 65.0, 69.0, 71.0, 74.0, 82.0, 85.0, 92.0, 96.0, 105.0, 108.0, 111.0, 114.0, 116.0, 116.0, 117.0, 122.0, 123.0, 124.0, 126.0, 130.0, 131.0, 133.0, 133.0, 135.0, 140.0, 145.0, 162.0, 191.0, 194.0, 210.0, 239.0, 250.0, 261.0, 263.0], \"yaxis\": \"y\"}, {\"name\": \"Fiji\", \"type\": \"scatter\", \"xaxis\": \"x\", \"y\": [2.0, 3.0, 4.0, 5.0, 5.0, 5.0, 5.0, 5.0, 5.0, 5.0, 5.0, 7.0, 7.0, 12.0, 12.0, 14.0, 15.0, 15.0, 15.0, 16.0, 16.0, 16.0, 16.0, 16.0, 16.0, 17.0, 17.0, 17.0, 17.0, 18.0, 18.0, 18.0, 18.0, 18.0, 18.0, 18.0, 18.0, 18.0, 18.0, 18.0, 18.0, 18.0, 18.0, 18.0, 18.0, 18.0, 18.0, 18.0, 18.0, 18.0, 18.0, 18.0, 18.0], \"yaxis\": \"y\"}, {\"name\": \"Finland\", \"type\": \"scatter\", \"xaxis\": \"x\", \"y\": [2.0, 2.0, 2.0, 3.0, 6.0, 6.0, 6.0, 6.0, 12.0, 15.0, 15.0, 23.0, 30.0, 40.0, 59.0, 59.0, 155.0, 225.0, 244.0, 277.0, 321.0, 336.0, 400.0, 450.0, 523.0, 626.0, 700.0, 792.0, 880.0, 958.0, 1041.0, 1167.0, 1240.0, 1352.0, 1418.0, 1446.0, 1518.0, 1615.0, 1882.0, 1927.0, 2176.0, 2308.0, 2487.0, 2605.0, 2769.0, 2905.0, 2974.0, 3064.0, 3161.0, 3237.0, 3369.0, 3489.0, 3681.0, 3783.0, 3868.0, 4014.0, 4129.0, 4284.0, 4395.0, 4475.0, 4576.0, 4695.0, 4740.0, 4906.0], \"yaxis\": \"y\"}, {\"name\": \"France\", \"type\": \"scatter\", \"xaxis\": \"x\", \"y\": [5.0, 5.0, 5.0, 5.0, 5.0, 5.0, 5.0, 5.0, 7.0, 11.0, 11.0, 11.0, 11.0, 15.0, 18.0, 18.0, 20.0, 23.0, 28.0, 28.0, 28.0, 28.0, 28.0, 43.0, 43.0, 51.0, 51.0, 57.0, 61.0, 61.0, 72.0, 72.0, 77.0, 83.0, 83.0, 83.0, 86.0, 86.0, 86.0, 86.0, 86.0, 96.0, 96.0, 96.0, 97.0, 97.0, 97.0, 107.0, 111.0, 111.0, 111.0, 111.0, 125.0, 125.0, 126.0, 128.0, 128.0, 128.0, 133.0, 133.0, 138.0, 138.0, 141.0, 141.0], \"yaxis\": \"y\"}, {\"name\": \"Gabon\", \"type\": \"scatter\", \"xaxis\": \"x\", \"y\": [3.0, 4.0, 5.0, 5.0, 6.0, 6.0, 7.0, 7.0, 7.0, 7.0, 7.0, 16.0, 18.0, 21.0, 21.0, 21.0, 21.0, 24.0, 30.0, 34.0, 44.0, 44.0, 46.0, 49.0, 57.0, 57.0, 80.0, 80.0, 108.0, 108.0, 109.0, 120.0, 156.0, 166.0, 167.0, 172.0, 176.0, 176.0, 211.0, 238.0, 276.0, 276.0, 276.0, 335.0, 335.0, 367.0, 397.0, 397.0, 504.0, 620.0, 661.0, 661.0, 802.0, 863.0, 1004.0], \"yaxis\": \"y\"}, {\"name\": \"Gambia\", \"type\": \"scatter\", \"xaxis\": \"x\", \"y\": [2.0, 3.0, 3.0, 3.0, 3.0, 3.0, 4.0, 4.0, 4.0, 4.0, 4.0, 4.0, 4.0, 4.0, 4.0, 4.0, 4.0, 4.0, 4.0, 9.0, 9.0, 9.0, 9.0, 9.0, 9.0, 9.0, 9.0, 10.0, 10.0, 10.0, 10.0, 10.0, 10.0, 10.0, 10.0, 10.0, 10.0, 10.0, 11.0, 12.0, 17.0, 17.0, 17.0, 17.0, 17.0, 18.0, 20.0, 20.0, 20.0, 22.0, 22.0, 23.0], \"yaxis\": \"y\"}, {\"name\": \"Georgia\", \"type\": \"scatter\", \"xaxis\": \"x\", \"y\": [3.0, 3.0, 3.0, 3.0, 4.0, 4.0, 4.0, 13.0, 15.0, 15.0, 24.0, 24.0, 25.0, 30.0, 33.0, 33.0, 34.0, 38.0, 40.0, 43.0, 49.0, 54.0, 61.0, 70.0, 75.0, 79.0, 83.0, 90.0, 91.0, 103.0, 110.0, 117.0, 134.0, 155.0, 162.0, 174.0, 188.0, 196.0, 211.0, 218.0, 234.0, 242.0, 257.0, 272.0, 300.0, 306.0, 348.0, 370.0, 388.0, 394.0, 402.0, 408.0, 416.0, 425.0, 444.0, 456.0, 486.0, 497.0, 511.0, 517.0, 539.0, 566.0, 582.0, 589.0], \"yaxis\": \"y\"}, {\"name\": \"Germany\", \"type\": \"scatter\", \"xaxis\": \"x\", \"y\": [4.0, 4.0, 4.0, 5.0, 8.0, 10.0, 12.0, 12.0, 12.0, 12.0, 13.0, 13.0, 14.0, 14.0, 16.0, 16.0, 16.0, 16.0, 16.0, 16.0, 16.0, 16.0, 16.0, 16.0, 16.0, 16.0, 16.0, 16.0, 17.0, 27.0, 46.0, 48.0, 79.0, 130.0, 159.0, 196.0, 262.0, 482.0, 670.0, 799.0, 1040.0, 1176.0, 1457.0, 1908.0, 2078.0, 3675.0, 4585.0, 5795.0, 7272.0, 9257.0, 12327.0, 15320.0, 19848.0, 22213.0, 24873.0, 29056.0, 32986.0, 37323.0, 43938.0, 50871.0, 57695.0, 62095.0, 66885.0, 71808.0], \"yaxis\": \"y\"}, {\"name\": \"Ghana\", \"type\": \"scatter\", \"xaxis\": \"x\", \"y\": [3.0, 6.0, 6.0, 7.0, 7.0, 11.0, 16.0, 19.0, 23.0, 27.0, 53.0, 93.0, 132.0, 137.0, 141.0, 152.0, 152.0, 161.0, 195.0, 204.0, 205.0, 205.0, 214.0, 214.0, 287.0, 313.0, 378.0, 378.0, 408.0, 566.0, 566.0, 636.0, 636.0, 641.0, 641.0, 834.0, 1042.0, 1042.0, 1042.0, 1154.0, 1154.0, 1279.0, 1279.0, 1550.0, 1550.0, 1671.0, 1671.0, 2074.0, 2074.0, 2169.0, 2169.0, 2719.0, 2719.0, 3091.0, 3091.0, 4012.0, 4263.0, 4263.0, 4700.0, 5127.0, 5408.0], \"yaxis\": \"y\"}, {\"name\": \"Greece\", \"type\": \"scatter\", \"xaxis\": \"x\", \"y\": [3.0, 4.0, 4.0, 7.0, 7.0, 7.0, 9.0, 31.0, 45.0, 46.0, 73.0, 73.0, 89.0, 99.0, 99.0, 190.0, 228.0, 331.0, 331.0, 387.0, 418.0, 418.0, 495.0, 530.0, 624.0, 695.0, 743.0, 821.0, 892.0, 966.0, 1061.0, 1156.0, 1212.0, 1314.0, 1415.0, 1544.0, 1613.0, 1673.0, 1735.0, 1755.0, 1832.0, 1884.0, 1955.0, 2011.0, 2081.0, 2114.0, 2145.0, 2170.0, 2192.0, 2207.0, 2224.0, 2235.0, 2235.0, 2245.0, 2401.0, 2408.0, 2463.0, 2490.0, 2506.0, 2517.0, 2534.0, 2566.0, 2576.0, 2591.0], \"yaxis\": \"y\"}, {\"name\": \"Grenada\", \"type\": \"scatter\", \"xaxis\": \"x\", \"y\": [7.0, 7.0, 7.0, 9.0, 9.0, 9.0, 9.0, 10.0, 12.0, 12.0, 12.0, 12.0, 12.0, 12.0, 12.0, 14.0, 14.0, 14.0, 14.0, 14.0, 14.0, 14.0, 14.0, 14.0, 14.0, 14.0, 14.0, 15.0, 15.0, 15.0, 18.0, 18.0, 18.0, 19.0, 20.0, 20.0, 20.0, 21.0, 21.0, 21.0, 21.0, 21.0, 21.0, 21.0, 21.0, 21.0, 21.0, 21.0, 21.0], \"yaxis\": \"y\"}, {\"name\": \"Guatemala\", \"type\": \"scatter\", \"xaxis\": \"x\", \"y\": [2.0, 6.0, 6.0, 9.0, 12.0, 17.0, 19.0, 20.0, 21.0, 24.0, 25.0, 28.0, 34.0, 34.0, 36.0, 38.0, 39.0, 47.0, 50.0, 61.0, 61.0, 70.0, 77.0, 87.0, 95.0, 126.0, 137.0, 155.0, 156.0, 167.0, 180.0, 196.0, 214.0, 235.0, 257.0, 289.0, 294.0, 316.0, 384.0, 430.0, 473.0, 500.0, 530.0, 530.0, 557.0, 599.0, 644.0, 688.0, 703.0, 730.0, 763.0, 798.0, 832.0, 900.0, 967.0, 1052.0, 1114.0, 1199.0, 1342.0], \"yaxis\": \"y\"}, {\"name\": \"Guinea\", \"type\": \"scatter\", \"xaxis\": \"x\", \"y\": [2.0, 2.0, 4.0, 4.0, 4.0, 4.0, 8.0, 8.0, 16.0, 22.0, 22.0, 30.0, 52.0, 73.0, 111.0, 121.0, 128.0, 144.0, 164.0, 194.0, 212.0, 250.0, 250.0, 319.0, 363.0, 404.0, 438.0, 477.0, 518.0, 579.0, 622.0, 688.0, 761.0, 862.0, 954.0, 996.0, 996.0, 1163.0, 1240.0, 1351.0, 1495.0, 1537.0, 1586.0, 1586.0, 1710.0, 1811.0, 1856.0, 1927.0, 2009.0, 2042.0, 2146.0, 2146.0, 2298.0, 2374.0], \"yaxis\": \"y\"}, {\"name\": \"Guinea-Bissau\", \"type\": \"scatter\", \"xaxis\": \"x\", \"y\": [2.0, 2.0, 2.0, 2.0, 2.0, 8.0, 8.0, 9.0, 9.0, 15.0, 18.0, 18.0, 18.0, 33.0, 33.0, 36.0, 36.0, 38.0, 38.0, 38.0, 38.0, 43.0, 43.0, 43.0, 46.0, 50.0, 50.0, 50.0, 50.0, 50.0, 52.0, 52.0, 53.0, 73.0, 73.0, 205.0, 205.0, 257.0, 257.0, 257.0, 413.0, 413.0, 475.0, 564.0, 594.0, 641.0, 726.0, 761.0, 820.0, 836.0], \"yaxis\": \"y\"}, {\"name\": \"Guyana\", \"type\": \"scatter\", \"xaxis\": \"x\", \"y\": [4.0, 4.0, 7.0, 7.0, 7.0, 7.0, 7.0, 19.0, 20.0, 5.0, 5.0, 5.0, 5.0, 8.0, 8.0, 8.0, 12.0, 19.0, 19.0, 23.0, 23.0, 24.0, 31.0, 33.0, 37.0, 37.0, 37.0, 45.0, 45.0, 45.0, 47.0, 55.0, 55.0, 63.0, 63.0, 65.0, 65.0, 66.0, 67.0, 70.0, 73.0, 73.0, 74.0, 74.0, 74.0, 78.0, 82.0, 82.0, 82.0, 82.0, 92.0, 93.0, 93.0, 93.0, 94.0, 94.0, 104.0, 109.0, 113.0, 113.0], \"yaxis\": \"y\"}, {\"name\": \"Haiti\", \"type\": \"scatter\", \"xaxis\": \"x\", \"y\": [2.0, 2.0, 2.0, 6.0, 7.0, 8.0, 8.0, 8.0, 8.0, 15.0, 15.0, 15.0, 16.0, 16.0, 18.0, 20.0, 21.0, 24.0, 25.0, 27.0, 30.0, 31.0, 33.0, 33.0, 40.0, 40.0, 41.0, 41.0, 43.0, 44.0, 47.0, 57.0, 57.0, 62.0, 72.0, 72.0, 72.0, 74.0, 76.0, 76.0, 76.0, 81.0, 85.0, 85.0, 88.0, 100.0, 101.0, 101.0, 129.0, 146.0, 151.0, 182.0, 209.0, 209.0, 234.0], \"yaxis\": \"y\"}, {\"name\": \"Holy See\", \"type\": \"scatter\", \"xaxis\": \"x\", \"y\": [4.0, 4.0, 4.0, 4.0, 6.0, 6.0, 6.0, 6.0, 6.0, 7.0, 7.0, 7.0, 7.0, 7.0, 7.0, 8.0, 8.0, 8.0, 8.0, 8.0, 8.0, 8.0, 8.0, 8.0, 8.0, 8.0, 8.0, 9.0, 9.0, 9.0, 9.0, 9.0, 9.0, 9.0, 9.0, 10.0, 10.0, 11.0, 11.0, 11.0, 11.0, 11.0, 11.0, 12.0, 12.0, 12.0, 12.0, 12.0, 12.0, 12.0, 12.0], \"yaxis\": \"y\"}, {\"name\": \"Honduras\", \"type\": \"scatter\", \"xaxis\": \"x\", \"y\": [2.0, 2.0, 2.0, 2.0, 3.0, 6.0, 8.0, 9.0, 12.0, 24.0, 24.0, 26.0, 30.0, 30.0, 36.0, 52.0, 68.0, 95.0, 110.0, 139.0, 141.0, 172.0, 219.0, 222.0, 264.0, 268.0, 298.0, 305.0, 312.0, 343.0, 382.0, 392.0, 393.0, 397.0, 407.0, 419.0, 426.0, 442.0, 457.0, 472.0, 477.0, 494.0, 510.0, 519.0, 591.0, 627.0, 627.0, 661.0, 702.0, 738.0, 771.0, 804.0, 1010.0, 1055.0, 1178.0, 1270.0, 1461.0, 1685.0, 1771.0, 1830.0, 1972.0, 2100.0, 2080.0, 2255.0], \"yaxis\": \"y\"}, {\"name\": \"Hungary\", \"type\": \"scatter\", \"xaxis\": \"x\", \"y\": [2.0, 2.0, 2.0, 4.0, 7.0, 9.0, 9.0, 13.0, 13.0, 19.0, 30.0, 32.0, 39.0, 50.0, 58.0, 73.0, 85.0, 103.0, 131.0, 167.0, 187.0, 226.0, 261.0, 300.0, 343.0, 408.0, 447.0, 492.0, 525.0, 585.0, 623.0, 678.0, 733.0, 744.0, 817.0, 895.0, 980.0, 1190.0, 1310.0, 1410.0, 1458.0, 1512.0, 1579.0, 1652.0, 1763.0, 1834.0, 1916.0, 1984.0, 2098.0, 2168.0, 2284.0, 2443.0, 2443.0, 2500.0, 2583.0, 2649.0, 2727.0, 2775.0, 2863.0, 2942.0, 2998.0, 3035.0, 3065.0, 3111.0], \"yaxis\": \"y\"}, {\"name\": \"Iceland\", \"type\": \"scatter\", \"xaxis\": \"x\", \"y\": [3.0, 6.0, 11.0, 26.0, 34.0, 43.0, 50.0, 50.0, 58.0, 69.0, 85.0, 103.0, 134.0, 156.0, 171.0, 180.0, 220.0, 250.0, 330.0, 409.0, 473.0, 568.0, 588.0, 648.0, 737.0, 802.0, 890.0, 963.0, 1020.0, 1086.0, 1135.0, 1220.0, 1319.0, 1364.0, 1417.0, 1486.0, 1562.0, 1586.0, 1616.0, 1648.0, 1675.0, 1689.0, 1701.0, 1711.0, 1720.0, 1727.0, 1739.0, 1754.0, 1760.0, 1771.0, 1773.0, 1778.0, 1785.0, 1789.0, 1789.0, 1790.0, 1792.0, 1792.0, 1795.0, 1797.0, 1797.0, 1798.0, 1798.0, 1799.0], \"yaxis\": \"y\"}, {\"name\": \"India\", \"type\": \"scatter\", \"xaxis\": \"x\", \"y\": [2.0, 3.0, 3.0, 3.0, 3.0, 3.0, 3.0, 3.0, 3.0, 3.0, 3.0, 3.0, 3.0, 3.0, 3.0, 3.0, 3.0, 3.0, 3.0, 3.0, 3.0, 3.0, 3.0, 3.0, 3.0, 3.0, 3.0, 3.0, 3.0, 5.0, 5.0, 28.0, 30.0, 31.0, 34.0, 39.0, 43.0, 56.0, 62.0, 73.0, 82.0, 102.0, 113.0, 119.0, 142.0, 156.0, 194.0, 244.0, 330.0, 396.0, 499.0, 536.0, 657.0, 727.0, 887.0, 987.0, 1024.0, 1251.0, 1397.0, 1998.0, 2543.0, 2567.0, 3082.0, 3588.0], \"yaxis\": \"y\"}, {\"name\": \"Indonesia\", \"type\": \"scatter\", \"xaxis\": \"x\", \"y\": [2.0, 2.0, 2.0, 2.0, 4.0, 4.0, 6.0, 19.0, 27.0, 34.0, 34.0, 69.0, 96.0, 117.0, 134.0, 172.0, 227.0, 311.0, 369.0, 450.0, 514.0, 579.0, 686.0, 790.0, 893.0, 1046.0, 1155.0, 1285.0, 1414.0, 1528.0, 1677.0, 1790.0, 1986.0, 2092.0, 2273.0, 2491.0, 2738.0, 2956.0, 3293.0, 3512.0, 3842.0, 4241.0, 4557.0, 4839.0, 5136.0, 5516.0, 5923.0, 6248.0, 6575.0, 6760.0, 7135.0, 7418.0, 7775.0, 8211.0, 8607.0, 8882.0, 9096.0, 9511.0, 9771.0, 10118.0, 10551.0, 10843.0, 11192.0, 11587.0], \"yaxis\": \"y\"}, {\"name\": \"Iran\", \"type\": \"scatter\", \"xaxis\": \"x\", \"y\": [2.0, 5.0, 18.0, 28.0, 43.0, 61.0, 95.0, 139.0, 245.0, 388.0, 593.0, 978.0, 1501.0, 2336.0, 2922.0, 3513.0, 4747.0, 5823.0, 6566.0, 7161.0, 8042.0, 9000.0, 10075.0, 11364.0, 12729.0, 13938.0, 14991.0, 16169.0, 17361.0, 18407.0, 19644.0, 20610.0, 21638.0, 23049.0, 24811.0, 27017.0, 29406.0, 32332.0, 35408.0, 38309.0, 41495.0, 44605.0, 47593.0, 50468.0, 53183.0, 55743.0, 58226.0, 60500.0, 62589.0, 64586.0, 66220.0, 68192.0, 70029.0, 71686.0, 73303.0, 74877.0, 76389.0, 77995.0, 79494.0, 80868.0, 82211.0, 83505.0, 84802.0, 85996.0], \"yaxis\": \"y\"}, {\"name\": \"Iraq\", \"type\": \"scatter\", \"xaxis\": \"x\", \"y\": [5.0, 7.0, 7.0, 13.0, 19.0, 26.0, 32.0, 35.0, 35.0, 40.0, 54.0, 60.0, 60.0, 71.0, 71.0, 71.0, 101.0, 110.0, 116.0, 124.0, 154.0, 164.0, 192.0, 208.0, 214.0, 233.0, 266.0, 316.0, 346.0, 382.0, 458.0, 506.0, 547.0, 630.0, 694.0, 728.0, 772.0, 820.0, 878.0, 961.0, 1031.0, 1122.0, 1202.0, 1232.0, 1279.0, 1318.0, 1352.0, 1378.0, 1400.0, 1415.0, 1434.0, 1482.0, 1513.0, 1539.0, 1574.0, 1602.0, 1631.0, 1677.0, 1708.0, 1763.0, 1820.0, 1847.0, 1928.0, 2003.0], \"yaxis\": \"y\"}, {\"name\": \"Ireland\", \"type\": \"scatter\", \"xaxis\": \"x\", \"y\": [2.0, 6.0, 6.0, 18.0, 18.0, 19.0, 21.0, 34.0, 43.0, 43.0, 90.0, 129.0, 129.0, 169.0, 223.0, 292.0, 557.0, 683.0, 785.0, 906.0, 1125.0, 1329.0, 1564.0, 1819.0, 2121.0, 2415.0, 2615.0, 2910.0, 3235.0, 3447.0, 3849.0, 4273.0, 4604.0, 4994.0, 5364.0, 5709.0, 6074.0, 6574.0, 8089.0, 8928.0, 9655.0, 10647.0, 11479.0, 12547.0, 13271.0, 13980.0, 14758.0, 15251.0, 15652.0, 16040.0, 16671.0, 17607.0, 18184.0, 18561.0, 19262.0, 19648.0, 19877.0, 20253.0, 20612.0, 20833.0, 21176.0, 21506.0, 21772.0, 21983.0], \"yaxis\": \"y\"}, {\"name\": \"Israel\", \"type\": \"scatter\", \"xaxis\": \"x\", \"y\": [2.0, 3.0, 4.0, 7.0, 10.0, 10.0, 12.0, 15.0, 20.0, 37.0, 43.0, 61.0, 61.0, 75.0, 79.0, 100.0, 126.0, 155.0, 213.0, 218.0, 250.0, 304.0, 427.0, 529.0, 712.0, 883.0, 1071.0, 1238.0, 2369.0, 2693.0, 3035.0, 3619.0, 4247.0, 4695.0, 5358.0, 6092.0, 6857.0, 7428.0, 7851.0, 8430.0, 8904.0, 9248.0, 9404.0, 9968.0, 10408.0, 10743.0, 11145.0, 11586.0, 12046.0, 12501.0, 12758.0, 12982.0, 13265.0, 13491.0, 13713.0, 13942.0, 14498.0, 14803.0, 15058.0, 15298.0, 15443.0, 15555.0, 15728.0, 15834.0], \"yaxis\": \"y\"}, {\"name\": \"Italy\", \"type\": \"scatter\", \"xaxis\": \"x\", \"y\": [2.0, 2.0, 2.0, 2.0, 2.0, 2.0, 2.0, 3.0, 3.0, 3.0, 3.0, 3.0, 3.0, 3.0, 3.0, 3.0, 3.0, 3.0, 3.0, 3.0, 3.0, 20.0, 62.0, 155.0, 229.0, 322.0, 453.0, 655.0, 888.0, 1128.0, 1694.0, 2036.0, 2502.0, 3089.0, 3858.0, 4636.0, 5883.0, 7375.0, 9172.0, 10149.0, 12462.0, 12462.0, 17660.0, 21157.0, 24747.0, 27980.0, 31506.0, 35713.0, 41035.0, 47021.0, 53578.0, 59138.0, 63927.0, 69176.0, 74386.0, 80589.0, 86498.0, 92472.0, 97689.0, 101739.0, 105792.0, 110574.0, 115242.0, 119827.0], \"yaxis\": \"y\"}, {\"name\": \"Jamaica\", \"type\": \"scatter\", \"xaxis\": \"x\", \"y\": [2.0, 8.0, 8.0, 10.0, 10.0, 12.0, 13.0, 15.0, 16.0, 16.0, 19.0, 19.0, 21.0, 26.0, 26.0, 26.0, 30.0, 32.0, 36.0, 36.0, 44.0, 47.0, 47.0, 53.0, 58.0, 58.0, 63.0, 63.0, 63.0, 63.0, 65.0, 69.0, 73.0, 73.0, 125.0, 143.0, 143.0, 163.0, 173.0, 223.0, 223.0, 233.0, 257.0, 288.0, 305.0, 350.0, 364.0, 364.0, 396.0, 422.0, 432.0, 463.0, 469.0, 471.0, 473.0, 478.0, 488.0, 490.0, 490.0, 502.0, 505.0, 507.0, 509.0], \"yaxis\": \"y\"}, {\"name\": \"Japan\", \"type\": \"scatter\", \"xaxis\": \"x\", \"y\": [2.0, 2.0, 2.0, 4.0, 4.0, 7.0, 7.0, 11.0, 15.0, 20.0, 20.0, 20.0, 22.0, 22.0, 22.0, 25.0, 25.0, 26.0, 26.0, 26.0, 28.0, 28.0, 29.0, 43.0, 59.0, 66.0, 74.0, 84.0, 94.0, 105.0, 122.0, 147.0, 159.0, 170.0, 189.0, 214.0, 228.0, 241.0, 256.0, 274.0, 293.0, 331.0, 360.0, 420.0, 461.0, 502.0, 511.0, 581.0, 639.0, 639.0, 701.0, 773.0, 839.0, 839.0, 878.0, 889.0, 924.0, 963.0, 1007.0, 1101.0, 1128.0, 1193.0, 1307.0, 1387.0], \"yaxis\": \"y\"}, {\"name\": \"Jordan\", \"type\": \"scatter\", \"xaxis\": \"x\", \"y\": [8.0, 17.0, 34.0, 52.0, 69.0, 85.0, 85.0, 112.0, 127.0, 154.0, 172.0, 212.0, 235.0, 246.0, 259.0, 268.0, 274.0, 278.0, 299.0, 310.0, 323.0, 345.0, 349.0, 353.0, 358.0, 372.0, 372.0, 381.0, 389.0, 391.0, 397.0, 401.0, 402.0, 407.0, 413.0, 417.0, 425.0, 428.0, 435.0, 437.0, 441.0, 444.0, 447.0, 449.0, 449.0, 451.0, 453.0, 459.0, 460.0, 461.0, 465.0, 471.0, 473.0, 494.0, 508.0, 522.0, 540.0, 562.0, 576.0, 582.0], \"yaxis\": \"y\"}, {\"name\": \"Kazakhstan\", \"type\": \"scatter\", \"xaxis\": \"x\", \"y\": [4.0, 6.0, 9.0, 10.0, 33.0, 35.0, 44.0, 49.0, 53.0, 60.0, 62.0, 72.0, 81.0, 111.0, 150.0, 228.0, 284.0, 302.0, 343.0, 380.0, 435.0, 464.0, 531.0, 584.0, 662.0, 697.0, 727.0, 781.0, 812.0, 865.0, 951.0, 1091.0, 1232.0, 1295.0, 1402.0, 1546.0, 1615.0, 1676.0, 1852.0, 1995.0, 2135.0, 2289.0, 2482.0, 2601.0, 2717.0, 2835.0, 3027.0, 3138.0, 3402.0, 3597.0, 3857.0, 3920.0, 4049.0, 4205.0, 4422.0, 4578.0, 4834.0, 4975.0, 5090.0, 5207.0, 5279.0, 5417.0], \"yaxis\": \"y\"}, {\"name\": \"Kenya\", \"type\": \"scatter\", \"xaxis\": \"x\", \"y\": [3.0, 3.0, 3.0, 3.0, 7.0, 7.0, 7.0, 15.0, 16.0, 25.0, 28.0, 31.0, 31.0, 38.0, 42.0, 50.0, 59.0, 81.0, 110.0, 122.0, 126.0, 142.0, 158.0, 172.0, 179.0, 184.0, 189.0, 191.0, 197.0, 208.0, 216.0, 225.0, 234.0, 246.0, 262.0, 270.0, 281.0, 296.0, 303.0, 320.0, 336.0, 343.0, 355.0, 363.0, 374.0, 384.0, 396.0, 411.0, 435.0, 465.0, 490.0, 535.0, 582.0, 607.0, 621.0, 649.0, 672.0, 700.0, 715.0, 737.0], \"yaxis\": \"y\"}, {\"name\": \"Korea, South\", \"type\": \"scatter\", \"xaxis\": \"x\", \"y\": [2.0, 2.0, 3.0, 4.0, 4.0, 4.0, 4.0, 11.0, 12.0, 15.0, 15.0, 16.0, 19.0, 23.0, 24.0, 24.0, 25.0, 27.0, 28.0, 28.0, 28.0, 28.0, 28.0, 29.0, 30.0, 31.0, 31.0, 104.0, 204.0, 433.0, 602.0, 833.0, 977.0, 1261.0, 1766.0, 2337.0, 3150.0, 3736.0, 4335.0, 5186.0, 5621.0, 6088.0, 6593.0, 7041.0, 7314.0, 7478.0, 7513.0, 7755.0, 7869.0, 7979.0, 8086.0, 8162.0, 8236.0, 8320.0, 8413.0, 8565.0, 8652.0, 8799.0, 8961.0, 8961.0, 9037.0, 9137.0, 9241.0, 9332.0], \"yaxis\": \"y\"}, {\"name\": \"Kosovo\", \"type\": \"scatter\", \"xaxis\": \"x\", \"y\": [71.0, 86.0, 91.0, 94.0, 94.0, 112.0, 125.0, 125.0, 126.0, 135.0, 145.0, 145.0, 170.0, 184.0, 184.0, 250.0, 283.0, 283.0, 283.0, 387.0, 387.0, 449.0, 480.0, 510.0, 561.0, 598.0, 604.0, 630.0, 669.0, 703.0, 731.0, 763.0, 780.0, 790.0, 799.0, 806.0, 806.0, 823.0, 851.0, 855.0, 856.0, 856.0, 861.0, 861.0, 862.0, 870.0, 884.0, 919.0, 919.0], \"yaxis\": \"y\"}, {\"name\": \"Kuwait\", \"type\": \"scatter\", \"xaxis\": \"x\", \"y\": [11.0, 26.0, 43.0, 45.0, 45.0, 45.0, 56.0, 56.0, 56.0, 58.0, 58.0, 61.0, 64.0, 64.0, 69.0, 72.0, 80.0, 80.0, 104.0, 112.0, 123.0, 130.0, 142.0, 148.0, 159.0, 176.0, 188.0, 189.0, 191.0, 195.0, 208.0, 225.0, 235.0, 255.0, 266.0, 289.0, 317.0, 342.0, 417.0, 479.0, 556.0, 665.0, 743.0, 855.0, 910.0, 993.0, 1154.0, 1234.0, 1300.0, 1355.0, 1405.0, 1524.0, 1658.0, 1751.0, 1915.0, 1995.0, 2080.0, 2248.0, 2399.0, 2614.0, 2892.0, 3075.0, 3288.0, 3440.0], \"yaxis\": \"y\"}, {\"name\": \"Kyrgyzstan\", \"type\": \"scatter\", \"xaxis\": \"x\", \"y\": [3.0, 3.0, 6.0, 14.0, 14.0, 16.0, 42.0, 44.0, 44.0, 58.0, 58.0, 84.0, 94.0, 107.0, 111.0, 116.0, 130.0, 144.0, 147.0, 216.0, 228.0, 270.0, 280.0, 298.0, 339.0, 377.0, 419.0, 430.0, 449.0, 466.0, 489.0, 506.0, 554.0, 568.0, 590.0, 612.0, 631.0, 665.0, 665.0, 682.0, 695.0, 708.0, 729.0, 746.0, 756.0, 769.0, 795.0, 830.0, 843.0, 871.0, 895.0, 906.0, 931.0, 1002.0, 1016.0, 1037.0, 1044.0], \"yaxis\": \"y\"}, {\"name\": \"Laos\", \"type\": \"scatter\", \"xaxis\": \"x\", \"y\": [2.0, 3.0, 6.0, 6.0, 8.0, 8.0, 8.0, 9.0, 10.0, 10.0, 10.0, 10.0, 11.0, 12.0, 14.0, 15.0, 16.0, 16.0, 18.0, 19.0, 19.0, 19.0, 19.0, 19.0, 19.0, 19.0, 19.0, 19.0, 19.0, 19.0, 19.0, 19.0, 19.0, 19.0, 19.0, 19.0, 19.0, 19.0, 19.0, 19.0, 19.0, 19.0, 19.0, 19.0, 19.0, 19.0, 19.0, 19.0, 19.0, 19.0, 19.0], \"yaxis\": \"y\"}, {\"name\": \"Latvia\", \"type\": \"scatter\", \"xaxis\": \"x\", \"y\": [2.0, 6.0, 8.0, 10.0, 10.0, 17.0, 26.0, 30.0, 34.0, 49.0, 71.0, 86.0, 111.0, 124.0, 139.0, 180.0, 197.0, 221.0, 244.0, 280.0, 305.0, 347.0, 376.0, 398.0, 446.0, 458.0, 493.0, 509.0, 533.0, 542.0, 548.0, 577.0, 589.0, 612.0, 630.0, 651.0, 655.0, 657.0, 666.0, 675.0, 682.0, 712.0, 727.0, 739.0, 748.0, 761.0, 778.0, 784.0, 804.0, 812.0, 818.0, 836.0, 849.0, 858.0, 870.0, 871.0, 879.0, 896.0, 896.0, 900.0, 909.0, 928.0, 930.0, 939.0], \"yaxis\": \"y\"}, {\"name\": \"Lebanon\", \"type\": \"scatter\", \"xaxis\": \"x\", \"y\": [2.0, 2.0, 2.0, 4.0, 10.0, 13.0, 13.0, 13.0, 16.0, 22.0, 22.0, 32.0, 32.0, 41.0, 61.0, 61.0, 77.0, 93.0, 110.0, 110.0, 120.0, 133.0, 157.0, 163.0, 187.0, 248.0, 267.0, 318.0, 333.0, 368.0, 391.0, 412.0, 438.0, 446.0, 470.0, 479.0, 494.0, 508.0, 520.0, 527.0, 541.0, 548.0, 576.0, 582.0, 609.0, 619.0, 630.0, 632.0, 641.0, 658.0, 663.0, 668.0, 672.0, 673.0, 677.0, 677.0, 682.0, 688.0, 696.0, 704.0, 707.0, 710.0, 717.0, 721.0], \"yaxis\": \"y\"}, {\"name\": \"Liberia\", \"type\": \"scatter\", \"xaxis\": \"x\", \"y\": [2.0, 2.0, 2.0, 3.0, 3.0, 3.0, 3.0, 3.0, 3.0, 3.0, 3.0, 3.0, 3.0, 3.0, 6.0, 6.0, 7.0, 10.0, 13.0, 14.0, 14.0, 31.0, 31.0, 37.0, 48.0, 50.0, 59.0, 59.0, 59.0, 59.0, 76.0, 76.0, 91.0, 99.0, 101.0, 101.0, 101.0, 117.0, 120.0, 124.0, 124.0, 141.0, 141.0, 141.0, 152.0, 154.0, 158.0, 166.0, 170.0, 178.0, 189.0, 199.0, 199.0, 199.0, 211.0, 211.0, 213.0], \"yaxis\": \"y\"}, {\"name\": \"Libya\", \"type\": \"scatter\", \"xaxis\": \"x\", \"y\": [3.0, 8.0, 8.0, 10.0, 10.0, 11.0, 11.0, 18.0, 18.0, 19.0, 20.0, 21.0, 24.0, 24.0, 24.0, 25.0, 26.0, 35.0, 48.0, 49.0, 49.0, 49.0, 51.0, 51.0, 51.0, 59.0, 60.0, 61.0, 61.0, 61.0, 61.0, 61.0, 61.0, 61.0, 63.0, 63.0, 63.0, 63.0, 63.0, 64.0, 64.0, 64.0, 64.0, 64.0, 64.0, 64.0, 64.0], \"yaxis\": \"y\"}, {\"name\": \"Liechtenstein\", \"type\": \"scatter\", \"xaxis\": \"x\", \"y\": [4.0, 4.0, 4.0, 7.0, 28.0, 28.0, 28.0, 37.0, 37.0, 51.0, 51.0, 51.0, 56.0, 56.0, 56.0, 56.0, 62.0, 68.0, 68.0, 75.0, 75.0, 77.0, 77.0, 77.0, 78.0, 78.0, 78.0, 79.0, 79.0, 79.0, 79.0, 79.0, 79.0, 79.0, 79.0, 79.0, 81.0, 81.0, 81.0, 81.0, 81.0, 81.0, 81.0, 82.0, 82.0, 82.0, 82.0, 82.0, 82.0, 82.0, 82.0, 82.0, 82.0, 82.0, 82.0, 82.0, 82.0, 82.0, 82.0, 82.0, 82.0], \"yaxis\": \"y\"}, {\"name\": \"Lithuania\", \"type\": \"scatter\", \"xaxis\": \"x\", \"y\": [3.0, 3.0, 6.0, 8.0, 12.0, 17.0, 25.0, 27.0, 36.0, 49.0, 83.0, 143.0, 179.0, 209.0, 274.0, 299.0, 358.0, 394.0, 460.0, 491.0, 537.0, 581.0, 649.0, 696.0, 771.0, 811.0, 843.0, 880.0, 912.0, 955.0, 999.0, 1026.0, 1053.0, 1062.0, 1070.0, 1091.0, 1128.0, 1149.0, 1239.0, 1298.0, 1326.0, 1350.0, 1370.0, 1398.0, 1410.0, 1426.0, 1438.0, 1449.0, 1344.0, 1375.0, 1385.0, 1399.0, 1406.0, 1410.0, 1419.0, 1423.0, 1428.0, 1433.0, 1436.0, 1444.0, 1479.0, 1485.0, 1491.0, 1505.0], \"yaxis\": \"y\"}, {\"name\": \"Luxembourg\", \"type\": \"scatter\", \"xaxis\": \"x\", \"y\": [2.0, 2.0, 3.0, 3.0, 5.0, 7.0, 19.0, 34.0, 51.0, 59.0, 77.0, 140.0, 203.0, 335.0, 484.0, 670.0, 798.0, 875.0, 1099.0, 1333.0, 1453.0, 1605.0, 1831.0, 1950.0, 1988.0, 2178.0, 2319.0, 2487.0, 2612.0, 2729.0, 2804.0, 2843.0, 2970.0, 3034.0, 3115.0, 3223.0, 3270.0, 3281.0, 3292.0, 3307.0, 3373.0, 3444.0, 3480.0, 3537.0, 3550.0, 3558.0, 3618.0, 3654.0, 3665.0, 3695.0, 3711.0, 3723.0, 3729.0, 3741.0, 3769.0, 3784.0, 3802.0, 3812.0, 3824.0, 3828.0, 3840.0, 3851.0, 3859.0, 3871.0], \"yaxis\": \"y\"}, {\"name\": \"MS Zaandam\", \"type\": \"scatter\", \"xaxis\": \"x\", \"y\": [2.0, 2.0, 2.0, 2.0, 9.0, 9.0, 9.0, 9.0, 9.0, 9.0, 9.0, 9.0, 9.0, 9.0, 9.0, 9.0, 9.0, 9.0, 9.0, 9.0, 9.0, 9.0, 9.0, 9.0, 9.0, 9.0, 9.0, 9.0, 9.0, 9.0, 9.0, 9.0, 9.0, 9.0, 9.0, 9.0, 9.0, 9.0, 9.0, 9.0, 9.0, 9.0, 9.0, 9.0, 9.0, 9.0, 9.0], \"yaxis\": \"y\"}, {\"name\": \"Madagascar\", \"type\": \"scatter\", \"xaxis\": \"x\", \"y\": [3.0, 3.0, 3.0, 12.0, 17.0, 19.0, 23.0, 26.0, 26.0, 39.0, 43.0, 57.0, 57.0, 59.0, 70.0, 70.0, 72.0, 82.0, 88.0, 93.0, 93.0, 93.0, 102.0, 106.0, 106.0, 108.0, 110.0, 111.0, 117.0, 120.0, 121.0, 121.0, 121.0, 121.0, 121.0, 122.0, 123.0, 124.0, 128.0, 128.0, 128.0, 128.0, 132.0, 135.0, 149.0, 149.0, 151.0, 158.0, 193.0, 193.0, 193.0, 193.0, 186.0, 186.0, 212.0], \"yaxis\": \"y\"}, {\"name\": \"Malawi\", \"type\": \"scatter\", \"xaxis\": \"x\", \"y\": [3.0, 3.0, 4.0, 4.0, 5.0, 8.0, 8.0, 8.0, 9.0, 12.0, 13.0, 16.0, 16.0, 16.0, 16.0, 17.0, 17.0, 17.0, 17.0, 18.0, 23.0, 33.0, 33.0, 33.0, 34.0, 36.0, 36.0, 36.0, 37.0, 37.0, 38.0, 39.0, 41.0, 41.0, 43.0, 43.0, 43.0, 56.0, 56.0, 57.0, 57.0, 63.0], \"yaxis\": \"y\"}, {\"name\": \"Malaysia\", \"type\": \"scatter\", \"xaxis\": \"x\", \"y\": [3.0, 4.0, 4.0, 4.0, 7.0, 8.0, 8.0, 8.0, 8.0, 8.0, 10.0, 12.0, 12.0, 12.0, 16.0, 16.0, 18.0, 18.0, 18.0, 19.0, 19.0, 22.0, 22.0, 22.0, 22.0, 22.0, 22.0, 22.0, 22.0, 22.0, 22.0, 22.0, 22.0, 23.0, 23.0, 25.0, 29.0, 29.0, 36.0, 50.0, 50.0, 83.0, 93.0, 99.0, 117.0, 129.0, 149.0, 149.0, 197.0, 238.0, 428.0, 566.0, 673.0, 790.0, 900.0, 1030.0, 1183.0, 1306.0, 1518.0, 1624.0, 1796.0, 2031.0, 2161.0, 2320.0], \"yaxis\": \"y\"}, {\"name\": \"Maldives\", \"type\": \"scatter\", \"xaxis\": \"x\", \"y\": [4.0, 4.0, 6.0, 8.0, 8.0, 9.0, 10.0, 13.0, 13.0, 13.0, 13.0, 13.0, 13.0, 13.0, 13.0, 13.0, 13.0, 13.0, 13.0, 16.0, 16.0, 17.0, 17.0, 18.0, 19.0, 19.0, 19.0, 19.0, 19.0, 19.0, 19.0, 19.0, 19.0, 19.0, 19.0, 20.0, 20.0, 20.0, 22.0, 25.0, 28.0, 35.0, 52.0, 69.0, 83.0, 86.0, 108.0, 129.0, 177.0, 214.0, 226.0, 250.0, 278.0, 468.0, 491.0, 519.0, 527.0, 541.0, 573.0, 617.0, 648.0, 744.0, 790.0, 835.0], \"yaxis\": \"y\"}, {\"name\": \"Mali\", \"type\": \"scatter\", \"xaxis\": \"x\", \"y\": [2.0, 4.0, 11.0, 18.0, 18.0, 25.0, 28.0, 31.0, 36.0, 39.0, 41.0, 45.0, 47.0, 56.0, 59.0, 74.0, 87.0, 87.0, 105.0, 123.0, 144.0, 148.0, 171.0, 171.0, 216.0, 224.0, 246.0, 258.0, 293.0, 309.0, 325.0, 370.0, 389.0, 408.0, 424.0, 482.0, 490.0, 508.0, 544.0, 563.0, 580.0, 612.0, 631.0, 650.0, 668.0, 692.0, 704.0, 712.0, 730.0, 758.0], \"yaxis\": \"y\"}, {\"name\": \"Malta\", \"type\": \"scatter\", \"xaxis\": \"x\", \"y\": [3.0, 3.0, 3.0, 5.0, 6.0, 6.0, 12.0, 18.0, 21.0, 30.0, 38.0, 38.0, 53.0, 64.0, 73.0, 90.0, 107.0, 110.0, 129.0, 134.0, 139.0, 149.0, 151.0, 156.0, 169.0, 188.0, 196.0, 202.0, 213.0, 227.0, 241.0, 293.0, 299.0, 337.0, 350.0, 370.0, 378.0, 384.0, 393.0, 399.0, 412.0, 422.0, 426.0, 427.0, 431.0, 443.0, 444.0, 445.0, 447.0, 448.0, 448.0, 450.0, 458.0, 463.0, 465.0, 467.0, 468.0, 477.0, 480.0, 482.0, 484.0, 486.0, 489.0, 490.0], \"yaxis\": \"y\"}, {\"name\": \"Mauritania\", \"type\": \"scatter\", \"xaxis\": \"x\", \"y\": [2.0, 2.0, 2.0, 2.0, 2.0, 2.0, 2.0, 3.0, 3.0, 5.0, 5.0, 5.0, 6.0, 6.0, 6.0, 6.0, 6.0, 6.0, 6.0, 6.0, 6.0, 7.0, 7.0, 7.0, 7.0, 7.0, 7.0, 7.0, 7.0, 7.0, 7.0, 7.0, 7.0, 7.0, 7.0, 7.0, 7.0, 7.0, 7.0, 7.0, 7.0, 8.0, 8.0, 8.0, 8.0, 8.0, 8.0, 8.0, 8.0, 8.0, 8.0, 8.0, 8.0, 8.0, 9.0, 15.0], \"yaxis\": \"y\"}, {\"name\": \"Mauritius\", \"type\": \"scatter\", \"xaxis\": \"x\", \"y\": [3.0, 3.0, 12.0, 14.0, 28.0, 36.0, 42.0, 48.0, 81.0, 94.0, 102.0, 107.0, 128.0, 143.0, 161.0, 169.0, 186.0, 196.0, 227.0, 244.0, 268.0, 273.0, 314.0, 318.0, 319.0, 324.0, 324.0, 324.0, 324.0, 324.0, 324.0, 325.0, 328.0, 328.0, 328.0, 329.0, 331.0, 331.0, 331.0, 332.0, 334.0, 334.0, 332.0, 332.0, 332.0, 332.0, 332.0, 332.0, 332.0, 332.0, 332.0, 332.0, 332.0, 332.0, 332.0, 332.0, 332.0], \"yaxis\": \"y\"}, {\"name\": \"Mexico\", \"type\": \"scatter\", \"xaxis\": \"x\", \"y\": [4.0, 5.0, 5.0, 5.0, 5.0, 5.0, 6.0, 6.0, 7.0, 7.0, 7.0, 8.0, 12.0, 26.0, 41.0, 53.0, 82.0, 93.0, 118.0, 164.0, 203.0, 251.0, 316.0, 367.0, 405.0, 475.0, 585.0, 717.0, 848.0, 993.0, 1094.0, 1215.0, 1378.0, 1510.0, 1688.0, 1890.0, 2143.0, 2439.0, 2785.0, 3181.0, 3441.0, 3844.0, 4219.0, 4661.0, 5014.0, 5399.0, 5847.0, 6297.0, 6875.0, 7497.0, 8261.0, 8772.0, 9501.0, 10544.0, 11633.0, 12872.0, 13842.0, 14677.0, 15529.0, 16752.0, 17799.0, 19224.0, 20739.0, 22088.0], \"yaxis\": \"y\"}, {\"name\": \"Moldova\", \"type\": \"scatter\", \"xaxis\": \"x\", \"y\": [3.0, 3.0, 3.0, 6.0, 12.0, 23.0, 23.0, 30.0, 30.0, 49.0, 66.0, 80.0, 94.0, 109.0, 125.0, 149.0, 177.0, 199.0, 231.0, 263.0, 298.0, 353.0, 423.0, 505.0, 591.0, 752.0, 864.0, 965.0, 1056.0, 1174.0, 1289.0, 1438.0, 1560.0, 1662.0, 1712.0, 1934.0, 2049.0, 2154.0, 2264.0, 2378.0, 2472.0, 2548.0, 2614.0, 2778.0, 2926.0, 3110.0, 3304.0, 3408.0, 3481.0, 3638.0, 3771.0, 3897.0, 3980.0, 4052.0, 4121.0, 4248.0, 4363.0, 4476.0, 4605.0, 4728.0, 4867.0, 4927.0, 4995.0, 5154.0], \"yaxis\": \"y\"}, {\"name\": \"Monaco\", \"type\": \"scatter\", \"xaxis\": \"x\", \"y\": [2.0, 2.0, 2.0, 2.0, 7.0, 7.0, 7.0, 7.0, 11.0, 11.0, 23.0, 23.0, 23.0, 31.0, 33.0, 42.0, 42.0, 46.0, 49.0, 52.0, 55.0, 60.0, 64.0, 66.0, 73.0, 77.0, 79.0, 81.0, 84.0, 90.0, 92.0, 93.0, 93.0, 93.0, 93.0, 93.0, 94.0, 94.0, 94.0, 94.0, 94.0, 94.0, 94.0, 94.0, 94.0, 94.0, 95.0, 95.0, 95.0, 95.0, 95.0, 95.0, 95.0, 95.0, 95.0, 95.0, 95.0, 95.0, 96.0, 96.0, 96.0, 96.0, 96.0], \"yaxis\": \"y\"}, {\"name\": \"Mongolia\", \"type\": \"scatter\", \"xaxis\": \"x\", \"y\": [5.0, 6.0, 6.0, 6.0, 10.0, 10.0, 10.0, 10.0, 10.0, 11.0, 11.0, 12.0, 12.0, 12.0, 12.0, 14.0, 14.0, 14.0, 14.0, 14.0, 15.0, 15.0, 16.0, 16.0, 16.0, 16.0, 16.0, 17.0, 30.0, 30.0, 31.0, 31.0, 31.0, 32.0, 33.0, 34.0, 35.0, 36.0, 37.0, 37.0, 38.0, 38.0, 38.0, 38.0, 38.0, 38.0, 39.0, 39.0, 40.0, 41.0, 41.0, 41.0, 42.0, 42.0, 42.0, 42.0, 42.0, 42.0], \"yaxis\": \"y\"}, {\"name\": \"Montenegro\", \"type\": \"scatter\", \"xaxis\": \"x\", \"y\": [2.0, 2.0, 3.0, 14.0, 14.0, 21.0, 27.0, 47.0, 52.0, 69.0, 82.0, 84.0, 85.0, 91.0, 109.0, 123.0, 144.0, 174.0, 201.0, 214.0, 233.0, 241.0, 248.0, 252.0, 255.0, 263.0, 272.0, 274.0, 283.0, 288.0, 303.0, 303.0, 307.0, 308.0, 312.0, 313.0, 315.0, 316.0, 319.0, 320.0, 321.0, 321.0, 321.0, 322.0, 322.0, 322.0, 322.0, 322.0, 323.0, 324.0, 324.0, 324.0, 324.0, 324.0, 324.0, 324.0, 324.0, 324.0], \"yaxis\": \"y\"}, {\"name\": \"Morocco\", \"type\": \"scatter\", \"xaxis\": \"x\", \"y\": [2.0, 2.0, 2.0, 2.0, 2.0, 3.0, 5.0, 6.0, 7.0, 17.0, 28.0, 29.0, 38.0, 49.0, 63.0, 77.0, 96.0, 115.0, 143.0, 170.0, 225.0, 275.0, 345.0, 402.0, 479.0, 556.0, 617.0, 654.0, 708.0, 791.0, 919.0, 1021.0, 1120.0, 1184.0, 1275.0, 1374.0, 1448.0, 1545.0, 1661.0, 1763.0, 1888.0, 2024.0, 2283.0, 2564.0, 2685.0, 2855.0, 3046.0, 3209.0, 3446.0, 3568.0, 3758.0, 3897.0, 4065.0, 4120.0, 4252.0, 4321.0, 4423.0, 4569.0, 4729.0, 4903.0, 5053.0, 5219.0, 5408.0, 5548.0], \"yaxis\": \"y\"}, {\"name\": \"Mozambique\", \"type\": \"scatter\", \"xaxis\": \"x\", \"y\": [3.0, 5.0, 7.0, 7.0, 8.0, 8.0, 8.0, 8.0, 10.0, 10.0, 10.0, 10.0, 10.0, 10.0, 10.0, 17.0, 17.0, 20.0, 20.0, 21.0, 21.0, 28.0, 29.0, 31.0, 34.0, 35.0, 39.0, 39.0, 39.0, 41.0, 46.0, 65.0, 70.0, 76.0, 76.0, 76.0, 76.0, 76.0, 79.0, 79.0, 80.0, 80.0, 81.0, 81.0, 81.0, 82.0, 87.0, 91.0, 103.0, 104.0, 104.0], \"yaxis\": \"y\"}, {\"name\": \"Namibia\", \"type\": \"scatter\", \"xaxis\": \"x\", \"y\": [2.0, 2.0, 2.0, 2.0, 2.0, 3.0, 3.0, 3.0, 3.0, 4.0, 7.0, 7.0, 8.0, 8.0, 8.0, 11.0, 11.0, 11.0, 14.0, 14.0, 14.0, 14.0, 16.0, 16.0, 16.0, 16.0, 16.0, 16.0, 16.0, 16.0, 16.0, 16.0, 16.0, 16.0, 16.0, 16.0, 16.0, 16.0, 16.0, 16.0, 16.0, 16.0, 16.0, 16.0, 16.0, 16.0, 16.0, 16.0, 16.0, 16.0, 16.0, 16.0, 16.0, 16.0, 16.0, 16.0, 16.0, 16.0, 16.0, 16.0, 16.0], \"yaxis\": \"y\"}, {\"name\": \"Nepal\", \"type\": \"scatter\", \"xaxis\": \"x\", \"y\": [2.0, 2.0, 3.0, 3.0, 4.0, 5.0, 5.0, 5.0, 5.0, 5.0, 6.0, 6.0, 9.0, 9.0, 9.0, 9.0, 9.0, 9.0, 9.0, 9.0, 12.0, 14.0, 16.0, 16.0, 16.0, 30.0, 31.0, 31.0, 31.0, 43.0, 45.0, 48.0, 49.0, 49.0, 52.0, 52.0, 54.0, 57.0, 57.0, 59.0, 59.0, 75.0, 75.0, 82.0, 99.0, 101.0, 102.0, 110.0, 110.0, 134.0, 217.0, 250.0], \"yaxis\": \"y\"}, {\"name\": \"Netherlands\", \"type\": \"scatter\", \"xaxis\": \"x\", \"y\": [2.0, 2.0, 2.0, 2.0, 3.0, 4.0, 4.0, 5.0, 5.0, 9.0, 9.0, 12.0, 17.0, 28.0, 33.0, 46.0, 50.0, 50.0, 55.0, 55.0, 60.0, 62.0, 64.0, 64.0, 71.0, 74.0, 77.0, 82.0, 86.0, 92.0, 92.0, 92.0, 92.0, 93.0, 95.0, 96.0, 96.0, 97.0, 97.0, 97.0, 100.0, 100.0, 100.0, 100.0, 100.0, 100.0, 100.0, 100.0, 100.0, 100.0, 100.0, 100.0, 100.0, 101.0, 101.0, 101.0, 101.0, 101.0, 101.0, 101.0, 101.0, 101.0, 0.0, 0.0], \"yaxis\": \"y\"}, {\"name\": \"New Zealand\", \"type\": \"scatter\", \"xaxis\": \"x\", \"y\": [3.0, 3.0, 4.0, 5.0, 5.0, 5.0, 5.0, 5.0, 5.0, 5.0, 6.0, 8.0, 8.0, 12.0, 20.0, 28.0, 39.0, 52.0, 102.0, 102.0, 155.0, 205.0, 283.0, 368.0, 451.0, 514.0, 589.0, 647.0, 708.0, 797.0, 868.0, 950.0, 1039.0, 1106.0, 1160.0, 1210.0, 1239.0, 1283.0, 1312.0, 1330.0, 1349.0, 1366.0, 1386.0, 1401.0, 1409.0, 1422.0, 1431.0, 1440.0, 1445.0, 1451.0, 1456.0, 1461.0, 1470.0, 1469.0, 1472.0, 1474.0, 1476.0, 1479.0, 1485.0, 1487.0, 1487.0, 1486.0, 1488.0, 1489.0], \"yaxis\": \"y\"}, {\"name\": \"Nicaragua\", \"type\": \"scatter\", \"xaxis\": \"x\", \"y\": [2.0, 2.0, 2.0, 2.0, 2.0, 2.0, 2.0, 4.0, 4.0, 4.0, 5.0, 5.0, 5.0, 5.0, 5.0, 6.0, 6.0, 6.0, 6.0, 7.0, 7.0, 8.0, 9.0, 9.0, 9.0, 9.0, 9.0, 9.0, 9.0, 10.0, 10.0, 10.0, 10.0, 11.0, 11.0, 12.0, 13.0, 13.0, 13.0, 13.0, 14.0, 14.0, 14.0, 15.0, 15.0, 16.0, 16.0, 16.0, 16.0, 16.0, 16.0, 16.0, 25.0, 25.0], \"yaxis\": \"y\"}, {\"name\": \"Niger\", \"type\": \"scatter\", \"xaxis\": \"x\", \"y\": [2.0, 3.0, 3.0, 7.0, 10.0, 10.0, 10.0, 18.0, 27.0, 27.0, 74.0, 98.0, 120.0, 144.0, 184.0, 253.0, 278.0, 342.0, 410.0, 438.0, 491.0, 529.0, 529.0, 570.0, 584.0, 584.0, 627.0, 639.0, 648.0, 648.0, 657.0, 662.0, 671.0, 681.0, 684.0, 696.0, 701.0, 709.0, 713.0, 719.0, 728.0, 736.0, 750.0, 755.0, 763.0, 770.0, 781.0, 795.0, 815.0, 821.0, 832.0, 854.0, 860.0], \"yaxis\": \"y\"}, {\"name\": \"Nigeria\", \"type\": \"scatter\", \"xaxis\": \"x\", \"y\": [2.0, 2.0, 2.0, 2.0, 2.0, 2.0, 2.0, 2.0, 3.0, 8.0, 8.0, 12.0, 22.0, 30.0, 40.0, 44.0, 51.0, 65.0, 70.0, 89.0, 111.0, 131.0, 135.0, 174.0, 184.0, 210.0, 214.0, 232.0, 238.0, 254.0, 276.0, 288.0, 305.0, 318.0, 323.0, 343.0, 373.0, 407.0, 442.0, 493.0, 542.0, 627.0, 665.0, 665.0, 873.0, 981.0, 1095.0, 1182.0, 1273.0, 1337.0, 1532.0, 1728.0, 1932.0, 2170.0, 2388.0, 2558.0, 2802.0, 2950.0, 3145.0, 3526.0, 3912.0, 4151.0, 4399.0, 4641.0], \"yaxis\": \"y\"}, {\"name\": \"North Macedonia\", \"type\": \"scatter\", \"xaxis\": \"x\", \"y\": [3.0, 3.0, 3.0, 3.0, 7.0, 7.0, 7.0, 14.0, 14.0, 14.0, 18.0, 26.0, 35.0, 48.0, 67.0, 85.0, 115.0, 136.0, 148.0, 177.0, 201.0, 219.0, 241.0, 259.0, 285.0, 329.0, 354.0, 384.0, 430.0, 483.0, 555.0, 570.0, 599.0, 617.0, 663.0, 711.0, 760.0, 828.0, 854.0, 908.0, 974.0, 1081.0, 1117.0, 1170.0, 1207.0, 1225.0, 1231.0, 1259.0, 1300.0, 1326.0, 1367.0, 1386.0, 1399.0, 1421.0, 1442.0, 1465.0, 1494.0, 1506.0, 1511.0, 1518.0, 1526.0, 1539.0, 1572.0, 1586.0], \"yaxis\": \"y\"}, {\"name\": \"Norway\", \"type\": \"scatter\", \"xaxis\": \"x\", \"y\": [6.0, 15.0, 19.0, 25.0, 32.0, 56.0, 87.0, 108.0, 147.0, 176.0, 205.0, 400.0, 598.0, 702.0, 996.0, 1090.0, 1221.0, 1333.0, 1463.0, 1550.0, 1746.0, 1914.0, 2118.0, 2385.0, 2621.0, 2863.0, 3084.0, 3369.0, 3755.0, 4015.0, 4284.0, 4445.0, 4641.0, 4863.0, 5147.0, 5370.0, 5550.0, 5687.0, 5865.0, 6086.0, 6086.0, 6211.0, 6314.0, 6409.0, 6525.0, 6603.0, 6623.0, 6740.0, 6896.0, 6937.0, 7036.0, 7078.0, 7156.0, 7191.0, 7338.0, 7401.0, 7463.0, 7499.0, 7527.0, 7599.0, 7660.0, 7710.0, 7738.0, 7783.0], \"yaxis\": \"y\"}, {\"name\": \"Oman\", \"type\": \"scatter\", \"xaxis\": \"x\", \"y\": [2.0, 2.0, 4.0, 4.0, 4.0, 6.0, 6.0, 6.0, 12.0, 15.0, 16.0, 16.0, 16.0, 16.0, 16.0, 18.0, 18.0, 18.0, 19.0, 19.0, 22.0, 22.0, 24.0, 39.0, 48.0, 48.0, 52.0, 55.0, 66.0, 84.0, 99.0, 109.0, 131.0, 152.0, 167.0, 179.0, 192.0, 210.0, 231.0, 252.0, 277.0, 298.0, 331.0, 371.0, 419.0, 457.0, 484.0, 546.0, 599.0, 727.0, 813.0, 910.0, 1019.0, 1069.0, 1180.0, 1266.0, 1410.0, 1508.0, 1614.0, 1716.0, 1790.0, 1905.0, 1998.0, 2049.0], \"yaxis\": \"y\"}, {\"name\": \"Pakistan\", \"type\": \"scatter\", \"xaxis\": \"x\", \"y\": [2.0, 2.0, 2.0, 4.0, 4.0, 4.0, 5.0, 5.0, 5.0, 6.0, 6.0, 6.0, 6.0, 16.0, 19.0, 20.0, 28.0, 31.0, 53.0, 136.0, 236.0, 299.0, 454.0, 501.0, 730.0, 776.0, 875.0, 972.0, 1063.0, 1201.0, 1373.0, 1495.0, 1597.0, 1717.0, 1938.0, 2118.0, 2421.0, 2686.0, 2818.0, 3157.0, 3766.0, 4035.0, 4263.0, 4489.0, 4695.0, 5011.0, 5230.0, 5496.0, 5837.0, 6383.0, 6919.0, 7025.0, 7638.0, 8348.0, 8418.0, 9565.0, 10076.0, 11155.0, 11940.0, 12723.0, 13328.0, 13915.0, 14612.0, 15525.0], \"yaxis\": \"y\"}, {\"name\": \"Panama\", \"type\": \"scatter\", \"xaxis\": \"x\", \"y\": [8.0, 11.0, 27.0, 36.0, 43.0, 55.0, 69.0, 86.0, 109.0, 137.0, 200.0, 313.0, 345.0, 345.0, 443.0, 558.0, 674.0, 786.0, 901.0, 989.0, 1181.0, 1181.0, 1317.0, 1475.0, 1673.0, 1801.0, 1988.0, 2100.0, 2249.0, 2528.0, 2752.0, 2974.0, 3234.0, 3400.0, 3472.0, 3574.0, 3751.0, 4016.0, 4210.0, 4273.0, 4467.0, 4658.0, 4821.0, 5166.0, 5338.0, 5538.0, 5779.0, 6021.0, 6021.0, 6378.0, 6532.0, 6720.0, 7090.0, 7090.0, 7197.0, 7523.0, 7731.0, 7868.0, 8070.0, 8282.0, 8448.0, 8616.0, 8783.0, 8944.0], \"yaxis\": \"y\"}, {\"name\": \"Papua New Guinea\", \"type\": \"scatter\", \"xaxis\": \"x\", \"y\": [2.0, 2.0, 2.0, 2.0, 2.0, 2.0, 2.0, 2.0, 2.0, 2.0, 7.0, 7.0, 7.0, 7.0, 7.0, 7.0, 8.0, 8.0, 8.0, 8.0, 8.0, 8.0, 8.0, 8.0, 8.0, 8.0, 8.0, 8.0, 8.0, 8.0, 8.0, 8.0, 8.0, 8.0, 8.0, 8.0, 8.0, 8.0], \"yaxis\": \"y\"}, {\"name\": \"Paraguay\", \"type\": \"scatter\", \"xaxis\": \"x\", \"y\": [5.0, 5.0, 6.0, 6.0, 6.0, 8.0, 9.0, 11.0, 11.0, 13.0, 18.0, 22.0, 22.0, 27.0, 37.0, 41.0, 52.0, 56.0, 59.0, 64.0, 65.0, 69.0, 77.0, 92.0, 96.0, 104.0, 113.0, 115.0, 119.0, 124.0, 129.0, 133.0, 134.0, 147.0, 159.0, 161.0, 174.0, 199.0, 202.0, 206.0, 208.0, 208.0, 213.0, 213.0, 223.0, 228.0, 228.0, 228.0, 239.0, 239.0, 266.0, 333.0, 370.0, 396.0, 415.0, 431.0, 440.0, 462.0, 563.0, 689.0, 713.0, 724.0, 737.0, 740.0], \"yaxis\": \"y\"}, {\"name\": \"Peru\", \"type\": \"scatter\", \"xaxis\": \"x\", \"y\": [6.0, 7.0, 11.0, 11.0, 15.0, 28.0, 38.0, 43.0, 86.0, 117.0, 145.0, 234.0, 234.0, 318.0, 363.0, 395.0, 416.0, 480.0, 580.0, 635.0, 671.0, 852.0, 950.0, 1065.0, 1323.0, 1414.0, 1595.0, 1746.0, 2281.0, 2561.0, 2954.0, 4342.0, 5256.0, 5897.0, 6848.0, 7519.0, 9784.0, 10303.0, 11475.0, 12491.0, 13489.0, 14420.0, 15628.0, 16325.0, 17837.0, 19250.0, 20914.0, 21648.0, 25331.0, 27517.0, 28699.0, 31190.0, 33931.0, 36976.0, 40459.0, 42534.0, 45928.0, 47372.0, 51189.0, 54817.0, 58526.0, 61847.0, 65015.0, 67307.0], \"yaxis\": \"y\"}, {\"name\": \"Philippines\", \"type\": \"scatter\", \"xaxis\": \"x\", \"y\": [2.0, 2.0, 2.0, 2.0, 2.0, 3.0, 3.0, 3.0, 3.0, 3.0, 3.0, 3.0, 3.0, 3.0, 3.0, 3.0, 3.0, 3.0, 3.0, 3.0, 3.0, 3.0, 3.0, 3.0, 3.0, 3.0, 3.0, 3.0, 3.0, 3.0, 3.0, 3.0, 3.0, 5.0, 6.0, 10.0, 20.0, 33.0, 49.0, 52.0, 64.0, 111.0, 140.0, 142.0, 187.0, 202.0, 217.0, 230.0, 307.0, 380.0, 462.0, 552.0, 636.0, 707.0, 803.0, 1075.0, 1418.0, 1546.0, 2084.0, 2311.0, 2633.0, 3018.0, 3094.0, 3246.0], \"yaxis\": \"y\"}, {\"name\": \"Poland\", \"type\": \"scatter\", \"xaxis\": \"x\", \"y\": [5.0, 5.0, 11.0, 16.0, 22.0, 31.0, 49.0, 68.0, 103.0, 119.0, 177.0, 238.0, 251.0, 355.0, 425.0, 536.0, 634.0, 749.0, 901.0, 1051.0, 1221.0, 1389.0, 1638.0, 1862.0, 2055.0, 2311.0, 2554.0, 2946.0, 3383.0, 3627.0, 4102.0, 4413.0, 4848.0, 5205.0, 5575.0, 5955.0, 6356.0, 6674.0, 6934.0, 7202.0, 7582.0, 7918.0, 8379.0, 8742.0, 9287.0, 9593.0, 9856.0, 10169.0, 10511.0, 10892.0, 11273.0, 11617.0, 11902.0, 12218.0, 12640.0, 12877.0, 13105.0, 13375.0, 13693.0, 14006.0, 14431.0, 14740.0, 15047.0, 15366.0], \"yaxis\": \"y\"}, {\"name\": \"Portugal\", \"type\": \"scatter\", \"xaxis\": \"x\", \"y\": [2.0, 2.0, 5.0, 8.0, 13.0, 20.0, 30.0, 30.0, 41.0, 59.0, 59.0, 112.0, 169.0, 245.0, 331.0, 448.0, 448.0, 785.0, 1020.0, 1280.0, 1600.0, 2060.0, 2362.0, 2995.0, 3544.0, 4268.0, 5170.0, 5962.0, 6408.0, 7443.0, 8251.0, 9034.0, 9886.0, 10524.0, 11278.0, 11730.0, 12442.0, 13141.0, 13956.0, 15472.0, 15987.0, 16585.0, 16934.0, 17448.0, 18091.0, 18841.0, 19022.0, 19685.0, 20206.0, 20863.0, 21379.0, 21982.0, 22353.0, 22797.0, 23392.0, 23864.0, 24027.0, 24322.0, 24505.0, 25045.0, 25351.0, 25190.0, 25282.0, 25524.0], \"yaxis\": \"y\"}, {\"name\": \"Qatar\", \"type\": \"scatter\", \"xaxis\": \"x\", \"y\": [3.0, 3.0, 7.0, 8.0, 8.0, 8.0, 8.0, 15.0, 18.0, 24.0, 262.0, 262.0, 320.0, 337.0, 401.0, 439.0, 439.0, 452.0, 460.0, 470.0, 481.0, 494.0, 501.0, 526.0, 537.0, 549.0, 562.0, 590.0, 634.0, 693.0, 781.0, 835.0, 949.0, 1075.0, 1325.0, 1604.0, 1832.0, 2057.0, 2210.0, 2376.0, 2512.0, 2728.0, 2979.0, 3231.0, 3428.0, 3711.0, 4103.0, 4663.0, 5008.0, 5448.0, 6015.0, 6533.0, 7141.0, 7764.0, 8525.0, 9358.0, 10287.0, 11244.0, 11921.0, 12564.0, 13409.0, 14096.0, 14872.0, 15551.0], \"yaxis\": \"y\"}, {\"name\": \"Romania\", \"type\": \"scatter\", \"xaxis\": \"x\", \"y\": [3.0, 3.0, 3.0, 3.0, 3.0, 4.0, 6.0, 9.0, 9.0, 15.0, 15.0, 25.0, 45.0, 49.0, 89.0, 123.0, 131.0, 158.0, 184.0, 260.0, 277.0, 308.0, 367.0, 433.0, 576.0, 794.0, 906.0, 1029.0, 1292.0, 1452.0, 1815.0, 2109.0, 2245.0, 2460.0, 2738.0, 3183.0, 3613.0, 3864.0, 4057.0, 4417.0, 4761.0, 5202.0, 5467.0, 5990.0, 6300.0, 6633.0, 6879.0, 7216.0, 7707.0, 8067.0, 8418.0, 8746.0, 8936.0, 9242.0, 9710.0, 10096.0, 10417.0, 10635.0, 11036.0, 11339.0, 11616.0, 11978.0, 12240.0, 12567.0], \"yaxis\": \"y\"}, {\"name\": \"Russia\", \"type\": \"scatter\", \"xaxis\": \"x\", \"y\": [2.0, 2.0, 2.0, 2.0, 2.0, 2.0, 2.0, 2.0, 2.0, 2.0, 2.0, 2.0, 2.0, 2.0, 2.0, 2.0, 2.0, 2.0, 2.0, 2.0, 2.0, 2.0, 2.0, 2.0, 2.0, 2.0, 2.0, 2.0, 2.0, 2.0, 2.0, 3.0, 3.0, 3.0, 4.0, 13.0, 13.0, 17.0, 17.0, 20.0, 20.0, 28.0, 45.0, 59.0, 63.0, 90.0, 114.0, 147.0, 199.0, 253.0, 306.0, 367.0, 438.0, 495.0, 658.0, 840.0, 1036.0, 1264.0, 1534.0, 1836.0, 2337.0, 2777.0, 3548.0, 4149.0], \"yaxis\": \"y\"}, {\"name\": \"Rwanda\", \"type\": \"scatter\", \"xaxis\": \"x\", \"y\": [5.0, 7.0, 8.0, 8.0, 17.0, 17.0, 19.0, 36.0, 40.0, 41.0, 50.0, 54.0, 60.0, 70.0, 70.0, 75.0, 82.0, 84.0, 89.0, 102.0, 104.0, 105.0, 105.0, 110.0, 110.0, 118.0, 120.0, 126.0, 127.0, 134.0, 136.0, 138.0, 143.0, 144.0, 147.0, 147.0, 150.0, 153.0, 154.0, 176.0, 183.0, 191.0, 207.0, 212.0, 225.0, 243.0, 249.0, 255.0, 259.0, 261.0, 261.0, 268.0, 271.0, 273.0, 280.0, 284.0, 285.0, 286.0, 287.0], \"yaxis\": \"y\"}, {\"name\": \"Saint Kitts and Nevis\", \"type\": \"scatter\", \"xaxis\": \"x\", \"y\": [2.0, 2.0, 2.0, 2.0, 2.0, 7.0, 8.0, 8.0, 9.0, 9.0, 9.0, 10.0, 10.0, 11.0, 11.0, 11.0, 12.0, 12.0, 12.0, 12.0, 14.0, 14.0, 14.0, 14.0, 14.0, 14.0, 15.0, 15.0, 15.0, 15.0, 15.0, 15.0, 15.0, 15.0, 15.0, 15.0, 15.0, 15.0, 15.0, 15.0, 15.0, 15.0, 15.0, 15.0, 15.0, 15.0, 15.0, 15.0, 15.0, 15.0], \"yaxis\": \"y\"}, {\"name\": \"Saint Lucia\", \"type\": \"scatter\", \"xaxis\": \"x\", \"y\": [2.0, 2.0, 2.0, 2.0, 2.0, 2.0, 2.0, 2.0, 3.0, 3.0, 3.0, 3.0, 3.0, 3.0, 9.0, 9.0, 13.0, 13.0, 13.0, 13.0, 14.0, 14.0, 14.0, 14.0, 14.0, 14.0, 15.0, 15.0, 15.0, 15.0, 15.0, 15.0, 15.0, 15.0, 15.0, 15.0, 15.0, 15.0, 15.0, 15.0, 15.0, 15.0, 15.0, 15.0, 15.0, 17.0, 17.0, 17.0, 17.0, 18.0, 18.0, 18.0, 18.0, 18.0, 18.0, 18.0, 18.0, 18.0, 18.0, 18.0], \"yaxis\": \"y\"}, {\"name\": \"Saint Vincent and the Grenadines\", \"type\": \"scatter\", \"xaxis\": \"x\", \"y\": [2.0, 3.0, 7.0, 7.0, 7.0, 8.0, 8.0, 12.0, 12.0, 12.0, 12.0, 12.0, 12.0, 12.0, 12.0, 12.0, 12.0, 12.0, 12.0, 12.0, 13.0, 13.0, 14.0, 14.0, 14.0, 15.0, 15.0, 16.0, 16.0, 16.0, 16.0, 16.0, 17.0, 17.0, 17.0, 17.0, 17.0, 17.0, 17.0, 17.0, 17.0, 17.0], \"yaxis\": \"y\"}, {\"name\": \"San Marino\", \"type\": \"scatter\", \"xaxis\": \"x\", \"y\": [8.0, 10.0, 16.0, 21.0, 21.0, 23.0, 36.0, 36.0, 51.0, 62.0, 69.0, 80.0, 80.0, 101.0, 109.0, 109.0, 119.0, 119.0, 144.0, 144.0, 175.0, 187.0, 187.0, 208.0, 208.0, 223.0, 224.0, 224.0, 230.0, 236.0, 236.0, 245.0, 245.0, 259.0, 266.0, 266.0, 279.0, 279.0, 333.0, 344.0, 356.0, 356.0, 356.0, 371.0, 372.0, 426.0, 435.0, 455.0, 461.0, 462.0, 476.0, 488.0, 501.0, 513.0, 513.0, 538.0, 538.0, 553.0, 563.0, 569.0, 580.0, 580.0, 582.0, 582.0], \"yaxis\": \"y\"}, {\"name\": \"Sao Tome and Principe\", \"type\": \"scatter\", \"xaxis\": \"x\", \"y\": [4.0, 4.0, 4.0, 4.0, 4.0, 4.0, 4.0, 4.0, 4.0, 4.0, 4.0, 4.0, 4.0, 4.0, 4.0, 4.0, 4.0, 4.0, 4.0, 4.0, 4.0, 4.0, 8.0, 8.0, 14.0, 16.0, 16.0, 16.0, 23.0, 174.0, 174.0, 187.0, 208.0, 208.0, 208.0, 208.0, 208.0, 220.0], \"yaxis\": \"y\"}, {\"name\": \"Saudi Arabia\", \"type\": \"scatter\", \"xaxis\": \"x\", \"y\": [5.0, 5.0, 5.0, 11.0, 15.0, 20.0, 21.0, 45.0, 86.0, 103.0, 103.0, 118.0, 171.0, 171.0, 274.0, 344.0, 392.0, 511.0, 562.0, 767.0, 900.0, 1012.0, 1104.0, 1203.0, 1299.0, 1453.0, 1563.0, 1720.0, 1885.0, 2039.0, 2179.0, 2402.0, 2605.0, 2795.0, 2932.0, 3287.0, 3651.0, 4033.0, 4462.0, 4934.0, 5369.0, 5862.0, 6380.0, 7142.0, 8274.0, 9362.0, 10484.0, 11631.0, 12772.0, 13930.0, 15102.0, 16299.0, 17522.0, 18811.0, 20077.0, 21402.0, 22753.0, 24097.0, 25459.0, 27011.0, 28656.0, 30251.0, 31938.0, 33731.0], \"yaxis\": \"y\"}, {\"name\": \"Senegal\", \"type\": \"scatter\", \"xaxis\": \"x\", \"y\": [2.0, 4.0, 4.0, 4.0, 4.0, 4.0, 4.0, 4.0, 4.0, 4.0, 10.0, 10.0, 24.0, 24.0, 26.0, 31.0, 31.0, 38.0, 47.0, 67.0, 79.0, 86.0, 99.0, 105.0, 119.0, 130.0, 142.0, 162.0, 175.0, 190.0, 195.0, 207.0, 219.0, 222.0, 226.0, 237.0, 244.0, 250.0, 265.0, 278.0, 280.0, 291.0, 299.0, 314.0, 335.0, 342.0, 350.0, 367.0, 377.0, 412.0, 442.0, 479.0, 545.0, 614.0, 671.0, 736.0, 823.0, 882.0, 933.0, 1024.0, 1115.0, 1182.0, 1271.0, 1329.0], \"yaxis\": \"y\"}, {\"name\": \"Serbia\", \"type\": \"scatter\", \"xaxis\": \"x\", \"y\": [5.0, 12.0, 19.0, 35.0, 46.0, 48.0, 55.0, 65.0, 83.0, 103.0, 135.0, 171.0, 222.0, 249.0, 303.0, 384.0, 384.0, 457.0, 659.0, 741.0, 785.0, 900.0, 1060.0, 1171.0, 1476.0, 1624.0, 1908.0, 2200.0, 2447.0, 2666.0, 2867.0, 3105.0, 3380.0, 3630.0, 4054.0, 4465.0, 4873.0, 5318.0, 5690.0, 5994.0, 6318.0, 6630.0, 6890.0, 7144.0, 7276.0, 7483.0, 7779.0, 8042.0, 8275.0, 8497.0, 8724.0, 9009.0, 9009.0, 9362.0, 9464.0, 9557.0, 9677.0, 9791.0, 9848.0, 9943.0, 10032.0, 10032.0, 10176.0, 10243.0], \"yaxis\": \"y\"}, {\"name\": \"Seychelles\", \"type\": \"scatter\", \"xaxis\": \"x\", \"y\": [2.0, 2.0, 3.0, 4.0, 4.0, 6.0, 7.0, 7.0, 7.0, 7.0, 7.0, 7.0, 7.0, 7.0, 8.0, 8.0, 8.0, 10.0, 10.0, 10.0, 10.0, 10.0, 10.0, 11.0, 11.0, 11.0, 11.0, 11.0, 11.0, 11.0, 11.0, 11.0, 11.0, 11.0, 11.0, 11.0, 11.0, 11.0, 11.0, 11.0, 11.0, 11.0, 11.0, 11.0, 11.0, 11.0, 11.0, 11.0, 11.0, 11.0, 11.0, 11.0, 11.0, 11.0, 11.0, 11.0, 11.0, 11.0, 11.0, 11.0, 11.0], \"yaxis\": \"y\"}, {\"name\": \"Sierra Leone\", \"type\": \"scatter\", \"xaxis\": \"x\", \"y\": [2.0, 2.0, 2.0, 4.0, 6.0, 6.0, 6.0, 7.0, 7.0, 8.0, 8.0, 10.0, 10.0, 11.0, 13.0, 15.0, 26.0, 30.0, 35.0, 43.0, 50.0, 61.0, 64.0, 82.0, 82.0, 93.0, 93.0, 104.0, 104.0, 124.0, 136.0, 155.0, 166.0, 178.0, 199.0, 225.0, 231.0, 257.0, 291.0, 307.0, 338.0, 338.0, 387.0], \"yaxis\": \"y\"}, {\"name\": \"Singapore\", \"type\": \"scatter\", \"xaxis\": \"x\", \"y\": [3.0, 3.0, 4.0, 5.0, 7.0, 7.0, 10.0, 13.0, 16.0, 18.0, 18.0, 24.0, 28.0, 28.0, 30.0, 33.0, 40.0, 45.0, 47.0, 50.0, 58.0, 67.0, 72.0, 75.0, 77.0, 81.0, 84.0, 84.0, 85.0, 85.0, 89.0, 89.0, 91.0, 93.0, 93.0, 93.0, 102.0, 106.0, 108.0, 110.0, 110.0, 117.0, 130.0, 138.0, 150.0, 150.0, 160.0, 178.0, 178.0, 200.0, 212.0, 226.0, 243.0, 266.0, 313.0, 345.0, 385.0, 432.0, 455.0, 509.0, 558.0, 631.0, 683.0, 732.0], \"yaxis\": \"y\"}, {\"name\": \"Slovakia\", \"type\": \"scatter\", \"xaxis\": \"x\", \"y\": [3.0, 3.0, 7.0, 10.0, 16.0, 32.0, 44.0, 54.0, 63.0, 72.0, 105.0, 123.0, 137.0, 178.0, 185.0, 186.0, 204.0, 216.0, 226.0, 269.0, 292.0, 314.0, 336.0, 363.0, 400.0, 426.0, 450.0, 471.0, 485.0, 534.0, 581.0, 682.0, 701.0, 715.0, 728.0, 742.0, 769.0, 835.0, 863.0, 977.0, 1049.0, 1089.0, 1161.0, 1173.0, 1199.0, 1244.0, 1325.0, 1360.0, 1373.0, 1379.0, 1381.0, 1384.0, 1391.0, 1396.0, 1403.0, 1407.0, 1408.0, 1413.0, 1421.0, 1429.0, 1445.0, 1455.0, 1455.0, 1457.0], \"yaxis\": \"y\"}, {\"name\": \"Slovenia\", \"type\": \"scatter\", \"xaxis\": \"x\", \"y\": [2.0, 7.0, 7.0, 16.0, 16.0, 31.0, 57.0, 89.0, 141.0, 181.0, 219.0, 253.0, 275.0, 275.0, 286.0, 341.0, 383.0, 414.0, 442.0, 480.0, 528.0, 562.0, 632.0, 684.0, 730.0, 756.0, 802.0, 841.0, 897.0, 934.0, 977.0, 997.0, 1021.0, 1059.0, 1091.0, 1124.0, 1160.0, 1188.0, 1205.0, 1212.0, 1220.0, 1248.0, 1268.0, 1304.0, 1317.0, 1330.0, 1335.0, 1344.0, 1353.0, 1366.0, 1373.0, 1388.0, 1396.0, 1402.0, 1408.0, 1418.0, 1429.0, 1434.0, 1439.0, 1439.0, 1439.0, 1445.0, 1448.0, 1449.0], \"yaxis\": \"y\"}, {\"name\": \"Somalia\", \"type\": \"scatter\", \"xaxis\": \"x\", \"y\": [2.0, 3.0, 3.0, 3.0, 3.0, 5.0, 5.0, 5.0, 7.0, 7.0, 7.0, 7.0, 8.0, 12.0, 12.0, 21.0, 21.0, 25.0, 60.0, 60.0, 80.0, 80.0, 116.0, 135.0, 164.0, 237.0, 286.0, 286.0, 328.0, 328.0, 390.0, 436.0, 480.0, 528.0, 582.0, 601.0, 601.0, 671.0, 722.0, 756.0, 835.0, 873.0, 928.0, 928.0, 997.0, 1054.0, 1089.0, 1170.0, 1219.0], \"yaxis\": \"y\"}, {\"name\": \"South Africa\", \"type\": \"scatter\", \"xaxis\": \"x\", \"y\": [3.0, 3.0, 7.0, 13.0, 17.0, 24.0, 38.0, 51.0, 62.0, 62.0, 116.0, 150.0, 202.0, 240.0, 274.0, 402.0, 554.0, 709.0, 927.0, 1170.0, 1187.0, 1280.0, 1326.0, 1353.0, 1380.0, 1462.0, 1505.0, 1585.0, 1655.0, 1686.0, 1749.0, 1845.0, 1934.0, 2003.0, 2028.0, 2173.0, 2272.0, 2415.0, 2506.0, 2605.0, 2783.0, 3034.0, 3158.0, 3300.0, 3465.0, 3635.0, 3953.0, 4220.0, 4361.0, 4546.0, 4793.0, 4996.0, 5350.0, 5647.0, 5951.0, 6336.0, 6783.0, 7220.0, 7572.0, 7808.0, 8232.0, 8895.0, 9420.0, 10015.0], \"yaxis\": \"y\"}, {\"name\": \"South Sudan\", \"type\": \"scatter\", \"xaxis\": \"x\", \"y\": [2.0, 2.0, 3.0, 4.0, 4.0, 4.0, 4.0, 4.0, 4.0, 4.0, 4.0, 4.0, 4.0, 4.0, 4.0, 4.0, 5.0, 5.0, 5.0, 6.0, 6.0, 34.0, 34.0, 35.0, 45.0, 45.0, 46.0, 46.0, 52.0, 58.0, 74.0, 120.0, 120.0, 120.0, 156.0, 194.0, 203.0], \"yaxis\": \"y\"}, {\"name\": \"Spain\", \"type\": \"scatter\", \"xaxis\": \"x\", \"y\": [2.0, 2.0, 2.0, 2.0, 2.0, 2.0, 2.0, 2.0, 2.0, 2.0, 2.0, 2.0, 2.0, 2.0, 2.0, 2.0, 6.0, 13.0, 15.0, 32.0, 45.0, 84.0, 120.0, 165.0, 222.0, 259.0, 400.0, 500.0, 673.0, 1073.0, 1695.0, 2277.0, 2277.0, 5232.0, 6391.0, 7798.0, 9942.0, 11748.0, 13910.0, 17963.0, 20410.0, 25374.0, 28768.0, 35136.0, 39885.0, 49515.0, 57786.0, 65719.0, 73235.0, 80110.0, 87956.0, 95923.0, 104118.0, 112065.0, 119199.0, 126168.0, 131646.0, 136675.0, 141942.0, 148220.0, 153222.0, 158273.0, 163027.0, 166831.0], \"yaxis\": \"y\"}, {\"name\": \"Sri Lanka\", \"type\": \"scatter\", \"xaxis\": \"x\", \"y\": [2.0, 2.0, 6.0, 10.0, 18.0, 28.0, 44.0, 51.0, 60.0, 73.0, 77.0, 82.0, 97.0, 102.0, 102.0, 106.0, 106.0, 113.0, 117.0, 122.0, 143.0, 146.0, 151.0, 159.0, 166.0, 176.0, 178.0, 185.0, 189.0, 190.0, 190.0, 198.0, 210.0, 217.0, 233.0, 238.0, 238.0, 244.0, 254.0, 271.0, 304.0, 310.0, 330.0, 368.0, 420.0, 460.0, 523.0, 588.0, 619.0, 649.0, 663.0, 690.0, 705.0, 718.0, 751.0, 771.0, 797.0, 824.0, 835.0, 847.0, 863.0, 869.0, 889.0, 915.0], \"yaxis\": \"y\"}, {\"name\": \"Sudan\", \"type\": \"scatter\", \"xaxis\": \"x\", \"y\": [2.0, 2.0, 2.0, 2.0, 2.0, 2.0, 3.0, 3.0, 3.0, 3.0, 5.0, 6.0, 6.0, 7.0, 7.0, 8.0, 10.0, 10.0, 12.0, 12.0, 14.0, 14.0, 15.0, 17.0, 19.0, 19.0, 29.0, 32.0, 32.0, 32.0, 33.0, 66.0, 66.0, 107.0, 107.0, 140.0, 174.0, 174.0, 213.0, 237.0, 275.0, 318.0, 375.0, 442.0, 533.0, 592.0, 592.0, 678.0, 778.0, 852.0, 930.0, 1111.0, 1164.0, 1365.0, 1526.0, 1661.0, 1818.0], \"yaxis\": \"y\"}, {\"name\": \"Suriname\", \"type\": \"scatter\", \"xaxis\": \"x\", \"y\": [4.0, 4.0, 5.0, 5.0, 7.0, 8.0, 8.0, 8.0, 8.0, 8.0, 8.0, 9.0, 10.0, 10.0, 10.0, 10.0, 10.0, 10.0, 10.0, 10.0, 10.0, 10.0, 10.0, 10.0, 10.0, 10.0, 10.0, 10.0, 10.0, 10.0, 10.0, 10.0, 10.0, 10.0, 10.0, 10.0, 10.0, 10.0, 10.0, 10.0, 10.0, 10.0, 10.0, 10.0, 10.0, 10.0, 10.0, 10.0, 10.0, 10.0, 10.0, 10.0, 10.0, 10.0, 10.0], \"yaxis\": \"y\"}, {\"name\": \"Sweden\", \"type\": \"scatter\", \"xaxis\": \"x\", \"y\": [2.0, 7.0, 7.0, 12.0, 14.0, 15.0, 21.0, 35.0, 94.0, 101.0, 161.0, 203.0, 248.0, 355.0, 500.0, 599.0, 814.0, 961.0, 1022.0, 1103.0, 1190.0, 1279.0, 1439.0, 1639.0, 1763.0, 1934.0, 2046.0, 2286.0, 2526.0, 2840.0, 3069.0, 3447.0, 3700.0, 4028.0, 4435.0, 4947.0, 5568.0, 6131.0, 6443.0, 6830.0, 7206.0, 7693.0, 8419.0, 9141.0, 9685.0, 10151.0, 10483.0, 10948.0, 11445.0, 11927.0, 12540.0, 13216.0, 13822.0, 14385.0, 14777.0, 15322.0, 16004.0, 16755.0, 17567.0, 18177.0, 18640.0, 18926.0, 19621.0, 20302.0], \"yaxis\": \"y\"}, {\"name\": \"Switzerland\", \"type\": \"scatter\", \"xaxis\": \"x\", \"y\": [8.0, 8.0, 18.0, 27.0, 42.0, 56.0, 90.0, 114.0, 214.0, 268.0, 337.0, 374.0, 491.0, 652.0, 652.0, 1139.0, 1359.0, 2200.0, 2200.0, 2700.0, 3028.0, 4075.0, 5294.0, 6575.0, 7474.0, 8795.0, 9877.0, 10897.0, 11811.0, 12928.0, 14076.0, 14829.0, 15922.0, 16605.0, 17768.0, 18827.0, 19606.0, 20505.0, 21100.0, 21657.0, 22253.0, 23280.0, 24051.0, 24551.0, 25107.0, 25415.0, 25688.0, 25936.0, 26336.0, 26732.0, 27078.0, 27404.0, 27740.0, 27944.0, 28063.0, 28268.0, 28496.0, 28677.0, 28894.0, 29061.0, 29164.0, 29264.0, 29407.0, 29586.0], \"yaxis\": \"y\"}, {\"name\": \"Syria\", \"type\": \"scatter\", \"xaxis\": \"x\", \"y\": [5.0, 5.0, 5.0, 5.0, 9.0, 10.0, 10.0, 10.0, 16.0, 16.0, 16.0, 19.0, 19.0, 19.0, 19.0, 19.0, 19.0, 25.0, 25.0, 25.0, 29.0, 33.0, 33.0, 38.0, 38.0, 39.0, 39.0, 42.0, 42.0, 42.0, 42.0, 42.0, 43.0, 43.0, 43.0, 43.0, 43.0, 44.0, 44.0, 44.0, 44.0, 44.0, 45.0, 45.0, 47.0, 47.0, 47.0, 47.0, 47.0, 48.0], \"yaxis\": \"y\"}, {\"name\": \"Taiwan*\", \"type\": \"scatter\", \"xaxis\": \"x\", \"y\": [3.0, 3.0, 4.0, 5.0, 8.0, 8.0, 9.0, 10.0, 10.0, 10.0, 10.0, 11.0, 11.0, 16.0, 16.0, 17.0, 18.0, 18.0, 18.0, 18.0, 18.0, 18.0, 18.0, 20.0, 22.0, 22.0, 23.0, 24.0, 26.0, 26.0, 28.0, 30.0, 31.0, 32.0, 32.0, 34.0, 39.0, 40.0, 41.0, 42.0, 42.0, 44.0, 45.0, 45.0, 45.0, 45.0, 47.0, 48.0, 49.0, 50.0, 53.0, 59.0, 67.0, 77.0, 100.0, 108.0, 135.0, 153.0, 169.0, 195.0, 215.0, 235.0, 252.0, 267.0], \"yaxis\": \"y\"}, {\"name\": \"Tanzania\", \"type\": \"scatter\", \"xaxis\": \"x\", \"y\": [3.0, 6.0, 6.0, 6.0, 12.0, 12.0, 12.0, 12.0, 13.0, 13.0, 14.0, 14.0, 19.0, 19.0, 20.0, 20.0, 20.0, 20.0, 22.0, 24.0, 24.0, 25.0, 25.0, 32.0, 32.0, 32.0, 49.0, 53.0, 88.0, 94.0, 147.0, 147.0, 170.0, 254.0, 254.0, 284.0, 284.0, 299.0, 299.0, 299.0, 299.0, 299.0, 480.0, 480.0, 480.0, 480.0, 480.0, 480.0, 480.0, 480.0, 480.0, 509.0, 509.0, 509.0, 509.0, 509.0, 509.0], \"yaxis\": \"y\"}, {\"name\": \"Thailand\", \"type\": \"scatter\", \"xaxis\": \"x\", \"y\": [3.0, 5.0, 7.0, 8.0, 8.0, 14.0, 14.0, 14.0, 19.0, 19.0, 19.0, 19.0, 25.0, 25.0, 25.0, 25.0, 32.0, 32.0, 32.0, 33.0, 33.0, 33.0, 33.0, 33.0, 34.0, 35.0, 35.0, 35.0, 35.0, 35.0, 35.0, 35.0, 35.0, 37.0, 40.0, 40.0, 41.0, 42.0, 42.0, 43.0, 43.0, 43.0, 47.0, 48.0, 50.0, 50.0, 50.0, 53.0, 59.0, 70.0, 75.0, 82.0, 114.0, 147.0, 177.0, 212.0, 272.0, 322.0, 411.0, 599.0, 721.0, 827.0, 934.0, 1045.0], \"yaxis\": \"y\"}, {\"name\": \"Timor-Leste\", \"type\": \"scatter\", \"xaxis\": \"x\", \"y\": [2.0, 2.0, 2.0, 4.0, 6.0, 8.0, 18.0, 18.0, 18.0, 19.0, 22.0, 23.0, 23.0, 23.0, 24.0, 24.0, 24.0, 24.0, 24.0, 24.0, 24.0, 24.0, 24.0, 24.0, 24.0, 24.0, 24.0, 24.0, 24.0, 24.0, 24.0, 24.0, 24.0, 24.0], \"yaxis\": \"y\"}, {\"name\": \"Togo\", \"type\": \"scatter\", \"xaxis\": \"x\", \"y\": [9.0, 16.0, 16.0, 18.0, 20.0, 23.0, 23.0, 25.0, 25.0, 25.0, 30.0, 34.0, 36.0, 39.0, 40.0, 41.0, 44.0, 58.0, 65.0, 70.0, 73.0, 76.0, 76.0, 76.0, 77.0, 77.0, 81.0, 81.0, 83.0, 84.0, 84.0, 84.0, 86.0, 88.0, 88.0, 90.0, 96.0, 98.0, 98.0, 99.0, 109.0, 116.0, 123.0, 123.0, 124.0, 126.0, 128.0, 128.0, 135.0, 145.0, 153.0, 174.0, 181.0, 199.0, 219.0], \"yaxis\": \"y\"}, {\"name\": \"Trinidad and Tobago\", \"type\": \"scatter\", \"xaxis\": \"x\", \"y\": [2.0, 2.0, 4.0, 5.0, 7.0, 9.0, 9.0, 49.0, 50.0, 51.0, 57.0, 60.0, 65.0, 66.0, 74.0, 78.0, 82.0, 87.0, 90.0, 94.0, 98.0, 103.0, 104.0, 105.0, 107.0, 107.0, 109.0, 109.0, 112.0, 113.0, 113.0, 113.0, 114.0, 114.0, 114.0, 114.0, 114.0, 114.0, 115.0, 115.0, 115.0, 115.0, 115.0, 115.0, 116.0, 116.0, 116.0, 116.0, 116.0, 116.0, 116.0, 116.0, 116.0, 116.0, 116.0, 116.0, 116.0, 116.0, 116.0, 116.0, 116.0], \"yaxis\": \"y\"}, {\"name\": \"Tunisia\", \"type\": \"scatter\", \"xaxis\": \"x\", \"y\": [2.0, 2.0, 5.0, 7.0, 7.0, 16.0, 18.0, 18.0, 20.0, 24.0, 29.0, 39.0, 54.0, 60.0, 75.0, 89.0, 114.0, 173.0, 197.0, 227.0, 278.0, 312.0, 312.0, 394.0, 423.0, 455.0, 495.0, 553.0, 574.0, 596.0, 623.0, 628.0, 643.0, 671.0, 685.0, 707.0, 726.0, 747.0, 780.0, 822.0, 864.0, 864.0, 879.0, 884.0, 884.0, 909.0, 918.0, 922.0, 939.0, 949.0, 967.0, 975.0, 980.0, 994.0, 998.0, 1009.0, 1013.0, 1018.0, 1022.0, 1025.0, 1026.0, 1030.0, 1032.0, 1032.0], \"yaxis\": \"y\"}, {\"name\": \"Turkey\", \"type\": \"scatter\", \"xaxis\": \"x\", \"y\": [5.0, 5.0, 6.0, 18.0, 47.0, 98.0, 192.0, 359.0, 670.0, 1236.0, 1529.0, 1872.0, 2433.0, 3629.0, 5698.0, 7402.0, 9217.0, 10827.0, 13531.0, 15679.0, 18135.0, 20921.0, 23934.0, 27069.0, 30217.0, 34109.0, 38226.0, 42282.0, 47029.0, 52167.0, 56956.0, 61049.0, 65111.0, 69392.0, 74193.0, 78546.0, 82329.0, 86306.0, 90980.0, 95591.0, 98674.0, 101790.0, 104912.0, 107773.0, 110130.0, 112261.0, 114653.0, 117589.0, 120204.0, 122392.0, 124375.0, 126045.0, 127659.0, 129491.0, 131744.0, 133721.0, 135569.0, 137115.0, 138657.0, 139771.0, 141475.0, 143114.0], \"yaxis\": \"y\"}, {\"name\": \"US\", \"type\": \"scatter\", \"xaxis\": \"x\", \"y\": [5.0, 6.0, 12.0, 29.0, 39.0, 46.0, 78.0, 83.0, 131.0, 157.0, 196.0, 242.0, 381.0, 517.0, 587.0, 694.0, 825.0, 899.0, 987.0, 1060.0, 1233.0, 1495.0, 1614.0, 1765.0, 1952.0, 2169.0, 2328.0, 2703.0, 2947.0, 3217.0, 3563.0, 3734.0, 3953.0, 4075.0, 4345.0, 4571.0, 4712.0, 4888.0, 5079.0, 5317.0, 5593.0, 5832.0, 6026.0, 6026.0, 6421.0, 6539.0, 6750.0, 6912.0, 7088.0, 7294.0, 7611.0, 7888.0, 8112.0, 8437.0, 8691.0, 9046.0, 9385.0, 9668.0, 9889.0, 10164.0, 10464.0, 10700.0, 0.0, 0.0], \"yaxis\": \"y\"}, {\"name\": \"Uganda\", \"type\": \"scatter\", \"xaxis\": \"x\", \"y\": [9.0, 9.0, 14.0, 14.0, 23.0, 30.0, 33.0, 33.0, 44.0, 44.0, 45.0, 48.0, 48.0, 52.0, 52.0, 52.0, 53.0, 53.0, 53.0, 53.0, 54.0, 54.0, 55.0, 55.0, 55.0, 56.0, 55.0, 55.0, 56.0, 61.0, 63.0, 74.0, 75.0, 75.0, 79.0, 79.0, 79.0, 81.0, 83.0, 85.0, 88.0, 89.0, 97.0, 98.0, 100.0, 101.0, 101.0, 116.0, 121.0, 121.0, 129.0, 139.0], \"yaxis\": \"y\"}, {\"name\": \"Ukraine\", \"type\": \"scatter\", \"xaxis\": \"x\", \"y\": [3.0, 3.0, 3.0, 7.0, 14.0, 14.0, 16.0, 29.0, 47.0, 73.0, 73.0, 97.0, 145.0, 196.0, 310.0, 356.0, 475.0, 548.0, 645.0, 794.0, 897.0, 1072.0, 1225.0, 1308.0, 1319.0, 1462.0, 1668.0, 1892.0, 2203.0, 2511.0, 2777.0, 3102.0, 3372.0, 3764.0, 4161.0, 4662.0, 5106.0, 5449.0, 5710.0, 6125.0, 6592.0, 7170.0, 7647.0, 8125.0, 8617.0, 9009.0, 9410.0, 9866.0, 10406.0, 10861.0, 11411.0, 11913.0, 12331.0, 12697.0, 13184.0, 13691.0, 14195.0, 14710.0, 15232.0, 15648.0, 16023.0, 16425.0], \"yaxis\": \"y\"}, {\"name\": \"United Arab Emirates\", \"type\": \"scatter\", \"xaxis\": \"x\", \"y\": [4.0, 4.0, 4.0, 4.0, 5.0, 5.0, 5.0, 5.0, 5.0, 5.0, 7.0, 7.0, 8.0, 8.0, 8.0, 8.0, 8.0, 8.0, 9.0, 9.0, 9.0, 9.0, 9.0, 9.0, 13.0, 13.0, 13.0, 13.0, 13.0, 13.0, 19.0, 21.0, 21.0, 21.0, 27.0, 27.0, 29.0, 29.0, 45.0, 45.0, 45.0, 74.0, 74.0, 85.0, 85.0, 85.0, 98.0, 98.0, 98.0, 113.0, 140.0, 140.0, 153.0, 153.0, 198.0, 248.0, 333.0, 333.0, 405.0, 468.0, 570.0, 611.0, 664.0, 814.0], \"yaxis\": \"y\"}, {\"name\": \"United Kingdom\", \"type\": \"scatter\", \"xaxis\": \"x\", \"y\": [2.0, 2.0, 2.0, 2.0, 2.0, 3.0, 3.0, 3.0, 3.0, 3.0, 3.0, 3.0, 3.0, 3.0, 3.0, 3.0, 3.0, 3.0, 3.0, 3.0, 3.0, 3.0, 3.0, 3.0, 3.0, 3.0, 3.0, 3.0, 3.0, 3.0, 3.0, 3.0, 3.0, 3.0, 3.0, 3.0, 3.0, 3.0, 3.0, 3.0, 3.0, 3.0, 3.0, 3.0, 3.0, 3.0, 3.0, 0.0, 0.0, 0.0, 0.0, 0.0, 0.0, 0.0, 0.0, 0.0, 0.0, 0.0, 0.0, 0.0, 0.0, 0.0, 0.0, 0.0], \"yaxis\": \"y\"}, {\"name\": \"Uruguay\", \"type\": \"scatter\", \"xaxis\": \"x\", \"y\": [4.0, 6.0, 8.0, 29.0, 50.0, 79.0, 94.0, 110.0, 135.0, 158.0, 162.0, 189.0, 217.0, 238.0, 274.0, 303.0, 309.0, 320.0, 338.0, 350.0, 369.0, 386.0, 400.0, 406.0, 415.0, 424.0, 456.0, 473.0, 494.0, 501.0, 480.0, 483.0, 492.0, 493.0, 502.0, 508.0, 517.0, 528.0, 535.0, 543.0, 549.0, 557.0, 563.0, 596.0, 606.0, 620.0, 625.0, 630.0, 643.0, 648.0, 652.0, 655.0, 657.0, 670.0, 673.0, 684.0, 694.0, 702.0, 707.0, 711.0, 717.0, 719.0], \"yaxis\": \"y\"}, {\"name\": \"Uzbekistan\", \"type\": \"scatter\", \"xaxis\": \"x\", \"y\": [6.0, 10.0, 15.0, 23.0, 33.0, 43.0, 43.0, 46.0, 50.0, 60.0, 75.0, 88.0, 104.0, 144.0, 149.0, 172.0, 181.0, 205.0, 227.0, 266.0, 342.0, 457.0, 520.0, 545.0, 582.0, 624.0, 767.0, 865.0, 998.0, 1165.0, 1302.0, 1349.0, 1405.0, 1490.0, 1565.0, 1627.0, 1678.0, 1716.0, 1758.0, 1804.0, 1862.0, 1869.0, 1904.0, 1939.0, 2002.0, 2039.0, 2086.0, 2118.0, 2149.0, 2189.0, 2207.0, 2233.0, 2298.0, 2325.0, 2349.0, 2418.0, 2486.0, 2519.0, 2612.0], \"yaxis\": \"y\"}, {\"name\": \"Venezuela\", \"type\": \"scatter\", \"xaxis\": \"x\", \"y\": [2.0, 10.0, 17.0, 33.0, 36.0, 42.0, 42.0, 70.0, 70.0, 77.0, 84.0, 91.0, 107.0, 107.0, 119.0, 119.0, 135.0, 135.0, 143.0, 146.0, 153.0, 155.0, 159.0, 165.0, 165.0, 167.0, 171.0, 171.0, 175.0, 181.0, 189.0, 189.0, 197.0, 204.0, 204.0, 227.0, 256.0, 256.0, 285.0, 288.0, 311.0, 318.0, 323.0, 325.0, 329.0, 329.0, 331.0, 333.0, 335.0, 345.0, 357.0, 357.0, 361.0, 379.0, 381.0, 388.0, 402.0, 414.0, 422.0, 423.0, 423.0], \"yaxis\": \"y\"}, {\"name\": \"Vietnam\", \"type\": \"scatter\", \"xaxis\": \"x\", \"y\": [2.0, 2.0, 2.0, 2.0, 2.0, 2.0, 2.0, 2.0, 2.0, 6.0, 6.0, 8.0, 8.0, 8.0, 10.0, 10.0, 13.0, 13.0, 14.0, 15.0, 15.0, 16.0, 16.0, 16.0, 16.0, 16.0, 16.0, 16.0, 16.0, 16.0, 16.0, 16.0, 16.0, 16.0, 16.0, 16.0, 16.0, 16.0, 16.0, 16.0, 16.0, 16.0, 16.0, 16.0, 18.0, 30.0, 30.0, 31.0, 38.0, 39.0, 47.0, 53.0, 56.0, 61.0, 66.0, 75.0, 85.0, 91.0, 94.0, 113.0, 123.0, 134.0, 141.0, 153.0], \"yaxis\": \"y\"}, {\"name\": \"West Bank and Gaza\", \"type\": \"scatter\", \"xaxis\": \"x\", \"y\": [4.0, 7.0, 16.0, 16.0, 19.0, 26.0, 30.0, 30.0, 31.0, 35.0, 38.0, 38.0, 39.0, 41.0, 44.0, 47.0, 48.0, 52.0, 59.0, 59.0, 59.0, 84.0, 91.0, 98.0, 109.0, 116.0, 119.0, 134.0, 161.0, 194.0, 217.0, 237.0, 254.0, 261.0, 263.0, 263.0, 267.0, 268.0, 271.0, 273.0, 284.0, 291.0, 294.0, 307.0, 313.0, 319.0, 329.0, 329.0, 335.0, 336.0, 340.0, 342.0, 342.0, 342.0, 343.0, 344.0, 344.0, 353.0, 353.0, 353.0, 362.0, 371.0, 374.0, 375.0], \"yaxis\": \"y\"}, {\"name\": \"Western Sahara\", \"type\": \"scatter\", \"xaxis\": \"x\", \"y\": [4.0, 4.0, 4.0, 4.0, 4.0, 4.0, 4.0, 6.0, 6.0, 6.0, 6.0, 6.0, 6.0, 6.0, 6.0, 6.0, 6.0, 6.0, 6.0, 6.0, 6.0, 6.0, 6.0, 6.0, 6.0, 6.0, 6.0, 6.0, 6.0, 6.0, 6.0, 6.0, 6.0, 6.0, 6.0, 6.0, 6.0, 6.0, 6.0], \"yaxis\": \"y\"}, {\"name\": \"Zambia\", \"type\": \"scatter\", \"xaxis\": \"x\", \"y\": [2.0, 2.0, 2.0, 2.0, 3.0, 3.0, 3.0, 12.0, 16.0, 22.0, 28.0, 29.0, 35.0, 35.0, 36.0, 39.0, 39.0, 39.0, 39.0, 39.0, 39.0, 39.0, 39.0, 40.0, 40.0, 43.0, 45.0, 45.0, 48.0, 48.0, 52.0, 57.0, 61.0, 65.0, 70.0, 74.0, 76.0, 84.0, 84.0, 88.0, 88.0, 95.0, 97.0, 106.0, 109.0, 119.0, 124.0, 137.0, 138.0, 146.0, 153.0, 167.0, 252.0, 267.0, 267.0, 441.0, 446.0], \"yaxis\": \"y\"}, {\"name\": \"Zimbabwe\", \"type\": \"scatter\", \"xaxis\": \"x\", \"y\": [3.0, 3.0, 3.0, 3.0, 3.0, 3.0, 5.0, 7.0, 7.0, 7.0, 8.0, 8.0, 9.0, 9.0, 9.0, 9.0, 10.0, 11.0, 11.0, 11.0, 13.0, 14.0, 14.0, 17.0, 17.0, 23.0, 23.0, 24.0, 25.0, 25.0, 25.0, 28.0, 28.0, 28.0, 29.0, 31.0, 31.0, 32.0, 32.0, 32.0, 40.0, 40.0, 34.0, 34.0, 34.0, 34.0, 34.0, 34.0, 34.0, 35.0, 36.0, 36.0, 36.0, 37.0], \"yaxis\": \"y\"}],\n",
       "                        {\"template\": {\"data\": {\"bar\": [{\"error_x\": {\"color\": \"#2a3f5f\"}, \"error_y\": {\"color\": \"#2a3f5f\"}, \"marker\": {\"line\": {\"color\": \"#E5ECF6\", \"width\": 0.5}}, \"type\": \"bar\"}], \"barpolar\": [{\"marker\": {\"line\": {\"color\": \"#E5ECF6\", \"width\": 0.5}}, \"type\": \"barpolar\"}], \"carpet\": [{\"aaxis\": {\"endlinecolor\": \"#2a3f5f\", \"gridcolor\": \"white\", \"linecolor\": \"white\", \"minorgridcolor\": \"white\", \"startlinecolor\": \"#2a3f5f\"}, \"baxis\": {\"endlinecolor\": \"#2a3f5f\", \"gridcolor\": \"white\", \"linecolor\": \"white\", \"minorgridcolor\": \"white\", \"startlinecolor\": \"#2a3f5f\"}, \"type\": \"carpet\"}], \"choropleth\": [{\"colorbar\": {\"outlinewidth\": 0, \"ticks\": \"\"}, \"type\": \"choropleth\"}], \"contour\": [{\"colorbar\": {\"outlinewidth\": 0, \"ticks\": \"\"}, \"colorscale\": [[0.0, \"#0d0887\"], [0.1111111111111111, \"#46039f\"], [0.2222222222222222, \"#7201a8\"], [0.3333333333333333, \"#9c179e\"], [0.4444444444444444, \"#bd3786\"], [0.5555555555555556, \"#d8576b\"], [0.6666666666666666, \"#ed7953\"], [0.7777777777777778, \"#fb9f3a\"], [0.8888888888888888, \"#fdca26\"], [1.0, \"#f0f921\"]], \"type\": \"contour\"}], \"contourcarpet\": [{\"colorbar\": {\"outlinewidth\": 0, \"ticks\": \"\"}, \"type\": \"contourcarpet\"}], \"heatmap\": [{\"colorbar\": {\"outlinewidth\": 0, \"ticks\": \"\"}, \"colorscale\": [[0.0, \"#0d0887\"], [0.1111111111111111, \"#46039f\"], [0.2222222222222222, \"#7201a8\"], [0.3333333333333333, \"#9c179e\"], [0.4444444444444444, \"#bd3786\"], [0.5555555555555556, \"#d8576b\"], [0.6666666666666666, \"#ed7953\"], [0.7777777777777778, \"#fb9f3a\"], [0.8888888888888888, \"#fdca26\"], [1.0, \"#f0f921\"]], \"type\": \"heatmap\"}], \"heatmapgl\": [{\"colorbar\": {\"outlinewidth\": 0, \"ticks\": \"\"}, \"colorscale\": [[0.0, \"#0d0887\"], [0.1111111111111111, \"#46039f\"], [0.2222222222222222, \"#7201a8\"], [0.3333333333333333, \"#9c179e\"], [0.4444444444444444, \"#bd3786\"], [0.5555555555555556, \"#d8576b\"], [0.6666666666666666, \"#ed7953\"], [0.7777777777777778, \"#fb9f3a\"], [0.8888888888888888, \"#fdca26\"], [1.0, \"#f0f921\"]], \"type\": \"heatmapgl\"}], \"histogram\": [{\"marker\": {\"colorbar\": {\"outlinewidth\": 0, \"ticks\": \"\"}}, \"type\": \"histogram\"}], \"histogram2d\": [{\"colorbar\": {\"outlinewidth\": 0, \"ticks\": \"\"}, \"colorscale\": [[0.0, \"#0d0887\"], [0.1111111111111111, \"#46039f\"], [0.2222222222222222, \"#7201a8\"], [0.3333333333333333, \"#9c179e\"], [0.4444444444444444, \"#bd3786\"], [0.5555555555555556, \"#d8576b\"], [0.6666666666666666, \"#ed7953\"], [0.7777777777777778, \"#fb9f3a\"], [0.8888888888888888, \"#fdca26\"], [1.0, \"#f0f921\"]], \"type\": \"histogram2d\"}], \"histogram2dcontour\": [{\"colorbar\": {\"outlinewidth\": 0, \"ticks\": \"\"}, \"colorscale\": [[0.0, \"#0d0887\"], [0.1111111111111111, \"#46039f\"], [0.2222222222222222, \"#7201a8\"], [0.3333333333333333, \"#9c179e\"], [0.4444444444444444, \"#bd3786\"], [0.5555555555555556, \"#d8576b\"], [0.6666666666666666, \"#ed7953\"], [0.7777777777777778, \"#fb9f3a\"], [0.8888888888888888, \"#fdca26\"], [1.0, \"#f0f921\"]], \"type\": \"histogram2dcontour\"}], \"mesh3d\": [{\"colorbar\": {\"outlinewidth\": 0, \"ticks\": \"\"}, \"type\": \"mesh3d\"}], \"parcoords\": [{\"line\": {\"colorbar\": {\"outlinewidth\": 0, \"ticks\": \"\"}}, \"type\": \"parcoords\"}], \"pie\": [{\"automargin\": true, \"type\": \"pie\"}], \"scatter\": [{\"marker\": {\"colorbar\": {\"outlinewidth\": 0, \"ticks\": \"\"}}, \"type\": \"scatter\"}], \"scatter3d\": [{\"line\": {\"colorbar\": {\"outlinewidth\": 0, \"ticks\": \"\"}}, \"marker\": {\"colorbar\": {\"outlinewidth\": 0, \"ticks\": \"\"}}, \"type\": \"scatter3d\"}], \"scattercarpet\": [{\"marker\": {\"colorbar\": {\"outlinewidth\": 0, \"ticks\": \"\"}}, \"type\": \"scattercarpet\"}], \"scattergeo\": [{\"marker\": {\"colorbar\": {\"outlinewidth\": 0, \"ticks\": \"\"}}, \"type\": \"scattergeo\"}], \"scattergl\": [{\"marker\": {\"colorbar\": {\"outlinewidth\": 0, \"ticks\": \"\"}}, \"type\": \"scattergl\"}], \"scattermapbox\": [{\"marker\": {\"colorbar\": {\"outlinewidth\": 0, \"ticks\": \"\"}}, \"type\": \"scattermapbox\"}], \"scatterpolar\": [{\"marker\": {\"colorbar\": {\"outlinewidth\": 0, \"ticks\": \"\"}}, \"type\": \"scatterpolar\"}], \"scatterpolargl\": [{\"marker\": {\"colorbar\": {\"outlinewidth\": 0, \"ticks\": \"\"}}, \"type\": \"scatterpolargl\"}], \"scatterternary\": [{\"marker\": {\"colorbar\": {\"outlinewidth\": 0, \"ticks\": \"\"}}, \"type\": \"scatterternary\"}], \"surface\": [{\"colorbar\": {\"outlinewidth\": 0, \"ticks\": \"\"}, \"colorscale\": [[0.0, \"#0d0887\"], [0.1111111111111111, \"#46039f\"], [0.2222222222222222, \"#7201a8\"], [0.3333333333333333, \"#9c179e\"], [0.4444444444444444, \"#bd3786\"], [0.5555555555555556, \"#d8576b\"], [0.6666666666666666, \"#ed7953\"], [0.7777777777777778, \"#fb9f3a\"], [0.8888888888888888, \"#fdca26\"], [1.0, \"#f0f921\"]], \"type\": \"surface\"}], \"table\": [{\"cells\": {\"fill\": {\"color\": \"#EBF0F8\"}, \"line\": {\"color\": \"white\"}}, \"header\": {\"fill\": {\"color\": \"#C8D4E3\"}, \"line\": {\"color\": \"white\"}}, \"type\": \"table\"}]}, \"layout\": {\"annotationdefaults\": {\"arrowcolor\": \"#2a3f5f\", \"arrowhead\": 0, \"arrowwidth\": 1}, \"coloraxis\": {\"colorbar\": {\"outlinewidth\": 0, \"ticks\": \"\"}}, \"colorscale\": {\"diverging\": [[0, \"#8e0152\"], [0.1, \"#c51b7d\"], [0.2, \"#de77ae\"], [0.3, \"#f1b6da\"], [0.4, \"#fde0ef\"], [0.5, \"#f7f7f7\"], [0.6, \"#e6f5d0\"], [0.7, \"#b8e186\"], [0.8, \"#7fbc41\"], [0.9, \"#4d9221\"], [1, \"#276419\"]], \"sequential\": [[0.0, \"#0d0887\"], [0.1111111111111111, \"#46039f\"], [0.2222222222222222, \"#7201a8\"], [0.3333333333333333, \"#9c179e\"], [0.4444444444444444, \"#bd3786\"], [0.5555555555555556, \"#d8576b\"], [0.6666666666666666, \"#ed7953\"], [0.7777777777777778, \"#fb9f3a\"], [0.8888888888888888, \"#fdca26\"], [1.0, \"#f0f921\"]], \"sequentialminus\": [[0.0, \"#0d0887\"], [0.1111111111111111, \"#46039f\"], [0.2222222222222222, \"#7201a8\"], [0.3333333333333333, \"#9c179e\"], [0.4444444444444444, \"#bd3786\"], [0.5555555555555556, \"#d8576b\"], [0.6666666666666666, \"#ed7953\"], [0.7777777777777778, \"#fb9f3a\"], [0.8888888888888888, \"#fdca26\"], [1.0, \"#f0f921\"]]}, \"colorway\": [\"#636efa\", \"#EF553B\", \"#00cc96\", \"#ab63fa\", \"#FFA15A\", \"#19d3f3\", \"#FF6692\", \"#B6E880\", \"#FF97FF\", \"#FECB52\"], \"font\": {\"color\": \"#2a3f5f\"}, \"geo\": {\"bgcolor\": \"white\", \"lakecolor\": \"white\", \"landcolor\": \"#E5ECF6\", \"showlakes\": true, \"showland\": true, \"subunitcolor\": \"white\"}, \"hoverlabel\": {\"align\": \"left\"}, \"hovermode\": \"closest\", \"mapbox\": {\"style\": \"light\"}, \"paper_bgcolor\": \"white\", \"plot_bgcolor\": \"#E5ECF6\", \"polar\": {\"angularaxis\": {\"gridcolor\": \"white\", \"linecolor\": \"white\", \"ticks\": \"\"}, \"bgcolor\": \"#E5ECF6\", \"radialaxis\": {\"gridcolor\": \"white\", \"linecolor\": \"white\", \"ticks\": \"\"}}, \"scene\": {\"xaxis\": {\"backgroundcolor\": \"#E5ECF6\", \"gridcolor\": \"white\", \"gridwidth\": 2, \"linecolor\": \"white\", \"showbackground\": true, \"ticks\": \"\", \"zerolinecolor\": \"white\"}, \"yaxis\": {\"backgroundcolor\": \"#E5ECF6\", \"gridcolor\": \"white\", \"gridwidth\": 2, \"linecolor\": \"white\", \"showbackground\": true, \"ticks\": \"\", \"zerolinecolor\": \"white\"}, \"zaxis\": {\"backgroundcolor\": \"#E5ECF6\", \"gridcolor\": \"white\", \"gridwidth\": 2, \"linecolor\": \"white\", \"showbackground\": true, \"ticks\": \"\", \"zerolinecolor\": \"white\"}}, \"shapedefaults\": {\"line\": {\"color\": \"#2a3f5f\"}}, \"ternary\": {\"aaxis\": {\"gridcolor\": \"white\", \"linecolor\": \"white\", \"ticks\": \"\"}, \"baxis\": {\"gridcolor\": \"white\", \"linecolor\": \"white\", \"ticks\": \"\"}, \"bgcolor\": \"#E5ECF6\", \"caxis\": {\"gridcolor\": \"white\", \"linecolor\": \"white\", \"ticks\": \"\"}}, \"title\": {\"x\": 0.05}, \"xaxis\": {\"automargin\": true, \"gridcolor\": \"white\", \"linecolor\": \"white\", \"ticks\": \"\", \"title\": {\"standoff\": 15}, \"zerolinecolor\": \"white\", \"zerolinewidth\": 2}, \"yaxis\": {\"automargin\": true, \"gridcolor\": \"white\", \"linecolor\": \"white\", \"ticks\": \"\", \"title\": {\"standoff\": 15}, \"zerolinecolor\": \"white\", \"zerolinewidth\": 2}}}, \"title\": {\"text\": \"Comparision of regions since confirmed cases increased beyond 1\"}, \"xaxis\": {\"title\": {\"text\": \"Date\"}}, \"yaxis\": {\"title\": {\"text\": \"Confirmed Cases\"}, \"type\": \"log\"}},\n",
       "                        {\"responsive\": true}\n",
       "                    ).then(function(){\n",
       "                            \n",
       "var gd = document.getElementById('ade64c10-f63c-4fa3-bc90-60dcf21d2cf5');\n",
       "var x = new MutationObserver(function (mutations, observer) {{\n",
       "        var display = window.getComputedStyle(gd).display;\n",
       "        if (!display || display === 'none') {{\n",
       "            console.log([gd, 'removed!']);\n",
       "            Plotly.purge(gd);\n",
       "            observer.disconnect();\n",
       "        }}\n",
       "}});\n",
       "\n",
       "// Listen for the removal of the full notebook cells\n",
       "var notebookContainer = gd.closest('#notebook-container');\n",
       "if (notebookContainer) {{\n",
       "    x.observe(notebookContainer, {childList: true});\n",
       "}}\n",
       "\n",
       "// Listen for the clearing of the current output cell\n",
       "var outputEl = gd.closest('.output');\n",
       "if (outputEl) {{\n",
       "    x.observe(outputEl, {childList: true});\n",
       "}}\n",
       "\n",
       "                        })\n",
       "                };\n",
       "                });\n",
       "            </script>\n",
       "        </div>"
      ]
     },
     "metadata": {},
     "output_type": "display_data"
    }
   ],
   "source": [
    "start_data=[]\n",
    "plot_data=[]\n",
    "fig=tools.make_subplots()\n",
    "n_unique_provice=df['Province_State'].nunique()\n",
    "average_length=[]\n",
    "cur=0\n",
    "for d,group in df.groupby(['Country_Region','Province_State']):\n",
    "    country=d[0]\n",
    "    province=d[1]\n",
    "#     print(province,country,cur,n_unique_provice)\n",
    "    temp={}\n",
    "    temp_df=group.copy().reset_index(drop=True)\n",
    "    temp['state']=province\n",
    "    temp['country']=country\n",
    "    for i,r in temp_df.iterrows():\n",
    "        if i:\n",
    "            if r['ConfirmedCases'] > 1:\n",
    "                temp['start']=r['Date']\n",
    "                temp['start_index']=i\n",
    "                break\n",
    "    start_data.append(temp)\n",
    "    if('start_index' in temp):\n",
    "        average_length.append(len(group)-temp['start_index'])\n",
    "        fig.append_trace(go.Scatter(y=temp_df.loc[temp['start_index']:temp['start_index']+63,'ConfirmedCases'].tolist(),\n",
    "                                    name=province\n",
    "                                    ),1,1)\n",
    "    cur+=1\n",
    "fig['layout']={\n",
    "    'xaxis':{'title':'Date',},\n",
    "    'yaxis':{'title':'Confirmed Cases','type':'log'},\n",
    "    'title':\"Comparision of regions since confirmed cases increased beyond 1\"\n",
    "}\n",
    "# plot(fig,filename='start-date-fixed.html')\n",
    "fig.show()"
   ]
  },
  {
   "cell_type": "code",
   "execution_count": null,
   "metadata": {
    "ExecuteTime": {
     "end_time": "2020-05-14T04:09:32.731299Z",
     "start_time": "2020-05-14T04:09:32.699059Z"
    }
   },
   "outputs": [],
   "source": [
    "np.mean(average_length)"
   ]
  },
  {
   "cell_type": "markdown",
   "metadata": {},
   "source": [
    "# VIS 2"
   ]
  },
  {
   "cell_type": "code",
   "execution_count": 9,
   "metadata": {
    "ExecuteTime": {
     "end_time": "2020-05-15T03:16:51.458803Z",
     "start_time": "2020-05-15T03:16:51.036198Z"
    }
   },
   "outputs": [],
   "source": [
    "# fig=tools.make_subplots(1,3,subplot_titles=['Confirmed Cases','Fatalities','Fatalities w.r.t. Confirmed Cases'])\n",
    "# data=[]\n",
    "# for country,group in df.groupby(['Country_Region']):\n",
    "#     temp={}\n",
    "#     temp['Country']=country\n",
    "#     temp['Confirmed']=group['ConfirmedCases'].tolist()[-1]\n",
    "#     temp['Fatalities']=group['Fatalities'].tolist()[-1]\n",
    "#     temp['FatalitiesPercent']=100*temp['Fatalities']/temp['Confirmed']\n",
    "#     data.append(temp)\n",
    "# colors=px.colors.qualitative.Plotly\n",
    "# country_df=pd.DataFrame(data)\n",
    "# country_df=country_df.sort_values('Confirmed',ascending=False)\n",
    "\n",
    "# show_top_n=10\n",
    "\n",
    "# fig.append_trace(go.Bar(x=country_df[\"Confirmed\"].head(show_top_n),\n",
    "#                         y=country_df[\"Country\"].head(show_top_n), \n",
    "#                         name='Confirmed',\n",
    "#                         orientation='h',\n",
    "#                         marker_color=colors[0]),1,1)\n",
    "# fig.append_trace(go.Bar(x=country_df[\"Fatalities\"].head(show_top_n), \n",
    "#                         y=country_df[\"Country\"].head(show_top_n), \n",
    "#                         name='Fatalities', \n",
    "#                         orientation='h',\n",
    "#                         marker_color=colors[1]),1,2)\n",
    "\n",
    "# fig.append_trace(go.Bar(x=country_df[\"Confirmed\"].head(show_top_n), \n",
    "#                         y=country_df[\"Country\"].head(show_top_n), \n",
    "#                         name='Confirmed',\n",
    "#                         orientation='h',\n",
    "#                         marker_color=colors[0]),1,3)\n",
    "# fig.append_trace(go.Bar(x=country_df[\"Fatalities\"].head(show_top_n), \n",
    "#                         y=country_df[\"Country\"].head(show_top_n), \n",
    "#                         name='Fatalities', \n",
    "#                         orientation='h',\n",
    "#                         marker_color=colors[1]),1,3)\n",
    "\n",
    "# annotations = []\n",
    "# index=0\n",
    "# for c,f in zip(country_df[\"Confirmed\"].head(show_top_n),country_df[\"Fatalities\"].head(show_top_n)):\n",
    "#     percent=100*f/c\n",
    "#     print(c,f,percent,index)\n",
    "#     annotations.append(\n",
    "#         dict(xref='x3', yref='y1',\n",
    "#              y=index, x=c+f+25000,\n",
    "#              text=f'{percent:2.2f}%',\n",
    "#              showarrow=False)\n",
    "#                       )\n",
    "#     index+=1\n",
    "# #     if index==3:\n",
    "# #         break\n",
    "\n",
    "\n",
    "# fig.update_layout(title='',\n",
    "#                   annotations=annotations,\n",
    "#                   xaxis={'title':'Confirmed Cases'},\n",
    "#                   xaxis2={'title':'Confirmed Cases'},\n",
    "#                   xaxis3={'title':'Confirmed Cases','range':[0,300000]},\n",
    "#                   barmode='stack',\n",
    "#                   yaxis = {'autorange':\"reversed\",'title':'Country'},\n",
    "#                   yaxis2 = {'autorange':\"reversed\"},\n",
    "#                   yaxis3 = {'autorange':\"reversed\"},\n",
    "#                  )\n",
    "\n",
    "# fig.show()\n",
    "# # plot(fig,filename='country_grouped.html')\n",
    "# # country_df.head(10)"
   ]
  },
  {
   "cell_type": "code",
   "execution_count": 8,
   "metadata": {},
   "outputs": [
    {
     "name": "stdout",
     "output_type": "stream",
     "text": [
      "242271.0 2212.0 0.9130271472854778 0\n",
      "229705.0 33186.0 14.447225789599704 1\n",
      "228691.0 27104.0 11.851800027110817 2\n",
      "222104.0 31106.0 14.005150740193782 3\n",
      "190137.0 13240.0 6.963400074682991 4\n",
      "175981.0 27032.0 15.36074917178559 5\n",
      "174098.0 7861.0 4.515273007156889 6\n",
      "143114.0 3952.0 2.76143493997792 7\n",
      "112725.0 6783.0 6.01729873586161 8\n",
      "78055.0 2551.0 3.268208314649926 9\n"
     ]
    },
    {
     "data": {
      "application/vnd.plotly.v1+json": {
       "config": {
        "plotlyServerURL": "https://plot.ly"
       },
       "data": [
        {
         "marker": {
          "color": "#636EFA"
         },
         "name": "Confirmed",
         "orientation": "h",
         "type": "bar",
         "x": [
          242271,
          229705,
          228691,
          222104,
          190137,
          175981,
          174098,
          143114,
          112725,
          78055
         ],
         "xaxis": "x",
         "y": [
          "Russia",
          "United Kingdom",
          "Spain",
          "Italy",
          "Brazil",
          "France",
          "Germany",
          "Turkey",
          "Iran",
          "India"
         ],
         "yaxis": "y"
        },
        {
         "marker": {
          "color": "#EF553B"
         },
         "name": "Fatalities",
         "orientation": "h",
         "type": "bar",
         "x": [
          2212,
          33186,
          27104,
          31106,
          13240,
          27032,
          7861,
          3952,
          6783,
          2551
         ],
         "xaxis": "x2",
         "y": [
          "Russia",
          "United Kingdom",
          "Spain",
          "Italy",
          "Brazil",
          "France",
          "Germany",
          "Turkey",
          "Iran",
          "India"
         ],
         "yaxis": "y2"
        },
        {
         "marker": {
          "color": "#636EFA"
         },
         "name": "Confirmed",
         "orientation": "h",
         "type": "bar",
         "x": [
          242271,
          229705,
          228691,
          222104,
          190137,
          175981,
          174098,
          143114,
          112725,
          78055
         ],
         "xaxis": "x3",
         "y": [
          "Russia",
          "United Kingdom",
          "Spain",
          "Italy",
          "Brazil",
          "France",
          "Germany",
          "Turkey",
          "Iran",
          "India"
         ],
         "yaxis": "y3"
        },
        {
         "marker": {
          "color": "#EF553B"
         },
         "name": "Fatalities",
         "orientation": "h",
         "type": "bar",
         "x": [
          2212,
          33186,
          27104,
          31106,
          13240,
          27032,
          7861,
          3952,
          6783,
          2551
         ],
         "xaxis": "x3",
         "y": [
          "Russia",
          "United Kingdom",
          "Spain",
          "Italy",
          "Brazil",
          "France",
          "Germany",
          "Turkey",
          "Iran",
          "India"
         ],
         "yaxis": "y3"
        }
       ],
       "layout": {
        "annotations": [
         {
          "font": {
           "size": 16
          },
          "showarrow": false,
          "text": "Confirmed Cases",
          "x": 0.14444444444444446,
          "xanchor": "center",
          "xref": "paper",
          "y": 1,
          "yanchor": "bottom",
          "yref": "paper"
         },
         {
          "font": {
           "size": 16
          },
          "showarrow": false,
          "text": "Fatalities",
          "x": 0.5,
          "xanchor": "center",
          "xref": "paper",
          "y": 1,
          "yanchor": "bottom",
          "yref": "paper"
         },
         {
          "font": {
           "size": 16
          },
          "showarrow": false,
          "text": "Fatalities w.r.t. Confirmed Cases",
          "x": 0.8555555555555556,
          "xanchor": "center",
          "xref": "paper",
          "y": 1,
          "yanchor": "bottom",
          "yref": "paper"
         },
         {
          "showarrow": false,
          "text": "0.91%",
          "x": 269483,
          "xref": "x3",
          "y": 0,
          "yref": "y"
         },
         {
          "showarrow": false,
          "text": "14.45%",
          "x": 287891,
          "xref": "x3",
          "y": 1,
          "yref": "y"
         },
         {
          "showarrow": false,
          "text": "11.85%",
          "x": 280795,
          "xref": "x3",
          "y": 2,
          "yref": "y"
         },
         {
          "showarrow": false,
          "text": "14.01%",
          "x": 278210,
          "xref": "x3",
          "y": 3,
          "yref": "y"
         },
         {
          "showarrow": false,
          "text": "6.96%",
          "x": 228377,
          "xref": "x3",
          "y": 4,
          "yref": "y"
         },
         {
          "showarrow": false,
          "text": "15.36%",
          "x": 228013,
          "xref": "x3",
          "y": 5,
          "yref": "y"
         },
         {
          "showarrow": false,
          "text": "4.52%",
          "x": 206959,
          "xref": "x3",
          "y": 6,
          "yref": "y"
         },
         {
          "showarrow": false,
          "text": "2.76%",
          "x": 172066,
          "xref": "x3",
          "y": 7,
          "yref": "y"
         },
         {
          "showarrow": false,
          "text": "6.02%",
          "x": 144508,
          "xref": "x3",
          "y": 8,
          "yref": "y"
         },
         {
          "showarrow": false,
          "text": "3.27%",
          "x": 105606,
          "xref": "x3",
          "y": 9,
          "yref": "y"
         }
        ],
        "barmode": "stack",
        "template": {
         "data": {
          "bar": [
           {
            "error_x": {
             "color": "#2a3f5f"
            },
            "error_y": {
             "color": "#2a3f5f"
            },
            "marker": {
             "line": {
              "color": "#E5ECF6",
              "width": 0.5
             }
            },
            "type": "bar"
           }
          ],
          "barpolar": [
           {
            "marker": {
             "line": {
              "color": "#E5ECF6",
              "width": 0.5
             }
            },
            "type": "barpolar"
           }
          ],
          "carpet": [
           {
            "aaxis": {
             "endlinecolor": "#2a3f5f",
             "gridcolor": "white",
             "linecolor": "white",
             "minorgridcolor": "white",
             "startlinecolor": "#2a3f5f"
            },
            "baxis": {
             "endlinecolor": "#2a3f5f",
             "gridcolor": "white",
             "linecolor": "white",
             "minorgridcolor": "white",
             "startlinecolor": "#2a3f5f"
            },
            "type": "carpet"
           }
          ],
          "choropleth": [
           {
            "colorbar": {
             "outlinewidth": 0,
             "ticks": ""
            },
            "type": "choropleth"
           }
          ],
          "contour": [
           {
            "colorbar": {
             "outlinewidth": 0,
             "ticks": ""
            },
            "colorscale": [
             [
              0,
              "#0d0887"
             ],
             [
              0.1111111111111111,
              "#46039f"
             ],
             [
              0.2222222222222222,
              "#7201a8"
             ],
             [
              0.3333333333333333,
              "#9c179e"
             ],
             [
              0.4444444444444444,
              "#bd3786"
             ],
             [
              0.5555555555555556,
              "#d8576b"
             ],
             [
              0.6666666666666666,
              "#ed7953"
             ],
             [
              0.7777777777777778,
              "#fb9f3a"
             ],
             [
              0.8888888888888888,
              "#fdca26"
             ],
             [
              1,
              "#f0f921"
             ]
            ],
            "type": "contour"
           }
          ],
          "contourcarpet": [
           {
            "colorbar": {
             "outlinewidth": 0,
             "ticks": ""
            },
            "type": "contourcarpet"
           }
          ],
          "heatmap": [
           {
            "colorbar": {
             "outlinewidth": 0,
             "ticks": ""
            },
            "colorscale": [
             [
              0,
              "#0d0887"
             ],
             [
              0.1111111111111111,
              "#46039f"
             ],
             [
              0.2222222222222222,
              "#7201a8"
             ],
             [
              0.3333333333333333,
              "#9c179e"
             ],
             [
              0.4444444444444444,
              "#bd3786"
             ],
             [
              0.5555555555555556,
              "#d8576b"
             ],
             [
              0.6666666666666666,
              "#ed7953"
             ],
             [
              0.7777777777777778,
              "#fb9f3a"
             ],
             [
              0.8888888888888888,
              "#fdca26"
             ],
             [
              1,
              "#f0f921"
             ]
            ],
            "type": "heatmap"
           }
          ],
          "heatmapgl": [
           {
            "colorbar": {
             "outlinewidth": 0,
             "ticks": ""
            },
            "colorscale": [
             [
              0,
              "#0d0887"
             ],
             [
              0.1111111111111111,
              "#46039f"
             ],
             [
              0.2222222222222222,
              "#7201a8"
             ],
             [
              0.3333333333333333,
              "#9c179e"
             ],
             [
              0.4444444444444444,
              "#bd3786"
             ],
             [
              0.5555555555555556,
              "#d8576b"
             ],
             [
              0.6666666666666666,
              "#ed7953"
             ],
             [
              0.7777777777777778,
              "#fb9f3a"
             ],
             [
              0.8888888888888888,
              "#fdca26"
             ],
             [
              1,
              "#f0f921"
             ]
            ],
            "type": "heatmapgl"
           }
          ],
          "histogram": [
           {
            "marker": {
             "colorbar": {
              "outlinewidth": 0,
              "ticks": ""
             }
            },
            "type": "histogram"
           }
          ],
          "histogram2d": [
           {
            "colorbar": {
             "outlinewidth": 0,
             "ticks": ""
            },
            "colorscale": [
             [
              0,
              "#0d0887"
             ],
             [
              0.1111111111111111,
              "#46039f"
             ],
             [
              0.2222222222222222,
              "#7201a8"
             ],
             [
              0.3333333333333333,
              "#9c179e"
             ],
             [
              0.4444444444444444,
              "#bd3786"
             ],
             [
              0.5555555555555556,
              "#d8576b"
             ],
             [
              0.6666666666666666,
              "#ed7953"
             ],
             [
              0.7777777777777778,
              "#fb9f3a"
             ],
             [
              0.8888888888888888,
              "#fdca26"
             ],
             [
              1,
              "#f0f921"
             ]
            ],
            "type": "histogram2d"
           }
          ],
          "histogram2dcontour": [
           {
            "colorbar": {
             "outlinewidth": 0,
             "ticks": ""
            },
            "colorscale": [
             [
              0,
              "#0d0887"
             ],
             [
              0.1111111111111111,
              "#46039f"
             ],
             [
              0.2222222222222222,
              "#7201a8"
             ],
             [
              0.3333333333333333,
              "#9c179e"
             ],
             [
              0.4444444444444444,
              "#bd3786"
             ],
             [
              0.5555555555555556,
              "#d8576b"
             ],
             [
              0.6666666666666666,
              "#ed7953"
             ],
             [
              0.7777777777777778,
              "#fb9f3a"
             ],
             [
              0.8888888888888888,
              "#fdca26"
             ],
             [
              1,
              "#f0f921"
             ]
            ],
            "type": "histogram2dcontour"
           }
          ],
          "mesh3d": [
           {
            "colorbar": {
             "outlinewidth": 0,
             "ticks": ""
            },
            "type": "mesh3d"
           }
          ],
          "parcoords": [
           {
            "line": {
             "colorbar": {
              "outlinewidth": 0,
              "ticks": ""
             }
            },
            "type": "parcoords"
           }
          ],
          "pie": [
           {
            "automargin": true,
            "type": "pie"
           }
          ],
          "scatter": [
           {
            "marker": {
             "colorbar": {
              "outlinewidth": 0,
              "ticks": ""
             }
            },
            "type": "scatter"
           }
          ],
          "scatter3d": [
           {
            "line": {
             "colorbar": {
              "outlinewidth": 0,
              "ticks": ""
             }
            },
            "marker": {
             "colorbar": {
              "outlinewidth": 0,
              "ticks": ""
             }
            },
            "type": "scatter3d"
           }
          ],
          "scattercarpet": [
           {
            "marker": {
             "colorbar": {
              "outlinewidth": 0,
              "ticks": ""
             }
            },
            "type": "scattercarpet"
           }
          ],
          "scattergeo": [
           {
            "marker": {
             "colorbar": {
              "outlinewidth": 0,
              "ticks": ""
             }
            },
            "type": "scattergeo"
           }
          ],
          "scattergl": [
           {
            "marker": {
             "colorbar": {
              "outlinewidth": 0,
              "ticks": ""
             }
            },
            "type": "scattergl"
           }
          ],
          "scattermapbox": [
           {
            "marker": {
             "colorbar": {
              "outlinewidth": 0,
              "ticks": ""
             }
            },
            "type": "scattermapbox"
           }
          ],
          "scatterpolar": [
           {
            "marker": {
             "colorbar": {
              "outlinewidth": 0,
              "ticks": ""
             }
            },
            "type": "scatterpolar"
           }
          ],
          "scatterpolargl": [
           {
            "marker": {
             "colorbar": {
              "outlinewidth": 0,
              "ticks": ""
             }
            },
            "type": "scatterpolargl"
           }
          ],
          "scatterternary": [
           {
            "marker": {
             "colorbar": {
              "outlinewidth": 0,
              "ticks": ""
             }
            },
            "type": "scatterternary"
           }
          ],
          "surface": [
           {
            "colorbar": {
             "outlinewidth": 0,
             "ticks": ""
            },
            "colorscale": [
             [
              0,
              "#0d0887"
             ],
             [
              0.1111111111111111,
              "#46039f"
             ],
             [
              0.2222222222222222,
              "#7201a8"
             ],
             [
              0.3333333333333333,
              "#9c179e"
             ],
             [
              0.4444444444444444,
              "#bd3786"
             ],
             [
              0.5555555555555556,
              "#d8576b"
             ],
             [
              0.6666666666666666,
              "#ed7953"
             ],
             [
              0.7777777777777778,
              "#fb9f3a"
             ],
             [
              0.8888888888888888,
              "#fdca26"
             ],
             [
              1,
              "#f0f921"
             ]
            ],
            "type": "surface"
           }
          ],
          "table": [
           {
            "cells": {
             "fill": {
              "color": "#EBF0F8"
             },
             "line": {
              "color": "white"
             }
            },
            "header": {
             "fill": {
              "color": "#C8D4E3"
             },
             "line": {
              "color": "white"
             }
            },
            "type": "table"
           }
          ]
         },
         "layout": {
          "annotationdefaults": {
           "arrowcolor": "#2a3f5f",
           "arrowhead": 0,
           "arrowwidth": 1
          },
          "coloraxis": {
           "colorbar": {
            "outlinewidth": 0,
            "ticks": ""
           }
          },
          "colorscale": {
           "diverging": [
            [
             0,
             "#8e0152"
            ],
            [
             0.1,
             "#c51b7d"
            ],
            [
             0.2,
             "#de77ae"
            ],
            [
             0.3,
             "#f1b6da"
            ],
            [
             0.4,
             "#fde0ef"
            ],
            [
             0.5,
             "#f7f7f7"
            ],
            [
             0.6,
             "#e6f5d0"
            ],
            [
             0.7,
             "#b8e186"
            ],
            [
             0.8,
             "#7fbc41"
            ],
            [
             0.9,
             "#4d9221"
            ],
            [
             1,
             "#276419"
            ]
           ],
           "sequential": [
            [
             0,
             "#0d0887"
            ],
            [
             0.1111111111111111,
             "#46039f"
            ],
            [
             0.2222222222222222,
             "#7201a8"
            ],
            [
             0.3333333333333333,
             "#9c179e"
            ],
            [
             0.4444444444444444,
             "#bd3786"
            ],
            [
             0.5555555555555556,
             "#d8576b"
            ],
            [
             0.6666666666666666,
             "#ed7953"
            ],
            [
             0.7777777777777778,
             "#fb9f3a"
            ],
            [
             0.8888888888888888,
             "#fdca26"
            ],
            [
             1,
             "#f0f921"
            ]
           ],
           "sequentialminus": [
            [
             0,
             "#0d0887"
            ],
            [
             0.1111111111111111,
             "#46039f"
            ],
            [
             0.2222222222222222,
             "#7201a8"
            ],
            [
             0.3333333333333333,
             "#9c179e"
            ],
            [
             0.4444444444444444,
             "#bd3786"
            ],
            [
             0.5555555555555556,
             "#d8576b"
            ],
            [
             0.6666666666666666,
             "#ed7953"
            ],
            [
             0.7777777777777778,
             "#fb9f3a"
            ],
            [
             0.8888888888888888,
             "#fdca26"
            ],
            [
             1,
             "#f0f921"
            ]
           ]
          },
          "colorway": [
           "#636efa",
           "#EF553B",
           "#00cc96",
           "#ab63fa",
           "#FFA15A",
           "#19d3f3",
           "#FF6692",
           "#B6E880",
           "#FF97FF",
           "#FECB52"
          ],
          "font": {
           "color": "#2a3f5f"
          },
          "geo": {
           "bgcolor": "white",
           "lakecolor": "white",
           "landcolor": "#E5ECF6",
           "showlakes": true,
           "showland": true,
           "subunitcolor": "white"
          },
          "hoverlabel": {
           "align": "left"
          },
          "hovermode": "closest",
          "mapbox": {
           "style": "light"
          },
          "paper_bgcolor": "white",
          "plot_bgcolor": "#E5ECF6",
          "polar": {
           "angularaxis": {
            "gridcolor": "white",
            "linecolor": "white",
            "ticks": ""
           },
           "bgcolor": "#E5ECF6",
           "radialaxis": {
            "gridcolor": "white",
            "linecolor": "white",
            "ticks": ""
           }
          },
          "scene": {
           "xaxis": {
            "backgroundcolor": "#E5ECF6",
            "gridcolor": "white",
            "gridwidth": 2,
            "linecolor": "white",
            "showbackground": true,
            "ticks": "",
            "zerolinecolor": "white"
           },
           "yaxis": {
            "backgroundcolor": "#E5ECF6",
            "gridcolor": "white",
            "gridwidth": 2,
            "linecolor": "white",
            "showbackground": true,
            "ticks": "",
            "zerolinecolor": "white"
           },
           "zaxis": {
            "backgroundcolor": "#E5ECF6",
            "gridcolor": "white",
            "gridwidth": 2,
            "linecolor": "white",
            "showbackground": true,
            "ticks": "",
            "zerolinecolor": "white"
           }
          },
          "shapedefaults": {
           "line": {
            "color": "#2a3f5f"
           }
          },
          "ternary": {
           "aaxis": {
            "gridcolor": "white",
            "linecolor": "white",
            "ticks": ""
           },
           "baxis": {
            "gridcolor": "white",
            "linecolor": "white",
            "ticks": ""
           },
           "bgcolor": "#E5ECF6",
           "caxis": {
            "gridcolor": "white",
            "linecolor": "white",
            "ticks": ""
           }
          },
          "title": {
           "x": 0.05
          },
          "xaxis": {
           "automargin": true,
           "gridcolor": "white",
           "linecolor": "white",
           "ticks": "",
           "title": {
            "standoff": 15
           },
           "zerolinecolor": "white",
           "zerolinewidth": 2
          },
          "yaxis": {
           "automargin": true,
           "gridcolor": "white",
           "linecolor": "white",
           "ticks": "",
           "title": {
            "standoff": 15
           },
           "zerolinecolor": "white",
           "zerolinewidth": 2
          }
         }
        },
        "title": {
         "text": ""
        },
        "xaxis": {
         "anchor": "y",
         "domain": [
          0,
          0.2888888888888889
         ],
         "title": {
          "text": "Confirmed Cases"
         }
        },
        "xaxis2": {
         "anchor": "y2",
         "domain": [
          0.35555555555555557,
          0.6444444444444445
         ],
         "title": {
          "text": "Confirmed Cases"
         }
        },
        "xaxis3": {
         "anchor": "y3",
         "domain": [
          0.7111111111111111,
          1
         ],
         "range": [
          0,
          300000
         ],
         "title": {
          "text": "Confirmed Cases"
         }
        },
        "yaxis": {
         "anchor": "x",
         "autorange": "reversed",
         "domain": [
          0,
          1
         ],
         "title": {
          "text": "Country"
         }
        },
        "yaxis2": {
         "anchor": "x2",
         "autorange": "reversed",
         "domain": [
          0,
          1
         ],
         "visible": false
        },
        "yaxis3": {
         "anchor": "x3",
         "autorange": "reversed",
         "domain": [
          0,
          1
         ],
         "visible": false
        }
       }
      },
      "text/html": [
       "<div>\n",
       "        \n",
       "        \n",
       "            <div id=\"48bf37d4-76cf-4bc9-acc5-7e6cf5d9984b\" class=\"plotly-graph-div\" style=\"height:525px; width:100%;\"></div>\n",
       "            <script type=\"text/javascript\">\n",
       "                require([\"plotly\"], function(Plotly) {\n",
       "                    window.PLOTLYENV=window.PLOTLYENV || {};\n",
       "                    \n",
       "                if (document.getElementById(\"48bf37d4-76cf-4bc9-acc5-7e6cf5d9984b\")) {\n",
       "                    Plotly.newPlot(\n",
       "                        '48bf37d4-76cf-4bc9-acc5-7e6cf5d9984b',\n",
       "                        [{\"marker\": {\"color\": \"#636EFA\"}, \"name\": \"Confirmed\", \"orientation\": \"h\", \"type\": \"bar\", \"x\": [242271.0, 229705.0, 228691.0, 222104.0, 190137.0, 175981.0, 174098.0, 143114.0, 112725.0, 78055.0], \"xaxis\": \"x\", \"y\": [\"Russia\", \"United Kingdom\", \"Spain\", \"Italy\", \"Brazil\", \"France\", \"Germany\", \"Turkey\", \"Iran\", \"India\"], \"yaxis\": \"y\"}, {\"marker\": {\"color\": \"#EF553B\"}, \"name\": \"Fatalities\", \"orientation\": \"h\", \"type\": \"bar\", \"x\": [2212.0, 33186.0, 27104.0, 31106.0, 13240.0, 27032.0, 7861.0, 3952.0, 6783.0, 2551.0], \"xaxis\": \"x2\", \"y\": [\"Russia\", \"United Kingdom\", \"Spain\", \"Italy\", \"Brazil\", \"France\", \"Germany\", \"Turkey\", \"Iran\", \"India\"], \"yaxis\": \"y2\"}, {\"marker\": {\"color\": \"#636EFA\"}, \"name\": \"Confirmed\", \"orientation\": \"h\", \"type\": \"bar\", \"x\": [242271.0, 229705.0, 228691.0, 222104.0, 190137.0, 175981.0, 174098.0, 143114.0, 112725.0, 78055.0], \"xaxis\": \"x3\", \"y\": [\"Russia\", \"United Kingdom\", \"Spain\", \"Italy\", \"Brazil\", \"France\", \"Germany\", \"Turkey\", \"Iran\", \"India\"], \"yaxis\": \"y3\"}, {\"marker\": {\"color\": \"#EF553B\"}, \"name\": \"Fatalities\", \"orientation\": \"h\", \"type\": \"bar\", \"x\": [2212.0, 33186.0, 27104.0, 31106.0, 13240.0, 27032.0, 7861.0, 3952.0, 6783.0, 2551.0], \"xaxis\": \"x3\", \"y\": [\"Russia\", \"United Kingdom\", \"Spain\", \"Italy\", \"Brazil\", \"France\", \"Germany\", \"Turkey\", \"Iran\", \"India\"], \"yaxis\": \"y3\"}],\n",
       "                        {\"annotations\": [{\"font\": {\"size\": 16}, \"showarrow\": false, \"text\": \"Confirmed Cases\", \"x\": 0.14444444444444446, \"xanchor\": \"center\", \"xref\": \"paper\", \"y\": 1.0, \"yanchor\": \"bottom\", \"yref\": \"paper\"}, {\"font\": {\"size\": 16}, \"showarrow\": false, \"text\": \"Fatalities\", \"x\": 0.5, \"xanchor\": \"center\", \"xref\": \"paper\", \"y\": 1.0, \"yanchor\": \"bottom\", \"yref\": \"paper\"}, {\"font\": {\"size\": 16}, \"showarrow\": false, \"text\": \"Fatalities w.r.t. Confirmed Cases\", \"x\": 0.8555555555555556, \"xanchor\": \"center\", \"xref\": \"paper\", \"y\": 1.0, \"yanchor\": \"bottom\", \"yref\": \"paper\"}, {\"showarrow\": false, \"text\": \"0.91%\", \"x\": 269483.0, \"xref\": \"x3\", \"y\": 0, \"yref\": \"y\"}, {\"showarrow\": false, \"text\": \"14.45%\", \"x\": 287891.0, \"xref\": \"x3\", \"y\": 1, \"yref\": \"y\"}, {\"showarrow\": false, \"text\": \"11.85%\", \"x\": 280795.0, \"xref\": \"x3\", \"y\": 2, \"yref\": \"y\"}, {\"showarrow\": false, \"text\": \"14.01%\", \"x\": 278210.0, \"xref\": \"x3\", \"y\": 3, \"yref\": \"y\"}, {\"showarrow\": false, \"text\": \"6.96%\", \"x\": 228377.0, \"xref\": \"x3\", \"y\": 4, \"yref\": \"y\"}, {\"showarrow\": false, \"text\": \"15.36%\", \"x\": 228013.0, \"xref\": \"x3\", \"y\": 5, \"yref\": \"y\"}, {\"showarrow\": false, \"text\": \"4.52%\", \"x\": 206959.0, \"xref\": \"x3\", \"y\": 6, \"yref\": \"y\"}, {\"showarrow\": false, \"text\": \"2.76%\", \"x\": 172066.0, \"xref\": \"x3\", \"y\": 7, \"yref\": \"y\"}, {\"showarrow\": false, \"text\": \"6.02%\", \"x\": 144508.0, \"xref\": \"x3\", \"y\": 8, \"yref\": \"y\"}, {\"showarrow\": false, \"text\": \"3.27%\", \"x\": 105606.0, \"xref\": \"x3\", \"y\": 9, \"yref\": \"y\"}], \"barmode\": \"stack\", \"template\": {\"data\": {\"bar\": [{\"error_x\": {\"color\": \"#2a3f5f\"}, \"error_y\": {\"color\": \"#2a3f5f\"}, \"marker\": {\"line\": {\"color\": \"#E5ECF6\", \"width\": 0.5}}, \"type\": \"bar\"}], \"barpolar\": [{\"marker\": {\"line\": {\"color\": \"#E5ECF6\", \"width\": 0.5}}, \"type\": \"barpolar\"}], \"carpet\": [{\"aaxis\": {\"endlinecolor\": \"#2a3f5f\", \"gridcolor\": \"white\", \"linecolor\": \"white\", \"minorgridcolor\": \"white\", \"startlinecolor\": \"#2a3f5f\"}, \"baxis\": {\"endlinecolor\": \"#2a3f5f\", \"gridcolor\": \"white\", \"linecolor\": \"white\", \"minorgridcolor\": \"white\", \"startlinecolor\": \"#2a3f5f\"}, \"type\": \"carpet\"}], \"choropleth\": [{\"colorbar\": {\"outlinewidth\": 0, \"ticks\": \"\"}, \"type\": \"choropleth\"}], \"contour\": [{\"colorbar\": {\"outlinewidth\": 0, \"ticks\": \"\"}, \"colorscale\": [[0.0, \"#0d0887\"], [0.1111111111111111, \"#46039f\"], [0.2222222222222222, \"#7201a8\"], [0.3333333333333333, \"#9c179e\"], [0.4444444444444444, \"#bd3786\"], [0.5555555555555556, \"#d8576b\"], [0.6666666666666666, \"#ed7953\"], [0.7777777777777778, \"#fb9f3a\"], [0.8888888888888888, \"#fdca26\"], [1.0, \"#f0f921\"]], \"type\": \"contour\"}], \"contourcarpet\": [{\"colorbar\": {\"outlinewidth\": 0, \"ticks\": \"\"}, \"type\": \"contourcarpet\"}], \"heatmap\": [{\"colorbar\": {\"outlinewidth\": 0, \"ticks\": \"\"}, \"colorscale\": [[0.0, \"#0d0887\"], [0.1111111111111111, \"#46039f\"], [0.2222222222222222, \"#7201a8\"], [0.3333333333333333, \"#9c179e\"], [0.4444444444444444, \"#bd3786\"], [0.5555555555555556, \"#d8576b\"], [0.6666666666666666, \"#ed7953\"], [0.7777777777777778, \"#fb9f3a\"], [0.8888888888888888, \"#fdca26\"], [1.0, \"#f0f921\"]], \"type\": \"heatmap\"}], \"heatmapgl\": [{\"colorbar\": {\"outlinewidth\": 0, \"ticks\": \"\"}, \"colorscale\": [[0.0, \"#0d0887\"], [0.1111111111111111, \"#46039f\"], [0.2222222222222222, \"#7201a8\"], [0.3333333333333333, \"#9c179e\"], [0.4444444444444444, \"#bd3786\"], [0.5555555555555556, \"#d8576b\"], [0.6666666666666666, \"#ed7953\"], [0.7777777777777778, \"#fb9f3a\"], [0.8888888888888888, \"#fdca26\"], [1.0, \"#f0f921\"]], \"type\": \"heatmapgl\"}], \"histogram\": [{\"marker\": {\"colorbar\": {\"outlinewidth\": 0, \"ticks\": \"\"}}, \"type\": \"histogram\"}], \"histogram2d\": [{\"colorbar\": {\"outlinewidth\": 0, \"ticks\": \"\"}, \"colorscale\": [[0.0, \"#0d0887\"], [0.1111111111111111, \"#46039f\"], [0.2222222222222222, \"#7201a8\"], [0.3333333333333333, \"#9c179e\"], [0.4444444444444444, \"#bd3786\"], [0.5555555555555556, \"#d8576b\"], [0.6666666666666666, \"#ed7953\"], [0.7777777777777778, \"#fb9f3a\"], [0.8888888888888888, \"#fdca26\"], [1.0, \"#f0f921\"]], \"type\": \"histogram2d\"}], \"histogram2dcontour\": [{\"colorbar\": {\"outlinewidth\": 0, \"ticks\": \"\"}, \"colorscale\": [[0.0, \"#0d0887\"], [0.1111111111111111, \"#46039f\"], [0.2222222222222222, \"#7201a8\"], [0.3333333333333333, \"#9c179e\"], [0.4444444444444444, \"#bd3786\"], [0.5555555555555556, \"#d8576b\"], [0.6666666666666666, \"#ed7953\"], [0.7777777777777778, \"#fb9f3a\"], [0.8888888888888888, \"#fdca26\"], [1.0, \"#f0f921\"]], \"type\": \"histogram2dcontour\"}], \"mesh3d\": [{\"colorbar\": {\"outlinewidth\": 0, \"ticks\": \"\"}, \"type\": \"mesh3d\"}], \"parcoords\": [{\"line\": {\"colorbar\": {\"outlinewidth\": 0, \"ticks\": \"\"}}, \"type\": \"parcoords\"}], \"pie\": [{\"automargin\": true, \"type\": \"pie\"}], \"scatter\": [{\"marker\": {\"colorbar\": {\"outlinewidth\": 0, \"ticks\": \"\"}}, \"type\": \"scatter\"}], \"scatter3d\": [{\"line\": {\"colorbar\": {\"outlinewidth\": 0, \"ticks\": \"\"}}, \"marker\": {\"colorbar\": {\"outlinewidth\": 0, \"ticks\": \"\"}}, \"type\": \"scatter3d\"}], \"scattercarpet\": [{\"marker\": {\"colorbar\": {\"outlinewidth\": 0, \"ticks\": \"\"}}, \"type\": \"scattercarpet\"}], \"scattergeo\": [{\"marker\": {\"colorbar\": {\"outlinewidth\": 0, \"ticks\": \"\"}}, \"type\": \"scattergeo\"}], \"scattergl\": [{\"marker\": {\"colorbar\": {\"outlinewidth\": 0, \"ticks\": \"\"}}, \"type\": \"scattergl\"}], \"scattermapbox\": [{\"marker\": {\"colorbar\": {\"outlinewidth\": 0, \"ticks\": \"\"}}, \"type\": \"scattermapbox\"}], \"scatterpolar\": [{\"marker\": {\"colorbar\": {\"outlinewidth\": 0, \"ticks\": \"\"}}, \"type\": \"scatterpolar\"}], \"scatterpolargl\": [{\"marker\": {\"colorbar\": {\"outlinewidth\": 0, \"ticks\": \"\"}}, \"type\": \"scatterpolargl\"}], \"scatterternary\": [{\"marker\": {\"colorbar\": {\"outlinewidth\": 0, \"ticks\": \"\"}}, \"type\": \"scatterternary\"}], \"surface\": [{\"colorbar\": {\"outlinewidth\": 0, \"ticks\": \"\"}, \"colorscale\": [[0.0, \"#0d0887\"], [0.1111111111111111, \"#46039f\"], [0.2222222222222222, \"#7201a8\"], [0.3333333333333333, \"#9c179e\"], [0.4444444444444444, \"#bd3786\"], [0.5555555555555556, \"#d8576b\"], [0.6666666666666666, \"#ed7953\"], [0.7777777777777778, \"#fb9f3a\"], [0.8888888888888888, \"#fdca26\"], [1.0, \"#f0f921\"]], \"type\": \"surface\"}], \"table\": [{\"cells\": {\"fill\": {\"color\": \"#EBF0F8\"}, \"line\": {\"color\": \"white\"}}, \"header\": {\"fill\": {\"color\": \"#C8D4E3\"}, \"line\": {\"color\": \"white\"}}, \"type\": \"table\"}]}, \"layout\": {\"annotationdefaults\": {\"arrowcolor\": \"#2a3f5f\", \"arrowhead\": 0, \"arrowwidth\": 1}, \"coloraxis\": {\"colorbar\": {\"outlinewidth\": 0, \"ticks\": \"\"}}, \"colorscale\": {\"diverging\": [[0, \"#8e0152\"], [0.1, \"#c51b7d\"], [0.2, \"#de77ae\"], [0.3, \"#f1b6da\"], [0.4, \"#fde0ef\"], [0.5, \"#f7f7f7\"], [0.6, \"#e6f5d0\"], [0.7, \"#b8e186\"], [0.8, \"#7fbc41\"], [0.9, \"#4d9221\"], [1, \"#276419\"]], \"sequential\": [[0.0, \"#0d0887\"], [0.1111111111111111, \"#46039f\"], [0.2222222222222222, \"#7201a8\"], [0.3333333333333333, \"#9c179e\"], [0.4444444444444444, \"#bd3786\"], [0.5555555555555556, \"#d8576b\"], [0.6666666666666666, \"#ed7953\"], [0.7777777777777778, \"#fb9f3a\"], [0.8888888888888888, \"#fdca26\"], [1.0, \"#f0f921\"]], \"sequentialminus\": [[0.0, \"#0d0887\"], [0.1111111111111111, \"#46039f\"], [0.2222222222222222, \"#7201a8\"], [0.3333333333333333, \"#9c179e\"], [0.4444444444444444, \"#bd3786\"], [0.5555555555555556, \"#d8576b\"], [0.6666666666666666, \"#ed7953\"], [0.7777777777777778, \"#fb9f3a\"], [0.8888888888888888, \"#fdca26\"], [1.0, \"#f0f921\"]]}, \"colorway\": [\"#636efa\", \"#EF553B\", \"#00cc96\", \"#ab63fa\", \"#FFA15A\", \"#19d3f3\", \"#FF6692\", \"#B6E880\", \"#FF97FF\", \"#FECB52\"], \"font\": {\"color\": \"#2a3f5f\"}, \"geo\": {\"bgcolor\": \"white\", \"lakecolor\": \"white\", \"landcolor\": \"#E5ECF6\", \"showlakes\": true, \"showland\": true, \"subunitcolor\": \"white\"}, \"hoverlabel\": {\"align\": \"left\"}, \"hovermode\": \"closest\", \"mapbox\": {\"style\": \"light\"}, \"paper_bgcolor\": \"white\", \"plot_bgcolor\": \"#E5ECF6\", \"polar\": {\"angularaxis\": {\"gridcolor\": \"white\", \"linecolor\": \"white\", \"ticks\": \"\"}, \"bgcolor\": \"#E5ECF6\", \"radialaxis\": {\"gridcolor\": \"white\", \"linecolor\": \"white\", \"ticks\": \"\"}}, \"scene\": {\"xaxis\": {\"backgroundcolor\": \"#E5ECF6\", \"gridcolor\": \"white\", \"gridwidth\": 2, \"linecolor\": \"white\", \"showbackground\": true, \"ticks\": \"\", \"zerolinecolor\": \"white\"}, \"yaxis\": {\"backgroundcolor\": \"#E5ECF6\", \"gridcolor\": \"white\", \"gridwidth\": 2, \"linecolor\": \"white\", \"showbackground\": true, \"ticks\": \"\", \"zerolinecolor\": \"white\"}, \"zaxis\": {\"backgroundcolor\": \"#E5ECF6\", \"gridcolor\": \"white\", \"gridwidth\": 2, \"linecolor\": \"white\", \"showbackground\": true, \"ticks\": \"\", \"zerolinecolor\": \"white\"}}, \"shapedefaults\": {\"line\": {\"color\": \"#2a3f5f\"}}, \"ternary\": {\"aaxis\": {\"gridcolor\": \"white\", \"linecolor\": \"white\", \"ticks\": \"\"}, \"baxis\": {\"gridcolor\": \"white\", \"linecolor\": \"white\", \"ticks\": \"\"}, \"bgcolor\": \"#E5ECF6\", \"caxis\": {\"gridcolor\": \"white\", \"linecolor\": \"white\", \"ticks\": \"\"}}, \"title\": {\"x\": 0.05}, \"xaxis\": {\"automargin\": true, \"gridcolor\": \"white\", \"linecolor\": \"white\", \"ticks\": \"\", \"title\": {\"standoff\": 15}, \"zerolinecolor\": \"white\", \"zerolinewidth\": 2}, \"yaxis\": {\"automargin\": true, \"gridcolor\": \"white\", \"linecolor\": \"white\", \"ticks\": \"\", \"title\": {\"standoff\": 15}, \"zerolinecolor\": \"white\", \"zerolinewidth\": 2}}}, \"title\": {\"text\": \"\"}, \"xaxis\": {\"anchor\": \"y\", \"domain\": [0.0, 0.2888888888888889], \"title\": {\"text\": \"Confirmed Cases\"}}, \"xaxis2\": {\"anchor\": \"y2\", \"domain\": [0.35555555555555557, 0.6444444444444445], \"title\": {\"text\": \"Confirmed Cases\"}}, \"xaxis3\": {\"anchor\": \"y3\", \"domain\": [0.7111111111111111, 1.0], \"range\": [0, 300000], \"title\": {\"text\": \"Confirmed Cases\"}}, \"yaxis\": {\"anchor\": \"x\", \"autorange\": \"reversed\", \"domain\": [0.0, 1.0], \"title\": {\"text\": \"Country\"}}, \"yaxis2\": {\"anchor\": \"x2\", \"autorange\": \"reversed\", \"domain\": [0.0, 1.0], \"visible\": false}, \"yaxis3\": {\"anchor\": \"x3\", \"autorange\": \"reversed\", \"domain\": [0.0, 1.0], \"visible\": false}},\n",
       "                        {\"responsive\": true}\n",
       "                    ).then(function(){\n",
       "                            \n",
       "var gd = document.getElementById('48bf37d4-76cf-4bc9-acc5-7e6cf5d9984b');\n",
       "var x = new MutationObserver(function (mutations, observer) {{\n",
       "        var display = window.getComputedStyle(gd).display;\n",
       "        if (!display || display === 'none') {{\n",
       "            console.log([gd, 'removed!']);\n",
       "            Plotly.purge(gd);\n",
       "            observer.disconnect();\n",
       "        }}\n",
       "}});\n",
       "\n",
       "// Listen for the removal of the full notebook cells\n",
       "var notebookContainer = gd.closest('#notebook-container');\n",
       "if (notebookContainer) {{\n",
       "    x.observe(notebookContainer, {childList: true});\n",
       "}}\n",
       "\n",
       "// Listen for the clearing of the current output cell\n",
       "var outputEl = gd.closest('.output');\n",
       "if (outputEl) {{\n",
       "    x.observe(outputEl, {childList: true});\n",
       "}}\n",
       "\n",
       "                        })\n",
       "                };\n",
       "                });\n",
       "            </script>\n",
       "        </div>"
      ]
     },
     "metadata": {},
     "output_type": "display_data"
    }
   ],
   "source": [
    "fig=tools.make_subplots(1,3,subplot_titles=['Confirmed Cases','Fatalities','Fatalities w.r.t. Confirmed Cases'])\n",
    "data=[]\n",
    "for country,group in df.groupby(['Country_Region']):\n",
    "    temp={}\n",
    "    temp['Country']=country\n",
    "    temp['Confirmed']=group['ConfirmedCases'].tolist()[-1]\n",
    "    temp['Fatalities']=group['Fatalities'].tolist()[-1]\n",
    "    temp['FatalitiesPercent']=100*temp['Fatalities']/temp['Confirmed']\n",
    "    data.append(temp)\n",
    "colors=px.colors.qualitative.Plotly\n",
    "country_df=pd.DataFrame(data)\n",
    "country_df=country_df.sort_values('Confirmed',ascending=False)\n",
    "\n",
    "show_top_n=10\n",
    "\n",
    "fig.append_trace(go.Bar(x=country_df[\"Confirmed\"].head(show_top_n),\n",
    "                        y=country_df[\"Country\"].head(show_top_n), \n",
    "                        name='Confirmed',\n",
    "                        orientation='h',\n",
    "                        marker_color=colors[0]),1,1)\n",
    "fig.append_trace(go.Bar(x=country_df[\"Fatalities\"].head(show_top_n), \n",
    "                        y=country_df[\"Country\"].head(show_top_n), \n",
    "                        name='Fatalities', \n",
    "                        orientation='h',\n",
    "                        marker_color=colors[1]),1,2)\n",
    "\n",
    "fig.append_trace(go.Bar(x=country_df[\"Confirmed\"].head(show_top_n), \n",
    "                        y=country_df[\"Country\"].head(show_top_n), \n",
    "                        name='Confirmed',\n",
    "                        orientation='h',\n",
    "                        marker_color=colors[0]),1,3)\n",
    "fig.append_trace(go.Bar(x=country_df[\"Fatalities\"].head(show_top_n), \n",
    "                        y=country_df[\"Country\"].head(show_top_n), \n",
    "                        name='Fatalities', \n",
    "                        orientation='h',\n",
    "                        marker_color=colors[1]),1,3)\n",
    "\n",
    "annotations = []\n",
    "index=0\n",
    "for c,f in zip(country_df[\"Confirmed\"].head(show_top_n),country_df[\"Fatalities\"].head(show_top_n)):\n",
    "    percent=100*f/c\n",
    "    print(c,f,percent,index)\n",
    "    annotations.append(\n",
    "        dict(xref='x3',\n",
    "             yref='y1',\n",
    "             y=index,\n",
    "             x=c+f+25000,\n",
    "             text=f'{percent:2.2f}%',\n",
    "             showarrow=False\n",
    "            )\n",
    "    )\n",
    "    index+=1\n",
    "#     if index==3:\n",
    "#         break\n",
    "\n",
    "\n",
    "fig.update_layout(title='',\n",
    "                  annotations=annotations[:3]+annotations,\n",
    "                  xaxis={'title':'Confirmed Cases'},\n",
    "                  xaxis2={'title':'Confirmed Cases'},\n",
    "                  xaxis3={'title':'Confirmed Cases','range':[0,300000]},\n",
    "                  barmode='stack',\n",
    "                  yaxis = {'autorange':\"reversed\",'title':'Country'},\n",
    "                  yaxis2 = {'autorange':\"reversed\",\"visible\":False},\n",
    "                  yaxis3 = {'autorange':\"reversed\",\"visible\":False},\n",
    "                 )\n",
    "\n",
    "fig.show()\n",
    "# plot(fig,filename='country_grouped.html')\n",
    "# country_df.head(10)"
   ]
  },
  {
   "cell_type": "markdown",
   "metadata": {},
   "source": [
    "# VIS 3"
   ]
  },
  {
   "cell_type": "code",
   "execution_count": 10,
   "metadata": {},
   "outputs": [],
   "source": [
    "change_data=[]\n",
    "for country,group in df.groupby(['Country_Region']):\n",
    "    temp_df=group.copy()\n",
    "    temp_df['ConfirmedCasesChange']=temp_df['ConfirmedCases'].diff()\n",
    "    temp_df['FatalitiesChange']=temp_df['Fatalities'].diff()\n",
    "    lastmile=temp_df.ConfirmedCasesChange.rolling(window=7).mean().tolist()[-7:]\n",
    "    temp={}\n",
    "    temp['increasing']=False\n",
    "    temp['Country']=country\n",
    "    temp['ConfirmedCases']=temp_df['ConfirmedCases'].tolist()[-1]\n",
    "    temp['Fatalities']=temp_df['Fatalities'].tolist()[-1]\n",
    "    temp['ConfirmedCasesPercent']=lastmile[-1]-lastmile[-2]  \n",
    "    if(temp['ConfirmedCasesPercent']> 0):\n",
    "        temp['increasing']=True\n",
    "    temp['ConfirmedCasesPercent']=abs(temp['ConfirmedCasesPercent'])\n",
    "    change_data.append(temp)\n",
    "    "
   ]
  },
  {
   "cell_type": "code",
   "execution_count": 11,
   "metadata": {},
   "outputs": [
    {
     "data": {
      "application/vnd.plotly.v1+json": {
       "config": {
        "plotlyServerURL": "https://plot.ly"
       },
       "data": [
        {
         "marker": {
          "color": "red"
         },
         "name": "Albania",
         "r": [
          1.1428571428571432
         ],
         "theta": [
          0
         ],
         "type": "barpolar"
        },
        {
         "marker": {
          "color": "red"
         },
         "name": "Angola",
         "r": [
          0
         ],
         "theta": [
          0.7377049180327869
         ],
         "type": "barpolar"
        },
        {
         "marker": {
          "color": "red"
         },
         "name": "Antigua and Barbuda",
         "r": [
          0
         ],
         "theta": [
          1.4754098360655739
         ],
         "type": "barpolar"
        },
        {
         "marker": {
          "color": "red"
         },
         "name": "Australia",
         "r": [
          0.14285714285714285
         ],
         "theta": [
          2.2131147540983607
         ],
         "type": "barpolar"
        },
        {
         "marker": {
          "color": "red"
         },
         "name": "Azerbaijan",
         "r": [
          0.2857142857142918
         ],
         "theta": [
          2.9508196721311477
         ],
         "type": "barpolar"
        },
        {
         "marker": {
          "color": "red"
         },
         "name": "Bahamas",
         "r": [
          0.2857142857142857
         ],
         "theta": [
          3.6885245901639343
         ],
         "type": "barpolar"
        },
        {
         "marker": {
          "color": "red"
         },
         "name": "Barbados",
         "r": [
          0
         ],
         "theta": [
          4.426229508196721
         ],
         "type": "barpolar"
        },
        {
         "marker": {
          "color": "red"
         },
         "name": "Belgium",
         "r": [
          10
         ],
         "theta": [
          5.163934426229508
         ],
         "type": "barpolar"
        },
        {
         "marker": {
          "color": "red"
         },
         "name": "Belize",
         "r": [
          0
         ],
         "theta": [
          5.901639344262295
         ],
         "type": "barpolar"
        },
        {
         "marker": {
          "color": "red"
         },
         "name": "Benin",
         "r": [
          0
         ],
         "theta": [
          6.639344262295082
         ],
         "type": "barpolar"
        },
        {
         "marker": {
          "color": "red"
         },
         "name": "Bosnia and Herzegovina",
         "r": [
          2.5714285714285694
         ],
         "theta": [
          7.377049180327869
         ],
         "type": "barpolar"
        },
        {
         "marker": {
          "color": "red"
         },
         "name": "Botswana",
         "r": [
          0
         ],
         "theta": [
          8.114754098360656
         ],
         "type": "barpolar"
        },
        {
         "marker": {
          "color": "red"
         },
         "name": "Brunei",
         "r": [
          0.14285714285714285
         ],
         "theta": [
          8.852459016393443
         ],
         "type": "barpolar"
        },
        {
         "marker": {
          "color": "red"
         },
         "name": "Bulgaria",
         "r": [
          4
         ],
         "theta": [
          9.59016393442623
         ],
         "type": "barpolar"
        },
        {
         "marker": {
          "color": "red"
         },
         "name": "Burkina Faso",
         "r": [
          4.857142857142857
         ],
         "theta": [
          10.327868852459016
         ],
         "type": "barpolar"
        },
        {
         "marker": {
          "color": "red"
         },
         "name": "Burundi",
         "r": [
          0
         ],
         "theta": [
          11.065573770491802
         ],
         "type": "barpolar"
        },
        {
         "marker": {
          "color": "red"
         },
         "name": "Cambodia",
         "r": [
          0
         ],
         "theta": [
          11.80327868852459
         ],
         "type": "barpolar"
        },
        {
         "marker": {
          "color": "red"
         },
         "name": "Cameroon",
         "r": [
          7.142857142857139
         ],
         "theta": [
          12.540983606557377
         ],
         "type": "barpolar"
        },
        {
         "marker": {
          "color": "red"
         },
         "name": "Canada",
         "r": [
          0
         ],
         "theta": [
          13.278688524590164
         ],
         "type": "barpolar"
        },
        {
         "marker": {
          "color": "red"
         },
         "name": "Central African Republic",
         "r": [
          1.2857142857142865
         ],
         "theta": [
          14.01639344262295
         ],
         "type": "barpolar"
        },
        {
         "marker": {
          "color": "red"
         },
         "name": "China",
         "r": [
          0
         ],
         "theta": [
          14.754098360655737
         ],
         "type": "barpolar"
        },
        {
         "marker": {
          "color": "red"
         },
         "name": "Congo (Brazzaville)",
         "r": [
          4
         ],
         "theta": [
          15.491803278688524
         ],
         "type": "barpolar"
        },
        {
         "marker": {
          "color": "red"
         },
         "name": "Congo (Kinshasa)",
         "r": [
          3.5714285714285694
         ],
         "theta": [
          16.229508196721312
         ],
         "type": "barpolar"
        },
        {
         "marker": {
          "color": "red"
         },
         "name": "Croatia",
         "r": [
          0.14285714285714235
         ],
         "theta": [
          16.9672131147541
         ],
         "type": "barpolar"
        },
        {
         "marker": {
          "color": "red"
         },
         "name": "Cuba",
         "r": [
          1.7142857142857135
         ],
         "theta": [
          17.704918032786885
         ],
         "type": "barpolar"
        },
        {
         "marker": {
          "color": "red"
         },
         "name": "Cyprus",
         "r": [
          0.4285714285714288
         ],
         "theta": [
          18.442622950819672
         ],
         "type": "barpolar"
        },
        {
         "marker": {
          "color": "red"
         },
         "name": "Czechia",
         "r": [
          4.285714285714285
         ],
         "theta": [
          19.18032786885246
         ],
         "type": "barpolar"
        },
        {
         "marker": {
          "color": "red"
         },
         "name": "Denmark",
         "r": [
          5.857142857142861
         ],
         "theta": [
          19.918032786885245
         ],
         "type": "barpolar"
        },
        {
         "marker": {
          "color": "red"
         },
         "name": "Diamond Princess",
         "r": [
          0
         ],
         "theta": [
          20.65573770491803
         ],
         "type": "barpolar"
        },
        {
         "marker": {
          "color": "red"
         },
         "name": "Dominica",
         "r": [
          0
         ],
         "theta": [
          21.39344262295082
         ],
         "type": "barpolar"
        },
        {
         "marker": {
          "color": "red"
         },
         "name": "Dominican Republic",
         "r": [
          4.428571428571445
         ],
         "theta": [
          22.131147540983605
         ],
         "type": "barpolar"
        },
        {
         "marker": {
          "color": "red"
         },
         "name": "Egypt",
         "r": [
          7
         ],
         "theta": [
          22.868852459016395
         ],
         "type": "barpolar"
        },
        {
         "marker": {
          "color": "red"
         },
         "name": "El Salvador",
         "r": [
          1
         ],
         "theta": [
          23.60655737704918
         ],
         "type": "barpolar"
        },
        {
         "marker": {
          "color": "red"
         },
         "name": "Equatorial Guinea",
         "r": [
          5.857142857142858
         ],
         "theta": [
          24.34426229508197
         ],
         "type": "barpolar"
        },
        {
         "marker": {
          "color": "red"
         },
         "name": "Eritrea",
         "r": [
          0
         ],
         "theta": [
          25.081967213114755
         ],
         "type": "barpolar"
        },
        {
         "marker": {
          "color": "red"
         },
         "name": "Eswatini",
         "r": [
          0.14285714285714413
         ],
         "theta": [
          25.81967213114754
         ],
         "type": "barpolar"
        },
        {
         "marker": {
          "color": "red"
         },
         "name": "Ethiopia",
         "r": [
          2.142857142857144
         ],
         "theta": [
          26.557377049180328
         ],
         "type": "barpolar"
        },
        {
         "marker": {
          "color": "red"
         },
         "name": "Fiji",
         "r": [
          0
         ],
         "theta": [
          27.295081967213115
         ],
         "type": "barpolar"
        },
        {
         "marker": {
          "color": "red"
         },
         "name": "Finland",
         "r": [
          15.714285714285722
         ],
         "theta": [
          28.0327868852459
         ],
         "type": "barpolar"
        },
        {
         "marker": {
          "color": "red"
         },
         "name": "France",
         "r": [
          536.5714285714287
         ],
         "theta": [
          28.770491803278688
         ],
         "type": "barpolar"
        },
        {
         "marker": {
          "color": "red"
         },
         "name": "Georgia",
         "r": [
          0.14285714285714324
         ],
         "theta": [
          29.508196721311474
         ],
         "type": "barpolar"
        },
        {
         "marker": {
          "color": "red"
         },
         "name": "Germany",
         "r": [
          32.571428571428555
         ],
         "theta": [
          30.24590163934426
         ],
         "type": "barpolar"
        },
        {
         "marker": {
          "color": "red"
         },
         "name": "Ghana",
         "r": [
          13
         ],
         "theta": [
          30.983606557377048
         ],
         "type": "barpolar"
        },
        {
         "marker": {
          "color": "red"
         },
         "name": "Greece",
         "r": [
          0.7142857142857135
         ],
         "theta": [
          31.721311475409838
         ],
         "type": "barpolar"
        },
        {
         "marker": {
          "color": "red"
         },
         "name": "Grenada",
         "r": [
          0
         ],
         "theta": [
          32.459016393442624
         ],
         "type": "barpolar"
        },
        {
         "marker": {
          "color": "red"
         },
         "name": "Guinea-Bissau",
         "r": [
          6.5714285714285765
         ],
         "theta": [
          33.19672131147541
         ],
         "type": "barpolar"
        },
        {
         "marker": {
          "color": "red"
         },
         "name": "Guyana",
         "r": [
          0
         ],
         "theta": [
          33.9344262295082
         ],
         "type": "barpolar"
        },
        {
         "marker": {
          "color": "red"
         },
         "name": "Holy See",
         "r": [
          0.14285714285714285
         ],
         "theta": [
          34.67213114754098
         ],
         "type": "barpolar"
        },
        {
         "marker": {
          "color": "red"
         },
         "name": "Honduras",
         "r": [
          2.2857142857142776
         ],
         "theta": [
          35.40983606557377
         ],
         "type": "barpolar"
        },
        {
         "marker": {
          "color": "red"
         },
         "name": "Hungary",
         "r": [
          2.5714285714285765
         ],
         "theta": [
          36.14754098360656
         ],
         "type": "barpolar"
        },
        {
         "marker": {
          "color": "red"
         },
         "name": "Ireland",
         "r": [
          15.142857142857139
         ],
         "theta": [
          36.885245901639344
         ],
         "type": "barpolar"
        },
        {
         "marker": {
          "color": "red"
         },
         "name": "Israel",
         "r": [
          0.2857142857142847
         ],
         "theta": [
          37.622950819672134
         ],
         "type": "barpolar"
        },
        {
         "marker": {
          "color": "red"
         },
         "name": "Italy",
         "r": [
          79.42857142857156
         ],
         "theta": [
          38.36065573770492
         ],
         "type": "barpolar"
        },
        {
         "marker": {
          "color": "red"
         },
         "name": "Jamaica",
         "r": [
          0.42857142857142794
         ],
         "theta": [
          39.09836065573771
         ],
         "type": "barpolar"
        },
        {
         "marker": {
          "color": "red"
         },
         "name": "Kazakhstan",
         "r": [
          11.285714285714278
         ],
         "theta": [
          39.83606557377049
         ],
         "type": "barpolar"
        },
        {
         "marker": {
          "color": "red"
         },
         "name": "Kenya",
         "r": [
          3.571428571428573
         ],
         "theta": [
          40.57377049180328
         ],
         "type": "barpolar"
        },
        {
         "marker": {
          "color": "red"
         },
         "name": "Kosovo",
         "r": [
          0
         ],
         "theta": [
          41.31147540983606
         ],
         "type": "barpolar"
        },
        {
         "marker": {
          "color": "red"
         },
         "name": "Kyrgyzstan",
         "r": [
          3
         ],
         "theta": [
          42.049180327868854
         ],
         "type": "barpolar"
        },
        {
         "marker": {
          "color": "red"
         },
         "name": "Laos",
         "r": [
          0
         ],
         "theta": [
          42.78688524590164
         ],
         "type": "barpolar"
        },
        {
         "marker": {
          "color": "red"
         },
         "name": "Latvia",
         "r": [
          0.4285714285714288
         ],
         "theta": [
          43.52459016393443
         ],
         "type": "barpolar"
        },
        {
         "marker": {
          "color": "red"
         },
         "name": "Lebanon",
         "r": [
          0.14285714285714235
         ],
         "theta": [
          44.26229508196721
         ],
         "type": "barpolar"
        },
        {
         "marker": {
          "color": "red"
         },
         "name": "Liberia",
         "r": [
          0.8571428571428568
         ],
         "theta": [
          45
         ],
         "type": "barpolar"
        },
        {
         "marker": {
          "color": "red"
         },
         "name": "Libya",
         "r": [
          0.14285714285714285
         ],
         "theta": [
          45.73770491803279
         ],
         "type": "barpolar"
        },
        {
         "marker": {
          "color": "red"
         },
         "name": "Liechtenstein",
         "r": [
          0
         ],
         "theta": [
          46.47540983606557
         ],
         "type": "barpolar"
        },
        {
         "marker": {
          "color": "red"
         },
         "name": "Luxembourg",
         "r": [
          0.14285714285714324
         ],
         "theta": [
          47.21311475409836
         ],
         "type": "barpolar"
        },
        {
         "marker": {
          "color": "red"
         },
         "name": "MS Zaandam",
         "r": [
          0
         ],
         "theta": [
          47.950819672131146
         ],
         "type": "barpolar"
        },
        {
         "marker": {
          "color": "red"
         },
         "name": "Malaysia",
         "r": [
          1.1428571428571388
         ],
         "theta": [
          48.68852459016394
         ],
         "type": "barpolar"
        },
        {
         "marker": {
          "color": "red"
         },
         "name": "Malta",
         "r": [
          0
         ],
         "theta": [
          49.42622950819672
         ],
         "type": "barpolar"
        },
        {
         "marker": {
          "color": "red"
         },
         "name": "Mauritius",
         "r": [
          0
         ],
         "theta": [
          50.16393442622951
         ],
         "type": "barpolar"
        },
        {
         "marker": {
          "color": "red"
         },
         "name": "Monaco",
         "r": [
          0
         ],
         "theta": [
          50.90163934426229
         ],
         "type": "barpolar"
        },
        {
         "marker": {
          "color": "red"
         },
         "name": "Mongolia",
         "r": [
          0
         ],
         "theta": [
          51.63934426229508
         ],
         "type": "barpolar"
        },
        {
         "marker": {
          "color": "red"
         },
         "name": "Montenegro",
         "r": [
          0
         ],
         "theta": [
          52.377049180327866
         ],
         "type": "barpolar"
        },
        {
         "marker": {
          "color": "red"
         },
         "name": "Morocco",
         "r": [
          13.571428571428555
         ],
         "theta": [
          53.114754098360656
         ],
         "type": "barpolar"
        },
        {
         "marker": {
          "color": "red"
         },
         "name": "Mozambique",
         "r": [
          0
         ],
         "theta": [
          53.85245901639344
         ],
         "type": "barpolar"
        },
        {
         "marker": {
          "color": "red"
         },
         "name": "Namibia",
         "r": [
          0
         ],
         "theta": [
          54.59016393442623
         ],
         "type": "barpolar"
        },
        {
         "marker": {
          "color": "red"
         },
         "name": "Netherlands",
         "r": [
          0.7142857142857224
         ],
         "theta": [
          55.32786885245902
         ],
         "type": "barpolar"
        },
        {
         "marker": {
          "color": "red"
         },
         "name": "New Zealand",
         "r": [
          0.14285714285714302
         ],
         "theta": [
          56.0655737704918
         ],
         "type": "barpolar"
        },
        {
         "marker": {
          "color": "red"
         },
         "name": "Nicaragua",
         "r": [
          0
         ],
         "theta": [
          56.80327868852459
         ],
         "type": "barpolar"
        },
        {
         "marker": {
          "color": "red"
         },
         "name": "Niger",
         "r": [
          0.14285714285714235
         ],
         "theta": [
          57.540983606557376
         ],
         "type": "barpolar"
        },
        {
         "marker": {
          "color": "red"
         },
         "name": "Nigeria",
         "r": [
          1.571428571428612
         ],
         "theta": [
          58.278688524590166
         ],
         "type": "barpolar"
        },
        {
         "marker": {
          "color": "red"
         },
         "name": "Norway",
         "r": [
          3.2857142857142847
         ],
         "theta": [
          59.01639344262295
         ],
         "type": "barpolar"
        },
        {
         "marker": {
          "color": "red"
         },
         "name": "Pakistan",
         "r": [
          151.71428571428555
         ],
         "theta": [
          59.75409836065574
         ],
         "type": "barpolar"
        },
        {
         "marker": {
          "color": "red"
         },
         "name": "Panama",
         "r": [
          6.714285714285722
         ],
         "theta": [
          60.49180327868852
         ],
         "type": "barpolar"
        },
        {
         "marker": {
          "color": "red"
         },
         "name": "Papua New Guinea",
         "r": [
          0
         ],
         "theta": [
          61.22950819672131
         ],
         "type": "barpolar"
        },
        {
         "marker": {
          "color": "red"
         },
         "name": "Paraguay",
         "r": [
          0.8571428571428612
         ],
         "theta": [
          61.967213114754095
         ],
         "type": "barpolar"
        },
        {
         "marker": {
          "color": "red"
         },
         "name": "Philippines",
         "r": [
          7.428571428571416
         ],
         "theta": [
          62.704918032786885
         ],
         "type": "barpolar"
        },
        {
         "marker": {
          "color": "red"
         },
         "name": "Poland",
         "r": [
          3.7142857142857224
         ],
         "theta": [
          63.442622950819676
         ],
         "type": "barpolar"
        },
        {
         "marker": {
          "color": "red"
         },
         "name": "Portugal",
         "r": [
          37.28571428571428
         ],
         "theta": [
          64.18032786885246
         ],
         "type": "barpolar"
        },
        {
         "marker": {
          "color": "red"
         },
         "name": "Romania",
         "r": [
          6.571428571428555
         ],
         "theta": [
          64.91803278688525
         ],
         "type": "barpolar"
        },
        {
         "marker": {
          "color": "red"
         },
         "name": "Russia",
         "r": [
          75.85714285714312
         ],
         "theta": [
          65.65573770491804
         ],
         "type": "barpolar"
        },
        {
         "marker": {
          "color": "red"
         },
         "name": "Rwanda",
         "r": [
          0.8571428571428572
         ],
         "theta": [
          66.39344262295081
         ],
         "type": "barpolar"
        },
        {
         "marker": {
          "color": "red"
         },
         "name": "Saint Kitts and Nevis",
         "r": [
          0
         ],
         "theta": [
          67.1311475409836
         ],
         "type": "barpolar"
        },
        {
         "marker": {
          "color": "red"
         },
         "name": "Saint Lucia",
         "r": [
          0
         ],
         "theta": [
          67.8688524590164
         ],
         "type": "barpolar"
        },
        {
         "marker": {
          "color": "red"
         },
         "name": "Saint Vincent and the Grenadines",
         "r": [
          0
         ],
         "theta": [
          68.60655737704919
         ],
         "type": "barpolar"
        },
        {
         "marker": {
          "color": "red"
         },
         "name": "San Marino",
         "r": [
          2
         ],
         "theta": [
          69.34426229508196
         ],
         "type": "barpolar"
        },
        {
         "marker": {
          "color": "red"
         },
         "name": "Serbia",
         "r": [
          8.857142857142861
         ],
         "theta": [
          70.08196721311475
         ],
         "type": "barpolar"
        },
        {
         "marker": {
          "color": "red"
         },
         "name": "Seychelles",
         "r": [
          0
         ],
         "theta": [
          70.81967213114754
         ],
         "type": "barpolar"
        },
        {
         "marker": {
          "color": "red"
         },
         "name": "Singapore",
         "r": [
          16.14285714285711
         ],
         "theta": [
          71.55737704918033
         ],
         "type": "barpolar"
        },
        {
         "marker": {
          "color": "red"
         },
         "name": "Slovakia",
         "r": [
          0.5714285714285712
         ],
         "theta": [
          72.29508196721312
         ],
         "type": "barpolar"
        },
        {
         "marker": {
          "color": "red"
         },
         "name": "Slovenia",
         "r": [
          0.1428571428571428
         ],
         "theta": [
          73.0327868852459
         ],
         "type": "barpolar"
        },
        {
         "marker": {
          "color": "red"
         },
         "name": "Spain",
         "r": [
          47.85714285714289
         ],
         "theta": [
          73.77049180327869
         ],
         "type": "barpolar"
        },
        {
         "marker": {
          "color": "red"
         },
         "name": "Sri Lanka",
         "r": [
          0
         ],
         "theta": [
          74.50819672131148
         ],
         "type": "barpolar"
        },
        {
         "marker": {
          "color": "red"
         },
         "name": "Suriname",
         "r": [
          0
         ],
         "theta": [
          75.24590163934427
         ],
         "type": "barpolar"
        },
        {
         "marker": {
          "color": "red"
         },
         "name": "Sweden",
         "r": [
          9.285714285714334
         ],
         "theta": [
          75.98360655737704
         ],
         "type": "barpolar"
        },
        {
         "marker": {
          "color": "red"
         },
         "name": "Switzerland",
         "r": [
          2.5714285714285694
         ],
         "theta": [
          76.72131147540983
         ],
         "type": "barpolar"
        },
        {
         "marker": {
          "color": "red"
         },
         "name": "Syria",
         "r": [
          0
         ],
         "theta": [
          77.45901639344262
         ],
         "type": "barpolar"
        },
        {
         "marker": {
          "color": "red"
         },
         "name": "Taiwan*",
         "r": [
          0.14285714285714285
         ],
         "theta": [
          78.19672131147541
         ],
         "type": "barpolar"
        },
        {
         "marker": {
          "color": "red"
         },
         "name": "Tanzania",
         "r": [
          0
         ],
         "theta": [
          78.93442622950819
         ],
         "type": "barpolar"
        },
        {
         "marker": {
          "color": "red"
         },
         "name": "Thailand",
         "r": [
          0.14285714285714324
         ],
         "theta": [
          79.67213114754098
         ],
         "type": "barpolar"
        },
        {
         "marker": {
          "color": "red"
         },
         "name": "Timor-Leste",
         "r": [
          0
         ],
         "theta": [
          80.40983606557377
         ],
         "type": "barpolar"
        },
        {
         "marker": {
          "color": "red"
         },
         "name": "Trinidad and Tobago",
         "r": [
          0
         ],
         "theta": [
          81.14754098360656
         ],
         "type": "barpolar"
        },
        {
         "marker": {
          "color": "red"
         },
         "name": "Tunisia",
         "r": [
          0.4285714285714286
         ],
         "theta": [
          81.88524590163935
         ],
         "type": "barpolar"
        },
        {
         "marker": {
          "color": "red"
         },
         "name": "Turkey",
         "r": [
          87.71428571428578
         ],
         "theta": [
          82.62295081967213
         ],
         "type": "barpolar"
        },
        {
         "marker": {
          "color": "red"
         },
         "name": "US",
         "r": [
          2
         ],
         "theta": [
          83.36065573770492
         ],
         "type": "barpolar"
        },
        {
         "marker": {
          "color": "red"
         },
         "name": "Ukraine",
         "r": [
          12.142857142857167
         ],
         "theta": [
          84.09836065573771
         ],
         "type": "barpolar"
        },
        {
         "marker": {
          "color": "red"
         },
         "name": "United Kingdom",
         "r": [
          409.85714285714266
         ],
         "theta": [
          84.8360655737705
         ],
         "type": "barpolar"
        },
        {
         "marker": {
          "color": "red"
         },
         "name": "Uruguay",
         "r": [
          0.14285714285714324
         ],
         "theta": [
          85.57377049180327
         ],
         "type": "barpolar"
        },
        {
         "marker": {
          "color": "red"
         },
         "name": "Venezuela",
         "r": [
          2.571428571428572
         ],
         "theta": [
          86.31147540983606
         ],
         "type": "barpolar"
        },
        {
         "marker": {
          "color": "red"
         },
         "name": "Vietnam",
         "r": [
          0
         ],
         "theta": [
          87.04918032786885
         ],
         "type": "barpolar"
        },
        {
         "marker": {
          "color": "red"
         },
         "name": "West Bank and Gaza",
         "r": [
          0.42857142857142855
         ],
         "theta": [
          87.78688524590164
         ],
         "type": "barpolar"
        },
        {
         "marker": {
          "color": "red"
         },
         "name": "Western Sahara",
         "r": [
          0
         ],
         "theta": [
          88.52459016393442
         ],
         "type": "barpolar"
        },
        {
         "marker": {
          "color": "red"
         },
         "name": "Zambia",
         "r": [
          0.4285714285714306
         ],
         "theta": [
          89.26229508196721
         ],
         "type": "barpolar"
        },
        {
         "marker": {
          "color": "blue"
         },
         "name": "Afghanistan",
         "r": [
          13.571428571428584
         ],
         "theta": [
          90
         ],
         "type": "barpolar"
        },
        {
         "marker": {
          "color": "blue"
         },
         "name": "Algeria",
         "r": [
          3.857142857142833
         ],
         "theta": [
          91.45161290322581
         ],
         "type": "barpolar"
        },
        {
         "marker": {
          "color": "blue"
         },
         "name": "Andorra",
         "r": [
          0.2857142857142858
         ],
         "theta": [
          92.90322580645162
         ],
         "type": "barpolar"
        },
        {
         "marker": {
          "color": "blue"
         },
         "name": "Argentina",
         "r": [
          18.285714285714306
         ],
         "theta": [
          94.35483870967742
         ],
         "type": "barpolar"
        },
        {
         "marker": {
          "color": "blue"
         },
         "name": "Armenia",
         "r": [
          2.428571428571445
         ],
         "theta": [
          95.80645161290323
         ],
         "type": "barpolar"
        },
        {
         "marker": {
          "color": "blue"
         },
         "name": "Austria",
         "r": [
          0.2857142857142847
         ],
         "theta": [
          97.25806451612902
         ],
         "type": "barpolar"
        },
        {
         "marker": {
          "color": "blue"
         },
         "name": "Bahrain",
         "r": [
          10.14285714285711
         ],
         "theta": [
          98.70967741935483
         ],
         "type": "barpolar"
        },
        {
         "marker": {
          "color": "blue"
         },
         "name": "Bangladesh",
         "r": [
          53.142857142857224
         ],
         "theta": [
          100.16129032258064
         ],
         "type": "barpolar"
        },
        {
         "marker": {
          "color": "blue"
         },
         "name": "Belarus",
         "r": [
          6.714285714285666
         ],
         "theta": [
          101.61290322580645
         ],
         "type": "barpolar"
        },
        {
         "marker": {
          "color": "blue"
         },
         "name": "Bhutan",
         "r": [
          0.5714285714285714
         ],
         "theta": [
          103.06451612903226
         ],
         "type": "barpolar"
        },
        {
         "marker": {
          "color": "blue"
         },
         "name": "Bolivia",
         "r": [
          14.285714285714278
         ],
         "theta": [
          104.51612903225806
         ],
         "type": "barpolar"
        },
        {
         "marker": {
          "color": "blue"
         },
         "name": "Brazil",
         "r": [
          109.57142857142753
         ],
         "theta": [
          105.96774193548387
         ],
         "type": "barpolar"
        },
        {
         "marker": {
          "color": "blue"
         },
         "name": "Burma",
         "r": [
          0.1428571428571428
         ],
         "theta": [
          107.41935483870968
         ],
         "type": "barpolar"
        },
        {
         "marker": {
          "color": "blue"
         },
         "name": "Cabo Verde",
         "r": [
          2.428571428571429
         ],
         "theta": [
          108.87096774193549
         ],
         "type": "barpolar"
        },
        {
         "marker": {
          "color": "blue"
         },
         "name": "Chad",
         "r": [
          2.1428571428571423
         ],
         "theta": [
          110.3225806451613
         ],
         "type": "barpolar"
        },
        {
         "marker": {
          "color": "blue"
         },
         "name": "Chile",
         "r": [
          232.57142857142867
         ],
         "theta": [
          111.7741935483871
         ],
         "type": "barpolar"
        },
        {
         "marker": {
          "color": "blue"
         },
         "name": "Colombia",
         "r": [
          44.57142857142867
         ],
         "theta": [
          113.2258064516129
         ],
         "type": "barpolar"
        },
        {
         "marker": {
          "color": "blue"
         },
         "name": "Costa Rica",
         "r": [
          0.7142857142857144
         ],
         "theta": [
          114.6774193548387
         ],
         "type": "barpolar"
        },
        {
         "marker": {
          "color": "blue"
         },
         "name": "Cote d'Ivoire",
         "r": [
          0.4285714285714235
         ],
         "theta": [
          116.12903225806451
         ],
         "type": "barpolar"
        },
        {
         "marker": {
          "color": "blue"
         },
         "name": "Djibouti",
         "r": [
          1.142857142857146
         ],
         "theta": [
          117.58064516129032
         ],
         "type": "barpolar"
        },
        {
         "marker": {
          "color": "blue"
         },
         "name": "Ecuador",
         "r": [
          9.571428571428584
         ],
         "theta": [
          119.03225806451613
         ],
         "type": "barpolar"
        },
        {
         "marker": {
          "color": "blue"
         },
         "name": "Estonia",
         "r": [
          0.4285714285714288
         ],
         "theta": [
          120.48387096774194
         ],
         "type": "barpolar"
        },
        {
         "marker": {
          "color": "blue"
         },
         "name": "Gabon",
         "r": [
          20.14285714285714
         ],
         "theta": [
          121.93548387096774
         ],
         "type": "barpolar"
        },
        {
         "marker": {
          "color": "blue"
         },
         "name": "Gambia",
         "r": [
          0.1428571428571428
         ],
         "theta": [
          123.38709677419355
         ],
         "type": "barpolar"
        },
        {
         "marker": {
          "color": "blue"
         },
         "name": "Guatemala",
         "r": [
          15.428571428571423
         ],
         "theta": [
          124.83870967741936
         ],
         "type": "barpolar"
        },
        {
         "marker": {
          "color": "blue"
         },
         "name": "Guinea",
         "r": [
          4.428571428571431
         ],
         "theta": [
          126.29032258064515
         ],
         "type": "barpolar"
        },
        {
         "marker": {
          "color": "blue"
         },
         "name": "Haiti",
         "r": [
          3.571428571428571
         ],
         "theta": [
          127.74193548387098
         ],
         "type": "barpolar"
        },
        {
         "marker": {
          "color": "blue"
         },
         "name": "Iceland",
         "r": [
          0.14285714285714285
         ],
         "theta": [
          129.19354838709677
         ],
         "type": "barpolar"
        },
        {
         "marker": {
          "color": "blue"
         },
         "name": "India",
         "r": [
          25.142857142857338
         ],
         "theta": [
          130.6451612903226
         ],
         "type": "barpolar"
        },
        {
         "marker": {
          "color": "blue"
         },
         "name": "Indonesia",
         "r": [
          46
         ],
         "theta": [
          132.09677419354838
         ],
         "type": "barpolar"
        },
        {
         "marker": {
          "color": "blue"
         },
         "name": "Iran",
         "r": [
          39.71428571428578
         ],
         "theta": [
          133.5483870967742
         ],
         "type": "barpolar"
        },
        {
         "marker": {
          "color": "blue"
         },
         "name": "Iraq",
         "r": [
          10
         ],
         "theta": [
          135
         ],
         "type": "barpolar"
        },
        {
         "marker": {
          "color": "blue"
         },
         "name": "Japan",
         "r": [
          11.57142857142857
         ],
         "theta": [
          136.4516129032258
         ],
         "type": "barpolar"
        },
        {
         "marker": {
          "color": "blue"
         },
         "name": "Jordan",
         "r": [
          0.5714285714285712
         ],
         "theta": [
          137.90322580645162
         ],
         "type": "barpolar"
        },
        {
         "marker": {
          "color": "blue"
         },
         "name": "Korea, South",
         "r": [
          3.571428571428573
         ],
         "theta": [
          139.3548387096774
         ],
         "type": "barpolar"
        },
        {
         "marker": {
          "color": "blue"
         },
         "name": "Kuwait",
         "r": [
          38
         ],
         "theta": [
          140.80645161290323
         ],
         "type": "barpolar"
        },
        {
         "marker": {
          "color": "blue"
         },
         "name": "Lithuania",
         "r": [
          1.2857142857142865
         ],
         "theta": [
          142.25806451612902
         ],
         "type": "barpolar"
        },
        {
         "marker": {
          "color": "blue"
         },
         "name": "Madagascar",
         "r": [
          2.7142857142857144
         ],
         "theta": [
          143.70967741935485
         ],
         "type": "barpolar"
        },
        {
         "marker": {
          "color": "blue"
         },
         "name": "Malawi",
         "r": [
          0.5714285714285716
         ],
         "theta": [
          145.16129032258064
         ],
         "type": "barpolar"
        },
        {
         "marker": {
          "color": "blue"
         },
         "name": "Maldives",
         "r": [
          1
         ],
         "theta": [
          146.61290322580646
         ],
         "type": "barpolar"
        },
        {
         "marker": {
          "color": "blue"
         },
         "name": "Mali",
         "r": [
          1.2857142857142847
         ],
         "theta": [
          148.06451612903226
         ],
         "type": "barpolar"
        },
        {
         "marker": {
          "color": "blue"
         },
         "name": "Mauritania",
         "r": [
          0.8571428571428572
         ],
         "theta": [
          149.51612903225805
         ],
         "type": "barpolar"
        },
        {
         "marker": {
          "color": "blue"
         },
         "name": "Mexico",
         "r": [
          36.14285714285711
         ],
         "theta": [
          150.96774193548387
         ],
         "type": "barpolar"
        },
        {
         "marker": {
          "color": "blue"
         },
         "name": "Moldova",
         "r": [
          19.85714285714286
         ],
         "theta": [
          152.4193548387097
         ],
         "type": "barpolar"
        },
        {
         "marker": {
          "color": "blue"
         },
         "name": "Nepal",
         "r": [
          2.2857142857142883
         ],
         "theta": [
          153.8709677419355
         ],
         "type": "barpolar"
        },
        {
         "marker": {
          "color": "blue"
         },
         "name": "North Macedonia",
         "r": [
          1
         ],
         "theta": [
          155.32258064516128
         ],
         "type": "barpolar"
        },
        {
         "marker": {
          "color": "blue"
         },
         "name": "Oman",
         "r": [
          18.571428571428555
         ],
         "theta": [
          156.7741935483871
         ],
         "type": "barpolar"
        },
        {
         "marker": {
          "color": "blue"
         },
         "name": "Peru",
         "r": [
          88.4285714285711
         ],
         "theta": [
          158.2258064516129
         ],
         "type": "barpolar"
        },
        {
         "marker": {
          "color": "blue"
         },
         "name": "Qatar",
         "r": [
          80
         ],
         "theta": [
          159.67741935483872
         ],
         "type": "barpolar"
        },
        {
         "marker": {
          "color": "blue"
         },
         "name": "Sao Tome and Principe",
         "r": [
          1.7142857142857144
         ],
         "theta": [
          161.1290322580645
         ],
         "type": "barpolar"
        },
        {
         "marker": {
          "color": "blue"
         },
         "name": "Saudi Arabia",
         "r": [
          31.14285714285711
         ],
         "theta": [
          162.5806451612903
         ],
         "type": "barpolar"
        },
        {
         "marker": {
          "color": "blue"
         },
         "name": "Senegal",
         "r": [
          0.8571428571428612
         ],
         "theta": [
          164.03225806451613
         ],
         "type": "barpolar"
        },
        {
         "marker": {
          "color": "blue"
         },
         "name": "Sierra Leone",
         "r": [
          3.2857142857142847
         ],
         "theta": [
          165.48387096774195
         ],
         "type": "barpolar"
        },
        {
         "marker": {
          "color": "blue"
         },
         "name": "Somalia",
         "r": [
          1.5714285714285765
         ],
         "theta": [
          166.93548387096774
         ],
         "type": "barpolar"
        },
        {
         "marker": {
          "color": "blue"
         },
         "name": "South Africa",
         "r": [
          69.71428571428578
         ],
         "theta": [
          168.38709677419354
         ],
         "type": "barpolar"
        },
        {
         "marker": {
          "color": "blue"
         },
         "name": "South Sudan",
         "r": [
          0.4285714285714306
         ],
         "theta": [
          169.83870967741936
         ],
         "type": "barpolar"
        },
        {
         "marker": {
          "color": "blue"
         },
         "name": "Sudan",
         "r": [
          11.857142857142861
         ],
         "theta": [
          171.29032258064518
         ],
         "type": "barpolar"
        },
        {
         "marker": {
          "color": "blue"
         },
         "name": "Togo",
         "r": [
          2.8571428571428577
         ],
         "theta": [
          172.74193548387098
         ],
         "type": "barpolar"
        },
        {
         "marker": {
          "color": "blue"
         },
         "name": "Uganda",
         "r": [
          1.1428571428571423
         ],
         "theta": [
          174.19354838709677
         ],
         "type": "barpolar"
        },
        {
         "marker": {
          "color": "blue"
         },
         "name": "United Arab Emirates",
         "r": [
          25.571428571428555
         ],
         "theta": [
          175.64516129032256
         ],
         "type": "barpolar"
        },
        {
         "marker": {
          "color": "blue"
         },
         "name": "Uzbekistan",
         "r": [
          9.571428571428577
         ],
         "theta": [
          177.09677419354838
         ],
         "type": "barpolar"
        },
        {
         "marker": {
          "color": "blue"
         },
         "name": "Zimbabwe",
         "r": [
          0.14285714285714285
         ],
         "theta": [
          178.5483870967742
         ],
         "type": "barpolar"
        }
       ],
       "layout": {
        "polar": {
         "angularaxis": {
          "dtick": 10,
          "thetaunit": "degrees"
         },
         "domain": {
          "x": [
           0,
           1
          ],
          "y": [
           0,
           1
          ]
         },
         "sector": [
          0,
          180
         ]
        },
        "template": {
         "data": {
          "bar": [
           {
            "error_x": {
             "color": "#2a3f5f"
            },
            "error_y": {
             "color": "#2a3f5f"
            },
            "marker": {
             "line": {
              "color": "#E5ECF6",
              "width": 0.5
             }
            },
            "type": "bar"
           }
          ],
          "barpolar": [
           {
            "marker": {
             "line": {
              "color": "#E5ECF6",
              "width": 0.5
             }
            },
            "type": "barpolar"
           }
          ],
          "carpet": [
           {
            "aaxis": {
             "endlinecolor": "#2a3f5f",
             "gridcolor": "white",
             "linecolor": "white",
             "minorgridcolor": "white",
             "startlinecolor": "#2a3f5f"
            },
            "baxis": {
             "endlinecolor": "#2a3f5f",
             "gridcolor": "white",
             "linecolor": "white",
             "minorgridcolor": "white",
             "startlinecolor": "#2a3f5f"
            },
            "type": "carpet"
           }
          ],
          "choropleth": [
           {
            "colorbar": {
             "outlinewidth": 0,
             "ticks": ""
            },
            "type": "choropleth"
           }
          ],
          "contour": [
           {
            "colorbar": {
             "outlinewidth": 0,
             "ticks": ""
            },
            "colorscale": [
             [
              0,
              "#0d0887"
             ],
             [
              0.1111111111111111,
              "#46039f"
             ],
             [
              0.2222222222222222,
              "#7201a8"
             ],
             [
              0.3333333333333333,
              "#9c179e"
             ],
             [
              0.4444444444444444,
              "#bd3786"
             ],
             [
              0.5555555555555556,
              "#d8576b"
             ],
             [
              0.6666666666666666,
              "#ed7953"
             ],
             [
              0.7777777777777778,
              "#fb9f3a"
             ],
             [
              0.8888888888888888,
              "#fdca26"
             ],
             [
              1,
              "#f0f921"
             ]
            ],
            "type": "contour"
           }
          ],
          "contourcarpet": [
           {
            "colorbar": {
             "outlinewidth": 0,
             "ticks": ""
            },
            "type": "contourcarpet"
           }
          ],
          "heatmap": [
           {
            "colorbar": {
             "outlinewidth": 0,
             "ticks": ""
            },
            "colorscale": [
             [
              0,
              "#0d0887"
             ],
             [
              0.1111111111111111,
              "#46039f"
             ],
             [
              0.2222222222222222,
              "#7201a8"
             ],
             [
              0.3333333333333333,
              "#9c179e"
             ],
             [
              0.4444444444444444,
              "#bd3786"
             ],
             [
              0.5555555555555556,
              "#d8576b"
             ],
             [
              0.6666666666666666,
              "#ed7953"
             ],
             [
              0.7777777777777778,
              "#fb9f3a"
             ],
             [
              0.8888888888888888,
              "#fdca26"
             ],
             [
              1,
              "#f0f921"
             ]
            ],
            "type": "heatmap"
           }
          ],
          "heatmapgl": [
           {
            "colorbar": {
             "outlinewidth": 0,
             "ticks": ""
            },
            "colorscale": [
             [
              0,
              "#0d0887"
             ],
             [
              0.1111111111111111,
              "#46039f"
             ],
             [
              0.2222222222222222,
              "#7201a8"
             ],
             [
              0.3333333333333333,
              "#9c179e"
             ],
             [
              0.4444444444444444,
              "#bd3786"
             ],
             [
              0.5555555555555556,
              "#d8576b"
             ],
             [
              0.6666666666666666,
              "#ed7953"
             ],
             [
              0.7777777777777778,
              "#fb9f3a"
             ],
             [
              0.8888888888888888,
              "#fdca26"
             ],
             [
              1,
              "#f0f921"
             ]
            ],
            "type": "heatmapgl"
           }
          ],
          "histogram": [
           {
            "marker": {
             "colorbar": {
              "outlinewidth": 0,
              "ticks": ""
             }
            },
            "type": "histogram"
           }
          ],
          "histogram2d": [
           {
            "colorbar": {
             "outlinewidth": 0,
             "ticks": ""
            },
            "colorscale": [
             [
              0,
              "#0d0887"
             ],
             [
              0.1111111111111111,
              "#46039f"
             ],
             [
              0.2222222222222222,
              "#7201a8"
             ],
             [
              0.3333333333333333,
              "#9c179e"
             ],
             [
              0.4444444444444444,
              "#bd3786"
             ],
             [
              0.5555555555555556,
              "#d8576b"
             ],
             [
              0.6666666666666666,
              "#ed7953"
             ],
             [
              0.7777777777777778,
              "#fb9f3a"
             ],
             [
              0.8888888888888888,
              "#fdca26"
             ],
             [
              1,
              "#f0f921"
             ]
            ],
            "type": "histogram2d"
           }
          ],
          "histogram2dcontour": [
           {
            "colorbar": {
             "outlinewidth": 0,
             "ticks": ""
            },
            "colorscale": [
             [
              0,
              "#0d0887"
             ],
             [
              0.1111111111111111,
              "#46039f"
             ],
             [
              0.2222222222222222,
              "#7201a8"
             ],
             [
              0.3333333333333333,
              "#9c179e"
             ],
             [
              0.4444444444444444,
              "#bd3786"
             ],
             [
              0.5555555555555556,
              "#d8576b"
             ],
             [
              0.6666666666666666,
              "#ed7953"
             ],
             [
              0.7777777777777778,
              "#fb9f3a"
             ],
             [
              0.8888888888888888,
              "#fdca26"
             ],
             [
              1,
              "#f0f921"
             ]
            ],
            "type": "histogram2dcontour"
           }
          ],
          "mesh3d": [
           {
            "colorbar": {
             "outlinewidth": 0,
             "ticks": ""
            },
            "type": "mesh3d"
           }
          ],
          "parcoords": [
           {
            "line": {
             "colorbar": {
              "outlinewidth": 0,
              "ticks": ""
             }
            },
            "type": "parcoords"
           }
          ],
          "pie": [
           {
            "automargin": true,
            "type": "pie"
           }
          ],
          "scatter": [
           {
            "marker": {
             "colorbar": {
              "outlinewidth": 0,
              "ticks": ""
             }
            },
            "type": "scatter"
           }
          ],
          "scatter3d": [
           {
            "line": {
             "colorbar": {
              "outlinewidth": 0,
              "ticks": ""
             }
            },
            "marker": {
             "colorbar": {
              "outlinewidth": 0,
              "ticks": ""
             }
            },
            "type": "scatter3d"
           }
          ],
          "scattercarpet": [
           {
            "marker": {
             "colorbar": {
              "outlinewidth": 0,
              "ticks": ""
             }
            },
            "type": "scattercarpet"
           }
          ],
          "scattergeo": [
           {
            "marker": {
             "colorbar": {
              "outlinewidth": 0,
              "ticks": ""
             }
            },
            "type": "scattergeo"
           }
          ],
          "scattergl": [
           {
            "marker": {
             "colorbar": {
              "outlinewidth": 0,
              "ticks": ""
             }
            },
            "type": "scattergl"
           }
          ],
          "scattermapbox": [
           {
            "marker": {
             "colorbar": {
              "outlinewidth": 0,
              "ticks": ""
             }
            },
            "type": "scattermapbox"
           }
          ],
          "scatterpolar": [
           {
            "marker": {
             "colorbar": {
              "outlinewidth": 0,
              "ticks": ""
             }
            },
            "type": "scatterpolar"
           }
          ],
          "scatterpolargl": [
           {
            "marker": {
             "colorbar": {
              "outlinewidth": 0,
              "ticks": ""
             }
            },
            "type": "scatterpolargl"
           }
          ],
          "scatterternary": [
           {
            "marker": {
             "colorbar": {
              "outlinewidth": 0,
              "ticks": ""
             }
            },
            "type": "scatterternary"
           }
          ],
          "surface": [
           {
            "colorbar": {
             "outlinewidth": 0,
             "ticks": ""
            },
            "colorscale": [
             [
              0,
              "#0d0887"
             ],
             [
              0.1111111111111111,
              "#46039f"
             ],
             [
              0.2222222222222222,
              "#7201a8"
             ],
             [
              0.3333333333333333,
              "#9c179e"
             ],
             [
              0.4444444444444444,
              "#bd3786"
             ],
             [
              0.5555555555555556,
              "#d8576b"
             ],
             [
              0.6666666666666666,
              "#ed7953"
             ],
             [
              0.7777777777777778,
              "#fb9f3a"
             ],
             [
              0.8888888888888888,
              "#fdca26"
             ],
             [
              1,
              "#f0f921"
             ]
            ],
            "type": "surface"
           }
          ],
          "table": [
           {
            "cells": {
             "fill": {
              "color": "#EBF0F8"
             },
             "line": {
              "color": "white"
             }
            },
            "header": {
             "fill": {
              "color": "#C8D4E3"
             },
             "line": {
              "color": "white"
             }
            },
            "type": "table"
           }
          ]
         },
         "layout": {
          "annotationdefaults": {
           "arrowcolor": "#2a3f5f",
           "arrowhead": 0,
           "arrowwidth": 1
          },
          "coloraxis": {
           "colorbar": {
            "outlinewidth": 0,
            "ticks": ""
           }
          },
          "colorscale": {
           "diverging": [
            [
             0,
             "#8e0152"
            ],
            [
             0.1,
             "#c51b7d"
            ],
            [
             0.2,
             "#de77ae"
            ],
            [
             0.3,
             "#f1b6da"
            ],
            [
             0.4,
             "#fde0ef"
            ],
            [
             0.5,
             "#f7f7f7"
            ],
            [
             0.6,
             "#e6f5d0"
            ],
            [
             0.7,
             "#b8e186"
            ],
            [
             0.8,
             "#7fbc41"
            ],
            [
             0.9,
             "#4d9221"
            ],
            [
             1,
             "#276419"
            ]
           ],
           "sequential": [
            [
             0,
             "#0d0887"
            ],
            [
             0.1111111111111111,
             "#46039f"
            ],
            [
             0.2222222222222222,
             "#7201a8"
            ],
            [
             0.3333333333333333,
             "#9c179e"
            ],
            [
             0.4444444444444444,
             "#bd3786"
            ],
            [
             0.5555555555555556,
             "#d8576b"
            ],
            [
             0.6666666666666666,
             "#ed7953"
            ],
            [
             0.7777777777777778,
             "#fb9f3a"
            ],
            [
             0.8888888888888888,
             "#fdca26"
            ],
            [
             1,
             "#f0f921"
            ]
           ],
           "sequentialminus": [
            [
             0,
             "#0d0887"
            ],
            [
             0.1111111111111111,
             "#46039f"
            ],
            [
             0.2222222222222222,
             "#7201a8"
            ],
            [
             0.3333333333333333,
             "#9c179e"
            ],
            [
             0.4444444444444444,
             "#bd3786"
            ],
            [
             0.5555555555555556,
             "#d8576b"
            ],
            [
             0.6666666666666666,
             "#ed7953"
            ],
            [
             0.7777777777777778,
             "#fb9f3a"
            ],
            [
             0.8888888888888888,
             "#fdca26"
            ],
            [
             1,
             "#f0f921"
            ]
           ]
          },
          "colorway": [
           "#636efa",
           "#EF553B",
           "#00cc96",
           "#ab63fa",
           "#FFA15A",
           "#19d3f3",
           "#FF6692",
           "#B6E880",
           "#FF97FF",
           "#FECB52"
          ],
          "font": {
           "color": "#2a3f5f"
          },
          "geo": {
           "bgcolor": "white",
           "lakecolor": "white",
           "landcolor": "#E5ECF6",
           "showlakes": true,
           "showland": true,
           "subunitcolor": "white"
          },
          "hoverlabel": {
           "align": "left"
          },
          "hovermode": "closest",
          "mapbox": {
           "style": "light"
          },
          "paper_bgcolor": "white",
          "plot_bgcolor": "#E5ECF6",
          "polar": {
           "angularaxis": {
            "gridcolor": "white",
            "linecolor": "white",
            "ticks": ""
           },
           "bgcolor": "#E5ECF6",
           "radialaxis": {
            "gridcolor": "white",
            "linecolor": "white",
            "ticks": ""
           }
          },
          "scene": {
           "xaxis": {
            "backgroundcolor": "#E5ECF6",
            "gridcolor": "white",
            "gridwidth": 2,
            "linecolor": "white",
            "showbackground": true,
            "ticks": "",
            "zerolinecolor": "white"
           },
           "yaxis": {
            "backgroundcolor": "#E5ECF6",
            "gridcolor": "white",
            "gridwidth": 2,
            "linecolor": "white",
            "showbackground": true,
            "ticks": "",
            "zerolinecolor": "white"
           },
           "zaxis": {
            "backgroundcolor": "#E5ECF6",
            "gridcolor": "white",
            "gridwidth": 2,
            "linecolor": "white",
            "showbackground": true,
            "ticks": "",
            "zerolinecolor": "white"
           }
          },
          "shapedefaults": {
           "line": {
            "color": "#2a3f5f"
           }
          },
          "ternary": {
           "aaxis": {
            "gridcolor": "white",
            "linecolor": "white",
            "ticks": ""
           },
           "baxis": {
            "gridcolor": "white",
            "linecolor": "white",
            "ticks": ""
           },
           "bgcolor": "#E5ECF6",
           "caxis": {
            "gridcolor": "white",
            "linecolor": "white",
            "ticks": ""
           }
          },
          "title": {
           "x": 0.05
          },
          "xaxis": {
           "automargin": true,
           "gridcolor": "white",
           "linecolor": "white",
           "ticks": "",
           "title": {
            "standoff": 15
           },
           "zerolinecolor": "white",
           "zerolinewidth": 2
          },
          "yaxis": {
           "automargin": true,
           "gridcolor": "white",
           "linecolor": "white",
           "ticks": "",
           "title": {
            "standoff": 15
           },
           "zerolinecolor": "white",
           "zerolinewidth": 2
          }
         }
        }
       }
      },
      "text/html": [
       "<div>\n",
       "        \n",
       "        \n",
       "            <div id=\"b41a2ccd-712e-49da-9a70-f738b9cca91f\" class=\"plotly-graph-div\" style=\"height:525px; width:100%;\"></div>\n",
       "            <script type=\"text/javascript\">\n",
       "                require([\"plotly\"], function(Plotly) {\n",
       "                    window.PLOTLYENV=window.PLOTLYENV || {};\n",
       "                    \n",
       "                if (document.getElementById(\"b41a2ccd-712e-49da-9a70-f738b9cca91f\")) {\n",
       "                    Plotly.newPlot(\n",
       "                        'b41a2ccd-712e-49da-9a70-f738b9cca91f',\n",
       "                        [{\"marker\": {\"color\": \"red\"}, \"name\": \"Albania\", \"r\": [1.1428571428571432], \"theta\": [0.0], \"type\": \"barpolar\"}, {\"marker\": {\"color\": \"red\"}, \"name\": \"Angola\", \"r\": [0.0], \"theta\": [0.7377049180327869], \"type\": \"barpolar\"}, {\"marker\": {\"color\": \"red\"}, \"name\": \"Antigua and Barbuda\", \"r\": [0.0], \"theta\": [1.4754098360655739], \"type\": \"barpolar\"}, {\"marker\": {\"color\": \"red\"}, \"name\": \"Australia\", \"r\": [0.14285714285714285], \"theta\": [2.2131147540983607], \"type\": \"barpolar\"}, {\"marker\": {\"color\": \"red\"}, \"name\": \"Azerbaijan\", \"r\": [0.2857142857142918], \"theta\": [2.9508196721311477], \"type\": \"barpolar\"}, {\"marker\": {\"color\": \"red\"}, \"name\": \"Bahamas\", \"r\": [0.2857142857142857], \"theta\": [3.6885245901639343], \"type\": \"barpolar\"}, {\"marker\": {\"color\": \"red\"}, \"name\": \"Barbados\", \"r\": [0.0], \"theta\": [4.426229508196721], \"type\": \"barpolar\"}, {\"marker\": {\"color\": \"red\"}, \"name\": \"Belgium\", \"r\": [10.0], \"theta\": [5.163934426229508], \"type\": \"barpolar\"}, {\"marker\": {\"color\": \"red\"}, \"name\": \"Belize\", \"r\": [0.0], \"theta\": [5.901639344262295], \"type\": \"barpolar\"}, {\"marker\": {\"color\": \"red\"}, \"name\": \"Benin\", \"r\": [0.0], \"theta\": [6.639344262295082], \"type\": \"barpolar\"}, {\"marker\": {\"color\": \"red\"}, \"name\": \"Bosnia and Herzegovina\", \"r\": [2.5714285714285694], \"theta\": [7.377049180327869], \"type\": \"barpolar\"}, {\"marker\": {\"color\": \"red\"}, \"name\": \"Botswana\", \"r\": [0.0], \"theta\": [8.114754098360656], \"type\": \"barpolar\"}, {\"marker\": {\"color\": \"red\"}, \"name\": \"Brunei\", \"r\": [0.14285714285714285], \"theta\": [8.852459016393443], \"type\": \"barpolar\"}, {\"marker\": {\"color\": \"red\"}, \"name\": \"Bulgaria\", \"r\": [4.0], \"theta\": [9.59016393442623], \"type\": \"barpolar\"}, {\"marker\": {\"color\": \"red\"}, \"name\": \"Burkina Faso\", \"r\": [4.857142857142857], \"theta\": [10.327868852459016], \"type\": \"barpolar\"}, {\"marker\": {\"color\": \"red\"}, \"name\": \"Burundi\", \"r\": [0.0], \"theta\": [11.065573770491802], \"type\": \"barpolar\"}, {\"marker\": {\"color\": \"red\"}, \"name\": \"Cambodia\", \"r\": [0.0], \"theta\": [11.80327868852459], \"type\": \"barpolar\"}, {\"marker\": {\"color\": \"red\"}, \"name\": \"Cameroon\", \"r\": [7.142857142857139], \"theta\": [12.540983606557377], \"type\": \"barpolar\"}, {\"marker\": {\"color\": \"red\"}, \"name\": \"Canada\", \"r\": [0.0], \"theta\": [13.278688524590164], \"type\": \"barpolar\"}, {\"marker\": {\"color\": \"red\"}, \"name\": \"Central African Republic\", \"r\": [1.2857142857142865], \"theta\": [14.01639344262295], \"type\": \"barpolar\"}, {\"marker\": {\"color\": \"red\"}, \"name\": \"China\", \"r\": [0.0], \"theta\": [14.754098360655737], \"type\": \"barpolar\"}, {\"marker\": {\"color\": \"red\"}, \"name\": \"Congo (Brazzaville)\", \"r\": [4.0], \"theta\": [15.491803278688524], \"type\": \"barpolar\"}, {\"marker\": {\"color\": \"red\"}, \"name\": \"Congo (Kinshasa)\", \"r\": [3.5714285714285694], \"theta\": [16.229508196721312], \"type\": \"barpolar\"}, {\"marker\": {\"color\": \"red\"}, \"name\": \"Croatia\", \"r\": [0.14285714285714235], \"theta\": [16.9672131147541], \"type\": \"barpolar\"}, {\"marker\": {\"color\": \"red\"}, \"name\": \"Cuba\", \"r\": [1.7142857142857135], \"theta\": [17.704918032786885], \"type\": \"barpolar\"}, {\"marker\": {\"color\": \"red\"}, \"name\": \"Cyprus\", \"r\": [0.4285714285714288], \"theta\": [18.442622950819672], \"type\": \"barpolar\"}, {\"marker\": {\"color\": \"red\"}, \"name\": \"Czechia\", \"r\": [4.285714285714285], \"theta\": [19.18032786885246], \"type\": \"barpolar\"}, {\"marker\": {\"color\": \"red\"}, \"name\": \"Denmark\", \"r\": [5.857142857142861], \"theta\": [19.918032786885245], \"type\": \"barpolar\"}, {\"marker\": {\"color\": \"red\"}, \"name\": \"Diamond Princess\", \"r\": [0.0], \"theta\": [20.65573770491803], \"type\": \"barpolar\"}, {\"marker\": {\"color\": \"red\"}, \"name\": \"Dominica\", \"r\": [0.0], \"theta\": [21.39344262295082], \"type\": \"barpolar\"}, {\"marker\": {\"color\": \"red\"}, \"name\": \"Dominican Republic\", \"r\": [4.428571428571445], \"theta\": [22.131147540983605], \"type\": \"barpolar\"}, {\"marker\": {\"color\": \"red\"}, \"name\": \"Egypt\", \"r\": [7.0], \"theta\": [22.868852459016395], \"type\": \"barpolar\"}, {\"marker\": {\"color\": \"red\"}, \"name\": \"El Salvador\", \"r\": [1.0], \"theta\": [23.60655737704918], \"type\": \"barpolar\"}, {\"marker\": {\"color\": \"red\"}, \"name\": \"Equatorial Guinea\", \"r\": [5.857142857142858], \"theta\": [24.34426229508197], \"type\": \"barpolar\"}, {\"marker\": {\"color\": \"red\"}, \"name\": \"Eritrea\", \"r\": [0.0], \"theta\": [25.081967213114755], \"type\": \"barpolar\"}, {\"marker\": {\"color\": \"red\"}, \"name\": \"Eswatini\", \"r\": [0.14285714285714413], \"theta\": [25.81967213114754], \"type\": \"barpolar\"}, {\"marker\": {\"color\": \"red\"}, \"name\": \"Ethiopia\", \"r\": [2.142857142857144], \"theta\": [26.557377049180328], \"type\": \"barpolar\"}, {\"marker\": {\"color\": \"red\"}, \"name\": \"Fiji\", \"r\": [0.0], \"theta\": [27.295081967213115], \"type\": \"barpolar\"}, {\"marker\": {\"color\": \"red\"}, \"name\": \"Finland\", \"r\": [15.714285714285722], \"theta\": [28.0327868852459], \"type\": \"barpolar\"}, {\"marker\": {\"color\": \"red\"}, \"name\": \"France\", \"r\": [536.5714285714287], \"theta\": [28.770491803278688], \"type\": \"barpolar\"}, {\"marker\": {\"color\": \"red\"}, \"name\": \"Georgia\", \"r\": [0.14285714285714324], \"theta\": [29.508196721311474], \"type\": \"barpolar\"}, {\"marker\": {\"color\": \"red\"}, \"name\": \"Germany\", \"r\": [32.571428571428555], \"theta\": [30.24590163934426], \"type\": \"barpolar\"}, {\"marker\": {\"color\": \"red\"}, \"name\": \"Ghana\", \"r\": [13.0], \"theta\": [30.983606557377048], \"type\": \"barpolar\"}, {\"marker\": {\"color\": \"red\"}, \"name\": \"Greece\", \"r\": [0.7142857142857135], \"theta\": [31.721311475409838], \"type\": \"barpolar\"}, {\"marker\": {\"color\": \"red\"}, \"name\": \"Grenada\", \"r\": [0.0], \"theta\": [32.459016393442624], \"type\": \"barpolar\"}, {\"marker\": {\"color\": \"red\"}, \"name\": \"Guinea-Bissau\", \"r\": [6.5714285714285765], \"theta\": [33.19672131147541], \"type\": \"barpolar\"}, {\"marker\": {\"color\": \"red\"}, \"name\": \"Guyana\", \"r\": [0.0], \"theta\": [33.9344262295082], \"type\": \"barpolar\"}, {\"marker\": {\"color\": \"red\"}, \"name\": \"Holy See\", \"r\": [0.14285714285714285], \"theta\": [34.67213114754098], \"type\": \"barpolar\"}, {\"marker\": {\"color\": \"red\"}, \"name\": \"Honduras\", \"r\": [2.2857142857142776], \"theta\": [35.40983606557377], \"type\": \"barpolar\"}, {\"marker\": {\"color\": \"red\"}, \"name\": \"Hungary\", \"r\": [2.5714285714285765], \"theta\": [36.14754098360656], \"type\": \"barpolar\"}, {\"marker\": {\"color\": \"red\"}, \"name\": \"Ireland\", \"r\": [15.142857142857139], \"theta\": [36.885245901639344], \"type\": \"barpolar\"}, {\"marker\": {\"color\": \"red\"}, \"name\": \"Israel\", \"r\": [0.2857142857142847], \"theta\": [37.622950819672134], \"type\": \"barpolar\"}, {\"marker\": {\"color\": \"red\"}, \"name\": \"Italy\", \"r\": [79.42857142857156], \"theta\": [38.36065573770492], \"type\": \"barpolar\"}, {\"marker\": {\"color\": \"red\"}, \"name\": \"Jamaica\", \"r\": [0.42857142857142794], \"theta\": [39.09836065573771], \"type\": \"barpolar\"}, {\"marker\": {\"color\": \"red\"}, \"name\": \"Kazakhstan\", \"r\": [11.285714285714278], \"theta\": [39.83606557377049], \"type\": \"barpolar\"}, {\"marker\": {\"color\": \"red\"}, \"name\": \"Kenya\", \"r\": [3.571428571428573], \"theta\": [40.57377049180328], \"type\": \"barpolar\"}, {\"marker\": {\"color\": \"red\"}, \"name\": \"Kosovo\", \"r\": [0.0], \"theta\": [41.31147540983606], \"type\": \"barpolar\"}, {\"marker\": {\"color\": \"red\"}, \"name\": \"Kyrgyzstan\", \"r\": [3.0], \"theta\": [42.049180327868854], \"type\": \"barpolar\"}, {\"marker\": {\"color\": \"red\"}, \"name\": \"Laos\", \"r\": [0.0], \"theta\": [42.78688524590164], \"type\": \"barpolar\"}, {\"marker\": {\"color\": \"red\"}, \"name\": \"Latvia\", \"r\": [0.4285714285714288], \"theta\": [43.52459016393443], \"type\": \"barpolar\"}, {\"marker\": {\"color\": \"red\"}, \"name\": \"Lebanon\", \"r\": [0.14285714285714235], \"theta\": [44.26229508196721], \"type\": \"barpolar\"}, {\"marker\": {\"color\": \"red\"}, \"name\": \"Liberia\", \"r\": [0.8571428571428568], \"theta\": [45.0], \"type\": \"barpolar\"}, {\"marker\": {\"color\": \"red\"}, \"name\": \"Libya\", \"r\": [0.14285714285714285], \"theta\": [45.73770491803279], \"type\": \"barpolar\"}, {\"marker\": {\"color\": \"red\"}, \"name\": \"Liechtenstein\", \"r\": [0.0], \"theta\": [46.47540983606557], \"type\": \"barpolar\"}, {\"marker\": {\"color\": \"red\"}, \"name\": \"Luxembourg\", \"r\": [0.14285714285714324], \"theta\": [47.21311475409836], \"type\": \"barpolar\"}, {\"marker\": {\"color\": \"red\"}, \"name\": \"MS Zaandam\", \"r\": [0.0], \"theta\": [47.950819672131146], \"type\": \"barpolar\"}, {\"marker\": {\"color\": \"red\"}, \"name\": \"Malaysia\", \"r\": [1.1428571428571388], \"theta\": [48.68852459016394], \"type\": \"barpolar\"}, {\"marker\": {\"color\": \"red\"}, \"name\": \"Malta\", \"r\": [0.0], \"theta\": [49.42622950819672], \"type\": \"barpolar\"}, {\"marker\": {\"color\": \"red\"}, \"name\": \"Mauritius\", \"r\": [0.0], \"theta\": [50.16393442622951], \"type\": \"barpolar\"}, {\"marker\": {\"color\": \"red\"}, \"name\": \"Monaco\", \"r\": [0.0], \"theta\": [50.90163934426229], \"type\": \"barpolar\"}, {\"marker\": {\"color\": \"red\"}, \"name\": \"Mongolia\", \"r\": [0.0], \"theta\": [51.63934426229508], \"type\": \"barpolar\"}, {\"marker\": {\"color\": \"red\"}, \"name\": \"Montenegro\", \"r\": [0.0], \"theta\": [52.377049180327866], \"type\": \"barpolar\"}, {\"marker\": {\"color\": \"red\"}, \"name\": \"Morocco\", \"r\": [13.571428571428555], \"theta\": [53.114754098360656], \"type\": \"barpolar\"}, {\"marker\": {\"color\": \"red\"}, \"name\": \"Mozambique\", \"r\": [0.0], \"theta\": [53.85245901639344], \"type\": \"barpolar\"}, {\"marker\": {\"color\": \"red\"}, \"name\": \"Namibia\", \"r\": [0.0], \"theta\": [54.59016393442623], \"type\": \"barpolar\"}, {\"marker\": {\"color\": \"red\"}, \"name\": \"Netherlands\", \"r\": [0.7142857142857224], \"theta\": [55.32786885245902], \"type\": \"barpolar\"}, {\"marker\": {\"color\": \"red\"}, \"name\": \"New Zealand\", \"r\": [0.14285714285714302], \"theta\": [56.0655737704918], \"type\": \"barpolar\"}, {\"marker\": {\"color\": \"red\"}, \"name\": \"Nicaragua\", \"r\": [0.0], \"theta\": [56.80327868852459], \"type\": \"barpolar\"}, {\"marker\": {\"color\": \"red\"}, \"name\": \"Niger\", \"r\": [0.14285714285714235], \"theta\": [57.540983606557376], \"type\": \"barpolar\"}, {\"marker\": {\"color\": \"red\"}, \"name\": \"Nigeria\", \"r\": [1.571428571428612], \"theta\": [58.278688524590166], \"type\": \"barpolar\"}, {\"marker\": {\"color\": \"red\"}, \"name\": \"Norway\", \"r\": [3.2857142857142847], \"theta\": [59.01639344262295], \"type\": \"barpolar\"}, {\"marker\": {\"color\": \"red\"}, \"name\": \"Pakistan\", \"r\": [151.71428571428555], \"theta\": [59.75409836065574], \"type\": \"barpolar\"}, {\"marker\": {\"color\": \"red\"}, \"name\": \"Panama\", \"r\": [6.714285714285722], \"theta\": [60.49180327868852], \"type\": \"barpolar\"}, {\"marker\": {\"color\": \"red\"}, \"name\": \"Papua New Guinea\", \"r\": [0.0], \"theta\": [61.22950819672131], \"type\": \"barpolar\"}, {\"marker\": {\"color\": \"red\"}, \"name\": \"Paraguay\", \"r\": [0.8571428571428612], \"theta\": [61.967213114754095], \"type\": \"barpolar\"}, {\"marker\": {\"color\": \"red\"}, \"name\": \"Philippines\", \"r\": [7.428571428571416], \"theta\": [62.704918032786885], \"type\": \"barpolar\"}, {\"marker\": {\"color\": \"red\"}, \"name\": \"Poland\", \"r\": [3.7142857142857224], \"theta\": [63.442622950819676], \"type\": \"barpolar\"}, {\"marker\": {\"color\": \"red\"}, \"name\": \"Portugal\", \"r\": [37.28571428571428], \"theta\": [64.18032786885246], \"type\": \"barpolar\"}, {\"marker\": {\"color\": \"red\"}, \"name\": \"Romania\", \"r\": [6.571428571428555], \"theta\": [64.91803278688525], \"type\": \"barpolar\"}, {\"marker\": {\"color\": \"red\"}, \"name\": \"Russia\", \"r\": [75.85714285714312], \"theta\": [65.65573770491804], \"type\": \"barpolar\"}, {\"marker\": {\"color\": \"red\"}, \"name\": \"Rwanda\", \"r\": [0.8571428571428572], \"theta\": [66.39344262295081], \"type\": \"barpolar\"}, {\"marker\": {\"color\": \"red\"}, \"name\": \"Saint Kitts and Nevis\", \"r\": [0.0], \"theta\": [67.1311475409836], \"type\": \"barpolar\"}, {\"marker\": {\"color\": \"red\"}, \"name\": \"Saint Lucia\", \"r\": [0.0], \"theta\": [67.8688524590164], \"type\": \"barpolar\"}, {\"marker\": {\"color\": \"red\"}, \"name\": \"Saint Vincent and the Grenadines\", \"r\": [0.0], \"theta\": [68.60655737704919], \"type\": \"barpolar\"}, {\"marker\": {\"color\": \"red\"}, \"name\": \"San Marino\", \"r\": [2.0], \"theta\": [69.34426229508196], \"type\": \"barpolar\"}, {\"marker\": {\"color\": \"red\"}, \"name\": \"Serbia\", \"r\": [8.857142857142861], \"theta\": [70.08196721311475], \"type\": \"barpolar\"}, {\"marker\": {\"color\": \"red\"}, \"name\": \"Seychelles\", \"r\": [0.0], \"theta\": [70.81967213114754], \"type\": \"barpolar\"}, {\"marker\": {\"color\": \"red\"}, \"name\": \"Singapore\", \"r\": [16.14285714285711], \"theta\": [71.55737704918033], \"type\": \"barpolar\"}, {\"marker\": {\"color\": \"red\"}, \"name\": \"Slovakia\", \"r\": [0.5714285714285712], \"theta\": [72.29508196721312], \"type\": \"barpolar\"}, {\"marker\": {\"color\": \"red\"}, \"name\": \"Slovenia\", \"r\": [0.1428571428571428], \"theta\": [73.0327868852459], \"type\": \"barpolar\"}, {\"marker\": {\"color\": \"red\"}, \"name\": \"Spain\", \"r\": [47.85714285714289], \"theta\": [73.77049180327869], \"type\": \"barpolar\"}, {\"marker\": {\"color\": \"red\"}, \"name\": \"Sri Lanka\", \"r\": [0.0], \"theta\": [74.50819672131148], \"type\": \"barpolar\"}, {\"marker\": {\"color\": \"red\"}, \"name\": \"Suriname\", \"r\": [0.0], \"theta\": [75.24590163934427], \"type\": \"barpolar\"}, {\"marker\": {\"color\": \"red\"}, \"name\": \"Sweden\", \"r\": [9.285714285714334], \"theta\": [75.98360655737704], \"type\": \"barpolar\"}, {\"marker\": {\"color\": \"red\"}, \"name\": \"Switzerland\", \"r\": [2.5714285714285694], \"theta\": [76.72131147540983], \"type\": \"barpolar\"}, {\"marker\": {\"color\": \"red\"}, \"name\": \"Syria\", \"r\": [0.0], \"theta\": [77.45901639344262], \"type\": \"barpolar\"}, {\"marker\": {\"color\": \"red\"}, \"name\": \"Taiwan*\", \"r\": [0.14285714285714285], \"theta\": [78.19672131147541], \"type\": \"barpolar\"}, {\"marker\": {\"color\": \"red\"}, \"name\": \"Tanzania\", \"r\": [0.0], \"theta\": [78.93442622950819], \"type\": \"barpolar\"}, {\"marker\": {\"color\": \"red\"}, \"name\": \"Thailand\", \"r\": [0.14285714285714324], \"theta\": [79.67213114754098], \"type\": \"barpolar\"}, {\"marker\": {\"color\": \"red\"}, \"name\": \"Timor-Leste\", \"r\": [0.0], \"theta\": [80.40983606557377], \"type\": \"barpolar\"}, {\"marker\": {\"color\": \"red\"}, \"name\": \"Trinidad and Tobago\", \"r\": [0.0], \"theta\": [81.14754098360656], \"type\": \"barpolar\"}, {\"marker\": {\"color\": \"red\"}, \"name\": \"Tunisia\", \"r\": [0.4285714285714286], \"theta\": [81.88524590163935], \"type\": \"barpolar\"}, {\"marker\": {\"color\": \"red\"}, \"name\": \"Turkey\", \"r\": [87.71428571428578], \"theta\": [82.62295081967213], \"type\": \"barpolar\"}, {\"marker\": {\"color\": \"red\"}, \"name\": \"US\", \"r\": [2.0], \"theta\": [83.36065573770492], \"type\": \"barpolar\"}, {\"marker\": {\"color\": \"red\"}, \"name\": \"Ukraine\", \"r\": [12.142857142857167], \"theta\": [84.09836065573771], \"type\": \"barpolar\"}, {\"marker\": {\"color\": \"red\"}, \"name\": \"United Kingdom\", \"r\": [409.85714285714266], \"theta\": [84.8360655737705], \"type\": \"barpolar\"}, {\"marker\": {\"color\": \"red\"}, \"name\": \"Uruguay\", \"r\": [0.14285714285714324], \"theta\": [85.57377049180327], \"type\": \"barpolar\"}, {\"marker\": {\"color\": \"red\"}, \"name\": \"Venezuela\", \"r\": [2.571428571428572], \"theta\": [86.31147540983606], \"type\": \"barpolar\"}, {\"marker\": {\"color\": \"red\"}, \"name\": \"Vietnam\", \"r\": [0.0], \"theta\": [87.04918032786885], \"type\": \"barpolar\"}, {\"marker\": {\"color\": \"red\"}, \"name\": \"West Bank and Gaza\", \"r\": [0.42857142857142855], \"theta\": [87.78688524590164], \"type\": \"barpolar\"}, {\"marker\": {\"color\": \"red\"}, \"name\": \"Western Sahara\", \"r\": [0.0], \"theta\": [88.52459016393442], \"type\": \"barpolar\"}, {\"marker\": {\"color\": \"red\"}, \"name\": \"Zambia\", \"r\": [0.4285714285714306], \"theta\": [89.26229508196721], \"type\": \"barpolar\"}, {\"marker\": {\"color\": \"blue\"}, \"name\": \"Afghanistan\", \"r\": [13.571428571428584], \"theta\": [90.0], \"type\": \"barpolar\"}, {\"marker\": {\"color\": \"blue\"}, \"name\": \"Algeria\", \"r\": [3.857142857142833], \"theta\": [91.45161290322581], \"type\": \"barpolar\"}, {\"marker\": {\"color\": \"blue\"}, \"name\": \"Andorra\", \"r\": [0.2857142857142858], \"theta\": [92.90322580645162], \"type\": \"barpolar\"}, {\"marker\": {\"color\": \"blue\"}, \"name\": \"Argentina\", \"r\": [18.285714285714306], \"theta\": [94.35483870967742], \"type\": \"barpolar\"}, {\"marker\": {\"color\": \"blue\"}, \"name\": \"Armenia\", \"r\": [2.428571428571445], \"theta\": [95.80645161290323], \"type\": \"barpolar\"}, {\"marker\": {\"color\": \"blue\"}, \"name\": \"Austria\", \"r\": [0.2857142857142847], \"theta\": [97.25806451612902], \"type\": \"barpolar\"}, {\"marker\": {\"color\": \"blue\"}, \"name\": \"Bahrain\", \"r\": [10.14285714285711], \"theta\": [98.70967741935483], \"type\": \"barpolar\"}, {\"marker\": {\"color\": \"blue\"}, \"name\": \"Bangladesh\", \"r\": [53.142857142857224], \"theta\": [100.16129032258064], \"type\": \"barpolar\"}, {\"marker\": {\"color\": \"blue\"}, \"name\": \"Belarus\", \"r\": [6.714285714285666], \"theta\": [101.61290322580645], \"type\": \"barpolar\"}, {\"marker\": {\"color\": \"blue\"}, \"name\": \"Bhutan\", \"r\": [0.5714285714285714], \"theta\": [103.06451612903226], \"type\": \"barpolar\"}, {\"marker\": {\"color\": \"blue\"}, \"name\": \"Bolivia\", \"r\": [14.285714285714278], \"theta\": [104.51612903225806], \"type\": \"barpolar\"}, {\"marker\": {\"color\": \"blue\"}, \"name\": \"Brazil\", \"r\": [109.57142857142753], \"theta\": [105.96774193548387], \"type\": \"barpolar\"}, {\"marker\": {\"color\": \"blue\"}, \"name\": \"Burma\", \"r\": [0.1428571428571428], \"theta\": [107.41935483870968], \"type\": \"barpolar\"}, {\"marker\": {\"color\": \"blue\"}, \"name\": \"Cabo Verde\", \"r\": [2.428571428571429], \"theta\": [108.87096774193549], \"type\": \"barpolar\"}, {\"marker\": {\"color\": \"blue\"}, \"name\": \"Chad\", \"r\": [2.1428571428571423], \"theta\": [110.3225806451613], \"type\": \"barpolar\"}, {\"marker\": {\"color\": \"blue\"}, \"name\": \"Chile\", \"r\": [232.57142857142867], \"theta\": [111.7741935483871], \"type\": \"barpolar\"}, {\"marker\": {\"color\": \"blue\"}, \"name\": \"Colombia\", \"r\": [44.57142857142867], \"theta\": [113.2258064516129], \"type\": \"barpolar\"}, {\"marker\": {\"color\": \"blue\"}, \"name\": \"Costa Rica\", \"r\": [0.7142857142857144], \"theta\": [114.6774193548387], \"type\": \"barpolar\"}, {\"marker\": {\"color\": \"blue\"}, \"name\": \"Cote d'Ivoire\", \"r\": [0.4285714285714235], \"theta\": [116.12903225806451], \"type\": \"barpolar\"}, {\"marker\": {\"color\": \"blue\"}, \"name\": \"Djibouti\", \"r\": [1.142857142857146], \"theta\": [117.58064516129032], \"type\": \"barpolar\"}, {\"marker\": {\"color\": \"blue\"}, \"name\": \"Ecuador\", \"r\": [9.571428571428584], \"theta\": [119.03225806451613], \"type\": \"barpolar\"}, {\"marker\": {\"color\": \"blue\"}, \"name\": \"Estonia\", \"r\": [0.4285714285714288], \"theta\": [120.48387096774194], \"type\": \"barpolar\"}, {\"marker\": {\"color\": \"blue\"}, \"name\": \"Gabon\", \"r\": [20.14285714285714], \"theta\": [121.93548387096774], \"type\": \"barpolar\"}, {\"marker\": {\"color\": \"blue\"}, \"name\": \"Gambia\", \"r\": [0.1428571428571428], \"theta\": [123.38709677419355], \"type\": \"barpolar\"}, {\"marker\": {\"color\": \"blue\"}, \"name\": \"Guatemala\", \"r\": [15.428571428571423], \"theta\": [124.83870967741936], \"type\": \"barpolar\"}, {\"marker\": {\"color\": \"blue\"}, \"name\": \"Guinea\", \"r\": [4.428571428571431], \"theta\": [126.29032258064515], \"type\": \"barpolar\"}, {\"marker\": {\"color\": \"blue\"}, \"name\": \"Haiti\", \"r\": [3.571428571428571], \"theta\": [127.74193548387098], \"type\": \"barpolar\"}, {\"marker\": {\"color\": \"blue\"}, \"name\": \"Iceland\", \"r\": [0.14285714285714285], \"theta\": [129.19354838709677], \"type\": \"barpolar\"}, {\"marker\": {\"color\": \"blue\"}, \"name\": \"India\", \"r\": [25.142857142857338], \"theta\": [130.6451612903226], \"type\": \"barpolar\"}, {\"marker\": {\"color\": \"blue\"}, \"name\": \"Indonesia\", \"r\": [46.0], \"theta\": [132.09677419354838], \"type\": \"barpolar\"}, {\"marker\": {\"color\": \"blue\"}, \"name\": \"Iran\", \"r\": [39.71428571428578], \"theta\": [133.5483870967742], \"type\": \"barpolar\"}, {\"marker\": {\"color\": \"blue\"}, \"name\": \"Iraq\", \"r\": [10.0], \"theta\": [135.0], \"type\": \"barpolar\"}, {\"marker\": {\"color\": \"blue\"}, \"name\": \"Japan\", \"r\": [11.57142857142857], \"theta\": [136.4516129032258], \"type\": \"barpolar\"}, {\"marker\": {\"color\": \"blue\"}, \"name\": \"Jordan\", \"r\": [0.5714285714285712], \"theta\": [137.90322580645162], \"type\": \"barpolar\"}, {\"marker\": {\"color\": \"blue\"}, \"name\": \"Korea, South\", \"r\": [3.571428571428573], \"theta\": [139.3548387096774], \"type\": \"barpolar\"}, {\"marker\": {\"color\": \"blue\"}, \"name\": \"Kuwait\", \"r\": [38.0], \"theta\": [140.80645161290323], \"type\": \"barpolar\"}, {\"marker\": {\"color\": \"blue\"}, \"name\": \"Lithuania\", \"r\": [1.2857142857142865], \"theta\": [142.25806451612902], \"type\": \"barpolar\"}, {\"marker\": {\"color\": \"blue\"}, \"name\": \"Madagascar\", \"r\": [2.7142857142857144], \"theta\": [143.70967741935485], \"type\": \"barpolar\"}, {\"marker\": {\"color\": \"blue\"}, \"name\": \"Malawi\", \"r\": [0.5714285714285716], \"theta\": [145.16129032258064], \"type\": \"barpolar\"}, {\"marker\": {\"color\": \"blue\"}, \"name\": \"Maldives\", \"r\": [1.0], \"theta\": [146.61290322580646], \"type\": \"barpolar\"}, {\"marker\": {\"color\": \"blue\"}, \"name\": \"Mali\", \"r\": [1.2857142857142847], \"theta\": [148.06451612903226], \"type\": \"barpolar\"}, {\"marker\": {\"color\": \"blue\"}, \"name\": \"Mauritania\", \"r\": [0.8571428571428572], \"theta\": [149.51612903225805], \"type\": \"barpolar\"}, {\"marker\": {\"color\": \"blue\"}, \"name\": \"Mexico\", \"r\": [36.14285714285711], \"theta\": [150.96774193548387], \"type\": \"barpolar\"}, {\"marker\": {\"color\": \"blue\"}, \"name\": \"Moldova\", \"r\": [19.85714285714286], \"theta\": [152.4193548387097], \"type\": \"barpolar\"}, {\"marker\": {\"color\": \"blue\"}, \"name\": \"Nepal\", \"r\": [2.2857142857142883], \"theta\": [153.8709677419355], \"type\": \"barpolar\"}, {\"marker\": {\"color\": \"blue\"}, \"name\": \"North Macedonia\", \"r\": [1.0], \"theta\": [155.32258064516128], \"type\": \"barpolar\"}, {\"marker\": {\"color\": \"blue\"}, \"name\": \"Oman\", \"r\": [18.571428571428555], \"theta\": [156.7741935483871], \"type\": \"barpolar\"}, {\"marker\": {\"color\": \"blue\"}, \"name\": \"Peru\", \"r\": [88.4285714285711], \"theta\": [158.2258064516129], \"type\": \"barpolar\"}, {\"marker\": {\"color\": \"blue\"}, \"name\": \"Qatar\", \"r\": [80.0], \"theta\": [159.67741935483872], \"type\": \"barpolar\"}, {\"marker\": {\"color\": \"blue\"}, \"name\": \"Sao Tome and Principe\", \"r\": [1.7142857142857144], \"theta\": [161.1290322580645], \"type\": \"barpolar\"}, {\"marker\": {\"color\": \"blue\"}, \"name\": \"Saudi Arabia\", \"r\": [31.14285714285711], \"theta\": [162.5806451612903], \"type\": \"barpolar\"}, {\"marker\": {\"color\": \"blue\"}, \"name\": \"Senegal\", \"r\": [0.8571428571428612], \"theta\": [164.03225806451613], \"type\": \"barpolar\"}, {\"marker\": {\"color\": \"blue\"}, \"name\": \"Sierra Leone\", \"r\": [3.2857142857142847], \"theta\": [165.48387096774195], \"type\": \"barpolar\"}, {\"marker\": {\"color\": \"blue\"}, \"name\": \"Somalia\", \"r\": [1.5714285714285765], \"theta\": [166.93548387096774], \"type\": \"barpolar\"}, {\"marker\": {\"color\": \"blue\"}, \"name\": \"South Africa\", \"r\": [69.71428571428578], \"theta\": [168.38709677419354], \"type\": \"barpolar\"}, {\"marker\": {\"color\": \"blue\"}, \"name\": \"South Sudan\", \"r\": [0.4285714285714306], \"theta\": [169.83870967741936], \"type\": \"barpolar\"}, {\"marker\": {\"color\": \"blue\"}, \"name\": \"Sudan\", \"r\": [11.857142857142861], \"theta\": [171.29032258064518], \"type\": \"barpolar\"}, {\"marker\": {\"color\": \"blue\"}, \"name\": \"Togo\", \"r\": [2.8571428571428577], \"theta\": [172.74193548387098], \"type\": \"barpolar\"}, {\"marker\": {\"color\": \"blue\"}, \"name\": \"Uganda\", \"r\": [1.1428571428571423], \"theta\": [174.19354838709677], \"type\": \"barpolar\"}, {\"marker\": {\"color\": \"blue\"}, \"name\": \"United Arab Emirates\", \"r\": [25.571428571428555], \"theta\": [175.64516129032256], \"type\": \"barpolar\"}, {\"marker\": {\"color\": \"blue\"}, \"name\": \"Uzbekistan\", \"r\": [9.571428571428577], \"theta\": [177.09677419354838], \"type\": \"barpolar\"}, {\"marker\": {\"color\": \"blue\"}, \"name\": \"Zimbabwe\", \"r\": [0.14285714285714285], \"theta\": [178.5483870967742], \"type\": \"barpolar\"}],\n",
       "                        {\"polar\": {\"angularaxis\": {\"dtick\": 10, \"thetaunit\": \"degrees\"}, \"domain\": {\"x\": [0, 1], \"y\": [0, 1]}, \"sector\": [0, 180]}, \"template\": {\"data\": {\"bar\": [{\"error_x\": {\"color\": \"#2a3f5f\"}, \"error_y\": {\"color\": \"#2a3f5f\"}, \"marker\": {\"line\": {\"color\": \"#E5ECF6\", \"width\": 0.5}}, \"type\": \"bar\"}], \"barpolar\": [{\"marker\": {\"line\": {\"color\": \"#E5ECF6\", \"width\": 0.5}}, \"type\": \"barpolar\"}], \"carpet\": [{\"aaxis\": {\"endlinecolor\": \"#2a3f5f\", \"gridcolor\": \"white\", \"linecolor\": \"white\", \"minorgridcolor\": \"white\", \"startlinecolor\": \"#2a3f5f\"}, \"baxis\": {\"endlinecolor\": \"#2a3f5f\", \"gridcolor\": \"white\", \"linecolor\": \"white\", \"minorgridcolor\": \"white\", \"startlinecolor\": \"#2a3f5f\"}, \"type\": \"carpet\"}], \"choropleth\": [{\"colorbar\": {\"outlinewidth\": 0, \"ticks\": \"\"}, \"type\": \"choropleth\"}], \"contour\": [{\"colorbar\": {\"outlinewidth\": 0, \"ticks\": \"\"}, \"colorscale\": [[0.0, \"#0d0887\"], [0.1111111111111111, \"#46039f\"], [0.2222222222222222, \"#7201a8\"], [0.3333333333333333, \"#9c179e\"], [0.4444444444444444, \"#bd3786\"], [0.5555555555555556, \"#d8576b\"], [0.6666666666666666, \"#ed7953\"], [0.7777777777777778, \"#fb9f3a\"], [0.8888888888888888, \"#fdca26\"], [1.0, \"#f0f921\"]], \"type\": \"contour\"}], \"contourcarpet\": [{\"colorbar\": {\"outlinewidth\": 0, \"ticks\": \"\"}, \"type\": \"contourcarpet\"}], \"heatmap\": [{\"colorbar\": {\"outlinewidth\": 0, \"ticks\": \"\"}, \"colorscale\": [[0.0, \"#0d0887\"], [0.1111111111111111, \"#46039f\"], [0.2222222222222222, \"#7201a8\"], [0.3333333333333333, \"#9c179e\"], [0.4444444444444444, \"#bd3786\"], [0.5555555555555556, \"#d8576b\"], [0.6666666666666666, \"#ed7953\"], [0.7777777777777778, \"#fb9f3a\"], [0.8888888888888888, \"#fdca26\"], [1.0, \"#f0f921\"]], \"type\": \"heatmap\"}], \"heatmapgl\": [{\"colorbar\": {\"outlinewidth\": 0, \"ticks\": \"\"}, \"colorscale\": [[0.0, \"#0d0887\"], [0.1111111111111111, \"#46039f\"], [0.2222222222222222, \"#7201a8\"], [0.3333333333333333, \"#9c179e\"], [0.4444444444444444, \"#bd3786\"], [0.5555555555555556, \"#d8576b\"], [0.6666666666666666, \"#ed7953\"], [0.7777777777777778, \"#fb9f3a\"], [0.8888888888888888, \"#fdca26\"], [1.0, \"#f0f921\"]], \"type\": \"heatmapgl\"}], \"histogram\": [{\"marker\": {\"colorbar\": {\"outlinewidth\": 0, \"ticks\": \"\"}}, \"type\": \"histogram\"}], \"histogram2d\": [{\"colorbar\": {\"outlinewidth\": 0, \"ticks\": \"\"}, \"colorscale\": [[0.0, \"#0d0887\"], [0.1111111111111111, \"#46039f\"], [0.2222222222222222, \"#7201a8\"], [0.3333333333333333, \"#9c179e\"], [0.4444444444444444, \"#bd3786\"], [0.5555555555555556, \"#d8576b\"], [0.6666666666666666, \"#ed7953\"], [0.7777777777777778, \"#fb9f3a\"], [0.8888888888888888, \"#fdca26\"], [1.0, \"#f0f921\"]], \"type\": \"histogram2d\"}], \"histogram2dcontour\": [{\"colorbar\": {\"outlinewidth\": 0, \"ticks\": \"\"}, \"colorscale\": [[0.0, \"#0d0887\"], [0.1111111111111111, \"#46039f\"], [0.2222222222222222, \"#7201a8\"], [0.3333333333333333, \"#9c179e\"], [0.4444444444444444, \"#bd3786\"], [0.5555555555555556, \"#d8576b\"], [0.6666666666666666, \"#ed7953\"], [0.7777777777777778, \"#fb9f3a\"], [0.8888888888888888, \"#fdca26\"], [1.0, \"#f0f921\"]], \"type\": \"histogram2dcontour\"}], \"mesh3d\": [{\"colorbar\": {\"outlinewidth\": 0, \"ticks\": \"\"}, \"type\": \"mesh3d\"}], \"parcoords\": [{\"line\": {\"colorbar\": {\"outlinewidth\": 0, \"ticks\": \"\"}}, \"type\": \"parcoords\"}], \"pie\": [{\"automargin\": true, \"type\": \"pie\"}], \"scatter\": [{\"marker\": {\"colorbar\": {\"outlinewidth\": 0, \"ticks\": \"\"}}, \"type\": \"scatter\"}], \"scatter3d\": [{\"line\": {\"colorbar\": {\"outlinewidth\": 0, \"ticks\": \"\"}}, \"marker\": {\"colorbar\": {\"outlinewidth\": 0, \"ticks\": \"\"}}, \"type\": \"scatter3d\"}], \"scattercarpet\": [{\"marker\": {\"colorbar\": {\"outlinewidth\": 0, \"ticks\": \"\"}}, \"type\": \"scattercarpet\"}], \"scattergeo\": [{\"marker\": {\"colorbar\": {\"outlinewidth\": 0, \"ticks\": \"\"}}, \"type\": \"scattergeo\"}], \"scattergl\": [{\"marker\": {\"colorbar\": {\"outlinewidth\": 0, \"ticks\": \"\"}}, \"type\": \"scattergl\"}], \"scattermapbox\": [{\"marker\": {\"colorbar\": {\"outlinewidth\": 0, \"ticks\": \"\"}}, \"type\": \"scattermapbox\"}], \"scatterpolar\": [{\"marker\": {\"colorbar\": {\"outlinewidth\": 0, \"ticks\": \"\"}}, \"type\": \"scatterpolar\"}], \"scatterpolargl\": [{\"marker\": {\"colorbar\": {\"outlinewidth\": 0, \"ticks\": \"\"}}, \"type\": \"scatterpolargl\"}], \"scatterternary\": [{\"marker\": {\"colorbar\": {\"outlinewidth\": 0, \"ticks\": \"\"}}, \"type\": \"scatterternary\"}], \"surface\": [{\"colorbar\": {\"outlinewidth\": 0, \"ticks\": \"\"}, \"colorscale\": [[0.0, \"#0d0887\"], [0.1111111111111111, \"#46039f\"], [0.2222222222222222, \"#7201a8\"], [0.3333333333333333, \"#9c179e\"], [0.4444444444444444, \"#bd3786\"], [0.5555555555555556, \"#d8576b\"], [0.6666666666666666, \"#ed7953\"], [0.7777777777777778, \"#fb9f3a\"], [0.8888888888888888, \"#fdca26\"], [1.0, \"#f0f921\"]], \"type\": \"surface\"}], \"table\": [{\"cells\": {\"fill\": {\"color\": \"#EBF0F8\"}, \"line\": {\"color\": \"white\"}}, \"header\": {\"fill\": {\"color\": \"#C8D4E3\"}, \"line\": {\"color\": \"white\"}}, \"type\": \"table\"}]}, \"layout\": {\"annotationdefaults\": {\"arrowcolor\": \"#2a3f5f\", \"arrowhead\": 0, \"arrowwidth\": 1}, \"coloraxis\": {\"colorbar\": {\"outlinewidth\": 0, \"ticks\": \"\"}}, \"colorscale\": {\"diverging\": [[0, \"#8e0152\"], [0.1, \"#c51b7d\"], [0.2, \"#de77ae\"], [0.3, \"#f1b6da\"], [0.4, \"#fde0ef\"], [0.5, \"#f7f7f7\"], [0.6, \"#e6f5d0\"], [0.7, \"#b8e186\"], [0.8, \"#7fbc41\"], [0.9, \"#4d9221\"], [1, \"#276419\"]], \"sequential\": [[0.0, \"#0d0887\"], [0.1111111111111111, \"#46039f\"], [0.2222222222222222, \"#7201a8\"], [0.3333333333333333, \"#9c179e\"], [0.4444444444444444, \"#bd3786\"], [0.5555555555555556, \"#d8576b\"], [0.6666666666666666, \"#ed7953\"], [0.7777777777777778, \"#fb9f3a\"], [0.8888888888888888, \"#fdca26\"], [1.0, \"#f0f921\"]], \"sequentialminus\": [[0.0, \"#0d0887\"], [0.1111111111111111, \"#46039f\"], [0.2222222222222222, \"#7201a8\"], [0.3333333333333333, \"#9c179e\"], [0.4444444444444444, \"#bd3786\"], [0.5555555555555556, \"#d8576b\"], [0.6666666666666666, \"#ed7953\"], [0.7777777777777778, \"#fb9f3a\"], [0.8888888888888888, \"#fdca26\"], [1.0, \"#f0f921\"]]}, \"colorway\": [\"#636efa\", \"#EF553B\", \"#00cc96\", \"#ab63fa\", \"#FFA15A\", \"#19d3f3\", \"#FF6692\", \"#B6E880\", \"#FF97FF\", \"#FECB52\"], \"font\": {\"color\": \"#2a3f5f\"}, \"geo\": {\"bgcolor\": \"white\", \"lakecolor\": \"white\", \"landcolor\": \"#E5ECF6\", \"showlakes\": true, \"showland\": true, \"subunitcolor\": \"white\"}, \"hoverlabel\": {\"align\": \"left\"}, \"hovermode\": \"closest\", \"mapbox\": {\"style\": \"light\"}, \"paper_bgcolor\": \"white\", \"plot_bgcolor\": \"#E5ECF6\", \"polar\": {\"angularaxis\": {\"gridcolor\": \"white\", \"linecolor\": \"white\", \"ticks\": \"\"}, \"bgcolor\": \"#E5ECF6\", \"radialaxis\": {\"gridcolor\": \"white\", \"linecolor\": \"white\", \"ticks\": \"\"}}, \"scene\": {\"xaxis\": {\"backgroundcolor\": \"#E5ECF6\", \"gridcolor\": \"white\", \"gridwidth\": 2, \"linecolor\": \"white\", \"showbackground\": true, \"ticks\": \"\", \"zerolinecolor\": \"white\"}, \"yaxis\": {\"backgroundcolor\": \"#E5ECF6\", \"gridcolor\": \"white\", \"gridwidth\": 2, \"linecolor\": \"white\", \"showbackground\": true, \"ticks\": \"\", \"zerolinecolor\": \"white\"}, \"zaxis\": {\"backgroundcolor\": \"#E5ECF6\", \"gridcolor\": \"white\", \"gridwidth\": 2, \"linecolor\": \"white\", \"showbackground\": true, \"ticks\": \"\", \"zerolinecolor\": \"white\"}}, \"shapedefaults\": {\"line\": {\"color\": \"#2a3f5f\"}}, \"ternary\": {\"aaxis\": {\"gridcolor\": \"white\", \"linecolor\": \"white\", \"ticks\": \"\"}, \"baxis\": {\"gridcolor\": \"white\", \"linecolor\": \"white\", \"ticks\": \"\"}, \"bgcolor\": \"#E5ECF6\", \"caxis\": {\"gridcolor\": \"white\", \"linecolor\": \"white\", \"ticks\": \"\"}}, \"title\": {\"x\": 0.05}, \"xaxis\": {\"automargin\": true, \"gridcolor\": \"white\", \"linecolor\": \"white\", \"ticks\": \"\", \"title\": {\"standoff\": 15}, \"zerolinecolor\": \"white\", \"zerolinewidth\": 2}, \"yaxis\": {\"automargin\": true, \"gridcolor\": \"white\", \"linecolor\": \"white\", \"ticks\": \"\", \"title\": {\"standoff\": 15}, \"zerolinecolor\": \"white\", \"zerolinewidth\": 2}}}},\n",
       "                        {\"responsive\": true}\n",
       "                    ).then(function(){\n",
       "                            \n",
       "var gd = document.getElementById('b41a2ccd-712e-49da-9a70-f738b9cca91f');\n",
       "var x = new MutationObserver(function (mutations, observer) {{\n",
       "        var display = window.getComputedStyle(gd).display;\n",
       "        if (!display || display === 'none') {{\n",
       "            console.log([gd, 'removed!']);\n",
       "            Plotly.purge(gd);\n",
       "            observer.disconnect();\n",
       "        }}\n",
       "}});\n",
       "\n",
       "// Listen for the removal of the full notebook cells\n",
       "var notebookContainer = gd.closest('#notebook-container');\n",
       "if (notebookContainer) {{\n",
       "    x.observe(notebookContainer, {childList: true});\n",
       "}}\n",
       "\n",
       "// Listen for the clearing of the current output cell\n",
       "var outputEl = gd.closest('.output');\n",
       "if (outputEl) {{\n",
       "    x.observe(outputEl, {childList: true});\n",
       "}}\n",
       "\n",
       "                        })\n",
       "                };\n",
       "                });\n",
       "            </script>\n",
       "        </div>"
      ]
     },
     "metadata": {},
     "output_type": "display_data"
    },
    {
     "data": {
      "text/html": [
       "<div>\n",
       "<style scoped>\n",
       "    .dataframe tbody tr th:only-of-type {\n",
       "        vertical-align: middle;\n",
       "    }\n",
       "\n",
       "    .dataframe tbody tr th {\n",
       "        vertical-align: top;\n",
       "    }\n",
       "\n",
       "    .dataframe thead th {\n",
       "        text-align: right;\n",
       "    }\n",
       "</style>\n",
       "<table border=\"1\" class=\"dataframe\">\n",
       "  <thead>\n",
       "    <tr style=\"text-align: right;\">\n",
       "      <th></th>\n",
       "      <th>increasing</th>\n",
       "      <th>Country</th>\n",
       "      <th>ConfirmedCases</th>\n",
       "      <th>Fatalities</th>\n",
       "      <th>ConfirmedCasesPercent</th>\n",
       "    </tr>\n",
       "  </thead>\n",
       "  <tbody>\n",
       "    <tr>\n",
       "      <th>0</th>\n",
       "      <td>True</td>\n",
       "      <td>Afghanistan</td>\n",
       "      <td>5226.0</td>\n",
       "      <td>132.0</td>\n",
       "      <td>13.571429</td>\n",
       "    </tr>\n",
       "    <tr>\n",
       "      <th>1</th>\n",
       "      <td>False</td>\n",
       "      <td>Albania</td>\n",
       "      <td>880.0</td>\n",
       "      <td>31.0</td>\n",
       "      <td>1.142857</td>\n",
       "    </tr>\n",
       "    <tr>\n",
       "      <th>2</th>\n",
       "      <td>True</td>\n",
       "      <td>Algeria</td>\n",
       "      <td>6253.0</td>\n",
       "      <td>522.0</td>\n",
       "      <td>3.857143</td>\n",
       "    </tr>\n",
       "    <tr>\n",
       "      <th>3</th>\n",
       "      <td>True</td>\n",
       "      <td>Andorra</td>\n",
       "      <td>760.0</td>\n",
       "      <td>49.0</td>\n",
       "      <td>0.285714</td>\n",
       "    </tr>\n",
       "    <tr>\n",
       "      <th>4</th>\n",
       "      <td>False</td>\n",
       "      <td>Angola</td>\n",
       "      <td>45.0</td>\n",
       "      <td>2.0</td>\n",
       "      <td>0.000000</td>\n",
       "    </tr>\n",
       "    <tr>\n",
       "      <th>...</th>\n",
       "      <td>...</td>\n",
       "      <td>...</td>\n",
       "      <td>...</td>\n",
       "      <td>...</td>\n",
       "      <td>...</td>\n",
       "    </tr>\n",
       "    <tr>\n",
       "      <th>179</th>\n",
       "      <td>False</td>\n",
       "      <td>Vietnam</td>\n",
       "      <td>288.0</td>\n",
       "      <td>0.0</td>\n",
       "      <td>0.000000</td>\n",
       "    </tr>\n",
       "    <tr>\n",
       "      <th>180</th>\n",
       "      <td>False</td>\n",
       "      <td>West Bank and Gaza</td>\n",
       "      <td>375.0</td>\n",
       "      <td>2.0</td>\n",
       "      <td>0.428571</td>\n",
       "    </tr>\n",
       "    <tr>\n",
       "      <th>181</th>\n",
       "      <td>False</td>\n",
       "      <td>Western Sahara</td>\n",
       "      <td>6.0</td>\n",
       "      <td>0.0</td>\n",
       "      <td>0.000000</td>\n",
       "    </tr>\n",
       "    <tr>\n",
       "      <th>182</th>\n",
       "      <td>False</td>\n",
       "      <td>Zambia</td>\n",
       "      <td>446.0</td>\n",
       "      <td>7.0</td>\n",
       "      <td>0.428571</td>\n",
       "    </tr>\n",
       "    <tr>\n",
       "      <th>183</th>\n",
       "      <td>True</td>\n",
       "      <td>Zimbabwe</td>\n",
       "      <td>37.0</td>\n",
       "      <td>4.0</td>\n",
       "      <td>0.142857</td>\n",
       "    </tr>\n",
       "  </tbody>\n",
       "</table>\n",
       "<p>184 rows × 5 columns</p>\n",
       "</div>"
      ],
      "text/plain": [
       "     increasing             Country  ConfirmedCases  Fatalities  \\\n",
       "0          True         Afghanistan          5226.0       132.0   \n",
       "1         False             Albania           880.0        31.0   \n",
       "2          True             Algeria          6253.0       522.0   \n",
       "3          True             Andorra           760.0        49.0   \n",
       "4         False              Angola            45.0         2.0   \n",
       "..          ...                 ...             ...         ...   \n",
       "179       False             Vietnam           288.0         0.0   \n",
       "180       False  West Bank and Gaza           375.0         2.0   \n",
       "181       False      Western Sahara             6.0         0.0   \n",
       "182       False              Zambia           446.0         7.0   \n",
       "183        True            Zimbabwe            37.0         4.0   \n",
       "\n",
       "     ConfirmedCasesPercent  \n",
       "0                13.571429  \n",
       "1                 1.142857  \n",
       "2                 3.857143  \n",
       "3                 0.285714  \n",
       "4                 0.000000  \n",
       "..                     ...  \n",
       "179               0.000000  \n",
       "180               0.428571  \n",
       "181               0.000000  \n",
       "182               0.428571  \n",
       "183               0.142857  \n",
       "\n",
       "[184 rows x 5 columns]"
      ]
     },
     "execution_count": 11,
     "metadata": {},
     "output_type": "execute_result"
    }
   ],
   "source": [
    "change_data_df=pd.DataFrame(change_data)\n",
    "# change_data_df=change_data_df.sort_values(['increasing','ConfirmedCases'],ascending=False)\n",
    "fig = go.Figure()\n",
    "count=0\n",
    "change=len(change_data_df.loc[change_data_df.increasing == False])\n",
    "for index,row in change_data_df.loc[change_data_df.increasing == False].iterrows():\n",
    "    fig.add_trace(go.Barpolar(r=[row['ConfirmedCasesPercent']],theta=[90*count/change],name=row['Country'],marker=dict(color='red')))\n",
    "    count+=1\n",
    "count=0\n",
    "change=len(change_data_df.loc[change_data_df.increasing == True])\n",
    "for index,row in change_data_df.loc[change_data_df.increasing == True].iterrows():\n",
    "    fig.add_trace(go.Barpolar(r=[row['ConfirmedCasesPercent']],theta=[90+90*count/change],name=row['Country'],marker=dict(color='blue')))    \n",
    "    count+=1\n",
    "fig.update_layout(polar = dict(\n",
    "        domain = dict( # set chart size and position \n",
    "        x = [0, 1],\n",
    "        y = [0, 1]),\n",
    "        sector = [0,180],   # set chart shape (half or full)\n",
    "        angularaxis = dict(\n",
    "            thetaunit = \"degrees\",\n",
    "            dtick = 10,\n",
    "            #rotation = -90, #does not work\n",
    "            #direction = \"clockwise\" # does not work\n",
    "            )\n",
    "        )\n",
    ")\n",
    "fig.show()    \n",
    "change_data_df"
   ]
  },
  {
   "cell_type": "code",
   "execution_count": 12,
   "metadata": {
    "ExecuteTime": {
     "end_time": "2020-05-15T05:34:47.309020Z",
     "start_time": "2020-05-15T05:34:46.806344Z"
    }
   },
   "outputs": [],
   "source": [
    "change_data=[]\n",
    "for country,group in df.groupby(['Country_Region']):\n",
    "    temp_df=group.copy()\n",
    "    temp_df['ConfirmedCasesChange']=temp_df['ConfirmedCases'].diff()\n",
    "    temp_df['FatalitiesChange']=temp_df['Fatalities'].diff()\n",
    "    temp_df['WeeklyChangeConfirmed']=temp_df.ConfirmedCasesChange.rolling(window=7).mean()\n",
    "    temp_df['WeeklyChangeFatalities']=temp_df.FatalitiesChange.rolling(window=7).mean()\n",
    "    lastmile=temp_df.WeeklyChangeConfirmed.tolist()[-7:]\n",
    "    temp={}\n",
    "    temp['increasing']=False\n",
    "    temp['Country']=country\n",
    "    temp['ConfirmedCases']=temp_df['ConfirmedCases'].tolist()[-1]\n",
    "    temp['Fatalities']=temp_df['Fatalities'].tolist()[-1]\n",
    "    WeeklyChangeConfirmed=temp_df['WeeklyChangeConfirmed'].tolist()\n",
    "    WeeklyChangeFatalities=temp_df['WeeklyChangeFatalities'].tolist()\n",
    "    temp['WeeklyChangeConfirmed']=100*(WeeklyChangeConfirmed[-1]-WeeklyChangeConfirmed[-2])/(WeeklyChangeConfirmed[-2]) if WeeklyChangeConfirmed[-2] != 0 else 0\n",
    "    temp['WeeklyChangeFatalities']=100*(WeeklyChangeFatalities[-1]-WeeklyChangeFatalities[-2])/(WeeklyChangeFatalities[-2]) if WeeklyChangeFatalities[-2] != 0 else 0\n",
    "    if(temp['WeeklyChangeConfirmed'] > 0):\n",
    "        temp['increasing']=True\n",
    "    temp['WeeklyChangeConfirmed']=abs(temp['WeeklyChangeConfirmed'])\n",
    "    temp['WeeklyChangeFatalities']=abs(temp['WeeklyChangeFatalities'])\n",
    "    change_data.append(temp)\n",
    "change_data_df=pd.DataFrame(change_data)    \n",
    "change_data_df=change_data_df.sort_values('WeeklyChangeConfirmed')\n"
   ]
  },
  {
   "cell_type": "code",
   "execution_count": 15,
   "metadata": {
    "ExecuteTime": {
     "end_time": "2020-05-15T05:36:09.839349Z",
     "start_time": "2020-05-15T05:36:09.607508Z"
    }
   },
   "outputs": [
    {
     "data": {
      "application/vnd.plotly.v1+json": {
       "config": {
        "plotlyServerURL": "https://plot.ly"
       },
       "data": [
        {
         "marker": {
          "color": "red"
         },
         "name": "Uganda",
         "r": [
          25.806451612903214
         ],
         "theta": [
          0
         ],
         "type": "barpolar"
        },
        {
         "marker": {
          "color": "red"
         },
         "name": "Togo",
         "r": [
          28.16901408450705
         ],
         "theta": [
          9
         ],
         "type": "barpolar"
        },
        {
         "marker": {
          "color": "red"
         },
         "name": "Andorra",
         "r": [
          28.57142857142858
         ],
         "theta": [
          18
         ],
         "type": "barpolar"
        },
        {
         "marker": {
          "color": "red"
         },
         "name": "Gabon",
         "r": [
          30.257510729613728
         ],
         "theta": [
          27
         ],
         "type": "barpolar"
        },
        {
         "marker": {
          "color": "red"
         },
         "name": "Sao Tome and Principe",
         "r": [
          35.29411764705883
         ],
         "theta": [
          36
         ],
         "type": "barpolar"
        },
        {
         "marker": {
          "color": "red"
         },
         "name": "Zimbabwe",
         "r": [
          50
         ],
         "theta": [
          45
         ],
         "type": "barpolar"
        },
        {
         "marker": {
          "color": "red"
         },
         "name": "Iceland",
         "r": [
          50
         ],
         "theta": [
          54
         ],
         "type": "barpolar"
        },
        {
         "marker": {
          "color": "red"
         },
         "name": "Madagascar",
         "r": [
          54.28571428571429
         ],
         "theta": [
          63
         ],
         "type": "barpolar"
        },
        {
         "marker": {
          "color": "red"
         },
         "name": "Bhutan",
         "r": [
          100
         ],
         "theta": [
          72
         ],
         "type": "barpolar"
        },
        {
         "marker": {
          "color": "red"
         },
         "name": "Mauritania",
         "r": [
          600.0000000000001
         ],
         "theta": [
          81
         ],
         "type": "barpolar"
        },
        {
         "marker": {
          "color": "blue"
         },
         "name": "Rwanda",
         "r": [
          24
         ],
         "theta": [
          180
         ],
         "type": "barpolar"
        },
        {
         "marker": {
          "color": "blue"
         },
         "name": "San Marino",
         "r": [
          28.571428571428573
         ],
         "theta": [
          174
         ],
         "type": "barpolar"
        },
        {
         "marker": {
          "color": "blue"
         },
         "name": "Congo (Brazzaville)",
         "r": [
          28.8659793814433
         ],
         "theta": [
          168
         ],
         "type": "barpolar"
        },
        {
         "marker": {
          "color": "blue"
         },
         "name": "Venezuela",
         "r": [
          29.032258064516135
         ],
         "theta": [
          162
         ],
         "type": "barpolar"
        },
        {
         "marker": {
          "color": "blue"
         },
         "name": "Tunisia",
         "r": [
          30.000000000000004
         ],
         "theta": [
          156
         ],
         "type": "barpolar"
        },
        {
         "marker": {
          "color": "blue"
         },
         "name": "Equatorial Guinea",
         "r": [
          33.06451612903226
         ],
         "theta": [
          150
         ],
         "type": "barpolar"
        },
        {
         "marker": {
          "color": "blue"
         },
         "name": "Brunei",
         "r": [
          33.333333333333336
         ],
         "theta": [
          144
         ],
         "type": "barpolar"
        },
        {
         "marker": {
          "color": "blue"
         },
         "name": "Burkina Faso",
         "r": [
          43.589743589743584
         ],
         "theta": [
          138
         ],
         "type": "barpolar"
        },
        {
         "marker": {
          "color": "blue"
         },
         "name": "Australia",
         "r": [
          50
         ],
         "theta": [
          132
         ],
         "type": "barpolar"
        },
        {
         "marker": {
          "color": "blue"
         },
         "name": "Taiwan*",
         "r": [
          50
         ],
         "theta": [
          126
         ],
         "type": "barpolar"
        },
        {
         "marker": {
          "color": "blue"
         },
         "name": "Bahamas",
         "r": [
          50
         ],
         "theta": [
          120
         ],
         "type": "barpolar"
        },
        {
         "marker": {
          "color": "blue"
         },
         "name": "France",
         "r": [
          51.65016501650166
         ],
         "theta": [
          114
         ],
         "type": "barpolar"
        },
        {
         "marker": {
          "color": "blue"
         },
         "name": "West Bank and Gaza",
         "r": [
          75
         ],
         "theta": [
          108
         ],
         "type": "barpolar"
        },
        {
         "marker": {
          "color": "blue"
         },
         "name": "Holy See",
         "r": [
          100
         ],
         "theta": [
          102
         ],
         "type": "barpolar"
        },
        {
         "marker": {
          "color": "blue"
         },
         "name": "Libya",
         "r": [
          100
         ],
         "theta": [
          96
         ],
         "type": "barpolar"
        }
       ],
       "layout": {
        "polar": {
         "domain": {
          "x": [
           0,
           1
          ],
          "y": [
           0,
           1
          ]
         },
         "radialaxis": {
          "range": [
           0,
           100
          ]
         },
         "sector": [
          0,
          180
         ]
        },
        "template": {
         "data": {
          "bar": [
           {
            "error_x": {
             "color": "#2a3f5f"
            },
            "error_y": {
             "color": "#2a3f5f"
            },
            "marker": {
             "line": {
              "color": "#E5ECF6",
              "width": 0.5
             }
            },
            "type": "bar"
           }
          ],
          "barpolar": [
           {
            "marker": {
             "line": {
              "color": "#E5ECF6",
              "width": 0.5
             }
            },
            "type": "barpolar"
           }
          ],
          "carpet": [
           {
            "aaxis": {
             "endlinecolor": "#2a3f5f",
             "gridcolor": "white",
             "linecolor": "white",
             "minorgridcolor": "white",
             "startlinecolor": "#2a3f5f"
            },
            "baxis": {
             "endlinecolor": "#2a3f5f",
             "gridcolor": "white",
             "linecolor": "white",
             "minorgridcolor": "white",
             "startlinecolor": "#2a3f5f"
            },
            "type": "carpet"
           }
          ],
          "choropleth": [
           {
            "colorbar": {
             "outlinewidth": 0,
             "ticks": ""
            },
            "type": "choropleth"
           }
          ],
          "contour": [
           {
            "colorbar": {
             "outlinewidth": 0,
             "ticks": ""
            },
            "colorscale": [
             [
              0,
              "#0d0887"
             ],
             [
              0.1111111111111111,
              "#46039f"
             ],
             [
              0.2222222222222222,
              "#7201a8"
             ],
             [
              0.3333333333333333,
              "#9c179e"
             ],
             [
              0.4444444444444444,
              "#bd3786"
             ],
             [
              0.5555555555555556,
              "#d8576b"
             ],
             [
              0.6666666666666666,
              "#ed7953"
             ],
             [
              0.7777777777777778,
              "#fb9f3a"
             ],
             [
              0.8888888888888888,
              "#fdca26"
             ],
             [
              1,
              "#f0f921"
             ]
            ],
            "type": "contour"
           }
          ],
          "contourcarpet": [
           {
            "colorbar": {
             "outlinewidth": 0,
             "ticks": ""
            },
            "type": "contourcarpet"
           }
          ],
          "heatmap": [
           {
            "colorbar": {
             "outlinewidth": 0,
             "ticks": ""
            },
            "colorscale": [
             [
              0,
              "#0d0887"
             ],
             [
              0.1111111111111111,
              "#46039f"
             ],
             [
              0.2222222222222222,
              "#7201a8"
             ],
             [
              0.3333333333333333,
              "#9c179e"
             ],
             [
              0.4444444444444444,
              "#bd3786"
             ],
             [
              0.5555555555555556,
              "#d8576b"
             ],
             [
              0.6666666666666666,
              "#ed7953"
             ],
             [
              0.7777777777777778,
              "#fb9f3a"
             ],
             [
              0.8888888888888888,
              "#fdca26"
             ],
             [
              1,
              "#f0f921"
             ]
            ],
            "type": "heatmap"
           }
          ],
          "heatmapgl": [
           {
            "colorbar": {
             "outlinewidth": 0,
             "ticks": ""
            },
            "colorscale": [
             [
              0,
              "#0d0887"
             ],
             [
              0.1111111111111111,
              "#46039f"
             ],
             [
              0.2222222222222222,
              "#7201a8"
             ],
             [
              0.3333333333333333,
              "#9c179e"
             ],
             [
              0.4444444444444444,
              "#bd3786"
             ],
             [
              0.5555555555555556,
              "#d8576b"
             ],
             [
              0.6666666666666666,
              "#ed7953"
             ],
             [
              0.7777777777777778,
              "#fb9f3a"
             ],
             [
              0.8888888888888888,
              "#fdca26"
             ],
             [
              1,
              "#f0f921"
             ]
            ],
            "type": "heatmapgl"
           }
          ],
          "histogram": [
           {
            "marker": {
             "colorbar": {
              "outlinewidth": 0,
              "ticks": ""
             }
            },
            "type": "histogram"
           }
          ],
          "histogram2d": [
           {
            "colorbar": {
             "outlinewidth": 0,
             "ticks": ""
            },
            "colorscale": [
             [
              0,
              "#0d0887"
             ],
             [
              0.1111111111111111,
              "#46039f"
             ],
             [
              0.2222222222222222,
              "#7201a8"
             ],
             [
              0.3333333333333333,
              "#9c179e"
             ],
             [
              0.4444444444444444,
              "#bd3786"
             ],
             [
              0.5555555555555556,
              "#d8576b"
             ],
             [
              0.6666666666666666,
              "#ed7953"
             ],
             [
              0.7777777777777778,
              "#fb9f3a"
             ],
             [
              0.8888888888888888,
              "#fdca26"
             ],
             [
              1,
              "#f0f921"
             ]
            ],
            "type": "histogram2d"
           }
          ],
          "histogram2dcontour": [
           {
            "colorbar": {
             "outlinewidth": 0,
             "ticks": ""
            },
            "colorscale": [
             [
              0,
              "#0d0887"
             ],
             [
              0.1111111111111111,
              "#46039f"
             ],
             [
              0.2222222222222222,
              "#7201a8"
             ],
             [
              0.3333333333333333,
              "#9c179e"
             ],
             [
              0.4444444444444444,
              "#bd3786"
             ],
             [
              0.5555555555555556,
              "#d8576b"
             ],
             [
              0.6666666666666666,
              "#ed7953"
             ],
             [
              0.7777777777777778,
              "#fb9f3a"
             ],
             [
              0.8888888888888888,
              "#fdca26"
             ],
             [
              1,
              "#f0f921"
             ]
            ],
            "type": "histogram2dcontour"
           }
          ],
          "mesh3d": [
           {
            "colorbar": {
             "outlinewidth": 0,
             "ticks": ""
            },
            "type": "mesh3d"
           }
          ],
          "parcoords": [
           {
            "line": {
             "colorbar": {
              "outlinewidth": 0,
              "ticks": ""
             }
            },
            "type": "parcoords"
           }
          ],
          "pie": [
           {
            "automargin": true,
            "type": "pie"
           }
          ],
          "scatter": [
           {
            "marker": {
             "colorbar": {
              "outlinewidth": 0,
              "ticks": ""
             }
            },
            "type": "scatter"
           }
          ],
          "scatter3d": [
           {
            "line": {
             "colorbar": {
              "outlinewidth": 0,
              "ticks": ""
             }
            },
            "marker": {
             "colorbar": {
              "outlinewidth": 0,
              "ticks": ""
             }
            },
            "type": "scatter3d"
           }
          ],
          "scattercarpet": [
           {
            "marker": {
             "colorbar": {
              "outlinewidth": 0,
              "ticks": ""
             }
            },
            "type": "scattercarpet"
           }
          ],
          "scattergeo": [
           {
            "marker": {
             "colorbar": {
              "outlinewidth": 0,
              "ticks": ""
             }
            },
            "type": "scattergeo"
           }
          ],
          "scattergl": [
           {
            "marker": {
             "colorbar": {
              "outlinewidth": 0,
              "ticks": ""
             }
            },
            "type": "scattergl"
           }
          ],
          "scattermapbox": [
           {
            "marker": {
             "colorbar": {
              "outlinewidth": 0,
              "ticks": ""
             }
            },
            "type": "scattermapbox"
           }
          ],
          "scatterpolar": [
           {
            "marker": {
             "colorbar": {
              "outlinewidth": 0,
              "ticks": ""
             }
            },
            "type": "scatterpolar"
           }
          ],
          "scatterpolargl": [
           {
            "marker": {
             "colorbar": {
              "outlinewidth": 0,
              "ticks": ""
             }
            },
            "type": "scatterpolargl"
           }
          ],
          "scatterternary": [
           {
            "marker": {
             "colorbar": {
              "outlinewidth": 0,
              "ticks": ""
             }
            },
            "type": "scatterternary"
           }
          ],
          "surface": [
           {
            "colorbar": {
             "outlinewidth": 0,
             "ticks": ""
            },
            "colorscale": [
             [
              0,
              "#0d0887"
             ],
             [
              0.1111111111111111,
              "#46039f"
             ],
             [
              0.2222222222222222,
              "#7201a8"
             ],
             [
              0.3333333333333333,
              "#9c179e"
             ],
             [
              0.4444444444444444,
              "#bd3786"
             ],
             [
              0.5555555555555556,
              "#d8576b"
             ],
             [
              0.6666666666666666,
              "#ed7953"
             ],
             [
              0.7777777777777778,
              "#fb9f3a"
             ],
             [
              0.8888888888888888,
              "#fdca26"
             ],
             [
              1,
              "#f0f921"
             ]
            ],
            "type": "surface"
           }
          ],
          "table": [
           {
            "cells": {
             "fill": {
              "color": "#EBF0F8"
             },
             "line": {
              "color": "white"
             }
            },
            "header": {
             "fill": {
              "color": "#C8D4E3"
             },
             "line": {
              "color": "white"
             }
            },
            "type": "table"
           }
          ]
         },
         "layout": {
          "annotationdefaults": {
           "arrowcolor": "#2a3f5f",
           "arrowhead": 0,
           "arrowwidth": 1
          },
          "coloraxis": {
           "colorbar": {
            "outlinewidth": 0,
            "ticks": ""
           }
          },
          "colorscale": {
           "diverging": [
            [
             0,
             "#8e0152"
            ],
            [
             0.1,
             "#c51b7d"
            ],
            [
             0.2,
             "#de77ae"
            ],
            [
             0.3,
             "#f1b6da"
            ],
            [
             0.4,
             "#fde0ef"
            ],
            [
             0.5,
             "#f7f7f7"
            ],
            [
             0.6,
             "#e6f5d0"
            ],
            [
             0.7,
             "#b8e186"
            ],
            [
             0.8,
             "#7fbc41"
            ],
            [
             0.9,
             "#4d9221"
            ],
            [
             1,
             "#276419"
            ]
           ],
           "sequential": [
            [
             0,
             "#0d0887"
            ],
            [
             0.1111111111111111,
             "#46039f"
            ],
            [
             0.2222222222222222,
             "#7201a8"
            ],
            [
             0.3333333333333333,
             "#9c179e"
            ],
            [
             0.4444444444444444,
             "#bd3786"
            ],
            [
             0.5555555555555556,
             "#d8576b"
            ],
            [
             0.6666666666666666,
             "#ed7953"
            ],
            [
             0.7777777777777778,
             "#fb9f3a"
            ],
            [
             0.8888888888888888,
             "#fdca26"
            ],
            [
             1,
             "#f0f921"
            ]
           ],
           "sequentialminus": [
            [
             0,
             "#0d0887"
            ],
            [
             0.1111111111111111,
             "#46039f"
            ],
            [
             0.2222222222222222,
             "#7201a8"
            ],
            [
             0.3333333333333333,
             "#9c179e"
            ],
            [
             0.4444444444444444,
             "#bd3786"
            ],
            [
             0.5555555555555556,
             "#d8576b"
            ],
            [
             0.6666666666666666,
             "#ed7953"
            ],
            [
             0.7777777777777778,
             "#fb9f3a"
            ],
            [
             0.8888888888888888,
             "#fdca26"
            ],
            [
             1,
             "#f0f921"
            ]
           ]
          },
          "colorway": [
           "#636efa",
           "#EF553B",
           "#00cc96",
           "#ab63fa",
           "#FFA15A",
           "#19d3f3",
           "#FF6692",
           "#B6E880",
           "#FF97FF",
           "#FECB52"
          ],
          "font": {
           "color": "#2a3f5f"
          },
          "geo": {
           "bgcolor": "white",
           "lakecolor": "white",
           "landcolor": "#E5ECF6",
           "showlakes": true,
           "showland": true,
           "subunitcolor": "white"
          },
          "hoverlabel": {
           "align": "left"
          },
          "hovermode": "closest",
          "mapbox": {
           "style": "light"
          },
          "paper_bgcolor": "white",
          "plot_bgcolor": "#E5ECF6",
          "polar": {
           "angularaxis": {
            "gridcolor": "white",
            "linecolor": "white",
            "ticks": ""
           },
           "bgcolor": "#E5ECF6",
           "radialaxis": {
            "gridcolor": "white",
            "linecolor": "white",
            "ticks": ""
           }
          },
          "scene": {
           "xaxis": {
            "backgroundcolor": "#E5ECF6",
            "gridcolor": "white",
            "gridwidth": 2,
            "linecolor": "white",
            "showbackground": true,
            "ticks": "",
            "zerolinecolor": "white"
           },
           "yaxis": {
            "backgroundcolor": "#E5ECF6",
            "gridcolor": "white",
            "gridwidth": 2,
            "linecolor": "white",
            "showbackground": true,
            "ticks": "",
            "zerolinecolor": "white"
           },
           "zaxis": {
            "backgroundcolor": "#E5ECF6",
            "gridcolor": "white",
            "gridwidth": 2,
            "linecolor": "white",
            "showbackground": true,
            "ticks": "",
            "zerolinecolor": "white"
           }
          },
          "shapedefaults": {
           "line": {
            "color": "#2a3f5f"
           }
          },
          "ternary": {
           "aaxis": {
            "gridcolor": "white",
            "linecolor": "white",
            "ticks": ""
           },
           "baxis": {
            "gridcolor": "white",
            "linecolor": "white",
            "ticks": ""
           },
           "bgcolor": "#E5ECF6",
           "caxis": {
            "gridcolor": "white",
            "linecolor": "white",
            "ticks": ""
           }
          },
          "title": {
           "x": 0.05
          },
          "xaxis": {
           "automargin": true,
           "gridcolor": "white",
           "linecolor": "white",
           "ticks": "",
           "title": {
            "standoff": 15
           },
           "zerolinecolor": "white",
           "zerolinewidth": 2
          },
          "yaxis": {
           "automargin": true,
           "gridcolor": "white",
           "linecolor": "white",
           "ticks": "",
           "title": {
            "standoff": 15
           },
           "zerolinecolor": "white",
           "zerolinewidth": 2
          }
         }
        }
       }
      },
      "text/html": [
       "<div>\n",
       "        \n",
       "        \n",
       "            <div id=\"f3b44c5d-920d-4d97-abf4-30c47f54af59\" class=\"plotly-graph-div\" style=\"height:525px; width:100%;\"></div>\n",
       "            <script type=\"text/javascript\">\n",
       "                require([\"plotly\"], function(Plotly) {\n",
       "                    window.PLOTLYENV=window.PLOTLYENV || {};\n",
       "                    \n",
       "                if (document.getElementById(\"f3b44c5d-920d-4d97-abf4-30c47f54af59\")) {\n",
       "                    Plotly.newPlot(\n",
       "                        'f3b44c5d-920d-4d97-abf4-30c47f54af59',\n",
       "                        [{\"marker\": {\"color\": \"red\"}, \"name\": \"Uganda\", \"r\": [25.806451612903214], \"theta\": [0.0], \"type\": \"barpolar\"}, {\"marker\": {\"color\": \"red\"}, \"name\": \"Togo\", \"r\": [28.16901408450705], \"theta\": [9.0], \"type\": \"barpolar\"}, {\"marker\": {\"color\": \"red\"}, \"name\": \"Andorra\", \"r\": [28.57142857142858], \"theta\": [18.0], \"type\": \"barpolar\"}, {\"marker\": {\"color\": \"red\"}, \"name\": \"Gabon\", \"r\": [30.257510729613728], \"theta\": [27.0], \"type\": \"barpolar\"}, {\"marker\": {\"color\": \"red\"}, \"name\": \"Sao Tome and Principe\", \"r\": [35.29411764705883], \"theta\": [36.0], \"type\": \"barpolar\"}, {\"marker\": {\"color\": \"red\"}, \"name\": \"Zimbabwe\", \"r\": [50.0], \"theta\": [45.0], \"type\": \"barpolar\"}, {\"marker\": {\"color\": \"red\"}, \"name\": \"Iceland\", \"r\": [50.0], \"theta\": [54.0], \"type\": \"barpolar\"}, {\"marker\": {\"color\": \"red\"}, \"name\": \"Madagascar\", \"r\": [54.28571428571429], \"theta\": [63.0], \"type\": \"barpolar\"}, {\"marker\": {\"color\": \"red\"}, \"name\": \"Bhutan\", \"r\": [100.0], \"theta\": [72.0], \"type\": \"barpolar\"}, {\"marker\": {\"color\": \"red\"}, \"name\": \"Mauritania\", \"r\": [600.0000000000001], \"theta\": [81.0], \"type\": \"barpolar\"}, {\"marker\": {\"color\": \"blue\"}, \"name\": \"Rwanda\", \"r\": [24.0], \"theta\": [180.0], \"type\": \"barpolar\"}, {\"marker\": {\"color\": \"blue\"}, \"name\": \"San Marino\", \"r\": [28.571428571428573], \"theta\": [174.0], \"type\": \"barpolar\"}, {\"marker\": {\"color\": \"blue\"}, \"name\": \"Congo (Brazzaville)\", \"r\": [28.8659793814433], \"theta\": [168.0], \"type\": \"barpolar\"}, {\"marker\": {\"color\": \"blue\"}, \"name\": \"Venezuela\", \"r\": [29.032258064516135], \"theta\": [162.0], \"type\": \"barpolar\"}, {\"marker\": {\"color\": \"blue\"}, \"name\": \"Tunisia\", \"r\": [30.000000000000004], \"theta\": [156.0], \"type\": \"barpolar\"}, {\"marker\": {\"color\": \"blue\"}, \"name\": \"Equatorial Guinea\", \"r\": [33.06451612903226], \"theta\": [150.0], \"type\": \"barpolar\"}, {\"marker\": {\"color\": \"blue\"}, \"name\": \"Brunei\", \"r\": [33.333333333333336], \"theta\": [144.0], \"type\": \"barpolar\"}, {\"marker\": {\"color\": \"blue\"}, \"name\": \"Burkina Faso\", \"r\": [43.589743589743584], \"theta\": [138.0], \"type\": \"barpolar\"}, {\"marker\": {\"color\": \"blue\"}, \"name\": \"Australia\", \"r\": [50.0], \"theta\": [132.0], \"type\": \"barpolar\"}, {\"marker\": {\"color\": \"blue\"}, \"name\": \"Taiwan*\", \"r\": [50.0], \"theta\": [126.0], \"type\": \"barpolar\"}, {\"marker\": {\"color\": \"blue\"}, \"name\": \"Bahamas\", \"r\": [50.0], \"theta\": [120.0], \"type\": \"barpolar\"}, {\"marker\": {\"color\": \"blue\"}, \"name\": \"France\", \"r\": [51.65016501650166], \"theta\": [114.0], \"type\": \"barpolar\"}, {\"marker\": {\"color\": \"blue\"}, \"name\": \"West Bank and Gaza\", \"r\": [75.0], \"theta\": [108.0], \"type\": \"barpolar\"}, {\"marker\": {\"color\": \"blue\"}, \"name\": \"Holy See\", \"r\": [100.0], \"theta\": [102.0], \"type\": \"barpolar\"}, {\"marker\": {\"color\": \"blue\"}, \"name\": \"Libya\", \"r\": [100.0], \"theta\": [96.0], \"type\": \"barpolar\"}],\n",
       "                        {\"polar\": {\"domain\": {\"x\": [0, 1], \"y\": [0, 1]}, \"radialaxis\": {\"range\": [0, 100]}, \"sector\": [0, 180]}, \"template\": {\"data\": {\"bar\": [{\"error_x\": {\"color\": \"#2a3f5f\"}, \"error_y\": {\"color\": \"#2a3f5f\"}, \"marker\": {\"line\": {\"color\": \"#E5ECF6\", \"width\": 0.5}}, \"type\": \"bar\"}], \"barpolar\": [{\"marker\": {\"line\": {\"color\": \"#E5ECF6\", \"width\": 0.5}}, \"type\": \"barpolar\"}], \"carpet\": [{\"aaxis\": {\"endlinecolor\": \"#2a3f5f\", \"gridcolor\": \"white\", \"linecolor\": \"white\", \"minorgridcolor\": \"white\", \"startlinecolor\": \"#2a3f5f\"}, \"baxis\": {\"endlinecolor\": \"#2a3f5f\", \"gridcolor\": \"white\", \"linecolor\": \"white\", \"minorgridcolor\": \"white\", \"startlinecolor\": \"#2a3f5f\"}, \"type\": \"carpet\"}], \"choropleth\": [{\"colorbar\": {\"outlinewidth\": 0, \"ticks\": \"\"}, \"type\": \"choropleth\"}], \"contour\": [{\"colorbar\": {\"outlinewidth\": 0, \"ticks\": \"\"}, \"colorscale\": [[0.0, \"#0d0887\"], [0.1111111111111111, \"#46039f\"], [0.2222222222222222, \"#7201a8\"], [0.3333333333333333, \"#9c179e\"], [0.4444444444444444, \"#bd3786\"], [0.5555555555555556, \"#d8576b\"], [0.6666666666666666, \"#ed7953\"], [0.7777777777777778, \"#fb9f3a\"], [0.8888888888888888, \"#fdca26\"], [1.0, \"#f0f921\"]], \"type\": \"contour\"}], \"contourcarpet\": [{\"colorbar\": {\"outlinewidth\": 0, \"ticks\": \"\"}, \"type\": \"contourcarpet\"}], \"heatmap\": [{\"colorbar\": {\"outlinewidth\": 0, \"ticks\": \"\"}, \"colorscale\": [[0.0, \"#0d0887\"], [0.1111111111111111, \"#46039f\"], [0.2222222222222222, \"#7201a8\"], [0.3333333333333333, \"#9c179e\"], [0.4444444444444444, \"#bd3786\"], [0.5555555555555556, \"#d8576b\"], [0.6666666666666666, \"#ed7953\"], [0.7777777777777778, \"#fb9f3a\"], [0.8888888888888888, \"#fdca26\"], [1.0, \"#f0f921\"]], \"type\": \"heatmap\"}], \"heatmapgl\": [{\"colorbar\": {\"outlinewidth\": 0, \"ticks\": \"\"}, \"colorscale\": [[0.0, \"#0d0887\"], [0.1111111111111111, \"#46039f\"], [0.2222222222222222, \"#7201a8\"], [0.3333333333333333, \"#9c179e\"], [0.4444444444444444, \"#bd3786\"], [0.5555555555555556, \"#d8576b\"], [0.6666666666666666, \"#ed7953\"], [0.7777777777777778, \"#fb9f3a\"], [0.8888888888888888, \"#fdca26\"], [1.0, \"#f0f921\"]], \"type\": \"heatmapgl\"}], \"histogram\": [{\"marker\": {\"colorbar\": {\"outlinewidth\": 0, \"ticks\": \"\"}}, \"type\": \"histogram\"}], \"histogram2d\": [{\"colorbar\": {\"outlinewidth\": 0, \"ticks\": \"\"}, \"colorscale\": [[0.0, \"#0d0887\"], [0.1111111111111111, \"#46039f\"], [0.2222222222222222, \"#7201a8\"], [0.3333333333333333, \"#9c179e\"], [0.4444444444444444, \"#bd3786\"], [0.5555555555555556, \"#d8576b\"], [0.6666666666666666, \"#ed7953\"], [0.7777777777777778, \"#fb9f3a\"], [0.8888888888888888, \"#fdca26\"], [1.0, \"#f0f921\"]], \"type\": \"histogram2d\"}], \"histogram2dcontour\": [{\"colorbar\": {\"outlinewidth\": 0, \"ticks\": \"\"}, \"colorscale\": [[0.0, \"#0d0887\"], [0.1111111111111111, \"#46039f\"], [0.2222222222222222, \"#7201a8\"], [0.3333333333333333, \"#9c179e\"], [0.4444444444444444, \"#bd3786\"], [0.5555555555555556, \"#d8576b\"], [0.6666666666666666, \"#ed7953\"], [0.7777777777777778, \"#fb9f3a\"], [0.8888888888888888, \"#fdca26\"], [1.0, \"#f0f921\"]], \"type\": \"histogram2dcontour\"}], \"mesh3d\": [{\"colorbar\": {\"outlinewidth\": 0, \"ticks\": \"\"}, \"type\": \"mesh3d\"}], \"parcoords\": [{\"line\": {\"colorbar\": {\"outlinewidth\": 0, \"ticks\": \"\"}}, \"type\": \"parcoords\"}], \"pie\": [{\"automargin\": true, \"type\": \"pie\"}], \"scatter\": [{\"marker\": {\"colorbar\": {\"outlinewidth\": 0, \"ticks\": \"\"}}, \"type\": \"scatter\"}], \"scatter3d\": [{\"line\": {\"colorbar\": {\"outlinewidth\": 0, \"ticks\": \"\"}}, \"marker\": {\"colorbar\": {\"outlinewidth\": 0, \"ticks\": \"\"}}, \"type\": \"scatter3d\"}], \"scattercarpet\": [{\"marker\": {\"colorbar\": {\"outlinewidth\": 0, \"ticks\": \"\"}}, \"type\": \"scattercarpet\"}], \"scattergeo\": [{\"marker\": {\"colorbar\": {\"outlinewidth\": 0, \"ticks\": \"\"}}, \"type\": \"scattergeo\"}], \"scattergl\": [{\"marker\": {\"colorbar\": {\"outlinewidth\": 0, \"ticks\": \"\"}}, \"type\": \"scattergl\"}], \"scattermapbox\": [{\"marker\": {\"colorbar\": {\"outlinewidth\": 0, \"ticks\": \"\"}}, \"type\": \"scattermapbox\"}], \"scatterpolar\": [{\"marker\": {\"colorbar\": {\"outlinewidth\": 0, \"ticks\": \"\"}}, \"type\": \"scatterpolar\"}], \"scatterpolargl\": [{\"marker\": {\"colorbar\": {\"outlinewidth\": 0, \"ticks\": \"\"}}, \"type\": \"scatterpolargl\"}], \"scatterternary\": [{\"marker\": {\"colorbar\": {\"outlinewidth\": 0, \"ticks\": \"\"}}, \"type\": \"scatterternary\"}], \"surface\": [{\"colorbar\": {\"outlinewidth\": 0, \"ticks\": \"\"}, \"colorscale\": [[0.0, \"#0d0887\"], [0.1111111111111111, \"#46039f\"], [0.2222222222222222, \"#7201a8\"], [0.3333333333333333, \"#9c179e\"], [0.4444444444444444, \"#bd3786\"], [0.5555555555555556, \"#d8576b\"], [0.6666666666666666, \"#ed7953\"], [0.7777777777777778, \"#fb9f3a\"], [0.8888888888888888, \"#fdca26\"], [1.0, \"#f0f921\"]], \"type\": \"surface\"}], \"table\": [{\"cells\": {\"fill\": {\"color\": \"#EBF0F8\"}, \"line\": {\"color\": \"white\"}}, \"header\": {\"fill\": {\"color\": \"#C8D4E3\"}, \"line\": {\"color\": \"white\"}}, \"type\": \"table\"}]}, \"layout\": {\"annotationdefaults\": {\"arrowcolor\": \"#2a3f5f\", \"arrowhead\": 0, \"arrowwidth\": 1}, \"coloraxis\": {\"colorbar\": {\"outlinewidth\": 0, \"ticks\": \"\"}}, \"colorscale\": {\"diverging\": [[0, \"#8e0152\"], [0.1, \"#c51b7d\"], [0.2, \"#de77ae\"], [0.3, \"#f1b6da\"], [0.4, \"#fde0ef\"], [0.5, \"#f7f7f7\"], [0.6, \"#e6f5d0\"], [0.7, \"#b8e186\"], [0.8, \"#7fbc41\"], [0.9, \"#4d9221\"], [1, \"#276419\"]], \"sequential\": [[0.0, \"#0d0887\"], [0.1111111111111111, \"#46039f\"], [0.2222222222222222, \"#7201a8\"], [0.3333333333333333, \"#9c179e\"], [0.4444444444444444, \"#bd3786\"], [0.5555555555555556, \"#d8576b\"], [0.6666666666666666, \"#ed7953\"], [0.7777777777777778, \"#fb9f3a\"], [0.8888888888888888, \"#fdca26\"], [1.0, \"#f0f921\"]], \"sequentialminus\": [[0.0, \"#0d0887\"], [0.1111111111111111, \"#46039f\"], [0.2222222222222222, \"#7201a8\"], [0.3333333333333333, \"#9c179e\"], [0.4444444444444444, \"#bd3786\"], [0.5555555555555556, \"#d8576b\"], [0.6666666666666666, \"#ed7953\"], [0.7777777777777778, \"#fb9f3a\"], [0.8888888888888888, \"#fdca26\"], [1.0, \"#f0f921\"]]}, \"colorway\": [\"#636efa\", \"#EF553B\", \"#00cc96\", \"#ab63fa\", \"#FFA15A\", \"#19d3f3\", \"#FF6692\", \"#B6E880\", \"#FF97FF\", \"#FECB52\"], \"font\": {\"color\": \"#2a3f5f\"}, \"geo\": {\"bgcolor\": \"white\", \"lakecolor\": \"white\", \"landcolor\": \"#E5ECF6\", \"showlakes\": true, \"showland\": true, \"subunitcolor\": \"white\"}, \"hoverlabel\": {\"align\": \"left\"}, \"hovermode\": \"closest\", \"mapbox\": {\"style\": \"light\"}, \"paper_bgcolor\": \"white\", \"plot_bgcolor\": \"#E5ECF6\", \"polar\": {\"angularaxis\": {\"gridcolor\": \"white\", \"linecolor\": \"white\", \"ticks\": \"\"}, \"bgcolor\": \"#E5ECF6\", \"radialaxis\": {\"gridcolor\": \"white\", \"linecolor\": \"white\", \"ticks\": \"\"}}, \"scene\": {\"xaxis\": {\"backgroundcolor\": \"#E5ECF6\", \"gridcolor\": \"white\", \"gridwidth\": 2, \"linecolor\": \"white\", \"showbackground\": true, \"ticks\": \"\", \"zerolinecolor\": \"white\"}, \"yaxis\": {\"backgroundcolor\": \"#E5ECF6\", \"gridcolor\": \"white\", \"gridwidth\": 2, \"linecolor\": \"white\", \"showbackground\": true, \"ticks\": \"\", \"zerolinecolor\": \"white\"}, \"zaxis\": {\"backgroundcolor\": \"#E5ECF6\", \"gridcolor\": \"white\", \"gridwidth\": 2, \"linecolor\": \"white\", \"showbackground\": true, \"ticks\": \"\", \"zerolinecolor\": \"white\"}}, \"shapedefaults\": {\"line\": {\"color\": \"#2a3f5f\"}}, \"ternary\": {\"aaxis\": {\"gridcolor\": \"white\", \"linecolor\": \"white\", \"ticks\": \"\"}, \"baxis\": {\"gridcolor\": \"white\", \"linecolor\": \"white\", \"ticks\": \"\"}, \"bgcolor\": \"#E5ECF6\", \"caxis\": {\"gridcolor\": \"white\", \"linecolor\": \"white\", \"ticks\": \"\"}}, \"title\": {\"x\": 0.05}, \"xaxis\": {\"automargin\": true, \"gridcolor\": \"white\", \"linecolor\": \"white\", \"ticks\": \"\", \"title\": {\"standoff\": 15}, \"zerolinecolor\": \"white\", \"zerolinewidth\": 2}, \"yaxis\": {\"automargin\": true, \"gridcolor\": \"white\", \"linecolor\": \"white\", \"ticks\": \"\", \"title\": {\"standoff\": 15}, \"zerolinecolor\": \"white\", \"zerolinewidth\": 2}}}},\n",
       "                        {\"responsive\": true}\n",
       "                    ).then(function(){\n",
       "                            \n",
       "var gd = document.getElementById('f3b44c5d-920d-4d97-abf4-30c47f54af59');\n",
       "var x = new MutationObserver(function (mutations, observer) {{\n",
       "        var display = window.getComputedStyle(gd).display;\n",
       "        if (!display || display === 'none') {{\n",
       "            console.log([gd, 'removed!']);\n",
       "            Plotly.purge(gd);\n",
       "            observer.disconnect();\n",
       "        }}\n",
       "}});\n",
       "\n",
       "// Listen for the removal of the full notebook cells\n",
       "var notebookContainer = gd.closest('#notebook-container');\n",
       "if (notebookContainer) {{\n",
       "    x.observe(notebookContainer, {childList: true});\n",
       "}}\n",
       "\n",
       "// Listen for the clearing of the current output cell\n",
       "var outputEl = gd.closest('.output');\n",
       "if (outputEl) {{\n",
       "    x.observe(outputEl, {childList: true});\n",
       "}}\n",
       "\n",
       "                        })\n",
       "                };\n",
       "                });\n",
       "            </script>\n",
       "        </div>"
      ]
     },
     "metadata": {},
     "output_type": "display_data"
    },
    {
     "data": {
      "text/html": [
       "<div>\n",
       "<style scoped>\n",
       "    .dataframe tbody tr th:only-of-type {\n",
       "        vertical-align: middle;\n",
       "    }\n",
       "\n",
       "    .dataframe tbody tr th {\n",
       "        vertical-align: top;\n",
       "    }\n",
       "\n",
       "    .dataframe thead th {\n",
       "        text-align: right;\n",
       "    }\n",
       "</style>\n",
       "<table border=\"1\" class=\"dataframe\">\n",
       "  <thead>\n",
       "    <tr style=\"text-align: right;\">\n",
       "      <th></th>\n",
       "      <th>increasing</th>\n",
       "      <th>Country</th>\n",
       "      <th>ConfirmedCases</th>\n",
       "      <th>Fatalities</th>\n",
       "      <th>WeeklyChangeConfirmed</th>\n",
       "      <th>WeeklyChangeFatalities</th>\n",
       "    </tr>\n",
       "  </thead>\n",
       "  <tbody>\n",
       "    <tr>\n",
       "      <th>91</th>\n",
       "      <td>False</td>\n",
       "      <td>Kosovo</td>\n",
       "      <td>919.0</td>\n",
       "      <td>29.0</td>\n",
       "      <td>0.0</td>\n",
       "      <td>0.0</td>\n",
       "    </tr>\n",
       "    <tr>\n",
       "      <th>159</th>\n",
       "      <td>False</td>\n",
       "      <td>Suriname</td>\n",
       "      <td>10.0</td>\n",
       "      <td>1.0</td>\n",
       "      <td>0.0</td>\n",
       "      <td>0.0</td>\n",
       "    </tr>\n",
       "    <tr>\n",
       "      <th>32</th>\n",
       "      <td>False</td>\n",
       "      <td>Canada</td>\n",
       "      <td>11.0</td>\n",
       "      <td>0.0</td>\n",
       "      <td>0.0</td>\n",
       "      <td>0.0</td>\n",
       "    </tr>\n",
       "    <tr>\n",
       "      <th>157</th>\n",
       "      <td>False</td>\n",
       "      <td>Sri Lanka</td>\n",
       "      <td>915.0</td>\n",
       "      <td>9.0</td>\n",
       "      <td>0.0</td>\n",
       "      <td>0.0</td>\n",
       "    </tr>\n",
       "    <tr>\n",
       "      <th>36</th>\n",
       "      <td>False</td>\n",
       "      <td>China</td>\n",
       "      <td>1268.0</td>\n",
       "      <td>1.0</td>\n",
       "      <td>0.0</td>\n",
       "      <td>0.0</td>\n",
       "    </tr>\n",
       "    <tr>\n",
       "      <th>...</th>\n",
       "      <td>...</td>\n",
       "      <td>...</td>\n",
       "      <td>...</td>\n",
       "      <td>...</td>\n",
       "      <td>...</td>\n",
       "      <td>...</td>\n",
       "    </tr>\n",
       "    <tr>\n",
       "      <th>180</th>\n",
       "      <td>False</td>\n",
       "      <td>West Bank and Gaza</td>\n",
       "      <td>375.0</td>\n",
       "      <td>2.0</td>\n",
       "      <td>75.0</td>\n",
       "      <td>0.0</td>\n",
       "    </tr>\n",
       "    <tr>\n",
       "      <th>19</th>\n",
       "      <td>True</td>\n",
       "      <td>Bhutan</td>\n",
       "      <td>15.0</td>\n",
       "      <td>0.0</td>\n",
       "      <td>100.0</td>\n",
       "      <td>0.0</td>\n",
       "    </tr>\n",
       "    <tr>\n",
       "      <th>74</th>\n",
       "      <td>False</td>\n",
       "      <td>Holy See</td>\n",
       "      <td>12.0</td>\n",
       "      <td>0.0</td>\n",
       "      <td>100.0</td>\n",
       "      <td>0.0</td>\n",
       "    </tr>\n",
       "    <tr>\n",
       "      <th>98</th>\n",
       "      <td>False</td>\n",
       "      <td>Libya</td>\n",
       "      <td>64.0</td>\n",
       "      <td>3.0</td>\n",
       "      <td>100.0</td>\n",
       "      <td>0.0</td>\n",
       "    </tr>\n",
       "    <tr>\n",
       "      <th>109</th>\n",
       "      <td>True</td>\n",
       "      <td>Mauritania</td>\n",
       "      <td>15.0</td>\n",
       "      <td>2.0</td>\n",
       "      <td>600.0</td>\n",
       "      <td>0.0</td>\n",
       "    </tr>\n",
       "  </tbody>\n",
       "</table>\n",
       "<p>184 rows × 6 columns</p>\n",
       "</div>"
      ],
      "text/plain": [
       "     increasing             Country  ConfirmedCases  Fatalities  \\\n",
       "91        False              Kosovo           919.0        29.0   \n",
       "159       False            Suriname            10.0         1.0   \n",
       "32        False              Canada            11.0         0.0   \n",
       "157       False           Sri Lanka           915.0         9.0   \n",
       "36        False               China          1268.0         1.0   \n",
       "..          ...                 ...             ...         ...   \n",
       "180       False  West Bank and Gaza           375.0         2.0   \n",
       "19         True              Bhutan            15.0         0.0   \n",
       "74        False            Holy See            12.0         0.0   \n",
       "98        False               Libya            64.0         3.0   \n",
       "109        True          Mauritania            15.0         2.0   \n",
       "\n",
       "     WeeklyChangeConfirmed  WeeklyChangeFatalities  \n",
       "91                     0.0                     0.0  \n",
       "159                    0.0                     0.0  \n",
       "32                     0.0                     0.0  \n",
       "157                    0.0                     0.0  \n",
       "36                     0.0                     0.0  \n",
       "..                     ...                     ...  \n",
       "180                   75.0                     0.0  \n",
       "19                   100.0                     0.0  \n",
       "74                   100.0                     0.0  \n",
       "98                   100.0                     0.0  \n",
       "109                  600.0                     0.0  \n",
       "\n",
       "[184 rows x 6 columns]"
      ]
     },
     "execution_count": 15,
     "metadata": {},
     "output_type": "execute_result"
    }
   ],
   "source": [
    "\n",
    "# change_data_df=change_data_df.sort_values(['increasing','ConfirmedCases'],ascending=False)\n",
    "fig = go.Figure()\n",
    "count=0\n",
    "# change=len(change_data_df.loc[change_data_df.increasing == True])\n",
    "change=10\n",
    "for index,row in change_data_df.loc[change_data_df.increasing == True].tail(change).iterrows():\n",
    "    fig.add_trace(go.Barpolar(r=[row['WeeklyChangeConfirmed']],theta=[90*count/change],name=row['Country'],marker=dict(color='red')))    \n",
    "    count+=1\n",
    "\n",
    "count=0\n",
    "change=15\n",
    "for index,row in change_data_df.loc[change_data_df.increasing == False].tail(change).iterrows():\n",
    "    fig.add_trace(go.Barpolar(r=[row['WeeklyChangeConfirmed']],theta=[180-90*count/change],name=row['Country'],marker=dict(color='blue')))\n",
    "    count+=1\n",
    "\n",
    "fig.update_layout(polar = dict(\n",
    "        domain = dict( # set chart size and position \n",
    "        x = [0, 1],\n",
    "        y = [0, 1]),\n",
    "        sector = [0,180],   # set chart shape (half or full)\n",
    "#         angularaxis = dict(\n",
    "#             thetaunit = \"degrees\",\n",
    "#             dtick = 10,\n",
    "#             ),\n",
    "        radialaxis=dict(range=[0,100])\n",
    "        )\n",
    ")\n",
    "fig.show()    \n",
    "change_data_df"
   ]
  },
  {
   "cell_type": "code",
   "execution_count": null,
   "metadata": {},
   "outputs": [],
   "source": []
  }
 ],
 "metadata": {
  "kernelspec": {
   "display_name": "Python 3",
   "language": "python",
   "name": "python3"
  },
  "language_info": {
   "codemirror_mode": {
    "name": "ipython",
    "version": 3
   },
   "file_extension": ".py",
   "mimetype": "text/x-python",
   "name": "python",
   "nbconvert_exporter": "python",
   "pygments_lexer": "ipython3",
   "version": "3.7.6"
  }
 },
 "nbformat": 4,
 "nbformat_minor": 2
}
